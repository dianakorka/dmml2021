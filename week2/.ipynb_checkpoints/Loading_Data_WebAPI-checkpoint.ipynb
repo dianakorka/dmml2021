{
 "cells": [
  {
   "cell_type": "markdown",
   "metadata": {},
   "source": [
    "# Getting Data from Web APIs\n",
    "\n",
    "### Many of the data that exist on the Internet can be retrieved by calling the right APIs. (=Application Programming Interface)\n",
    "\n",
    "\n",
    "Here we will connect to a weather API, which is provided by [openweathermap](https://openweathermap.org).\n",
    "\n",
    "https://openweathermap.org/\n",
    "\n",
    "<img src=\"http://openweathermap.org/themes/openweathermap/assets/img/history%20bulk%20examples/history_bulk_example.png\"/>\n",
    "<br>\n",
    "\n",
    "Typically, to connect to a web API, you have to register first to get a \"key\" (=a random number), which you pass as a parameter at the proper URL.\n",
    "\n",
    "I have already registered and gotten a key, which is given in the **`appid`** variable of the code.\n",
    "\n",
    "When you call a web-service you provide several parameters which have the format of `http://some.URL.com/endpoint?parameter1=value&parameter2=value`\n",
    "\n",
    "In the weather service below we provide three parameters:\n",
    "\n",
    "- `appid`: this is the key that we got when we registered for the service\n",
    "- `units`: for this we give the value `metric` to get back the degrees in Celcius instead of Fahrenheit.\n",
    "- `q`: this is the location for which we wish to get the weather for, e.g., London,UK\n"
   ]
  },
  {
   "cell_type": "code",
   "execution_count": 1,
   "metadata": {
    "inputHidden": false,
    "outputHidden": false
   },
   "outputs": [],
   "source": [
    "#we import some packages that we need\n",
    "import requests # this is for calling the service\n",
    "from pprint import pprint\n",
    "import json"
   ]
  },
  {
   "cell_type": "markdown",
   "metadata": {},
   "source": [
    "## Asking the Location\n",
    "\n",
    "Then we can define some important variables and ask the user for which location he/she wants to retrieve the weather about.\n",
    "\n",
    "Below we *hardcode* the `location` to Lausnnae, but you can also uncomment the final command so that you let the user enter any location that the user wants."
   ]
  },
  {
   "cell_type": "code",
   "execution_count": 2,
   "metadata": {
    "inputHidden": false,
    "outputHidden": false
   },
   "outputs": [],
   "source": [
    "appid = 'cc7787771556273e2c5082eb676e48e1'\n",
    "location = 'Lausanne'\n",
    "# location = input('Enter requested location (e.g. London,UK)')"
   ]
  },
  {
   "cell_type": "markdown",
   "metadata": {},
   "source": [
    "## Forming the URL\n",
    "\n",
    "Now that we know for which location the user is interested we can form the proper url and print out the complete url formed."
   ]
  },
  {
   "cell_type": "code",
   "execution_count": 3,
   "metadata": {
    "inputHidden": false,
    "outputHidden": false
   },
   "outputs": [
    {
     "name": "stdout",
     "output_type": "stream",
     "text": [
      "http://api.openweathermap.org/data/2.5/weather?q=Lausanne&APPID=cc7787771556273e2c5082eb676e48e1&units=metric\n"
     ]
    }
   ],
   "source": [
    "url = \"http://api.openweathermap.org/data/2.5/weather?q={}&APPID={}&units=metric\".format(location, appid)\n",
    "\n",
    "print(url)"
   ]
  },
  {
   "cell_type": "markdown",
   "metadata": {},
   "source": [
    "**Note:** Once you have the right URL, you can just also paste it in the web address of your browser to get back the data. \n",
    "\n",
    "Try it now!\n"
   ]
  },
  {
   "cell_type": "markdown",
   "metadata": {},
   "source": [
    "However, if we want to automate a process and call it multiple times (eg for several days, several locations, etc), we have to write program, which is why we are showing this exercise!"
   ]
  },
  {
   "cell_type": "markdown",
   "metadata": {},
   "source": [
    "## Calling the webservice\n",
    "\n",
    "We call the service using the `requests` package, which returns a `Requests` object, which doesn't say much to us."
   ]
  },
  {
   "cell_type": "code",
   "execution_count": 4,
   "metadata": {
    "inputHidden": false,
    "outputHidden": false
   },
   "outputs": [
    {
     "name": "stdout",
     "output_type": "stream",
     "text": [
      "\n",
      " Res object is of type: <class 'requests.models.Response'>\n"
     ]
    }
   ],
   "source": [
    "res = requests.get(url)\n",
    "print(\"\\n Res object is of type:\", type(res))"
   ]
  },
  {
   "cell_type": "markdown",
   "metadata": {},
   "source": [
    "## Seeing what we received\n",
    "\n",
    "If we call the `json()` method of the `Requests` object it will return the json object returned by the service. \n",
    "\n",
    "We will use the \"pretty print\" function `pprint` so see it in a nice format."
   ]
  },
  {
   "cell_type": "code",
   "execution_count": 5,
   "metadata": {
    "inputHidden": false,
    "outputHidden": false
   },
   "outputs": [
    {
     "name": "stdout",
     "output_type": "stream",
     "text": [
      "{'base': 'stations',\n",
      " 'clouds': {'all': 90},\n",
      " 'cod': 200,\n",
      " 'coord': {'lat': 46.52, 'lon': 6.63},\n",
      " 'dt': 1569544202,\n",
      " 'id': 2659994,\n",
      " 'main': {'humidity': 87,\n",
      "          'pressure': 1018,\n",
      "          'temp': 13.72,\n",
      "          'temp_max': 16,\n",
      "          'temp_min': 10.56},\n",
      " 'name': 'Lausanne',\n",
      " 'sys': {'country': 'CH',\n",
      "         'id': 6935,\n",
      "         'message': 0.0152,\n",
      "         'sunrise': 1569561968,\n",
      "         'sunset': 1569604982,\n",
      "         'type': 1},\n",
      " 'timezone': 7200,\n",
      " 'weather': [{'description': 'overcast clouds',\n",
      "              'icon': '04n',\n",
      "              'id': 804,\n",
      "              'main': 'Clouds'}],\n",
      " 'wind': {'deg': 265.211, 'speed': 1.32}}\n"
     ]
    }
   ],
   "source": [
    "data = res.json()\n",
    "pprint(data)"
   ]
  },
  {
   "cell_type": "markdown",
   "metadata": {},
   "source": [
    "## Getting the rights parts from the data received\n",
    "\n",
    "And from the `data` object we can get the proper parts and formulate the final message to the user."
   ]
  },
  {
   "cell_type": "code",
   "execution_count": 6,
   "metadata": {
    "inputHidden": false,
    "outputHidden": false
   },
   "outputs": [
    {
     "name": "stdout",
     "output_type": "stream",
     "text": [
      "The current temperature in  Lausanne  is  13.72 degrees, with  overcast clouds\n"
     ]
    }
   ],
   "source": [
    "print(\"The current temperature in \", location, \" is \", data['main']['temp'], \"degrees, with \", data['weather'][0]['description'])"
   ]
  },
  {
   "cell_type": "markdown",
   "metadata": {},
   "source": [
    "## Further information\n",
    "\n",
    "You can see a video about the weather API below."
   ]
  },
  {
   "cell_type": "code",
   "execution_count": 2,
   "metadata": {
    "inputHidden": false,
    "outputHidden": false
   },
   "outputs": [
    {
     "data": {
      "text/html": [
       "<iframe width=\"560\" height=\"340\" src=\"https://www.youtube.com/watch?v=SXsaB9TUfkk\"></iframe>\n"
      ],
      "text/plain": [
       "<IPython.core.display.HTML object>"
      ]
     },
     "metadata": {},
     "output_type": "display_data"
    }
   ],
   "source": [
    "%%HTML\n",
    "<iframe width=\"560\" height=\"340\" src=\"https://www.youtube.com/watch?v=SXsaB9TUfkk\"></iframe>"
   ]
  },
  {
   "cell_type": "markdown",
   "metadata": {},
   "source": [
    "# Exercise:\n",
    "\n",
    "Now, you will try to use the historical API to get past temperature information for the city of Lausanne.\n",
    "Have a look how to use it here [https://openweathermap.org/history](https://openweathermap.org/history).\n",
    "For example, you can query it **\"by city id\"**.\n",
    "\n",
    "**Hints**\n",
    "\n",
    "1. What is the new URL? (see the link above)\n",
    "2. What is the city ID for Lausanne (see the response above!)."
   ]
  },
  {
   "cell_type": "code",
   "execution_count": 8,
   "metadata": {
    "inputHidden": false,
    "outputHidden": false
   },
   "outputs": [],
   "source": [
    "# type your solution here\n",
    "\n"
   ]
  },
  {
   "cell_type": "code",
   "execution_count": null,
   "metadata": {
    "inputHidden": false,
    "outputHidden": false
   },
   "outputs": [],
   "source": []
  },
  {
   "cell_type": "code",
   "execution_count": null,
   "metadata": {
    "inputHidden": false,
    "outputHidden": false
   },
   "outputs": [],
   "source": []
  },
  {
   "cell_type": "code",
   "execution_count": null,
   "metadata": {
    "inputHidden": false,
    "outputHidden": false
   },
   "outputs": [],
   "source": []
  },
  {
   "cell_type": "code",
   "execution_count": null,
   "metadata": {
    "inputHidden": false,
    "outputHidden": false
   },
   "outputs": [],
   "source": []
  },
  {
   "cell_type": "code",
   "execution_count": null,
   "metadata": {
    "inputHidden": false,
    "outputHidden": false
   },
   "outputs": [],
   "source": []
  },
  {
   "cell_type": "code",
   "execution_count": null,
   "metadata": {
    "inputHidden": false,
    "outputHidden": false
   },
   "outputs": [],
   "source": []
  },
  {
   "cell_type": "code",
   "execution_count": null,
   "metadata": {
    "inputHidden": false,
    "outputHidden": false
   },
   "outputs": [],
   "source": []
  },
  {
   "cell_type": "code",
   "execution_count": null,
   "metadata": {
    "inputHidden": false,
    "outputHidden": false
   },
   "outputs": [],
   "source": []
  },
  {
   "cell_type": "code",
   "execution_count": null,
   "metadata": {
    "inputHidden": false,
    "outputHidden": false
   },
   "outputs": [],
   "source": []
  },
  {
   "cell_type": "markdown",
   "metadata": {},
   "source": [
    "**DON'T LOOK AT THIS UNTIL YOU TRIED ON YOUR OWN!**\n",
    "\n",
    "```python\n",
    "\n",
    "# one possible solution\n",
    "# note this is NOT going to return anything because it requires the purchase of the additional API\n",
    "# But at least you know that you are on the right path!!\n",
    "\n",
    "url = \"http://history.openweathermap.org/data/2.5/history/city?id=2659994&type=hour&APPID=cc7787771556273e2c5082eb676e48e1&units=metric\"\n",
    "\n",
    "res = requests.get(url)\n",
    "data = res.json()\n",
    "pprint(data)\n",
    "```"
   ]
  },
  {
   "cell_type": "code",
   "execution_count": null,
   "metadata": {
    "inputHidden": false,
    "outputHidden": false
   },
   "outputs": [],
   "source": []
  }
 ],
 "metadata": {
  "kernel_info": {
   "name": "python3"
  },
  "kernelspec": {
   "display_name": "Python 3",
   "language": "python",
   "name": "python3"
  },
  "language_info": {
   "codemirror_mode": {
    "name": "ipython",
    "version": 3
   },
   "file_extension": ".py",
   "mimetype": "text/x-python",
   "name": "python",
   "nbconvert_exporter": "python",
   "pygments_lexer": "ipython3",
   "version": "3.7.3"
  },
  "nteract": {
   "version": "0.15.0"
  }
 },
 "nbformat": 4,
 "nbformat_minor": 1
}
