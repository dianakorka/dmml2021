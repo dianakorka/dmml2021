{
  "nbformat": 4,
  "nbformat_minor": 0,
  "metadata": {
    "kernelspec": {
      "display_name": "Python 3",
      "language": "python",
      "name": "python3"
    },
    "language_info": {
      "codemirror_mode": {
        "name": "ipython",
        "version": 3
      },
      "file_extension": ".py",
      "mimetype": "text/x-python",
      "name": "python",
      "nbconvert_exporter": "python",
      "pygments_lexer": "ipython3",
      "version": "3.7.3"
    },
    "colab": {
      "name": "04 How NOT to select subsets of data.ipynb",
      "provenance": [],
      "include_colab_link": true
    }
  },
  "cells": [
    {
      "cell_type": "markdown",
      "metadata": {
        "id": "view-in-github",
        "colab_type": "text"
      },
      "source": [
        "<a href=\"https://colab.research.google.com/github/michalis0/DataMining_and_MachineLearning/blob/master/week2/Selecting%20Subsets/04%20How%20NOT%20to%20select%20subsets%20of%20data.ipynb\" target=\"_parent\"><img src=\"https://colab.research.google.com/assets/colab-badge.svg\" alt=\"Open In Colab\"/></a>"
      ]
    },
    {
      "cell_type": "markdown",
      "metadata": {
        "id": "u2v84FjCb4YW",
        "colab_type": "text"
      },
      "source": [
        "# Selecting Subsets of Data in Pandas\n",
        "\n",
        "This notebook is also available as a blog post on Medium.\n",
        "\n",
        "## Part 4: How NOT to select subsets of data\n",
        "This is part 4 of the series \"How to Select Subsets of Data\" from a pandas DataFrame or Series. Pandas offers a wide variety of options for subset selection, which necessitates multiple articles. This series is broken down into the following topics.\n",
        "\n",
        "1. Selection with `[]`, `.loc` and `.iloc`\n",
        "1. Boolean indexing\n",
        "1. Assigning subsets of data\n",
        "1. How NOT to select subsets of data\n",
        "1. Selection with a MultiIndex\n",
        "1. Selecting subsets of data with methods\n",
        "1. Selections with other Index types\n",
        "1. Internals, Miscellaneous, and Conclusion\n",
        "\n",
        "## Learning what not to do\n",
        "In all programming languages, and especially pandas, the number of incorrect or inefficient ways to complete a task heavily outnumbers the efficient or **idiomatic** ones. The term idiomatic refers to code that is efficient, easy to understand, and a common way (among experts) to accomplish a task in a particular library/language. \n",
        "\n",
        "The first three parts of this series showed the idiomatic way of making selections. In this section, we will cover the most common ways users incorrectly make subset selections. Some of these bad habits might be perfectly acceptable in other Python libraries, but will be unacceptable with pandas.\n",
        "\n",
        "## Getting the right answer with the wrong code\n",
        "One of the issues that prevents users from learning idiomatic pandas, is that it is still possible to get the correct final result while using highly inefficient and non-idiomatic code. Completing a task isn't necessarily indicative that your code is correct.\n",
        "\n",
        "Here are a few reasons why a solution that gives the correct result might not be good:\n",
        "\n",
        "* A slow solution might not scale to larger data\n",
        "* A solution might work in this particular instance but fail with slightly different data\n",
        "* A solution might be very fast, but hard to interpret by others\n",
        "\n",
        "## Chained indexing with lists\n",
        "**Chained indexing** is the first and most important subset selection problem we will discuss. Chained indexing occurs whenever two subset selections immediately following each other. \n",
        "\n",
        "To help simplify the idea, we will look at chained indexing with Python lists. Let's first create a list of integers:"
      ]
    },
    {
      "cell_type": "code",
      "metadata": {
        "id": "WlsMlhx0b4YX",
        "colab_type": "code",
        "colab": {},
        "outputId": "4a1d2210-5794-476c-8b34-4e25f550e8db"
      },
      "source": [
        "a = [1, 5, 10, 3, 99, 5, 8, 20, 40]\n",
        "a"
      ],
      "execution_count": null,
      "outputs": [
        {
          "output_type": "execute_result",
          "data": {
            "text/plain": [
              "[1, 5, 10, 3, 99, 5, 8, 20, 40]"
            ]
          },
          "metadata": {
            "tags": []
          },
          "execution_count": 1
        }
      ]
    },
    {
      "cell_type": "markdown",
      "metadata": {
        "id": "vcyxj-vyb4Yj",
        "colab_type": "text"
      },
      "source": [
        "Let's make a normal subset selection by slicing from integer location 2 to 6."
      ]
    },
    {
      "cell_type": "code",
      "metadata": {
        "id": "f5ZKO2lvb4Yk",
        "colab_type": "code",
        "colab": {},
        "outputId": "7f2f7419-c891-401f-fa3e-51551967d9d5"
      },
      "source": [
        "a[2:6]"
      ],
      "execution_count": null,
      "outputs": [
        {
          "output_type": "execute_result",
          "data": {
            "text/plain": [
              "[10, 3, 99, 5]"
            ]
          },
          "metadata": {
            "tags": []
          },
          "execution_count": 2
        }
      ]
    },
    {
      "cell_type": "markdown",
      "metadata": {
        "id": "_VQg78yLb4Y2",
        "colab_type": "text"
      },
      "source": [
        "Chained indexing occurs whenever we make another subset selection immediately following this one. Let's select the first element from this new list in a single line of code:"
      ]
    },
    {
      "cell_type": "code",
      "metadata": {
        "id": "Yn7vzF7sb4Y3",
        "colab_type": "code",
        "colab": {},
        "outputId": "93b3da61-cc62-4166-ade9-e7419a91f0d1"
      },
      "source": [
        "a[2:6][0]"
      ],
      "execution_count": null,
      "outputs": [
        {
          "output_type": "execute_result",
          "data": {
            "text/plain": [
              "10"
            ]
          },
          "metadata": {
            "tags": []
          },
          "execution_count": 3
        }
      ]
    },
    {
      "cell_type": "markdown",
      "metadata": {
        "id": "g-Cl5GReb4Y6",
        "colab_type": "text"
      },
      "source": [
        "This is an example of chained indexing.\n",
        "\n",
        "## Assigning a new value to a list with chained indexing\n",
        "Let's say, we wanted to change this value that was selected from above from 10 to 50. Let's attempt to do this assignment with chained indexing:"
      ]
    },
    {
      "cell_type": "code",
      "metadata": {
        "id": "kiLHRiGqb4Y6",
        "colab_type": "code",
        "colab": {},
        "outputId": "da5ec92c-e0ff-4c9d-d577-0039b784ec7c"
      },
      "source": [
        "a[2:6][0] = 50\n",
        "a"
      ],
      "execution_count": null,
      "outputs": [
        {
          "output_type": "execute_result",
          "data": {
            "text/plain": [
              "[1, 5, 10, 3, 99, 5, 8, 20, 40]"
            ]
          },
          "metadata": {
            "tags": []
          },
          "execution_count": 4
        }
      ]
    },
    {
      "cell_type": "markdown",
      "metadata": {
        "id": "MvfR2_7xb4Y-",
        "colab_type": "text"
      },
      "source": [
        "## Nothing happened???\n",
        "As you can see, the list **`a`** was not modified at all. The reason for this, is that Python created a temporary intermediate list directly after the first subset selection. It might be easier to write out the execution of the above into two separate steps:"
      ]
    },
    {
      "cell_type": "code",
      "metadata": {
        "id": "zsubgnjsb4Y_",
        "colab_type": "code",
        "colab": {},
        "outputId": "f930e1e5-cd68-4fde-b609-37617939cec8"
      },
      "source": [
        "a_temp = a[2:6]\n",
        "a_temp[0] = 50\n",
        "a_temp"
      ],
      "execution_count": null,
      "outputs": [
        {
          "output_type": "execute_result",
          "data": {
            "text/plain": [
              "[50, 3, 99, 5]"
            ]
          },
          "metadata": {
            "tags": []
          },
          "execution_count": 5
        }
      ]
    },
    {
      "cell_type": "code",
      "metadata": {
        "id": "8ie7zhzYb4ZW",
        "colab_type": "code",
        "colab": {},
        "outputId": "e7eed97a-70de-4519-fc02-7fef9998acac"
      },
      "source": [
        "a"
      ],
      "execution_count": null,
      "outputs": [
        {
          "output_type": "execute_result",
          "data": {
            "text/plain": [
              "[1, 5, 10, 3, 99, 5, 8, 20, 40]"
            ]
          },
          "metadata": {
            "tags": []
          },
          "execution_count": 6
        }
      ]
    },
    {
      "cell_type": "markdown",
      "metadata": {
        "id": "Oo3WIwOxb4ZZ",
        "colab_type": "text"
      },
      "source": [
        "## The temporary object was the only one modified\n",
        "As you can see, the intermediate object, **`a_temp`**, was the only object modified. The original was left untouched.\n",
        "\n",
        "## But doesn't Python modify objects that are the 'same'?\n",
        "Let's take a look at a closely related example where Python will modify two variables at the 'same' time. Let's create a new list, **`a1`** and set it equal to **`b1`** and then modify the first element of it:"
      ]
    },
    {
      "cell_type": "code",
      "metadata": {
        "id": "bph0ehSQb4ZZ",
        "colab_type": "code",
        "colab": {},
        "outputId": "92a1db9c-10b3-4f76-856d-1c4c2fc72af5"
      },
      "source": [
        "a1 = [0, 1, 2, 3]\n",
        "b1 = a1\n",
        "b1[0] = 99\n",
        "b1"
      ],
      "execution_count": null,
      "outputs": [
        {
          "output_type": "execute_result",
          "data": {
            "text/plain": [
              "[99, 1, 2, 3]"
            ]
          },
          "metadata": {
            "tags": []
          },
          "execution_count": 7
        }
      ]
    },
    {
      "cell_type": "code",
      "metadata": {
        "id": "Uk77_CHGb4Zc",
        "colab_type": "code",
        "colab": {},
        "outputId": "c7f9db56-016c-4b19-c907-af0df1bef447"
      },
      "source": [
        "a1"
      ],
      "execution_count": null,
      "outputs": [
        {
          "output_type": "execute_result",
          "data": {
            "text/plain": [
              "[99, 1, 2, 3]"
            ]
          },
          "metadata": {
            "tags": []
          },
          "execution_count": 8
        }
      ]
    },
    {
      "cell_type": "markdown",
      "metadata": {
        "id": "RuUn7jOrb4Ze",
        "colab_type": "text"
      },
      "source": [
        "## Both have changed!?!\n",
        "In the above example, we made a single call to change the first element of **`b1`**. This modified both **`b1`** and **`a1`**. This happened because **`a1`** and **`b1`** are referring to the exact same object in memory. **`a1`** and **`b1`** are simply **names** that are used to refer to the underlying objects, which in this case, are the same.\n",
        "\n",
        "## Proof they are the same with the `id` function\n",
        "We can prove that **`a1`** and **`b1`** are referring to the same object with the built-in **`id`** function, which returns the memory address of the object."
      ]
    },
    {
      "cell_type": "code",
      "metadata": {
        "id": "cjgE1FXHb4Zf",
        "colab_type": "code",
        "colab": {},
        "outputId": "c3f4b766-eb0d-4781-8ece-b72eaaeeaa98"
      },
      "source": [
        "id(a1)"
      ],
      "execution_count": null,
      "outputs": [
        {
          "output_type": "execute_result",
          "data": {
            "text/plain": [
              "4501625608"
            ]
          },
          "metadata": {
            "tags": []
          },
          "execution_count": 9
        }
      ]
    },
    {
      "cell_type": "code",
      "metadata": {
        "id": "SflmoCsxb4Z2",
        "colab_type": "code",
        "colab": {},
        "outputId": "ae03155d-a505-492a-d3af-93cb23606b2e"
      },
      "source": [
        "id(b1)"
      ],
      "execution_count": null,
      "outputs": [
        {
          "output_type": "execute_result",
          "data": {
            "text/plain": [
              "4501625608"
            ]
          },
          "metadata": {
            "tags": []
          },
          "execution_count": 10
        }
      ]
    },
    {
      "cell_type": "code",
      "metadata": {
        "id": "hANM6DeVb4aG",
        "colab_type": "code",
        "colab": {},
        "outputId": "1e242059-f7b9-4941-ca0c-65d39825fe30"
      },
      "source": [
        "id(a1) == id(b1)"
      ],
      "execution_count": null,
      "outputs": [
        {
          "output_type": "execute_result",
          "data": {
            "text/plain": [
              "True"
            ]
          },
          "metadata": {
            "tags": []
          },
          "execution_count": 11
        }
      ]
    },
    {
      "cell_type": "markdown",
      "metadata": {
        "id": "Y3yemqcRb4aK",
        "colab_type": "text"
      },
      "source": [
        "## So, why did our assignment with chained indexing fail?\n",
        "Whenever you take a slice of a list, Python creates a brand new **copy** (a shallow-copy to be exact) of the data. A copy of an object is completely unrelated to the original and has it's own place in memory. \n",
        "\n",
        "Whenever we write **`a[2:6]`**, the result of this is a brand new list object in memory unrelated to the list **`a`**. The statement **`a[2:6][0] = 50`** does actually make an assignment to that temporary list copy, but it is not saved to a variable, so there is no way to track it.\n",
        "\n",
        "To properly assign the 2nd position in the list **`a`** to 50, you would simply do **`a[2] = 50`** instead of chained indexing.\n",
        "\n",
        "## Shallow vs Deep Copy (Advanced)\n",
        "You can safely skip this section as it won't be relevant to our subset selection. Python creates a **shallow copy** when performing a slice on a list. If you have mutable objects within your list, then these inner list objects won't be copied and will still be referring to the same object.\n",
        "\n",
        "Let's create a list with a another list inside of it."
      ]
    },
    {
      "cell_type": "code",
      "metadata": {
        "id": "4TL1Wwdgb4aK",
        "colab_type": "code",
        "colab": {},
        "outputId": "65370569-3258-4708-ff21-70f8b5e0d0c5"
      },
      "source": [
        "a = [7, [1, 2], 5, 6, 10, 14, 19, 20]\n",
        "a"
      ],
      "execution_count": null,
      "outputs": [
        {
          "output_type": "execute_result",
          "data": {
            "text/plain": [
              "[7, [1, 2], 5, 6, 10, 14, 19, 20]"
            ]
          },
          "metadata": {
            "tags": []
          },
          "execution_count": 12
        }
      ]
    },
    {
      "cell_type": "markdown",
      "metadata": {
        "id": "XOLxHZ8qb4ay",
        "colab_type": "text"
      },
      "source": [
        "Let's take a slice of this list: "
      ]
    },
    {
      "cell_type": "code",
      "metadata": {
        "id": "kaa4kID0b4az",
        "colab_type": "code",
        "colab": {},
        "outputId": "76e78832-1d39-4866-f61d-0e06bcc4fb1f"
      },
      "source": [
        "a_slice = a[1:4]\n",
        "a_slice"
      ],
      "execution_count": null,
      "outputs": [
        {
          "output_type": "execute_result",
          "data": {
            "text/plain": [
              "[[1, 2], 5, 6]"
            ]
          },
          "metadata": {
            "tags": []
          },
          "execution_count": 13
        }
      ]
    },
    {
      "cell_type": "markdown",
      "metadata": {
        "id": "ykzp14oAb4a2",
        "colab_type": "text"
      },
      "source": [
        "Let's look at the **`id`** of the inner list from both **`a`** and **`a_slice`**"
      ]
    },
    {
      "cell_type": "code",
      "metadata": {
        "id": "o_xhx9gab4a2",
        "colab_type": "code",
        "colab": {},
        "outputId": "cffb0cab-112b-4a71-d769-904ceb06c8a7"
      },
      "source": [
        "id(a[1]) == id(a_slice[0])"
      ],
      "execution_count": null,
      "outputs": [
        {
          "output_type": "execute_result",
          "data": {
            "text/plain": [
              "True"
            ]
          },
          "metadata": {
            "tags": []
          },
          "execution_count": 14
        }
      ]
    },
    {
      "cell_type": "markdown",
      "metadata": {
        "id": "gc15c6Fkb4a5",
        "colab_type": "text"
      },
      "source": [
        "They are the exact same! Python has created a **shallow copy** here, meaning every mutable object inside of the slice is still the same as it was in the original.\n",
        "\n",
        "## Making an assignment to the inner list\n",
        "Let's change the first value in the inner list of **`a_slice`** and see if it changes the inner list of **`a`**:"
      ]
    },
    {
      "cell_type": "code",
      "metadata": {
        "id": "IRqETVHZb4a5",
        "colab_type": "code",
        "colab": {},
        "outputId": "6af04d7f-fb03-4e0e-893c-9346fe6dc1f0"
      },
      "source": [
        "inner_list = a_slice[0]\n",
        "inner_list"
      ],
      "execution_count": null,
      "outputs": [
        {
          "output_type": "execute_result",
          "data": {
            "text/plain": [
              "[1, 2]"
            ]
          },
          "metadata": {
            "tags": []
          },
          "execution_count": 15
        }
      ]
    },
    {
      "cell_type": "code",
      "metadata": {
        "collapsed": true,
        "id": "goKWV2wKb4bS",
        "colab_type": "code",
        "colab": {}
      },
      "source": [
        "inner_list[0] = 99"
      ],
      "execution_count": null,
      "outputs": []
    },
    {
      "cell_type": "code",
      "metadata": {
        "id": "3Nhfxrayb4bW",
        "colab_type": "code",
        "colab": {},
        "outputId": "991a995d-6d16-41ca-8350-4fc173df2a2a"
      },
      "source": [
        "a_slice"
      ],
      "execution_count": null,
      "outputs": [
        {
          "output_type": "execute_result",
          "data": {
            "text/plain": [
              "[[99, 2], 5, 6]"
            ]
          },
          "metadata": {
            "tags": []
          },
          "execution_count": 17
        }
      ]
    },
    {
      "cell_type": "code",
      "metadata": {
        "id": "uAiRXgJzb4cC",
        "colab_type": "code",
        "colab": {},
        "outputId": "8e62406f-45c7-4ad9-bcb3-4eb392fd4647"
      },
      "source": [
        "a"
      ],
      "execution_count": null,
      "outputs": [
        {
          "output_type": "execute_result",
          "data": {
            "text/plain": [
              "[7, [99, 2], 5, 6, 10, 14, 19, 20]"
            ]
          },
          "metadata": {
            "tags": []
          },
          "execution_count": 18
        }
      ]
    },
    {
      "cell_type": "markdown",
      "metadata": {
        "id": "jtc4UBRDb4cc",
        "colab_type": "text"
      },
      "source": [
        "The inner list for both variables had its first element changed. That inner list never copied when taking that first slice and therefore it exists in only one unique place in memory.\n",
        "\n",
        "## Chained indexing assignment in one step\n",
        "We can modify this inner list in a single chain of indexing in one line of code."
      ]
    },
    {
      "cell_type": "code",
      "metadata": {
        "id": "Lftv4KNvb4cd",
        "colab_type": "code",
        "colab": {},
        "outputId": "0df5ccf0-0917-4155-87ed-6075f371bd3e"
      },
      "source": [
        "# output our current list\n",
        "a"
      ],
      "execution_count": null,
      "outputs": [
        {
          "output_type": "execute_result",
          "data": {
            "text/plain": [
              "[7, [99, 2], 5, 6, 10, 14, 19, 20]"
            ]
          },
          "metadata": {
            "tags": []
          },
          "execution_count": 19
        }
      ]
    },
    {
      "cell_type": "code",
      "metadata": {
        "id": "cSC0fqF5b4fb",
        "colab_type": "code",
        "colab": {},
        "outputId": "15a3af1c-7745-45ea-c7ac-fda71b58dc04"
      },
      "source": [
        "a[1:5][0][0] = 1000\n",
        "a"
      ],
      "execution_count": null,
      "outputs": [
        {
          "output_type": "execute_result",
          "data": {
            "text/plain": [
              "[7, [1000, 2], 5, 6, 10, 14, 19, 20]"
            ]
          },
          "metadata": {
            "tags": []
          },
          "execution_count": 20
        }
      ]
    },
    {
      "cell_type": "markdown",
      "metadata": {
        "id": "h7EaCBEMb4fe",
        "colab_type": "text"
      },
      "source": [
        "## Using the copy module to create a deep copy\n",
        "The standard library comes with the [copy module](https://docs.python.org/3/library/copy.html) to make a **deep copy** of your object. A deep copy creates a copy of every single mutable object within your object.\n",
        "\n",
        "Let's re-run the code from a couple sections above where we take a slice of a list containing an inner list and this time make a deep copy before checking the **`id`** of each inner list."
      ]
    },
    {
      "cell_type": "code",
      "metadata": {
        "collapsed": true,
        "id": "KVIQ-41Jb4fe",
        "colab_type": "code",
        "colab": {}
      },
      "source": [
        "import copy"
      ],
      "execution_count": null,
      "outputs": []
    },
    {
      "cell_type": "code",
      "metadata": {
        "id": "f4jnZMrNb4fh",
        "colab_type": "code",
        "colab": {}
      },
      "source": [
        "a = [7, [1, 2], 5, 6, 10, 14, 19, 20]\n",
        "a_slice = copy.deepcopy(a[1:4])"
      ],
      "execution_count": null,
      "outputs": []
    },
    {
      "cell_type": "code",
      "metadata": {
        "id": "HUIldxWSb4fj",
        "colab_type": "code",
        "colab": {},
        "outputId": "c217da20-97a8-4533-f317-0b69cedf487a"
      },
      "source": [
        "id(a[1]) == id(a_slice[0])"
      ],
      "execution_count": null,
      "outputs": [
        {
          "output_type": "execute_result",
          "data": {
            "text/plain": [
              "False"
            ]
          },
          "metadata": {
            "tags": []
          },
          "execution_count": 23
        }
      ]
    },
    {
      "cell_type": "markdown",
      "metadata": {
        "id": "if9qgBRWb4gg",
        "colab_type": "text"
      },
      "source": [
        "## Chained Indexing in pandas\n",
        "Chained indexing happens analogously to pandas DataFrames/Series. Whenever you do two (or more) subset selections one after the other, you are doing chained indexing. Note, that this isn't 100% indicative that you are doing something wrong but for the vast majority of cases that I have seen, it is.\n",
        "\n",
        "Let's walk through several examples of chained indexing on a pandas DataFrame. To simplify matters, we will use some fake data on a small DataFrame."
      ]
    },
    {
      "cell_type": "code",
      "metadata": {
        "id": "xoymSFL3b4gh",
        "colab_type": "code",
        "colab": {},
        "outputId": "251e3865-9887-43c6-849b-0c8590345e5e"
      },
      "source": [
        "import pandas as pd\n",
        "df = pd.read_csv('../../data/sample_data.csv', index_col=0)\n",
        "df"
      ],
      "execution_count": null,
      "outputs": [
        {
          "output_type": "execute_result",
          "data": {
            "text/html": [
              "<div>\n",
              "<style scoped>\n",
              "    .dataframe tbody tr th:only-of-type {\n",
              "        vertical-align: middle;\n",
              "    }\n",
              "\n",
              "    .dataframe tbody tr th {\n",
              "        vertical-align: top;\n",
              "    }\n",
              "\n",
              "    .dataframe thead th {\n",
              "        text-align: right;\n",
              "    }\n",
              "</style>\n",
              "<table border=\"1\" class=\"dataframe\">\n",
              "  <thead>\n",
              "    <tr style=\"text-align: right;\">\n",
              "      <th></th>\n",
              "      <th>state</th>\n",
              "      <th>color</th>\n",
              "      <th>food</th>\n",
              "      <th>age</th>\n",
              "      <th>height</th>\n",
              "      <th>score</th>\n",
              "    </tr>\n",
              "  </thead>\n",
              "  <tbody>\n",
              "    <tr>\n",
              "      <th>Jane</th>\n",
              "      <td>NY</td>\n",
              "      <td>blue</td>\n",
              "      <td>Steak</td>\n",
              "      <td>30</td>\n",
              "      <td>165</td>\n",
              "      <td>4.6</td>\n",
              "    </tr>\n",
              "    <tr>\n",
              "      <th>Niko</th>\n",
              "      <td>TX</td>\n",
              "      <td>green</td>\n",
              "      <td>Lamb</td>\n",
              "      <td>2</td>\n",
              "      <td>70</td>\n",
              "      <td>8.3</td>\n",
              "    </tr>\n",
              "    <tr>\n",
              "      <th>Aaron</th>\n",
              "      <td>FL</td>\n",
              "      <td>red</td>\n",
              "      <td>Mango</td>\n",
              "      <td>12</td>\n",
              "      <td>120</td>\n",
              "      <td>9.0</td>\n",
              "    </tr>\n",
              "    <tr>\n",
              "      <th>Penelope</th>\n",
              "      <td>AL</td>\n",
              "      <td>white</td>\n",
              "      <td>Apple</td>\n",
              "      <td>4</td>\n",
              "      <td>80</td>\n",
              "      <td>3.3</td>\n",
              "    </tr>\n",
              "    <tr>\n",
              "      <th>Dean</th>\n",
              "      <td>AK</td>\n",
              "      <td>gray</td>\n",
              "      <td>Cheese</td>\n",
              "      <td>32</td>\n",
              "      <td>180</td>\n",
              "      <td>1.8</td>\n",
              "    </tr>\n",
              "    <tr>\n",
              "      <th>Christina</th>\n",
              "      <td>TX</td>\n",
              "      <td>black</td>\n",
              "      <td>Melon</td>\n",
              "      <td>33</td>\n",
              "      <td>172</td>\n",
              "      <td>9.5</td>\n",
              "    </tr>\n",
              "    <tr>\n",
              "      <th>Cornelia</th>\n",
              "      <td>TX</td>\n",
              "      <td>red</td>\n",
              "      <td>Beans</td>\n",
              "      <td>69</td>\n",
              "      <td>150</td>\n",
              "      <td>2.2</td>\n",
              "    </tr>\n",
              "  </tbody>\n",
              "</table>\n",
              "</div>"
            ],
            "text/plain": [
              "          state  color    food  age  height  score\n",
              "Jane         NY   blue   Steak   30     165    4.6\n",
              "Niko         TX  green    Lamb    2      70    8.3\n",
              "Aaron        FL    red   Mango   12     120    9.0\n",
              "Penelope     AL  white   Apple    4      80    3.3\n",
              "Dean         AK   gray  Cheese   32     180    1.8\n",
              "Christina    TX  black   Melon   33     172    9.5\n",
              "Cornelia     TX    red   Beans   69     150    2.2"
            ]
          },
          "metadata": {
            "tags": []
          },
          "execution_count": 24
        }
      ]
    },
    {
      "cell_type": "markdown",
      "metadata": {
        "id": "wk6H-6VMb4gk",
        "colab_type": "text"
      },
      "source": [
        "#### Chained Indexing Example 1\n",
        "Let's select the columns **`food`**, **`age`**, and **`color`** and then immediately select just **`age`** using chained indexing:"
      ]
    },
    {
      "cell_type": "code",
      "metadata": {
        "id": "d03GH_KTb4gk",
        "colab_type": "code",
        "colab": {},
        "outputId": "78b57e45-da03-4a34-8556-446e7bb86cee"
      },
      "source": [
        "df[['food', 'age', 'color']]['age']"
      ],
      "execution_count": null,
      "outputs": [
        {
          "output_type": "execute_result",
          "data": {
            "text/plain": [
              "Jane         30\n",
              "Niko          2\n",
              "Aaron        12\n",
              "Penelope      4\n",
              "Dean         32\n",
              "Christina    33\n",
              "Cornelia     69\n",
              "Name: age, dtype: int64"
            ]
          },
          "metadata": {
            "tags": []
          },
          "execution_count": 25
        }
      ]
    },
    {
      "cell_type": "markdown",
      "metadata": {
        "id": "8QUAsmIVb4go",
        "colab_type": "text"
      },
      "source": [
        "It might be easier to store each selection to a variable first:"
      ]
    },
    {
      "cell_type": "code",
      "metadata": {
        "id": "ZGbM1PWtb4gp",
        "colab_type": "code",
        "colab": {},
        "outputId": "0bb66880-6cb2-4a64-fe51-ddf2be323fe2"
      },
      "source": [
        "a = ['food', 'age', 'color']\n",
        "b = 'age'\n",
        "df[a][b]"
      ],
      "execution_count": null,
      "outputs": [
        {
          "output_type": "execute_result",
          "data": {
            "text/plain": [
              "Jane         30\n",
              "Niko          2\n",
              "Aaron        12\n",
              "Penelope      4\n",
              "Dean         32\n",
              "Christina    33\n",
              "Cornelia     69\n",
              "Name: age, dtype: int64"
            ]
          },
          "metadata": {
            "tags": []
          },
          "execution_count": 26
        }
      ]
    },
    {
      "cell_type": "markdown",
      "metadata": {
        "id": "0lvF8SNsb4gr",
        "colab_type": "text"
      },
      "source": [
        "#### Chained Indexing Example 2\n",
        "\n",
        "Let's use **`.loc`** to select **`Niko`** and **`Dean`** along with **`state`**, **`height`**, and **`color`**. Then, let's chain *just the indexing operator* to select **`height`** and **`color`**."
      ]
    },
    {
      "cell_type": "code",
      "metadata": {
        "id": "LxOZG21tb4gs",
        "colab_type": "code",
        "colab": {},
        "outputId": "cf2b0c08-db79-4e7b-872b-a5d8eab66741"
      },
      "source": [
        "df.loc[['Niko', 'Dean'], ['state', 'height', 'color']][['height', 'color']]"
      ],
      "execution_count": null,
      "outputs": [
        {
          "output_type": "execute_result",
          "data": {
            "text/html": [
              "<div>\n",
              "<style scoped>\n",
              "    .dataframe tbody tr th:only-of-type {\n",
              "        vertical-align: middle;\n",
              "    }\n",
              "\n",
              "    .dataframe tbody tr th {\n",
              "        vertical-align: top;\n",
              "    }\n",
              "\n",
              "    .dataframe thead th {\n",
              "        text-align: right;\n",
              "    }\n",
              "</style>\n",
              "<table border=\"1\" class=\"dataframe\">\n",
              "  <thead>\n",
              "    <tr style=\"text-align: right;\">\n",
              "      <th></th>\n",
              "      <th>height</th>\n",
              "      <th>color</th>\n",
              "    </tr>\n",
              "  </thead>\n",
              "  <tbody>\n",
              "    <tr>\n",
              "      <th>Niko</th>\n",
              "      <td>70</td>\n",
              "      <td>green</td>\n",
              "    </tr>\n",
              "    <tr>\n",
              "      <th>Dean</th>\n",
              "      <td>180</td>\n",
              "      <td>gray</td>\n",
              "    </tr>\n",
              "  </tbody>\n",
              "</table>\n",
              "</div>"
            ],
            "text/plain": [
              "      height  color\n",
              "Niko      70  green\n",
              "Dean     180   gray"
            ]
          },
          "metadata": {
            "tags": []
          },
          "execution_count": 27
        }
      ]
    },
    {
      "cell_type": "markdown",
      "metadata": {
        "id": "XLLLdegob4gw",
        "colab_type": "text"
      },
      "source": [
        "That's a lot of brackets in the above expression. Let's separate each selection into their own variables. Below, the variable **`a`** is technically a two-item tuple of lists."
      ]
    },
    {
      "cell_type": "code",
      "metadata": {
        "id": "vvcPbDoPb4gx",
        "colab_type": "code",
        "colab": {},
        "outputId": "c6918856-7279-49f4-d469-58d6f8249f14"
      },
      "source": [
        "a = ['Niko', 'Dean'], ['state', 'height', 'color']\n",
        "b = ['height', 'color']\n",
        "\n",
        "df.loc[a][b]"
      ],
      "execution_count": null,
      "outputs": [
        {
          "output_type": "execute_result",
          "data": {
            "text/html": [
              "<div>\n",
              "<style scoped>\n",
              "    .dataframe tbody tr th:only-of-type {\n",
              "        vertical-align: middle;\n",
              "    }\n",
              "\n",
              "    .dataframe tbody tr th {\n",
              "        vertical-align: top;\n",
              "    }\n",
              "\n",
              "    .dataframe thead th {\n",
              "        text-align: right;\n",
              "    }\n",
              "</style>\n",
              "<table border=\"1\" class=\"dataframe\">\n",
              "  <thead>\n",
              "    <tr style=\"text-align: right;\">\n",
              "      <th></th>\n",
              "      <th>height</th>\n",
              "      <th>color</th>\n",
              "    </tr>\n",
              "  </thead>\n",
              "  <tbody>\n",
              "    <tr>\n",
              "      <th>Niko</th>\n",
              "      <td>70</td>\n",
              "      <td>green</td>\n",
              "    </tr>\n",
              "    <tr>\n",
              "      <th>Dean</th>\n",
              "      <td>180</td>\n",
              "      <td>gray</td>\n",
              "    </tr>\n",
              "  </tbody>\n",
              "</table>\n",
              "</div>"
            ],
            "text/plain": [
              "      height  color\n",
              "Niko      70  green\n",
              "Dean     180   gray"
            ]
          },
          "metadata": {
            "tags": []
          },
          "execution_count": 28
        }
      ]
    },
    {
      "cell_type": "markdown",
      "metadata": {
        "id": "6Pvo8eWdb4gz",
        "colab_type": "text"
      },
      "source": [
        "#### Chained Indexing Example 3\n",
        "\n",
        "Let's use **`.iloc`** first to select the rows 2 through 5 and then chain it again to select the last three columns."
      ]
    },
    {
      "cell_type": "code",
      "metadata": {
        "id": "I15poV7Hb4gz",
        "colab_type": "code",
        "colab": {},
        "outputId": "42f8fb42-5030-447e-ddc7-a6aedb3b664a"
      },
      "source": [
        "df.iloc[2:5].iloc[:, -3:]"
      ],
      "execution_count": null,
      "outputs": [
        {
          "output_type": "execute_result",
          "data": {
            "text/html": [
              "<div>\n",
              "<style scoped>\n",
              "    .dataframe tbody tr th:only-of-type {\n",
              "        vertical-align: middle;\n",
              "    }\n",
              "\n",
              "    .dataframe tbody tr th {\n",
              "        vertical-align: top;\n",
              "    }\n",
              "\n",
              "    .dataframe thead th {\n",
              "        text-align: right;\n",
              "    }\n",
              "</style>\n",
              "<table border=\"1\" class=\"dataframe\">\n",
              "  <thead>\n",
              "    <tr style=\"text-align: right;\">\n",
              "      <th></th>\n",
              "      <th>age</th>\n",
              "      <th>height</th>\n",
              "      <th>score</th>\n",
              "    </tr>\n",
              "  </thead>\n",
              "  <tbody>\n",
              "    <tr>\n",
              "      <th>Aaron</th>\n",
              "      <td>12</td>\n",
              "      <td>120</td>\n",
              "      <td>9.0</td>\n",
              "    </tr>\n",
              "    <tr>\n",
              "      <th>Penelope</th>\n",
              "      <td>4</td>\n",
              "      <td>80</td>\n",
              "      <td>3.3</td>\n",
              "    </tr>\n",
              "    <tr>\n",
              "      <th>Dean</th>\n",
              "      <td>32</td>\n",
              "      <td>180</td>\n",
              "      <td>1.8</td>\n",
              "    </tr>\n",
              "  </tbody>\n",
              "</table>\n",
              "</div>"
            ],
            "text/plain": [
              "          age  height  score\n",
              "Aaron      12     120    9.0\n",
              "Penelope    4      80    3.3\n",
              "Dean       32     180    1.8"
            ]
          },
          "metadata": {
            "tags": []
          },
          "execution_count": 29
        }
      ]
    },
    {
      "cell_type": "markdown",
      "metadata": {
        "id": "3TuWu566b4g1",
        "colab_type": "text"
      },
      "source": [
        "#### Chained Indexing Example 4\n",
        "Let's select the rows **`Aaron`**, **`Dean`**, and **`Christina`** with **`.loc`** and then the columns **`age`** and **`food`** with just the indexing operator."
      ]
    },
    {
      "cell_type": "code",
      "metadata": {
        "id": "cLzbW9Anb4g1",
        "colab_type": "code",
        "colab": {},
        "outputId": "0e0c0335-fe0b-4369-f1a5-fa1baaf63b76"
      },
      "source": [
        "df.loc[['Aaron', 'Dean', 'Christina']][['age', 'food']]"
      ],
      "execution_count": null,
      "outputs": [
        {
          "output_type": "execute_result",
          "data": {
            "text/html": [
              "<div>\n",
              "<style scoped>\n",
              "    .dataframe tbody tr th:only-of-type {\n",
              "        vertical-align: middle;\n",
              "    }\n",
              "\n",
              "    .dataframe tbody tr th {\n",
              "        vertical-align: top;\n",
              "    }\n",
              "\n",
              "    .dataframe thead th {\n",
              "        text-align: right;\n",
              "    }\n",
              "</style>\n",
              "<table border=\"1\" class=\"dataframe\">\n",
              "  <thead>\n",
              "    <tr style=\"text-align: right;\">\n",
              "      <th></th>\n",
              "      <th>age</th>\n",
              "      <th>food</th>\n",
              "    </tr>\n",
              "  </thead>\n",
              "  <tbody>\n",
              "    <tr>\n",
              "      <th>Aaron</th>\n",
              "      <td>12</td>\n",
              "      <td>Mango</td>\n",
              "    </tr>\n",
              "    <tr>\n",
              "      <th>Dean</th>\n",
              "      <td>32</td>\n",
              "      <td>Cheese</td>\n",
              "    </tr>\n",
              "    <tr>\n",
              "      <th>Christina</th>\n",
              "      <td>33</td>\n",
              "      <td>Melon</td>\n",
              "    </tr>\n",
              "  </tbody>\n",
              "</table>\n",
              "</div>"
            ],
            "text/plain": [
              "           age    food\n",
              "Aaron       12   Mango\n",
              "Dean        32  Cheese\n",
              "Christina   33   Melon"
            ]
          },
          "metadata": {
            "tags": []
          },
          "execution_count": 30
        }
      ]
    },
    {
      "cell_type": "markdown",
      "metadata": {
        "id": "wBshrVeZb4g3",
        "colab_type": "text"
      },
      "source": [
        "#### Chained Indexing Example 5\n",
        "Select all the rows with age greater than 10 with *just the indexing operator* and then select the **`score`** column."
      ]
    },
    {
      "cell_type": "code",
      "metadata": {
        "id": "k4a9f600b4g4",
        "colab_type": "code",
        "colab": {},
        "outputId": "b1466b47-90e3-451c-c5e6-226560a4ef23"
      },
      "source": [
        "df[df['age'] > 10]['score']"
      ],
      "execution_count": null,
      "outputs": [
        {
          "output_type": "execute_result",
          "data": {
            "text/plain": [
              "Jane         4.6\n",
              "Aaron        9.0\n",
              "Dean         1.8\n",
              "Christina    9.5\n",
              "Cornelia     2.2\n",
              "Name: score, dtype: float64"
            ]
          },
          "metadata": {
            "tags": []
          },
          "execution_count": 31
        }
      ]
    },
    {
      "cell_type": "markdown",
      "metadata": {
        "id": "GXbyKJvwb4g6",
        "colab_type": "text"
      },
      "source": [
        "## Identifying Chained Indexing\n",
        "First, all the examples from above are things you should strive to avoid. All the selections from above could have been reproduced in a much simpler and more direct manner.\n",
        "\n",
        "As mentioned previously, chained indexing occurs whenever you use the indexers **`[]`**, **`.loc`**, or **`.iloc`** twice in a row.\n",
        "\n",
        "If you are having trouble identifying chained indexing you can look for the following:\n",
        "* A closed bracket followed by an open bracket - Look for **`][`** as with **`df[a][b]`** \n",
        "* **`.loc`** or **`.iloc`** following a closed bracket like in example 3: **`df.iloc[2:5].iloc[:, -3:]`**\n",
        "\n",
        "Another way to determine if you have chained indexing is if you can break the operation up into two lines. For instance, **`df[a][b]`** can be broken up into:\n",
        "\n",
        "```Python\n",
        ">>> df1 = df[a]\n",
        ">>> df1[b]\n",
        "```\n",
        "\n",
        "Thanks to Tom Augspurger for the first bullet. See his [blog post on indexing](https://tomaugspurger.github.io/modern-1-intro.html) for more.\n",
        "\n",
        "## Making the examples idiomatic\n",
        "Let's re-write all of the above examples idiomatically."
      ]
    },
    {
      "cell_type": "markdown",
      "metadata": {
        "id": "BRx_nPLBb4g6",
        "colab_type": "text"
      },
      "source": [
        "#### Chained Indexing Example 1 - Idiomatic"
      ]
    },
    {
      "cell_type": "code",
      "metadata": {
        "id": "sjBGfUgzb4g6",
        "colab_type": "code",
        "colab": {},
        "outputId": "7ce8f3cd-6db4-41ec-b7c1-0f8e58c64b33"
      },
      "source": [
        "# df[['food', 'age', 'color']]['age'] - bad\n",
        "df['age']"
      ],
      "execution_count": null,
      "outputs": [
        {
          "output_type": "execute_result",
          "data": {
            "text/plain": [
              "Jane         30\n",
              "Niko          2\n",
              "Aaron        12\n",
              "Penelope      4\n",
              "Dean         32\n",
              "Christina    33\n",
              "Cornelia     69\n",
              "Name: age, dtype: int64"
            ]
          },
          "metadata": {
            "tags": []
          },
          "execution_count": 32
        }
      ]
    },
    {
      "cell_type": "markdown",
      "metadata": {
        "id": "WiEDtmh2b4it",
        "colab_type": "text"
      },
      "source": [
        "#### Chained Indexing Example 2 - Idiomatic"
      ]
    },
    {
      "cell_type": "code",
      "metadata": {
        "id": "sQaQj-DEb4iu",
        "colab_type": "code",
        "colab": {},
        "outputId": "d2ebdc23-b08e-43b5-8d50-bba5a95dced5"
      },
      "source": [
        "# df.loc[['Niko', 'Dean'], ['state', 'height', 'color']][['height', 'color']] - bad\n",
        "df.loc[['Niko', 'Dean'], ['height', 'color']]"
      ],
      "execution_count": null,
      "outputs": [
        {
          "output_type": "execute_result",
          "data": {
            "text/html": [
              "<div>\n",
              "<style scoped>\n",
              "    .dataframe tbody tr th:only-of-type {\n",
              "        vertical-align: middle;\n",
              "    }\n",
              "\n",
              "    .dataframe tbody tr th {\n",
              "        vertical-align: top;\n",
              "    }\n",
              "\n",
              "    .dataframe thead th {\n",
              "        text-align: right;\n",
              "    }\n",
              "</style>\n",
              "<table border=\"1\" class=\"dataframe\">\n",
              "  <thead>\n",
              "    <tr style=\"text-align: right;\">\n",
              "      <th></th>\n",
              "      <th>height</th>\n",
              "      <th>color</th>\n",
              "    </tr>\n",
              "  </thead>\n",
              "  <tbody>\n",
              "    <tr>\n",
              "      <th>Niko</th>\n",
              "      <td>70</td>\n",
              "      <td>green</td>\n",
              "    </tr>\n",
              "    <tr>\n",
              "      <th>Dean</th>\n",
              "      <td>180</td>\n",
              "      <td>gray</td>\n",
              "    </tr>\n",
              "  </tbody>\n",
              "</table>\n",
              "</div>"
            ],
            "text/plain": [
              "      height  color\n",
              "Niko      70  green\n",
              "Dean     180   gray"
            ]
          },
          "metadata": {
            "tags": []
          },
          "execution_count": 33
        }
      ]
    },
    {
      "cell_type": "markdown",
      "metadata": {
        "id": "TCJYfw2nb4i8",
        "colab_type": "text"
      },
      "source": [
        "#### Chained Indexing Example 3 - Idiomatic"
      ]
    },
    {
      "cell_type": "code",
      "metadata": {
        "id": "PpYwZS_Ib4i8",
        "colab_type": "code",
        "colab": {},
        "outputId": "58e53ccd-d885-4875-b6c1-c98f254927ee"
      },
      "source": [
        "# df.iloc[2:5].iloc[:, -3:] - bad\n",
        "df.iloc[2:5, -3:]"
      ],
      "execution_count": null,
      "outputs": [
        {
          "output_type": "execute_result",
          "data": {
            "text/html": [
              "<div>\n",
              "<style scoped>\n",
              "    .dataframe tbody tr th:only-of-type {\n",
              "        vertical-align: middle;\n",
              "    }\n",
              "\n",
              "    .dataframe tbody tr th {\n",
              "        vertical-align: top;\n",
              "    }\n",
              "\n",
              "    .dataframe thead th {\n",
              "        text-align: right;\n",
              "    }\n",
              "</style>\n",
              "<table border=\"1\" class=\"dataframe\">\n",
              "  <thead>\n",
              "    <tr style=\"text-align: right;\">\n",
              "      <th></th>\n",
              "      <th>age</th>\n",
              "      <th>height</th>\n",
              "      <th>score</th>\n",
              "    </tr>\n",
              "  </thead>\n",
              "  <tbody>\n",
              "    <tr>\n",
              "      <th>Aaron</th>\n",
              "      <td>12</td>\n",
              "      <td>120</td>\n",
              "      <td>9.0</td>\n",
              "    </tr>\n",
              "    <tr>\n",
              "      <th>Penelope</th>\n",
              "      <td>4</td>\n",
              "      <td>80</td>\n",
              "      <td>3.3</td>\n",
              "    </tr>\n",
              "    <tr>\n",
              "      <th>Dean</th>\n",
              "      <td>32</td>\n",
              "      <td>180</td>\n",
              "      <td>1.8</td>\n",
              "    </tr>\n",
              "  </tbody>\n",
              "</table>\n",
              "</div>"
            ],
            "text/plain": [
              "          age  height  score\n",
              "Aaron      12     120    9.0\n",
              "Penelope    4      80    3.3\n",
              "Dean       32     180    1.8"
            ]
          },
          "metadata": {
            "tags": []
          },
          "execution_count": 34
        }
      ]
    },
    {
      "cell_type": "markdown",
      "metadata": {
        "id": "-IArWCDXb4i_",
        "colab_type": "text"
      },
      "source": [
        "#### Chained Indexing Example 4 - Idiomatic"
      ]
    },
    {
      "cell_type": "code",
      "metadata": {
        "id": "dU-CTxmRb4jA",
        "colab_type": "code",
        "colab": {},
        "outputId": "668728d9-2cae-49e2-cb01-a639fc843df3"
      },
      "source": [
        "# df.loc[['Aaron', 'Dean', 'Christina']][['age', 'food']] - bad\n",
        "df.loc[['Aaron', 'Dean', 'Christina'], ['age', 'food']]"
      ],
      "execution_count": null,
      "outputs": [
        {
          "output_type": "execute_result",
          "data": {
            "text/html": [
              "<div>\n",
              "<style scoped>\n",
              "    .dataframe tbody tr th:only-of-type {\n",
              "        vertical-align: middle;\n",
              "    }\n",
              "\n",
              "    .dataframe tbody tr th {\n",
              "        vertical-align: top;\n",
              "    }\n",
              "\n",
              "    .dataframe thead th {\n",
              "        text-align: right;\n",
              "    }\n",
              "</style>\n",
              "<table border=\"1\" class=\"dataframe\">\n",
              "  <thead>\n",
              "    <tr style=\"text-align: right;\">\n",
              "      <th></th>\n",
              "      <th>age</th>\n",
              "      <th>food</th>\n",
              "    </tr>\n",
              "  </thead>\n",
              "  <tbody>\n",
              "    <tr>\n",
              "      <th>Aaron</th>\n",
              "      <td>12</td>\n",
              "      <td>Mango</td>\n",
              "    </tr>\n",
              "    <tr>\n",
              "      <th>Dean</th>\n",
              "      <td>32</td>\n",
              "      <td>Cheese</td>\n",
              "    </tr>\n",
              "    <tr>\n",
              "      <th>Christina</th>\n",
              "      <td>33</td>\n",
              "      <td>Melon</td>\n",
              "    </tr>\n",
              "  </tbody>\n",
              "</table>\n",
              "</div>"
            ],
            "text/plain": [
              "           age    food\n",
              "Aaron       12   Mango\n",
              "Dean        32  Cheese\n",
              "Christina   33   Melon"
            ]
          },
          "metadata": {
            "tags": []
          },
          "execution_count": 35
        }
      ]
    },
    {
      "cell_type": "markdown",
      "metadata": {
        "id": "rZycMmqUb4jC",
        "colab_type": "text"
      },
      "source": [
        "#### Chained Indexing Example 5 - Idiomatic"
      ]
    },
    {
      "cell_type": "code",
      "metadata": {
        "id": "1OHHEcpbb4jC",
        "colab_type": "code",
        "colab": {},
        "outputId": "ffc4f35f-2b08-48d9-9b7e-68866d1fa080"
      },
      "source": [
        "# df[df['age'] > 10]['score'] - bad\n",
        "df.loc[df['age'] > 10, 'score']"
      ],
      "execution_count": null,
      "outputs": [
        {
          "output_type": "execute_result",
          "data": {
            "text/plain": [
              "Jane         4.6\n",
              "Aaron        9.0\n",
              "Dean         1.8\n",
              "Christina    9.5\n",
              "Cornelia     2.2\n",
              "Name: score, dtype: float64"
            ]
          },
          "metadata": {
            "tags": []
          },
          "execution_count": 36
        }
      ]
    },
    {
      "cell_type": "markdown",
      "metadata": {
        "id": "zmjFWj5ab4kA",
        "colab_type": "text"
      },
      "source": [
        "## Why is chained indexing bad?\n",
        "There are two primary reasons that chained indexing should be avoided if possible. \n",
        "\n",
        "#### Two separate operations\n",
        "The first, and less important reason, is that two separate pandas operations will be called instead of just one.\n",
        "\n",
        "Let's take example 4 from above:\n",
        "\n",
        "```Python\n",
        ">>> df.loc[['Aaron', 'Dean', 'Christina']][['age', 'food']]\n",
        "```\n",
        "When this code is executed, two independent operations are completed. The following is run first:\n",
        "\n",
        "```Python\n",
        ">>> df.loc[['Aaron', 'Dean', 'Christina']]\n",
        "```\n",
        "\n",
        "The result of this is a DataFrame, and on this temporary and intermediate DataFrame the second and final operation is run to select two columns: **`[['age', 'food']]`**.\n",
        "\n",
        "Let's see this operation written idimoatically:\n",
        "\n",
        "```Python\n",
        ">>> df.loc[['Aaron', 'Dean', 'Christina'], ['age', 'food']]\n",
        "```\n",
        "\n",
        "There is exactly one operation, a call to the **`.loc`** indexer that is passed both the row and column selections simultaneously.\n",
        "\n",
        "#### `SettingWithCopy` warning on assignment\n",
        "The major problem with chained indexing is when assigning new values to the subset, in which Pandas will usually emit the **`SettingWithCopy`** warning.\n",
        "\n",
        "Let's use example 5 from above with its chained indexing version to change all the scores of those older than 10 to 99."
      ]
    },
    {
      "cell_type": "code",
      "metadata": {
        "id": "fVljc5p6b4kB",
        "colab_type": "code",
        "colab": {},
        "outputId": "91d67ddf-ef32-44c7-bbe1-04fe9388ddbf"
      },
      "source": [
        "df[df['age'] > 10]['score'] = 99"
      ],
      "execution_count": null,
      "outputs": [
        {
          "output_type": "stream",
          "text": [
            "/Users/Ted/anaconda3/lib/python3.6/site-packages/ipykernel_launcher.py:1: SettingWithCopyWarning: \n",
            "A value is trying to be set on a copy of a slice from a DataFrame.\n",
            "Try using .loc[row_indexer,col_indexer] = value instead\n",
            "\n",
            "See the caveats in the documentation: http://pandas.pydata.org/pandas-docs/stable/indexing.html#indexing-view-versus-copy\n",
            "  \"\"\"Entry point for launching an IPython kernel.\n"
          ],
          "name": "stderr"
        }
      ]
    },
    {
      "cell_type": "markdown",
      "metadata": {
        "id": "J2PV2vB4b4kE",
        "colab_type": "text"
      },
      "source": [
        "The **`SettingWithCopy`** warning was triggered. Let's output the DataFrame to see if the assignment happened correctly."
      ]
    },
    {
      "cell_type": "code",
      "metadata": {
        "id": "7AtZv5RMb4kE",
        "colab_type": "code",
        "colab": {},
        "outputId": "6684f46e-f456-4fb6-f30f-607175c15c58"
      },
      "source": [
        "df"
      ],
      "execution_count": null,
      "outputs": [
        {
          "output_type": "execute_result",
          "data": {
            "text/html": [
              "<div>\n",
              "<style scoped>\n",
              "    .dataframe tbody tr th:only-of-type {\n",
              "        vertical-align: middle;\n",
              "    }\n",
              "\n",
              "    .dataframe tbody tr th {\n",
              "        vertical-align: top;\n",
              "    }\n",
              "\n",
              "    .dataframe thead th {\n",
              "        text-align: right;\n",
              "    }\n",
              "</style>\n",
              "<table border=\"1\" class=\"dataframe\">\n",
              "  <thead>\n",
              "    <tr style=\"text-align: right;\">\n",
              "      <th></th>\n",
              "      <th>state</th>\n",
              "      <th>color</th>\n",
              "      <th>food</th>\n",
              "      <th>age</th>\n",
              "      <th>height</th>\n",
              "      <th>score</th>\n",
              "    </tr>\n",
              "  </thead>\n",
              "  <tbody>\n",
              "    <tr>\n",
              "      <th>Jane</th>\n",
              "      <td>NY</td>\n",
              "      <td>blue</td>\n",
              "      <td>Steak</td>\n",
              "      <td>30</td>\n",
              "      <td>165</td>\n",
              "      <td>4.6</td>\n",
              "    </tr>\n",
              "    <tr>\n",
              "      <th>Niko</th>\n",
              "      <td>TX</td>\n",
              "      <td>green</td>\n",
              "      <td>Lamb</td>\n",
              "      <td>2</td>\n",
              "      <td>70</td>\n",
              "      <td>8.3</td>\n",
              "    </tr>\n",
              "    <tr>\n",
              "      <th>Aaron</th>\n",
              "      <td>FL</td>\n",
              "      <td>red</td>\n",
              "      <td>Mango</td>\n",
              "      <td>12</td>\n",
              "      <td>120</td>\n",
              "      <td>9.0</td>\n",
              "    </tr>\n",
              "    <tr>\n",
              "      <th>Penelope</th>\n",
              "      <td>AL</td>\n",
              "      <td>white</td>\n",
              "      <td>Apple</td>\n",
              "      <td>4</td>\n",
              "      <td>80</td>\n",
              "      <td>3.3</td>\n",
              "    </tr>\n",
              "    <tr>\n",
              "      <th>Dean</th>\n",
              "      <td>AK</td>\n",
              "      <td>gray</td>\n",
              "      <td>Cheese</td>\n",
              "      <td>32</td>\n",
              "      <td>180</td>\n",
              "      <td>1.8</td>\n",
              "    </tr>\n",
              "    <tr>\n",
              "      <th>Christina</th>\n",
              "      <td>TX</td>\n",
              "      <td>black</td>\n",
              "      <td>Melon</td>\n",
              "      <td>33</td>\n",
              "      <td>172</td>\n",
              "      <td>9.5</td>\n",
              "    </tr>\n",
              "    <tr>\n",
              "      <th>Cornelia</th>\n",
              "      <td>TX</td>\n",
              "      <td>red</td>\n",
              "      <td>Beans</td>\n",
              "      <td>69</td>\n",
              "      <td>150</td>\n",
              "      <td>2.2</td>\n",
              "    </tr>\n",
              "  </tbody>\n",
              "</table>\n",
              "</div>"
            ],
            "text/plain": [
              "          state  color    food  age  height  score\n",
              "Jane         NY   blue   Steak   30     165    4.6\n",
              "Niko         TX  green    Lamb    2      70    8.3\n",
              "Aaron        FL    red   Mango   12     120    9.0\n",
              "Penelope     AL  white   Apple    4      80    3.3\n",
              "Dean         AK   gray  Cheese   32     180    1.8\n",
              "Christina    TX  black   Melon   33     172    9.5\n",
              "Cornelia     TX    red   Beans   69     150    2.2"
            ]
          },
          "metadata": {
            "tags": []
          },
          "execution_count": 38
        }
      ]
    },
    {
      "cell_type": "markdown",
      "metadata": {
        "id": "rksX9eHzb4kk",
        "colab_type": "text"
      },
      "source": [
        "## Failed Assignment!\n",
        "Our DataFrame failed to make the assignment. Let's break this operation up into two steps to give us more insight into what is happening."
      ]
    },
    {
      "cell_type": "code",
      "metadata": {
        "id": "G7j7UfJVb4kk",
        "colab_type": "code",
        "colab": {},
        "outputId": "f4f7b9ea-d3d0-4a0f-a88a-4ac132f58565"
      },
      "source": [
        "df_temp = df[df['age'] > 10]\n",
        "df_temp['score'] = 99"
      ],
      "execution_count": null,
      "outputs": [
        {
          "output_type": "stream",
          "text": [
            "/Users/Ted/anaconda3/lib/python3.6/site-packages/ipykernel_launcher.py:2: SettingWithCopyWarning: \n",
            "A value is trying to be set on a copy of a slice from a DataFrame.\n",
            "Try using .loc[row_indexer,col_indexer] = value instead\n",
            "\n",
            "See the caveats in the documentation: http://pandas.pydata.org/pandas-docs/stable/indexing.html#indexing-view-versus-copy\n",
            "  \n"
          ],
          "name": "stderr"
        }
      ]
    },
    {
      "cell_type": "markdown",
      "metadata": {
        "id": "ASIlab7vb4kz",
        "colab_type": "text"
      },
      "source": [
        "Take a look at **`df_temp`**:"
      ]
    },
    {
      "cell_type": "code",
      "metadata": {
        "id": "N9f8icGlb4k0",
        "colab_type": "code",
        "colab": {},
        "outputId": "2b26b359-508a-4dd4-e1f7-04177421bd65"
      },
      "source": [
        "df_temp"
      ],
      "execution_count": null,
      "outputs": [
        {
          "output_type": "execute_result",
          "data": {
            "text/html": [
              "<div>\n",
              "<style scoped>\n",
              "    .dataframe tbody tr th:only-of-type {\n",
              "        vertical-align: middle;\n",
              "    }\n",
              "\n",
              "    .dataframe tbody tr th {\n",
              "        vertical-align: top;\n",
              "    }\n",
              "\n",
              "    .dataframe thead th {\n",
              "        text-align: right;\n",
              "    }\n",
              "</style>\n",
              "<table border=\"1\" class=\"dataframe\">\n",
              "  <thead>\n",
              "    <tr style=\"text-align: right;\">\n",
              "      <th></th>\n",
              "      <th>state</th>\n",
              "      <th>color</th>\n",
              "      <th>food</th>\n",
              "      <th>age</th>\n",
              "      <th>height</th>\n",
              "      <th>score</th>\n",
              "    </tr>\n",
              "  </thead>\n",
              "  <tbody>\n",
              "    <tr>\n",
              "      <th>Jane</th>\n",
              "      <td>NY</td>\n",
              "      <td>blue</td>\n",
              "      <td>Steak</td>\n",
              "      <td>30</td>\n",
              "      <td>165</td>\n",
              "      <td>99</td>\n",
              "    </tr>\n",
              "    <tr>\n",
              "      <th>Aaron</th>\n",
              "      <td>FL</td>\n",
              "      <td>red</td>\n",
              "      <td>Mango</td>\n",
              "      <td>12</td>\n",
              "      <td>120</td>\n",
              "      <td>99</td>\n",
              "    </tr>\n",
              "    <tr>\n",
              "      <th>Dean</th>\n",
              "      <td>AK</td>\n",
              "      <td>gray</td>\n",
              "      <td>Cheese</td>\n",
              "      <td>32</td>\n",
              "      <td>180</td>\n",
              "      <td>99</td>\n",
              "    </tr>\n",
              "    <tr>\n",
              "      <th>Christina</th>\n",
              "      <td>TX</td>\n",
              "      <td>black</td>\n",
              "      <td>Melon</td>\n",
              "      <td>33</td>\n",
              "      <td>172</td>\n",
              "      <td>99</td>\n",
              "    </tr>\n",
              "    <tr>\n",
              "      <th>Cornelia</th>\n",
              "      <td>TX</td>\n",
              "      <td>red</td>\n",
              "      <td>Beans</td>\n",
              "      <td>69</td>\n",
              "      <td>150</td>\n",
              "      <td>99</td>\n",
              "    </tr>\n",
              "  </tbody>\n",
              "</table>\n",
              "</div>"
            ],
            "text/plain": [
              "          state  color    food  age  height  score\n",
              "Jane         NY   blue   Steak   30     165     99\n",
              "Aaron        FL    red   Mango   12     120     99\n",
              "Dean         AK   gray  Cheese   32     180     99\n",
              "Christina    TX  black   Melon   33     172     99\n",
              "Cornelia     TX    red   Beans   69     150     99"
            ]
          },
          "metadata": {
            "tags": []
          },
          "execution_count": 40
        }
      ]
    },
    {
      "cell_type": "markdown",
      "metadata": {
        "id": "DODozRBOb4k2",
        "colab_type": "text"
      },
      "source": [
        "The assignment completed correctly for the intermediate DataFrame but not for our original. The reason for this, is the same reason as to why the chained indexing did not work for the list at the top of this tutorial.\n",
        "\n",
        "When we run **`df[df['age'] > 10]`**, pandas creates an entire new **copy** of the data. So when we try and assign the **`score`** column, we are modifying this new copy and not the original. Thus, the name **`SettingWithCopy`** make sense: pandas is warning you that you are setting (making an assignment) on a copy of a DataFrame.\n",
        "\n",
        "## How to assign correctly?\n",
        "You should never use chained indexing to make an assignment. Instead, make exactly a single call to one of the indexers. In this case, we can use **`.loc`** to properly make the selection and assignment."
      ]
    },
    {
      "cell_type": "code",
      "metadata": {
        "id": "6I_I0VtPb4k2",
        "colab_type": "code",
        "colab": {},
        "outputId": "50e8d196-f9df-4508-e416-d89c1b91f16b"
      },
      "source": [
        "df.loc[df['age'] > 10, 'score'] = 99\n",
        "df"
      ],
      "execution_count": null,
      "outputs": [
        {
          "output_type": "execute_result",
          "data": {
            "text/html": [
              "<div>\n",
              "<style scoped>\n",
              "    .dataframe tbody tr th:only-of-type {\n",
              "        vertical-align: middle;\n",
              "    }\n",
              "\n",
              "    .dataframe tbody tr th {\n",
              "        vertical-align: top;\n",
              "    }\n",
              "\n",
              "    .dataframe thead th {\n",
              "        text-align: right;\n",
              "    }\n",
              "</style>\n",
              "<table border=\"1\" class=\"dataframe\">\n",
              "  <thead>\n",
              "    <tr style=\"text-align: right;\">\n",
              "      <th></th>\n",
              "      <th>state</th>\n",
              "      <th>color</th>\n",
              "      <th>food</th>\n",
              "      <th>age</th>\n",
              "      <th>height</th>\n",
              "      <th>score</th>\n",
              "    </tr>\n",
              "  </thead>\n",
              "  <tbody>\n",
              "    <tr>\n",
              "      <th>Jane</th>\n",
              "      <td>NY</td>\n",
              "      <td>blue</td>\n",
              "      <td>Steak</td>\n",
              "      <td>30</td>\n",
              "      <td>165</td>\n",
              "      <td>99.0</td>\n",
              "    </tr>\n",
              "    <tr>\n",
              "      <th>Niko</th>\n",
              "      <td>TX</td>\n",
              "      <td>green</td>\n",
              "      <td>Lamb</td>\n",
              "      <td>2</td>\n",
              "      <td>70</td>\n",
              "      <td>8.3</td>\n",
              "    </tr>\n",
              "    <tr>\n",
              "      <th>Aaron</th>\n",
              "      <td>FL</td>\n",
              "      <td>red</td>\n",
              "      <td>Mango</td>\n",
              "      <td>12</td>\n",
              "      <td>120</td>\n",
              "      <td>99.0</td>\n",
              "    </tr>\n",
              "    <tr>\n",
              "      <th>Penelope</th>\n",
              "      <td>AL</td>\n",
              "      <td>white</td>\n",
              "      <td>Apple</td>\n",
              "      <td>4</td>\n",
              "      <td>80</td>\n",
              "      <td>3.3</td>\n",
              "    </tr>\n",
              "    <tr>\n",
              "      <th>Dean</th>\n",
              "      <td>AK</td>\n",
              "      <td>gray</td>\n",
              "      <td>Cheese</td>\n",
              "      <td>32</td>\n",
              "      <td>180</td>\n",
              "      <td>99.0</td>\n",
              "    </tr>\n",
              "    <tr>\n",
              "      <th>Christina</th>\n",
              "      <td>TX</td>\n",
              "      <td>black</td>\n",
              "      <td>Melon</td>\n",
              "      <td>33</td>\n",
              "      <td>172</td>\n",
              "      <td>99.0</td>\n",
              "    </tr>\n",
              "    <tr>\n",
              "      <th>Cornelia</th>\n",
              "      <td>TX</td>\n",
              "      <td>red</td>\n",
              "      <td>Beans</td>\n",
              "      <td>69</td>\n",
              "      <td>150</td>\n",
              "      <td>99.0</td>\n",
              "    </tr>\n",
              "  </tbody>\n",
              "</table>\n",
              "</div>"
            ],
            "text/plain": [
              "          state  color    food  age  height  score\n",
              "Jane         NY   blue   Steak   30     165   99.0\n",
              "Niko         TX  green    Lamb    2      70    8.3\n",
              "Aaron        FL    red   Mango   12     120   99.0\n",
              "Penelope     AL  white   Apple    4      80    3.3\n",
              "Dean         AK   gray  Cheese   32     180   99.0\n",
              "Christina    TX  black   Melon   33     172   99.0\n",
              "Cornelia     TX    red   Beans   69     150   99.0"
            ]
          },
          "metadata": {
            "tags": []
          },
          "execution_count": 41
        }
      ]
    },
    {
      "cell_type": "markdown",
      "metadata": {
        "id": "-JK4JW71b4k8",
        "colab_type": "text"
      },
      "source": [
        "## SettingWithCopy example that does assignment\n",
        "Let's do another nearly identical chained indexing as the previous example, except we will reverse the order of the chain. We will first select the **`score`** column and use boolean indexing to choose the people older than 10 and assign them a score of 0.\n",
        "\n",
        "First we will, just make the selection (without assignment) so you can see what we are trying to assign."
      ]
    },
    {
      "cell_type": "code",
      "metadata": {
        "id": "m-dH0YPYb4lB",
        "colab_type": "code",
        "colab": {},
        "outputId": "62793439-c4a1-4a33-87a3-b04c91c5097e"
      },
      "source": [
        "df['score'][df['age'] > 10]"
      ],
      "execution_count": null,
      "outputs": [
        {
          "output_type": "execute_result",
          "data": {
            "text/plain": [
              "Jane         99.0\n",
              "Aaron        99.0\n",
              "Dean         99.0\n",
              "Christina    99.0\n",
              "Cornelia     99.0\n",
              "Name: score, dtype: float64"
            ]
          },
          "metadata": {
            "tags": []
          },
          "execution_count": 42
        }
      ]
    },
    {
      "cell_type": "markdown",
      "metadata": {
        "id": "pr1j9kuxb4lD",
        "colab_type": "text"
      },
      "source": [
        "Now, let's make the assignment:"
      ]
    },
    {
      "cell_type": "code",
      "metadata": {
        "id": "UEVhLxavb4lF",
        "colab_type": "code",
        "colab": {},
        "outputId": "950cf2e3-a705-47a0-f470-86ddb0558ce0"
      },
      "source": [
        "df['score'][df['age'] > 10] = 0"
      ],
      "execution_count": null,
      "outputs": [
        {
          "output_type": "stream",
          "text": [
            "/Users/Ted/anaconda3/lib/python3.6/site-packages/ipykernel_launcher.py:1: SettingWithCopyWarning: \n",
            "A value is trying to be set on a copy of a slice from a DataFrame\n",
            "\n",
            "See the caveats in the documentation: http://pandas.pydata.org/pandas-docs/stable/indexing.html#indexing-view-versus-copy\n",
            "  \"\"\"Entry point for launching an IPython kernel.\n"
          ],
          "name": "stderr"
        }
      ]
    },
    {
      "cell_type": "markdown",
      "metadata": {
        "id": "LgMz5Zrlb4me",
        "colab_type": "text"
      },
      "source": [
        "The warning is triggered again. Let's output the DataFrame:"
      ]
    },
    {
      "cell_type": "code",
      "metadata": {
        "id": "1zrP32Amb4mg",
        "colab_type": "code",
        "colab": {},
        "outputId": "b892f60a-7219-4850-efe5-ac2ac577b6f0"
      },
      "source": [
        "df"
      ],
      "execution_count": null,
      "outputs": [
        {
          "output_type": "execute_result",
          "data": {
            "text/html": [
              "<div>\n",
              "<style scoped>\n",
              "    .dataframe tbody tr th:only-of-type {\n",
              "        vertical-align: middle;\n",
              "    }\n",
              "\n",
              "    .dataframe tbody tr th {\n",
              "        vertical-align: top;\n",
              "    }\n",
              "\n",
              "    .dataframe thead th {\n",
              "        text-align: right;\n",
              "    }\n",
              "</style>\n",
              "<table border=\"1\" class=\"dataframe\">\n",
              "  <thead>\n",
              "    <tr style=\"text-align: right;\">\n",
              "      <th></th>\n",
              "      <th>state</th>\n",
              "      <th>color</th>\n",
              "      <th>food</th>\n",
              "      <th>age</th>\n",
              "      <th>height</th>\n",
              "      <th>score</th>\n",
              "    </tr>\n",
              "  </thead>\n",
              "  <tbody>\n",
              "    <tr>\n",
              "      <th>Jane</th>\n",
              "      <td>NY</td>\n",
              "      <td>blue</td>\n",
              "      <td>Steak</td>\n",
              "      <td>30</td>\n",
              "      <td>165</td>\n",
              "      <td>0.0</td>\n",
              "    </tr>\n",
              "    <tr>\n",
              "      <th>Niko</th>\n",
              "      <td>TX</td>\n",
              "      <td>green</td>\n",
              "      <td>Lamb</td>\n",
              "      <td>2</td>\n",
              "      <td>70</td>\n",
              "      <td>8.3</td>\n",
              "    </tr>\n",
              "    <tr>\n",
              "      <th>Aaron</th>\n",
              "      <td>FL</td>\n",
              "      <td>red</td>\n",
              "      <td>Mango</td>\n",
              "      <td>12</td>\n",
              "      <td>120</td>\n",
              "      <td>0.0</td>\n",
              "    </tr>\n",
              "    <tr>\n",
              "      <th>Penelope</th>\n",
              "      <td>AL</td>\n",
              "      <td>white</td>\n",
              "      <td>Apple</td>\n",
              "      <td>4</td>\n",
              "      <td>80</td>\n",
              "      <td>3.3</td>\n",
              "    </tr>\n",
              "    <tr>\n",
              "      <th>Dean</th>\n",
              "      <td>AK</td>\n",
              "      <td>gray</td>\n",
              "      <td>Cheese</td>\n",
              "      <td>32</td>\n",
              "      <td>180</td>\n",
              "      <td>0.0</td>\n",
              "    </tr>\n",
              "    <tr>\n",
              "      <th>Christina</th>\n",
              "      <td>TX</td>\n",
              "      <td>black</td>\n",
              "      <td>Melon</td>\n",
              "      <td>33</td>\n",
              "      <td>172</td>\n",
              "      <td>0.0</td>\n",
              "    </tr>\n",
              "    <tr>\n",
              "      <th>Cornelia</th>\n",
              "      <td>TX</td>\n",
              "      <td>red</td>\n",
              "      <td>Beans</td>\n",
              "      <td>69</td>\n",
              "      <td>150</td>\n",
              "      <td>0.0</td>\n",
              "    </tr>\n",
              "  </tbody>\n",
              "</table>\n",
              "</div>"
            ],
            "text/plain": [
              "          state  color    food  age  height  score\n",
              "Jane         NY   blue   Steak   30     165    0.0\n",
              "Niko         TX  green    Lamb    2      70    8.3\n",
              "Aaron        FL    red   Mango   12     120    0.0\n",
              "Penelope     AL  white   Apple    4      80    3.3\n",
              "Dean         AK   gray  Cheese   32     180    0.0\n",
              "Christina    TX  black   Melon   33     172    0.0\n",
              "Cornelia     TX    red   Beans   69     150    0.0"
            ]
          },
          "metadata": {
            "tags": []
          },
          "execution_count": 44
        }
      ]
    },
    {
      "cell_type": "markdown",
      "metadata": {
        "id": "JZAgbqmub4mh",
        "colab_type": "text"
      },
      "source": [
        "## What happened this time?\n",
        "The first part of the above operation selects the **`score`** column. When pandas selects a single column from a DataFrame, pandas creates a **view** and not a **copy**. A view just means that no new object has been created. **`df['score']`** references the **`score`** column in the original DataFrame.\n",
        "\n",
        "This is analogous to the list example where we assigned an entire list to a new variable. No new object is created, just a new reference to the one already in existence.\n",
        "\n",
        "Since no new data has been created, the assignment will modify the original DataFrame.\n",
        "\n",
        "## Why is a warning triggered when our operation completed successfully?\n",
        "Pandas does not know if you want to modify the original DataFrame or just the first subset selection.\n",
        "\n",
        "For instance, you could have selected the **`score`** column as a Series to do further analysis with it without affecting the original DataFrame.\n",
        "\n",
        "Let's get a fresh read of our data and see this example:"
      ]
    },
    {
      "cell_type": "code",
      "metadata": {
        "collapsed": true,
        "id": "M74osXjlb4mi",
        "colab_type": "code",
        "colab": {}
      },
      "source": [
        "df = pd.read_csv('../../data/sample_data.csv', index_col=0)"
      ],
      "execution_count": null,
      "outputs": []
    },
    {
      "cell_type": "code",
      "metadata": {
        "id": "VD5WRydgb4ml",
        "colab_type": "code",
        "colab": {},
        "outputId": "8a839b1f-b253-4ff4-e667-5093eb3c668c"
      },
      "source": [
        "s = df['score']\n",
        "s"
      ],
      "execution_count": null,
      "outputs": [
        {
          "output_type": "execute_result",
          "data": {
            "text/plain": [
              "Jane         4.6\n",
              "Niko         8.3\n",
              "Aaron        9.0\n",
              "Penelope     3.3\n",
              "Dean         1.8\n",
              "Christina    9.5\n",
              "Cornelia     2.2\n",
              "Name: score, dtype: float64"
            ]
          },
          "metadata": {
            "tags": []
          },
          "execution_count": 46
        }
      ]
    },
    {
      "cell_type": "markdown",
      "metadata": {
        "id": "f7I6GH0Ab4mm",
        "colab_type": "text"
      },
      "source": [
        "Let's set all the values of scores that are greater than 5 to 0."
      ]
    },
    {
      "cell_type": "code",
      "metadata": {
        "id": "6c3dEI_tb4nt",
        "colab_type": "code",
        "colab": {},
        "outputId": "6291c4a9-ca17-40b2-abd8-aecfb064185d"
      },
      "source": [
        "s[s > 5] = 0"
      ],
      "execution_count": null,
      "outputs": [
        {
          "output_type": "stream",
          "text": [
            "/Users/Ted/anaconda3/lib/python3.6/site-packages/ipykernel_launcher.py:1: SettingWithCopyWarning: \n",
            "A value is trying to be set on a copy of a slice from a DataFrame\n",
            "\n",
            "See the caveats in the documentation: http://pandas.pydata.org/pandas-docs/stable/indexing.html#indexing-view-versus-copy\n",
            "  \"\"\"Entry point for launching an IPython kernel.\n"
          ],
          "name": "stderr"
        }
      ]
    },
    {
      "cell_type": "markdown",
      "metadata": {
        "id": "KpdoVjQqb4n3",
        "colab_type": "text"
      },
      "source": [
        "#### Why was the warning triggered here?\n",
        "This last assignment does not use chained indexing. But, the variable **`s`** was created from a subset selection of a DataFrame. So it's really not any different than doing the following:\n",
        "\n",
        "```Python\n",
        ">>> df['score'][df['score'] > 5] = 0\n",
        "```\n",
        "\n",
        "Pandas can't tell the difference between an assignment like this in a single line versus one on multiple lines. Pandas doesn't know if you want the original DataFrame modified or not. Let's take a look at both **`s`** and **`df`** to see what has happened."
      ]
    },
    {
      "cell_type": "code",
      "metadata": {
        "id": "fZ2alkeBb4n3",
        "colab_type": "code",
        "colab": {},
        "outputId": "d0028db1-91af-4482-ccd1-f33d142a9a7e"
      },
      "source": [
        "s"
      ],
      "execution_count": null,
      "outputs": [
        {
          "output_type": "execute_result",
          "data": {
            "text/plain": [
              "Jane         4.6\n",
              "Niko         0.0\n",
              "Aaron        0.0\n",
              "Penelope     3.3\n",
              "Dean         1.8\n",
              "Christina    0.0\n",
              "Cornelia     2.2\n",
              "Name: score, dtype: float64"
            ]
          },
          "metadata": {
            "tags": []
          },
          "execution_count": 48
        }
      ]
    },
    {
      "cell_type": "markdown",
      "metadata": {
        "id": "xoZNHrf_b4o3",
        "colab_type": "text"
      },
      "source": [
        "**`s`** was modified as expected. But, what about our original?"
      ]
    },
    {
      "cell_type": "code",
      "metadata": {
        "id": "slGxkkovb4o3",
        "colab_type": "code",
        "colab": {},
        "outputId": "09e6ddec-b6ea-4375-c3a9-4ae596280b03"
      },
      "source": [
        "df"
      ],
      "execution_count": null,
      "outputs": [
        {
          "output_type": "execute_result",
          "data": {
            "text/html": [
              "<div>\n",
              "<style scoped>\n",
              "    .dataframe tbody tr th:only-of-type {\n",
              "        vertical-align: middle;\n",
              "    }\n",
              "\n",
              "    .dataframe tbody tr th {\n",
              "        vertical-align: top;\n",
              "    }\n",
              "\n",
              "    .dataframe thead th {\n",
              "        text-align: right;\n",
              "    }\n",
              "</style>\n",
              "<table border=\"1\" class=\"dataframe\">\n",
              "  <thead>\n",
              "    <tr style=\"text-align: right;\">\n",
              "      <th></th>\n",
              "      <th>state</th>\n",
              "      <th>color</th>\n",
              "      <th>food</th>\n",
              "      <th>age</th>\n",
              "      <th>height</th>\n",
              "      <th>score</th>\n",
              "    </tr>\n",
              "  </thead>\n",
              "  <tbody>\n",
              "    <tr>\n",
              "      <th>Jane</th>\n",
              "      <td>NY</td>\n",
              "      <td>blue</td>\n",
              "      <td>Steak</td>\n",
              "      <td>30</td>\n",
              "      <td>165</td>\n",
              "      <td>4.6</td>\n",
              "    </tr>\n",
              "    <tr>\n",
              "      <th>Niko</th>\n",
              "      <td>TX</td>\n",
              "      <td>green</td>\n",
              "      <td>Lamb</td>\n",
              "      <td>2</td>\n",
              "      <td>70</td>\n",
              "      <td>0.0</td>\n",
              "    </tr>\n",
              "    <tr>\n",
              "      <th>Aaron</th>\n",
              "      <td>FL</td>\n",
              "      <td>red</td>\n",
              "      <td>Mango</td>\n",
              "      <td>12</td>\n",
              "      <td>120</td>\n",
              "      <td>0.0</td>\n",
              "    </tr>\n",
              "    <tr>\n",
              "      <th>Penelope</th>\n",
              "      <td>AL</td>\n",
              "      <td>white</td>\n",
              "      <td>Apple</td>\n",
              "      <td>4</td>\n",
              "      <td>80</td>\n",
              "      <td>3.3</td>\n",
              "    </tr>\n",
              "    <tr>\n",
              "      <th>Dean</th>\n",
              "      <td>AK</td>\n",
              "      <td>gray</td>\n",
              "      <td>Cheese</td>\n",
              "      <td>32</td>\n",
              "      <td>180</td>\n",
              "      <td>1.8</td>\n",
              "    </tr>\n",
              "    <tr>\n",
              "      <th>Christina</th>\n",
              "      <td>TX</td>\n",
              "      <td>black</td>\n",
              "      <td>Melon</td>\n",
              "      <td>33</td>\n",
              "      <td>172</td>\n",
              "      <td>0.0</td>\n",
              "    </tr>\n",
              "    <tr>\n",
              "      <th>Cornelia</th>\n",
              "      <td>TX</td>\n",
              "      <td>red</td>\n",
              "      <td>Beans</td>\n",
              "      <td>69</td>\n",
              "      <td>150</td>\n",
              "      <td>2.2</td>\n",
              "    </tr>\n",
              "  </tbody>\n",
              "</table>\n",
              "</div>"
            ],
            "text/plain": [
              "          state  color    food  age  height  score\n",
              "Jane         NY   blue   Steak   30     165    4.6\n",
              "Niko         TX  green    Lamb    2      70    0.0\n",
              "Aaron        FL    red   Mango   12     120    0.0\n",
              "Penelope     AL  white   Apple    4      80    3.3\n",
              "Dean         AK   gray  Cheese   32     180    1.8\n",
              "Christina    TX  black   Melon   33     172    0.0\n",
              "Cornelia     TX    red   Beans   69     150    2.2"
            ]
          },
          "metadata": {
            "tags": []
          },
          "execution_count": 49
        }
      ]
    },
    {
      "cell_type": "markdown",
      "metadata": {
        "id": "1Q9pONIDb4o5",
        "colab_type": "text"
      },
      "source": [
        "Our original DataFrame has been modified, which means that **`s`** is a view and not a copy.\n",
        "\n",
        "## Why is the warning message so useless?\n",
        "Let's take a look at what the warning says:\n",
        "\n",
        "> **A value is trying to be set on a copy of a slice from a DataFrame**\n",
        "\n",
        "I'm not sure what **copy of a slice** actually means but it isn't what we had in the previous example. **`s`** was a view of a column of a DataFrame and not a copy.\n",
        "\n",
        "## What the warning should really say\n",
        "A better message would look something like this:\n",
        "\n",
        "> **You are attempting to make an assignment on an object that is either a view or a copy of a DataFrame. This occurs whenever you make a subset selection from a DataFrame and then try to assign new values to this subset.**\n",
        "\n",
        "## Summary of when the SettingWithCopy warning is triggered\n",
        "In summary, whenever you make a subset selection and then modify the values in that subset selection, you will likely trigger the **`SettingWithCopy`** warning.\n",
        "\n",
        "It might help to see one more example of when the **`SettingWithCopy`** is triggered. \n",
        "\n",
        "Let's begin by selecting two columns from **`df`** into a new variable:"
      ]
    },
    {
      "cell_type": "code",
      "metadata": {
        "id": "dhv6-vcib4o5",
        "colab_type": "code",
        "colab": {},
        "outputId": "1fbf53a2-f9be-48ed-9184-115580adaa29"
      },
      "source": [
        "df1 = df[['color', 'age']]\n",
        "df1"
      ],
      "execution_count": null,
      "outputs": [
        {
          "output_type": "execute_result",
          "data": {
            "text/html": [
              "<div>\n",
              "<style scoped>\n",
              "    .dataframe tbody tr th:only-of-type {\n",
              "        vertical-align: middle;\n",
              "    }\n",
              "\n",
              "    .dataframe tbody tr th {\n",
              "        vertical-align: top;\n",
              "    }\n",
              "\n",
              "    .dataframe thead th {\n",
              "        text-align: right;\n",
              "    }\n",
              "</style>\n",
              "<table border=\"1\" class=\"dataframe\">\n",
              "  <thead>\n",
              "    <tr style=\"text-align: right;\">\n",
              "      <th></th>\n",
              "      <th>color</th>\n",
              "      <th>age</th>\n",
              "    </tr>\n",
              "  </thead>\n",
              "  <tbody>\n",
              "    <tr>\n",
              "      <th>Jane</th>\n",
              "      <td>blue</td>\n",
              "      <td>30</td>\n",
              "    </tr>\n",
              "    <tr>\n",
              "      <th>Niko</th>\n",
              "      <td>green</td>\n",
              "      <td>2</td>\n",
              "    </tr>\n",
              "    <tr>\n",
              "      <th>Aaron</th>\n",
              "      <td>red</td>\n",
              "      <td>12</td>\n",
              "    </tr>\n",
              "    <tr>\n",
              "      <th>Penelope</th>\n",
              "      <td>white</td>\n",
              "      <td>4</td>\n",
              "    </tr>\n",
              "    <tr>\n",
              "      <th>Dean</th>\n",
              "      <td>gray</td>\n",
              "      <td>32</td>\n",
              "    </tr>\n",
              "    <tr>\n",
              "      <th>Christina</th>\n",
              "      <td>black</td>\n",
              "      <td>33</td>\n",
              "    </tr>\n",
              "    <tr>\n",
              "      <th>Cornelia</th>\n",
              "      <td>red</td>\n",
              "      <td>69</td>\n",
              "    </tr>\n",
              "  </tbody>\n",
              "</table>\n",
              "</div>"
            ],
            "text/plain": [
              "           color  age\n",
              "Jane        blue   30\n",
              "Niko       green    2\n",
              "Aaron        red   12\n",
              "Penelope   white    4\n",
              "Dean        gray   32\n",
              "Christina  black   33\n",
              "Cornelia     red   69"
            ]
          },
          "metadata": {
            "tags": []
          },
          "execution_count": 50
        }
      ]
    },
    {
      "cell_type": "markdown",
      "metadata": {
        "id": "C3ggBTOkb4o6",
        "colab_type": "text"
      },
      "source": [
        "Let's display the **`age`** column from this new DataFrame:"
      ]
    },
    {
      "cell_type": "code",
      "metadata": {
        "id": "2auBSO4Nb4o6",
        "colab_type": "code",
        "colab": {},
        "outputId": "99bf1527-df6f-4a15-fcf8-bd0ea0dad69f"
      },
      "source": [
        "df1['age'] # no warning for outputing, there is no assignment here"
      ],
      "execution_count": null,
      "outputs": [
        {
          "output_type": "execute_result",
          "data": {
            "text/plain": [
              "Jane         30\n",
              "Niko          2\n",
              "Aaron        12\n",
              "Penelope      4\n",
              "Dean         32\n",
              "Christina    33\n",
              "Cornelia     69\n",
              "Name: age, dtype: int64"
            ]
          },
          "metadata": {
            "tags": []
          },
          "execution_count": 51
        }
      ]
    },
    {
      "cell_type": "markdown",
      "metadata": {
        "id": "zkbj3jvub4o8",
        "colab_type": "text"
      },
      "source": [
        "Let's add a new column **`weight`**:"
      ]
    },
    {
      "cell_type": "code",
      "metadata": {
        "id": "YH95A3JGb4o9",
        "colab_type": "code",
        "colab": {},
        "outputId": "5b052e0c-ddcc-4b14-c795-1785a9ab9b90"
      },
      "source": [
        "df1['weight'] = [150, 30, 120, 40, 200, 130, 144]"
      ],
      "execution_count": null,
      "outputs": [
        {
          "output_type": "stream",
          "text": [
            "/Users/Ted/anaconda3/lib/python3.6/site-packages/ipykernel_launcher.py:1: SettingWithCopyWarning: \n",
            "A value is trying to be set on a copy of a slice from a DataFrame.\n",
            "Try using .loc[row_indexer,col_indexer] = value instead\n",
            "\n",
            "See the caveats in the documentation: http://pandas.pydata.org/pandas-docs/stable/indexing.html#indexing-view-versus-copy\n",
            "  \"\"\"Entry point for launching an IPython kernel.\n"
          ],
          "name": "stderr"
        }
      ]
    },
    {
      "cell_type": "markdown",
      "metadata": {
        "id": "JJRMpImEb4o-",
        "colab_type": "text"
      },
      "source": [
        "We triggered the warning because **`df1`** is a subset selection from **`df`** and we subsequently modified it by adding a new column."
      ]
    },
    {
      "cell_type": "code",
      "metadata": {
        "id": "BDThwXAlb4pA",
        "colab_type": "code",
        "colab": {},
        "outputId": "88e3a360-9dc6-405c-a855-d4d7fbac9393"
      },
      "source": [
        "df1"
      ],
      "execution_count": null,
      "outputs": [
        {
          "output_type": "execute_result",
          "data": {
            "text/html": [
              "<div>\n",
              "<style scoped>\n",
              "    .dataframe tbody tr th:only-of-type {\n",
              "        vertical-align: middle;\n",
              "    }\n",
              "\n",
              "    .dataframe tbody tr th {\n",
              "        vertical-align: top;\n",
              "    }\n",
              "\n",
              "    .dataframe thead th {\n",
              "        text-align: right;\n",
              "    }\n",
              "</style>\n",
              "<table border=\"1\" class=\"dataframe\">\n",
              "  <thead>\n",
              "    <tr style=\"text-align: right;\">\n",
              "      <th></th>\n",
              "      <th>color</th>\n",
              "      <th>age</th>\n",
              "      <th>weight</th>\n",
              "    </tr>\n",
              "  </thead>\n",
              "  <tbody>\n",
              "    <tr>\n",
              "      <th>Jane</th>\n",
              "      <td>blue</td>\n",
              "      <td>30</td>\n",
              "      <td>150</td>\n",
              "    </tr>\n",
              "    <tr>\n",
              "      <th>Niko</th>\n",
              "      <td>green</td>\n",
              "      <td>2</td>\n",
              "      <td>30</td>\n",
              "    </tr>\n",
              "    <tr>\n",
              "      <th>Aaron</th>\n",
              "      <td>red</td>\n",
              "      <td>12</td>\n",
              "      <td>120</td>\n",
              "    </tr>\n",
              "    <tr>\n",
              "      <th>Penelope</th>\n",
              "      <td>white</td>\n",
              "      <td>4</td>\n",
              "      <td>40</td>\n",
              "    </tr>\n",
              "    <tr>\n",
              "      <th>Dean</th>\n",
              "      <td>gray</td>\n",
              "      <td>32</td>\n",
              "      <td>200</td>\n",
              "    </tr>\n",
              "    <tr>\n",
              "      <th>Christina</th>\n",
              "      <td>black</td>\n",
              "      <td>33</td>\n",
              "      <td>130</td>\n",
              "    </tr>\n",
              "    <tr>\n",
              "      <th>Cornelia</th>\n",
              "      <td>red</td>\n",
              "      <td>69</td>\n",
              "      <td>144</td>\n",
              "    </tr>\n",
              "  </tbody>\n",
              "</table>\n",
              "</div>"
            ],
            "text/plain": [
              "           color  age  weight\n",
              "Jane        blue   30     150\n",
              "Niko       green    2      30\n",
              "Aaron        red   12     120\n",
              "Penelope   white    4      40\n",
              "Dean        gray   32     200\n",
              "Christina  black   33     130\n",
              "Cornelia     red   69     144"
            ]
          },
          "metadata": {
            "tags": []
          },
          "execution_count": 53
        }
      ]
    },
    {
      "cell_type": "markdown",
      "metadata": {
        "id": "LrtQCprCb4qT",
        "colab_type": "text"
      },
      "source": [
        "The original is left unchanged."
      ]
    },
    {
      "cell_type": "code",
      "metadata": {
        "id": "RJ3dtuR7b4qV",
        "colab_type": "code",
        "colab": {},
        "outputId": "633d7882-69e2-4f92-a1f6-7d50e414284d"
      },
      "source": [
        "df"
      ],
      "execution_count": null,
      "outputs": [
        {
          "output_type": "execute_result",
          "data": {
            "text/html": [
              "<div>\n",
              "<style scoped>\n",
              "    .dataframe tbody tr th:only-of-type {\n",
              "        vertical-align: middle;\n",
              "    }\n",
              "\n",
              "    .dataframe tbody tr th {\n",
              "        vertical-align: top;\n",
              "    }\n",
              "\n",
              "    .dataframe thead th {\n",
              "        text-align: right;\n",
              "    }\n",
              "</style>\n",
              "<table border=\"1\" class=\"dataframe\">\n",
              "  <thead>\n",
              "    <tr style=\"text-align: right;\">\n",
              "      <th></th>\n",
              "      <th>state</th>\n",
              "      <th>color</th>\n",
              "      <th>food</th>\n",
              "      <th>age</th>\n",
              "      <th>height</th>\n",
              "      <th>score</th>\n",
              "    </tr>\n",
              "  </thead>\n",
              "  <tbody>\n",
              "    <tr>\n",
              "      <th>Jane</th>\n",
              "      <td>NY</td>\n",
              "      <td>blue</td>\n",
              "      <td>Steak</td>\n",
              "      <td>30</td>\n",
              "      <td>165</td>\n",
              "      <td>4.6</td>\n",
              "    </tr>\n",
              "    <tr>\n",
              "      <th>Niko</th>\n",
              "      <td>TX</td>\n",
              "      <td>green</td>\n",
              "      <td>Lamb</td>\n",
              "      <td>2</td>\n",
              "      <td>70</td>\n",
              "      <td>0.0</td>\n",
              "    </tr>\n",
              "    <tr>\n",
              "      <th>Aaron</th>\n",
              "      <td>FL</td>\n",
              "      <td>red</td>\n",
              "      <td>Mango</td>\n",
              "      <td>12</td>\n",
              "      <td>120</td>\n",
              "      <td>0.0</td>\n",
              "    </tr>\n",
              "    <tr>\n",
              "      <th>Penelope</th>\n",
              "      <td>AL</td>\n",
              "      <td>white</td>\n",
              "      <td>Apple</td>\n",
              "      <td>4</td>\n",
              "      <td>80</td>\n",
              "      <td>3.3</td>\n",
              "    </tr>\n",
              "    <tr>\n",
              "      <th>Dean</th>\n",
              "      <td>AK</td>\n",
              "      <td>gray</td>\n",
              "      <td>Cheese</td>\n",
              "      <td>32</td>\n",
              "      <td>180</td>\n",
              "      <td>1.8</td>\n",
              "    </tr>\n",
              "    <tr>\n",
              "      <th>Christina</th>\n",
              "      <td>TX</td>\n",
              "      <td>black</td>\n",
              "      <td>Melon</td>\n",
              "      <td>33</td>\n",
              "      <td>172</td>\n",
              "      <td>0.0</td>\n",
              "    </tr>\n",
              "    <tr>\n",
              "      <th>Cornelia</th>\n",
              "      <td>TX</td>\n",
              "      <td>red</td>\n",
              "      <td>Beans</td>\n",
              "      <td>69</td>\n",
              "      <td>150</td>\n",
              "      <td>2.2</td>\n",
              "    </tr>\n",
              "  </tbody>\n",
              "</table>\n",
              "</div>"
            ],
            "text/plain": [
              "          state  color    food  age  height  score\n",
              "Jane         NY   blue   Steak   30     165    4.6\n",
              "Niko         TX  green    Lamb    2      70    0.0\n",
              "Aaron        FL    red   Mango   12     120    0.0\n",
              "Penelope     AL  white   Apple    4      80    3.3\n",
              "Dean         AK   gray  Cheese   32     180    1.8\n",
              "Christina    TX  black   Melon   33     172    0.0\n",
              "Cornelia     TX    red   Beans   69     150    2.2"
            ]
          },
          "metadata": {
            "tags": []
          },
          "execution_count": 54
        }
      ]
    },
    {
      "cell_type": "markdown",
      "metadata": {
        "id": "VXqWYHx9b4qW",
        "colab_type": "text"
      },
      "source": [
        "Let's continue and change all the ages to 99, which will again trigger the warning."
      ]
    },
    {
      "cell_type": "code",
      "metadata": {
        "id": "TvDMtxJlb4qX",
        "colab_type": "code",
        "colab": {},
        "outputId": "282f5f6b-df76-4654-ca98-24969716f5f4"
      },
      "source": [
        "df1['age'] = 99"
      ],
      "execution_count": null,
      "outputs": [
        {
          "output_type": "stream",
          "text": [
            "/Users/Ted/anaconda3/lib/python3.6/site-packages/ipykernel_launcher.py:1: SettingWithCopyWarning: \n",
            "A value is trying to be set on a copy of a slice from a DataFrame.\n",
            "Try using .loc[row_indexer,col_indexer] = value instead\n",
            "\n",
            "See the caveats in the documentation: http://pandas.pydata.org/pandas-docs/stable/indexing.html#indexing-view-versus-copy\n",
            "  \"\"\"Entry point for launching an IPython kernel.\n"
          ],
          "name": "stderr"
        }
      ]
    },
    {
      "cell_type": "code",
      "metadata": {
        "id": "RyzcaT-Ib4qZ",
        "colab_type": "code",
        "colab": {},
        "outputId": "5f91012f-5ed6-4df0-c20a-e2873e72401d"
      },
      "source": [
        "df1"
      ],
      "execution_count": null,
      "outputs": [
        {
          "output_type": "execute_result",
          "data": {
            "text/html": [
              "<div>\n",
              "<style scoped>\n",
              "    .dataframe tbody tr th:only-of-type {\n",
              "        vertical-align: middle;\n",
              "    }\n",
              "\n",
              "    .dataframe tbody tr th {\n",
              "        vertical-align: top;\n",
              "    }\n",
              "\n",
              "    .dataframe thead th {\n",
              "        text-align: right;\n",
              "    }\n",
              "</style>\n",
              "<table border=\"1\" class=\"dataframe\">\n",
              "  <thead>\n",
              "    <tr style=\"text-align: right;\">\n",
              "      <th></th>\n",
              "      <th>color</th>\n",
              "      <th>age</th>\n",
              "      <th>weight</th>\n",
              "    </tr>\n",
              "  </thead>\n",
              "  <tbody>\n",
              "    <tr>\n",
              "      <th>Jane</th>\n",
              "      <td>blue</td>\n",
              "      <td>99</td>\n",
              "      <td>150</td>\n",
              "    </tr>\n",
              "    <tr>\n",
              "      <th>Niko</th>\n",
              "      <td>green</td>\n",
              "      <td>99</td>\n",
              "      <td>30</td>\n",
              "    </tr>\n",
              "    <tr>\n",
              "      <th>Aaron</th>\n",
              "      <td>red</td>\n",
              "      <td>99</td>\n",
              "      <td>120</td>\n",
              "    </tr>\n",
              "    <tr>\n",
              "      <th>Penelope</th>\n",
              "      <td>white</td>\n",
              "      <td>99</td>\n",
              "      <td>40</td>\n",
              "    </tr>\n",
              "    <tr>\n",
              "      <th>Dean</th>\n",
              "      <td>gray</td>\n",
              "      <td>99</td>\n",
              "      <td>200</td>\n",
              "    </tr>\n",
              "    <tr>\n",
              "      <th>Christina</th>\n",
              "      <td>black</td>\n",
              "      <td>99</td>\n",
              "      <td>130</td>\n",
              "    </tr>\n",
              "    <tr>\n",
              "      <th>Cornelia</th>\n",
              "      <td>red</td>\n",
              "      <td>99</td>\n",
              "      <td>144</td>\n",
              "    </tr>\n",
              "  </tbody>\n",
              "</table>\n",
              "</div>"
            ],
            "text/plain": [
              "           color  age  weight\n",
              "Jane        blue   99     150\n",
              "Niko       green   99      30\n",
              "Aaron        red   99     120\n",
              "Penelope   white   99      40\n",
              "Dean        gray   99     200\n",
              "Christina  black   99     130\n",
              "Cornelia     red   99     144"
            ]
          },
          "metadata": {
            "tags": []
          },
          "execution_count": 56
        }
      ]
    },
    {
      "cell_type": "markdown",
      "metadata": {
        "id": "n2kepwtpb4qc",
        "colab_type": "text"
      },
      "source": [
        "The original is also left unchanged:"
      ]
    },
    {
      "cell_type": "code",
      "metadata": {
        "id": "uQV6XM7pb4qc",
        "colab_type": "code",
        "colab": {},
        "outputId": "83132a93-d322-472e-accd-ccda46d30f43"
      },
      "source": [
        "df"
      ],
      "execution_count": null,
      "outputs": [
        {
          "output_type": "execute_result",
          "data": {
            "text/html": [
              "<div>\n",
              "<style scoped>\n",
              "    .dataframe tbody tr th:only-of-type {\n",
              "        vertical-align: middle;\n",
              "    }\n",
              "\n",
              "    .dataframe tbody tr th {\n",
              "        vertical-align: top;\n",
              "    }\n",
              "\n",
              "    .dataframe thead th {\n",
              "        text-align: right;\n",
              "    }\n",
              "</style>\n",
              "<table border=\"1\" class=\"dataframe\">\n",
              "  <thead>\n",
              "    <tr style=\"text-align: right;\">\n",
              "      <th></th>\n",
              "      <th>state</th>\n",
              "      <th>color</th>\n",
              "      <th>food</th>\n",
              "      <th>age</th>\n",
              "      <th>height</th>\n",
              "      <th>score</th>\n",
              "    </tr>\n",
              "  </thead>\n",
              "  <tbody>\n",
              "    <tr>\n",
              "      <th>Jane</th>\n",
              "      <td>NY</td>\n",
              "      <td>blue</td>\n",
              "      <td>Steak</td>\n",
              "      <td>30</td>\n",
              "      <td>165</td>\n",
              "      <td>4.6</td>\n",
              "    </tr>\n",
              "    <tr>\n",
              "      <th>Niko</th>\n",
              "      <td>TX</td>\n",
              "      <td>green</td>\n",
              "      <td>Lamb</td>\n",
              "      <td>2</td>\n",
              "      <td>70</td>\n",
              "      <td>0.0</td>\n",
              "    </tr>\n",
              "    <tr>\n",
              "      <th>Aaron</th>\n",
              "      <td>FL</td>\n",
              "      <td>red</td>\n",
              "      <td>Mango</td>\n",
              "      <td>12</td>\n",
              "      <td>120</td>\n",
              "      <td>0.0</td>\n",
              "    </tr>\n",
              "    <tr>\n",
              "      <th>Penelope</th>\n",
              "      <td>AL</td>\n",
              "      <td>white</td>\n",
              "      <td>Apple</td>\n",
              "      <td>4</td>\n",
              "      <td>80</td>\n",
              "      <td>3.3</td>\n",
              "    </tr>\n",
              "    <tr>\n",
              "      <th>Dean</th>\n",
              "      <td>AK</td>\n",
              "      <td>gray</td>\n",
              "      <td>Cheese</td>\n",
              "      <td>32</td>\n",
              "      <td>180</td>\n",
              "      <td>1.8</td>\n",
              "    </tr>\n",
              "    <tr>\n",
              "      <th>Christina</th>\n",
              "      <td>TX</td>\n",
              "      <td>black</td>\n",
              "      <td>Melon</td>\n",
              "      <td>33</td>\n",
              "      <td>172</td>\n",
              "      <td>0.0</td>\n",
              "    </tr>\n",
              "    <tr>\n",
              "      <th>Cornelia</th>\n",
              "      <td>TX</td>\n",
              "      <td>red</td>\n",
              "      <td>Beans</td>\n",
              "      <td>69</td>\n",
              "      <td>150</td>\n",
              "      <td>2.2</td>\n",
              "    </tr>\n",
              "  </tbody>\n",
              "</table>\n",
              "</div>"
            ],
            "text/plain": [
              "          state  color    food  age  height  score\n",
              "Jane         NY   blue   Steak   30     165    4.6\n",
              "Niko         TX  green    Lamb    2      70    0.0\n",
              "Aaron        FL    red   Mango   12     120    0.0\n",
              "Penelope     AL  white   Apple    4      80    3.3\n",
              "Dean         AK   gray  Cheese   32     180    1.8\n",
              "Christina    TX  black   Melon   33     172    0.0\n",
              "Cornelia     TX    red   Beans   69     150    2.2"
            ]
          },
          "metadata": {
            "tags": []
          },
          "execution_count": 57
        }
      ]
    },
    {
      "cell_type": "markdown",
      "metadata": {
        "id": "JGvUWDQab4qe",
        "colab_type": "text"
      },
      "source": [
        "## How does pandas know to even to trigger the warning?\n",
        "In the above example, we created **`df1`**, which when modifying the **`age`** column, triggered the warning. How did pandas know to do this? \n",
        "\n",
        "**`df1`** was created by **`df[['color', 'age']]`**. During this selection, pandas alters the **`is_copy`** or **`_is_view`** attributes.\n",
        "\n",
        "If we call **`is_copy`** like a method then we will get the object it was copied from if it is a copy or **`None`** will be returned. Let's see its value for **`df1`**:"
      ]
    },
    {
      "cell_type": "code",
      "metadata": {
        "id": "mxsHlQ4mb4qe",
        "colab_type": "code",
        "colab": {},
        "outputId": "39698e5c-c538-4ad0-fd69-fb8f91c58fbc"
      },
      "source": [
        "df1.is_copy()"
      ],
      "execution_count": null,
      "outputs": [
        {
          "output_type": "execute_result",
          "data": {
            "text/html": [
              "<div>\n",
              "<style scoped>\n",
              "    .dataframe tbody tr th:only-of-type {\n",
              "        vertical-align: middle;\n",
              "    }\n",
              "\n",
              "    .dataframe tbody tr th {\n",
              "        vertical-align: top;\n",
              "    }\n",
              "\n",
              "    .dataframe thead th {\n",
              "        text-align: right;\n",
              "    }\n",
              "</style>\n",
              "<table border=\"1\" class=\"dataframe\">\n",
              "  <thead>\n",
              "    <tr style=\"text-align: right;\">\n",
              "      <th></th>\n",
              "      <th>state</th>\n",
              "      <th>color</th>\n",
              "      <th>food</th>\n",
              "      <th>age</th>\n",
              "      <th>height</th>\n",
              "      <th>score</th>\n",
              "    </tr>\n",
              "  </thead>\n",
              "  <tbody>\n",
              "    <tr>\n",
              "      <th>Jane</th>\n",
              "      <td>NY</td>\n",
              "      <td>blue</td>\n",
              "      <td>Steak</td>\n",
              "      <td>30</td>\n",
              "      <td>165</td>\n",
              "      <td>4.6</td>\n",
              "    </tr>\n",
              "    <tr>\n",
              "      <th>Niko</th>\n",
              "      <td>TX</td>\n",
              "      <td>green</td>\n",
              "      <td>Lamb</td>\n",
              "      <td>2</td>\n",
              "      <td>70</td>\n",
              "      <td>0.0</td>\n",
              "    </tr>\n",
              "    <tr>\n",
              "      <th>Aaron</th>\n",
              "      <td>FL</td>\n",
              "      <td>red</td>\n",
              "      <td>Mango</td>\n",
              "      <td>12</td>\n",
              "      <td>120</td>\n",
              "      <td>0.0</td>\n",
              "    </tr>\n",
              "    <tr>\n",
              "      <th>Penelope</th>\n",
              "      <td>AL</td>\n",
              "      <td>white</td>\n",
              "      <td>Apple</td>\n",
              "      <td>4</td>\n",
              "      <td>80</td>\n",
              "      <td>3.3</td>\n",
              "    </tr>\n",
              "    <tr>\n",
              "      <th>Dean</th>\n",
              "      <td>AK</td>\n",
              "      <td>gray</td>\n",
              "      <td>Cheese</td>\n",
              "      <td>32</td>\n",
              "      <td>180</td>\n",
              "      <td>1.8</td>\n",
              "    </tr>\n",
              "    <tr>\n",
              "      <th>Christina</th>\n",
              "      <td>TX</td>\n",
              "      <td>black</td>\n",
              "      <td>Melon</td>\n",
              "      <td>33</td>\n",
              "      <td>172</td>\n",
              "      <td>0.0</td>\n",
              "    </tr>\n",
              "    <tr>\n",
              "      <th>Cornelia</th>\n",
              "      <td>TX</td>\n",
              "      <td>red</td>\n",
              "      <td>Beans</td>\n",
              "      <td>69</td>\n",
              "      <td>150</td>\n",
              "      <td>2.2</td>\n",
              "    </tr>\n",
              "  </tbody>\n",
              "</table>\n",
              "</div>"
            ],
            "text/plain": [
              "          state  color    food  age  height  score\n",
              "Jane         NY   blue   Steak   30     165    4.6\n",
              "Niko         TX  green    Lamb    2      70    0.0\n",
              "Aaron        FL    red   Mango   12     120    0.0\n",
              "Penelope     AL  white   Apple    4      80    3.3\n",
              "Dean         AK   gray  Cheese   32     180    1.8\n",
              "Christina    TX  black   Melon   33     172    0.0\n",
              "Cornelia     TX    red   Beans   69     150    2.2"
            ]
          },
          "metadata": {
            "tags": []
          },
          "execution_count": 58
        }
      ]
    },
    {
      "cell_type": "markdown",
      "metadata": {
        "id": "Z9XLDBkxb4r8",
        "colab_type": "text"
      },
      "source": [
        "The private attribute **`_is_view`** is a boolean:"
      ]
    },
    {
      "cell_type": "code",
      "metadata": {
        "id": "Hky5lt7Nb4r9",
        "colab_type": "code",
        "colab": {},
        "outputId": "8a6a05a2-03ab-4171-d16b-897c4a41f5ff"
      },
      "source": [
        "df1._is_view"
      ],
      "execution_count": null,
      "outputs": [
        {
          "output_type": "execute_result",
          "data": {
            "text/plain": [
              "False"
            ]
          },
          "metadata": {
            "tags": []
          },
          "execution_count": 59
        }
      ]
    },
    {
      "cell_type": "markdown",
      "metadata": {
        "id": "9cjmLF3Kb4sM",
        "colab_type": "text"
      },
      "source": [
        "Let's check these same attributes for **`df`**. Since **`df`** was read in directly from a csv it should not be a copy or a view."
      ]
    },
    {
      "cell_type": "code",
      "metadata": {
        "id": "FRnvB1ykb4sM",
        "colab_type": "code",
        "colab": {},
        "outputId": "91ab7060-219c-4ac4-a50a-fa1841e121fc"
      },
      "source": [
        "df.is_copy is None"
      ],
      "execution_count": null,
      "outputs": [
        {
          "output_type": "execute_result",
          "data": {
            "text/plain": [
              "True"
            ]
          },
          "metadata": {
            "tags": []
          },
          "execution_count": 60
        }
      ]
    },
    {
      "cell_type": "code",
      "metadata": {
        "id": "pTQcpIUUb4sR",
        "colab_type": "code",
        "colab": {},
        "outputId": "7cb3fa89-af85-4704-ce57-c2e63b446edc"
      },
      "source": [
        "df._is_view"
      ],
      "execution_count": null,
      "outputs": [
        {
          "output_type": "execute_result",
          "data": {
            "text/plain": [
              "False"
            ]
          },
          "metadata": {
            "tags": []
          },
          "execution_count": 61
        }
      ]
    },
    {
      "cell_type": "markdown",
      "metadata": {
        "id": "V1aFv80qb4sp",
        "colab_type": "text"
      },
      "source": [
        "Let's find out if a single column as a Series is a view or a copy."
      ]
    },
    {
      "cell_type": "code",
      "metadata": {
        "id": "puHiKasib4sp",
        "colab_type": "code",
        "colab": {},
        "outputId": "1dfcb82d-e0b8-4a79-a9c3-bd98cd72321f"
      },
      "source": [
        "food = df['food']\n",
        "food.is_copy is None # not a copy"
      ],
      "execution_count": null,
      "outputs": [
        {
          "output_type": "execute_result",
          "data": {
            "text/plain": [
              "True"
            ]
          },
          "metadata": {
            "tags": []
          },
          "execution_count": 62
        }
      ]
    },
    {
      "cell_type": "code",
      "metadata": {
        "id": "evQPeFCPb4sw",
        "colab_type": "code",
        "colab": {},
        "outputId": "c66bb7e5-b974-4a0c-d911-72635995aedd"
      },
      "source": [
        "food._is_view"
      ],
      "execution_count": null,
      "outputs": [
        {
          "output_type": "execute_result",
          "data": {
            "text/plain": [
              "True"
            ]
          },
          "metadata": {
            "tags": []
          },
          "execution_count": 63
        }
      ]
    },
    {
      "cell_type": "markdown",
      "metadata": {
        "id": "LWTG_gsqb4sy",
        "colab_type": "text"
      },
      "source": [
        "Selecting a single column returns a view and not a copy"
      ]
    },
    {
      "cell_type": "markdown",
      "metadata": {
        "id": "bYVjYm5Xb4sy",
        "colab_type": "text"
      },
      "source": [
        "## False Negatives with SettingWithCopy with .loc and .iloc\n",
        "Unfortunately, when using chained indexing where **`.loc`** and **`.iloc`** are used as the first indexer, the warning will not get triggered reliably. Let's take a look at an example where no warning is triggered and no change is made to the data.\n",
        "\n",
        "Let's change the ages of **`Niko`** and **`Dean`** to 99."
      ]
    },
    {
      "cell_type": "code",
      "metadata": {
        "collapsed": true,
        "id": "5HGLJk3xb4sy",
        "colab_type": "code",
        "colab": {}
      },
      "source": [
        "df = pd.read_csv('../../data/sample_data.csv', index_col=0)"
      ],
      "execution_count": null,
      "outputs": []
    },
    {
      "cell_type": "code",
      "metadata": {
        "id": "Le4UELAob4s3",
        "colab_type": "code",
        "colab": {},
        "outputId": "24314493-c8d3-4e87-d5be-be2dc96f1a87"
      },
      "source": [
        "df.loc[['Niko','Dean']]['age'] = 99\n",
        "df"
      ],
      "execution_count": null,
      "outputs": [
        {
          "output_type": "execute_result",
          "data": {
            "text/html": [
              "<div>\n",
              "<style scoped>\n",
              "    .dataframe tbody tr th:only-of-type {\n",
              "        vertical-align: middle;\n",
              "    }\n",
              "\n",
              "    .dataframe tbody tr th {\n",
              "        vertical-align: top;\n",
              "    }\n",
              "\n",
              "    .dataframe thead th {\n",
              "        text-align: right;\n",
              "    }\n",
              "</style>\n",
              "<table border=\"1\" class=\"dataframe\">\n",
              "  <thead>\n",
              "    <tr style=\"text-align: right;\">\n",
              "      <th></th>\n",
              "      <th>state</th>\n",
              "      <th>color</th>\n",
              "      <th>food</th>\n",
              "      <th>age</th>\n",
              "      <th>height</th>\n",
              "      <th>score</th>\n",
              "    </tr>\n",
              "  </thead>\n",
              "  <tbody>\n",
              "    <tr>\n",
              "      <th>Jane</th>\n",
              "      <td>NY</td>\n",
              "      <td>blue</td>\n",
              "      <td>Steak</td>\n",
              "      <td>30</td>\n",
              "      <td>165</td>\n",
              "      <td>4.6</td>\n",
              "    </tr>\n",
              "    <tr>\n",
              "      <th>Niko</th>\n",
              "      <td>TX</td>\n",
              "      <td>green</td>\n",
              "      <td>Lamb</td>\n",
              "      <td>2</td>\n",
              "      <td>70</td>\n",
              "      <td>8.3</td>\n",
              "    </tr>\n",
              "    <tr>\n",
              "      <th>Aaron</th>\n",
              "      <td>FL</td>\n",
              "      <td>red</td>\n",
              "      <td>Mango</td>\n",
              "      <td>12</td>\n",
              "      <td>120</td>\n",
              "      <td>9.0</td>\n",
              "    </tr>\n",
              "    <tr>\n",
              "      <th>Penelope</th>\n",
              "      <td>AL</td>\n",
              "      <td>white</td>\n",
              "      <td>Apple</td>\n",
              "      <td>4</td>\n",
              "      <td>80</td>\n",
              "      <td>3.3</td>\n",
              "    </tr>\n",
              "    <tr>\n",
              "      <th>Dean</th>\n",
              "      <td>AK</td>\n",
              "      <td>gray</td>\n",
              "      <td>Cheese</td>\n",
              "      <td>32</td>\n",
              "      <td>180</td>\n",
              "      <td>1.8</td>\n",
              "    </tr>\n",
              "    <tr>\n",
              "      <th>Christina</th>\n",
              "      <td>TX</td>\n",
              "      <td>black</td>\n",
              "      <td>Melon</td>\n",
              "      <td>33</td>\n",
              "      <td>172</td>\n",
              "      <td>9.5</td>\n",
              "    </tr>\n",
              "    <tr>\n",
              "      <th>Cornelia</th>\n",
              "      <td>TX</td>\n",
              "      <td>red</td>\n",
              "      <td>Beans</td>\n",
              "      <td>69</td>\n",
              "      <td>150</td>\n",
              "      <td>2.2</td>\n",
              "    </tr>\n",
              "  </tbody>\n",
              "</table>\n",
              "</div>"
            ],
            "text/plain": [
              "          state  color    food  age  height  score\n",
              "Jane         NY   blue   Steak   30     165    4.6\n",
              "Niko         TX  green    Lamb    2      70    8.3\n",
              "Aaron        FL    red   Mango   12     120    9.0\n",
              "Penelope     AL  white   Apple    4      80    3.3\n",
              "Dean         AK   gray  Cheese   32     180    1.8\n",
              "Christina    TX  black   Melon   33     172    9.5\n",
              "Cornelia     TX    red   Beans   69     150    2.2"
            ]
          },
          "metadata": {
            "tags": []
          },
          "execution_count": 65
        }
      ]
    },
    {
      "cell_type": "markdown",
      "metadata": {
        "id": "jvGJOnK9b4tJ",
        "colab_type": "text"
      },
      "source": [
        "Let's make a slight change and use slice notation to select all the names from **Niko** through **Dean** instead."
      ]
    },
    {
      "cell_type": "code",
      "metadata": {
        "id": "zAUQxbEWb4tK",
        "colab_type": "code",
        "colab": {},
        "outputId": "8659f426-d1b1-4c61-8094-c221f0966a30"
      },
      "source": [
        "df.loc['Niko':'Dean']['age'] = 99\n",
        "df"
      ],
      "execution_count": null,
      "outputs": [
        {
          "output_type": "stream",
          "text": [
            "/Users/Ted/anaconda3/lib/python3.6/site-packages/ipykernel_launcher.py:1: SettingWithCopyWarning: \n",
            "A value is trying to be set on a copy of a slice from a DataFrame.\n",
            "Try using .loc[row_indexer,col_indexer] = value instead\n",
            "\n",
            "See the caveats in the documentation: http://pandas.pydata.org/pandas-docs/stable/indexing.html#indexing-view-versus-copy\n",
            "  \"\"\"Entry point for launching an IPython kernel.\n"
          ],
          "name": "stderr"
        },
        {
          "output_type": "execute_result",
          "data": {
            "text/html": [
              "<div>\n",
              "<style scoped>\n",
              "    .dataframe tbody tr th:only-of-type {\n",
              "        vertical-align: middle;\n",
              "    }\n",
              "\n",
              "    .dataframe tbody tr th {\n",
              "        vertical-align: top;\n",
              "    }\n",
              "\n",
              "    .dataframe thead th {\n",
              "        text-align: right;\n",
              "    }\n",
              "</style>\n",
              "<table border=\"1\" class=\"dataframe\">\n",
              "  <thead>\n",
              "    <tr style=\"text-align: right;\">\n",
              "      <th></th>\n",
              "      <th>state</th>\n",
              "      <th>color</th>\n",
              "      <th>food</th>\n",
              "      <th>age</th>\n",
              "      <th>height</th>\n",
              "      <th>score</th>\n",
              "    </tr>\n",
              "  </thead>\n",
              "  <tbody>\n",
              "    <tr>\n",
              "      <th>Jane</th>\n",
              "      <td>NY</td>\n",
              "      <td>blue</td>\n",
              "      <td>Steak</td>\n",
              "      <td>30</td>\n",
              "      <td>165</td>\n",
              "      <td>4.6</td>\n",
              "    </tr>\n",
              "    <tr>\n",
              "      <th>Niko</th>\n",
              "      <td>TX</td>\n",
              "      <td>green</td>\n",
              "      <td>Lamb</td>\n",
              "      <td>99</td>\n",
              "      <td>70</td>\n",
              "      <td>8.3</td>\n",
              "    </tr>\n",
              "    <tr>\n",
              "      <th>Aaron</th>\n",
              "      <td>FL</td>\n",
              "      <td>red</td>\n",
              "      <td>Mango</td>\n",
              "      <td>99</td>\n",
              "      <td>120</td>\n",
              "      <td>9.0</td>\n",
              "    </tr>\n",
              "    <tr>\n",
              "      <th>Penelope</th>\n",
              "      <td>AL</td>\n",
              "      <td>white</td>\n",
              "      <td>Apple</td>\n",
              "      <td>99</td>\n",
              "      <td>80</td>\n",
              "      <td>3.3</td>\n",
              "    </tr>\n",
              "    <tr>\n",
              "      <th>Dean</th>\n",
              "      <td>AK</td>\n",
              "      <td>gray</td>\n",
              "      <td>Cheese</td>\n",
              "      <td>99</td>\n",
              "      <td>180</td>\n",
              "      <td>1.8</td>\n",
              "    </tr>\n",
              "    <tr>\n",
              "      <th>Christina</th>\n",
              "      <td>TX</td>\n",
              "      <td>black</td>\n",
              "      <td>Melon</td>\n",
              "      <td>33</td>\n",
              "      <td>172</td>\n",
              "      <td>9.5</td>\n",
              "    </tr>\n",
              "    <tr>\n",
              "      <th>Cornelia</th>\n",
              "      <td>TX</td>\n",
              "      <td>red</td>\n",
              "      <td>Beans</td>\n",
              "      <td>69</td>\n",
              "      <td>150</td>\n",
              "      <td>2.2</td>\n",
              "    </tr>\n",
              "  </tbody>\n",
              "</table>\n",
              "</div>"
            ],
            "text/plain": [
              "          state  color    food  age  height  score\n",
              "Jane         NY   blue   Steak   30     165    4.6\n",
              "Niko         TX  green    Lamb   99      70    8.3\n",
              "Aaron        FL    red   Mango   99     120    9.0\n",
              "Penelope     AL  white   Apple   99      80    3.3\n",
              "Dean         AK   gray  Cheese   99     180    1.8\n",
              "Christina    TX  black   Melon   33     172    9.5\n",
              "Cornelia     TX    red   Beans   69     150    2.2"
            ]
          },
          "metadata": {
            "tags": []
          },
          "execution_count": 66
        }
      ]
    },
    {
      "cell_type": "markdown",
      "metadata": {
        "id": "HWLlS3CUb4tL",
        "colab_type": "text"
      },
      "source": [
        "## WTF????\n",
        "By changing from a list to a slice within **`.loc`**, the warning is triggered AND the DataFrame is modified. This is craziness.\n",
        "\n",
        "## Some good news\n",
        "None of the stuff that we have done for **`SettingWithCopy`** needs to be memorized. Even I don't know whether a subset selection will return a view or a copy. You don't have to worry about any of that it.\n",
        "\n",
        "## Two common scenarios\n",
        "You will almost always find yourself in one of two scenarios:\n",
        "\n",
        "1. You want to work with the entire DataFrame and modify a subset of it\n",
        "1. You want to work with a subset of your original DataFrame and modify that subset\n",
        "\n",
        "Scenario 1 is solved by using exactly one indexer to make the selection and assignment.\n",
        "\n",
        "Scenario 2 is solved by forcing a copy of your subset selection with the **`copy`** method. This will allow you to make changes to this new DataFrame without modifying the original.\n",
        "\n",
        "## Scenario 1 - Working with the entire DataFrame\n",
        "When you are doing an analysis on a single DataFrame and want to work only on this DataFrame in its entirety then you are in scenario 1.\n",
        "\n",
        "For instance, if we want to change the **`color`** of all the people who live in Texas to maroon, we would do this in a single call to the **`.loc`** indexer."
      ]
    },
    {
      "cell_type": "code",
      "metadata": {
        "id": "sjc-NsfYb4tL",
        "colab_type": "code",
        "colab": {},
        "outputId": "6719623c-f9f4-433c-f4a9-2c5bce31bc2b"
      },
      "source": [
        "df = pd.read_csv('../../data/sample_data.csv', index_col=0)\n",
        "\n",
        "df.loc[df['state'] == 'TX', 'color'] = 'maroon'\n",
        "df"
      ],
      "execution_count": null,
      "outputs": [
        {
          "output_type": "execute_result",
          "data": {
            "text/html": [
              "<div>\n",
              "<style scoped>\n",
              "    .dataframe tbody tr th:only-of-type {\n",
              "        vertical-align: middle;\n",
              "    }\n",
              "\n",
              "    .dataframe tbody tr th {\n",
              "        vertical-align: top;\n",
              "    }\n",
              "\n",
              "    .dataframe thead th {\n",
              "        text-align: right;\n",
              "    }\n",
              "</style>\n",
              "<table border=\"1\" class=\"dataframe\">\n",
              "  <thead>\n",
              "    <tr style=\"text-align: right;\">\n",
              "      <th></th>\n",
              "      <th>state</th>\n",
              "      <th>color</th>\n",
              "      <th>food</th>\n",
              "      <th>age</th>\n",
              "      <th>height</th>\n",
              "      <th>score</th>\n",
              "    </tr>\n",
              "  </thead>\n",
              "  <tbody>\n",
              "    <tr>\n",
              "      <th>Jane</th>\n",
              "      <td>NY</td>\n",
              "      <td>blue</td>\n",
              "      <td>Steak</td>\n",
              "      <td>30</td>\n",
              "      <td>165</td>\n",
              "      <td>4.6</td>\n",
              "    </tr>\n",
              "    <tr>\n",
              "      <th>Niko</th>\n",
              "      <td>TX</td>\n",
              "      <td>maroon</td>\n",
              "      <td>Lamb</td>\n",
              "      <td>2</td>\n",
              "      <td>70</td>\n",
              "      <td>8.3</td>\n",
              "    </tr>\n",
              "    <tr>\n",
              "      <th>Aaron</th>\n",
              "      <td>FL</td>\n",
              "      <td>red</td>\n",
              "      <td>Mango</td>\n",
              "      <td>12</td>\n",
              "      <td>120</td>\n",
              "      <td>9.0</td>\n",
              "    </tr>\n",
              "    <tr>\n",
              "      <th>Penelope</th>\n",
              "      <td>AL</td>\n",
              "      <td>white</td>\n",
              "      <td>Apple</td>\n",
              "      <td>4</td>\n",
              "      <td>80</td>\n",
              "      <td>3.3</td>\n",
              "    </tr>\n",
              "    <tr>\n",
              "      <th>Dean</th>\n",
              "      <td>AK</td>\n",
              "      <td>gray</td>\n",
              "      <td>Cheese</td>\n",
              "      <td>32</td>\n",
              "      <td>180</td>\n",
              "      <td>1.8</td>\n",
              "    </tr>\n",
              "    <tr>\n",
              "      <th>Christina</th>\n",
              "      <td>TX</td>\n",
              "      <td>maroon</td>\n",
              "      <td>Melon</td>\n",
              "      <td>33</td>\n",
              "      <td>172</td>\n",
              "      <td>9.5</td>\n",
              "    </tr>\n",
              "    <tr>\n",
              "      <th>Cornelia</th>\n",
              "      <td>TX</td>\n",
              "      <td>maroon</td>\n",
              "      <td>Beans</td>\n",
              "      <td>69</td>\n",
              "      <td>150</td>\n",
              "      <td>2.2</td>\n",
              "    </tr>\n",
              "  </tbody>\n",
              "</table>\n",
              "</div>"
            ],
            "text/plain": [
              "          state   color    food  age  height  score\n",
              "Jane         NY    blue   Steak   30     165    4.6\n",
              "Niko         TX  maroon    Lamb    2      70    8.3\n",
              "Aaron        FL     red   Mango   12     120    9.0\n",
              "Penelope     AL   white   Apple    4      80    3.3\n",
              "Dean         AK    gray  Cheese   32     180    1.8\n",
              "Christina    TX  maroon   Melon   33     172    9.5\n",
              "Cornelia     TX  maroon   Beans   69     150    2.2"
            ]
          },
          "metadata": {
            "tags": []
          },
          "execution_count": 67
        }
      ]
    },
    {
      "cell_type": "markdown",
      "metadata": {
        "id": "26oVae7mb4tW",
        "colab_type": "text"
      },
      "source": [
        "We add 5 to the score of **`Jane`**, **`Dean`**, and **`Cornelia`** like this:"
      ]
    },
    {
      "cell_type": "code",
      "metadata": {
        "id": "x1GvrSXsb4tW",
        "colab_type": "code",
        "colab": {},
        "outputId": "9a77898f-ca23-4a07-993f-647847020151"
      },
      "source": [
        "df.loc[['Jane', 'Dean', 'Cornelia'], 'score'] = df.loc[['Jane', 'Dean', 'Cornelia'], 'score'] + 5\n",
        "df"
      ],
      "execution_count": null,
      "outputs": [
        {
          "output_type": "execute_result",
          "data": {
            "text/html": [
              "<div>\n",
              "<style scoped>\n",
              "    .dataframe tbody tr th:only-of-type {\n",
              "        vertical-align: middle;\n",
              "    }\n",
              "\n",
              "    .dataframe tbody tr th {\n",
              "        vertical-align: top;\n",
              "    }\n",
              "\n",
              "    .dataframe thead th {\n",
              "        text-align: right;\n",
              "    }\n",
              "</style>\n",
              "<table border=\"1\" class=\"dataframe\">\n",
              "  <thead>\n",
              "    <tr style=\"text-align: right;\">\n",
              "      <th></th>\n",
              "      <th>state</th>\n",
              "      <th>color</th>\n",
              "      <th>food</th>\n",
              "      <th>age</th>\n",
              "      <th>height</th>\n",
              "      <th>score</th>\n",
              "    </tr>\n",
              "  </thead>\n",
              "  <tbody>\n",
              "    <tr>\n",
              "      <th>Jane</th>\n",
              "      <td>NY</td>\n",
              "      <td>blue</td>\n",
              "      <td>Steak</td>\n",
              "      <td>30</td>\n",
              "      <td>165</td>\n",
              "      <td>9.6</td>\n",
              "    </tr>\n",
              "    <tr>\n",
              "      <th>Niko</th>\n",
              "      <td>TX</td>\n",
              "      <td>maroon</td>\n",
              "      <td>Lamb</td>\n",
              "      <td>2</td>\n",
              "      <td>70</td>\n",
              "      <td>8.3</td>\n",
              "    </tr>\n",
              "    <tr>\n",
              "      <th>Aaron</th>\n",
              "      <td>FL</td>\n",
              "      <td>red</td>\n",
              "      <td>Mango</td>\n",
              "      <td>12</td>\n",
              "      <td>120</td>\n",
              "      <td>9.0</td>\n",
              "    </tr>\n",
              "    <tr>\n",
              "      <th>Penelope</th>\n",
              "      <td>AL</td>\n",
              "      <td>white</td>\n",
              "      <td>Apple</td>\n",
              "      <td>4</td>\n",
              "      <td>80</td>\n",
              "      <td>3.3</td>\n",
              "    </tr>\n",
              "    <tr>\n",
              "      <th>Dean</th>\n",
              "      <td>AK</td>\n",
              "      <td>gray</td>\n",
              "      <td>Cheese</td>\n",
              "      <td>32</td>\n",
              "      <td>180</td>\n",
              "      <td>6.8</td>\n",
              "    </tr>\n",
              "    <tr>\n",
              "      <th>Christina</th>\n",
              "      <td>TX</td>\n",
              "      <td>maroon</td>\n",
              "      <td>Melon</td>\n",
              "      <td>33</td>\n",
              "      <td>172</td>\n",
              "      <td>9.5</td>\n",
              "    </tr>\n",
              "    <tr>\n",
              "      <th>Cornelia</th>\n",
              "      <td>TX</td>\n",
              "      <td>maroon</td>\n",
              "      <td>Beans</td>\n",
              "      <td>69</td>\n",
              "      <td>150</td>\n",
              "      <td>7.2</td>\n",
              "    </tr>\n",
              "  </tbody>\n",
              "</table>\n",
              "</div>"
            ],
            "text/plain": [
              "          state   color    food  age  height  score\n",
              "Jane         NY    blue   Steak   30     165    9.6\n",
              "Niko         TX  maroon    Lamb    2      70    8.3\n",
              "Aaron        FL     red   Mango   12     120    9.0\n",
              "Penelope     AL   white   Apple    4      80    3.3\n",
              "Dean         AK    gray  Cheese   32     180    6.8\n",
              "Christina    TX  maroon   Melon   33     172    9.5\n",
              "Cornelia     TX  maroon   Beans   69     150    7.2"
            ]
          },
          "metadata": {
            "tags": []
          },
          "execution_count": 68
        }
      ]
    },
    {
      "cell_type": "markdown",
      "metadata": {
        "id": "fdD4fkGGb4tY",
        "colab_type": "text"
      },
      "source": [
        "We can change a single cell, such as the age of **`Aaron`** to 15:"
      ]
    },
    {
      "cell_type": "code",
      "metadata": {
        "id": "Hwf-GkPRb4tY",
        "colab_type": "code",
        "colab": {},
        "outputId": "cf2e5c08-de89-4071-c27f-342613acce90"
      },
      "source": [
        "df.loc['Aaron', 'age'] = 15\n",
        "df"
      ],
      "execution_count": null,
      "outputs": [
        {
          "output_type": "execute_result",
          "data": {
            "text/html": [
              "<div>\n",
              "<style scoped>\n",
              "    .dataframe tbody tr th:only-of-type {\n",
              "        vertical-align: middle;\n",
              "    }\n",
              "\n",
              "    .dataframe tbody tr th {\n",
              "        vertical-align: top;\n",
              "    }\n",
              "\n",
              "    .dataframe thead th {\n",
              "        text-align: right;\n",
              "    }\n",
              "</style>\n",
              "<table border=\"1\" class=\"dataframe\">\n",
              "  <thead>\n",
              "    <tr style=\"text-align: right;\">\n",
              "      <th></th>\n",
              "      <th>state</th>\n",
              "      <th>color</th>\n",
              "      <th>food</th>\n",
              "      <th>age</th>\n",
              "      <th>height</th>\n",
              "      <th>score</th>\n",
              "    </tr>\n",
              "  </thead>\n",
              "  <tbody>\n",
              "    <tr>\n",
              "      <th>Jane</th>\n",
              "      <td>NY</td>\n",
              "      <td>blue</td>\n",
              "      <td>Steak</td>\n",
              "      <td>30</td>\n",
              "      <td>165</td>\n",
              "      <td>9.6</td>\n",
              "    </tr>\n",
              "    <tr>\n",
              "      <th>Niko</th>\n",
              "      <td>TX</td>\n",
              "      <td>maroon</td>\n",
              "      <td>Lamb</td>\n",
              "      <td>2</td>\n",
              "      <td>70</td>\n",
              "      <td>8.3</td>\n",
              "    </tr>\n",
              "    <tr>\n",
              "      <th>Aaron</th>\n",
              "      <td>FL</td>\n",
              "      <td>red</td>\n",
              "      <td>Mango</td>\n",
              "      <td>15</td>\n",
              "      <td>120</td>\n",
              "      <td>9.0</td>\n",
              "    </tr>\n",
              "    <tr>\n",
              "      <th>Penelope</th>\n",
              "      <td>AL</td>\n",
              "      <td>white</td>\n",
              "      <td>Apple</td>\n",
              "      <td>4</td>\n",
              "      <td>80</td>\n",
              "      <td>3.3</td>\n",
              "    </tr>\n",
              "    <tr>\n",
              "      <th>Dean</th>\n",
              "      <td>AK</td>\n",
              "      <td>gray</td>\n",
              "      <td>Cheese</td>\n",
              "      <td>32</td>\n",
              "      <td>180</td>\n",
              "      <td>6.8</td>\n",
              "    </tr>\n",
              "    <tr>\n",
              "      <th>Christina</th>\n",
              "      <td>TX</td>\n",
              "      <td>maroon</td>\n",
              "      <td>Melon</td>\n",
              "      <td>33</td>\n",
              "      <td>172</td>\n",
              "      <td>9.5</td>\n",
              "    </tr>\n",
              "    <tr>\n",
              "      <th>Cornelia</th>\n",
              "      <td>TX</td>\n",
              "      <td>maroon</td>\n",
              "      <td>Beans</td>\n",
              "      <td>69</td>\n",
              "      <td>150</td>\n",
              "      <td>7.2</td>\n",
              "    </tr>\n",
              "  </tbody>\n",
              "</table>\n",
              "</div>"
            ],
            "text/plain": [
              "          state   color    food  age  height  score\n",
              "Jane         NY    blue   Steak   30     165    9.6\n",
              "Niko         TX  maroon    Lamb    2      70    8.3\n",
              "Aaron        FL     red   Mango   15     120    9.0\n",
              "Penelope     AL   white   Apple    4      80    3.3\n",
              "Dean         AK    gray  Cheese   32     180    6.8\n",
              "Christina    TX  maroon   Melon   33     172    9.5\n",
              "Cornelia     TX  maroon   Beans   69     150    7.2"
            ]
          },
          "metadata": {
            "tags": []
          },
          "execution_count": 69
        }
      ]
    },
    {
      "cell_type": "markdown",
      "metadata": {
        "id": "EGeerVBXb4ta",
        "colab_type": "text"
      },
      "source": [
        "All of these examples involve simultaneous selection of rows and columns, which are the most tempting to do chained indexing on."
      ]
    },
    {
      "cell_type": "markdown",
      "metadata": {
        "id": "Btm1X66yb4ta",
        "colab_type": "text"
      },
      "source": [
        "## Scenario 2\n",
        "In scenario 2, we would like to select some data from our original DataFrame and do an independent analysis on it separate from the original. For instance, let's say we wanted to select just the **`food`** and **`height`** columns into a separate DataFrame.\n",
        "\n",
        "Let's go ahead and make this selection:"
      ]
    },
    {
      "cell_type": "code",
      "metadata": {
        "id": "u8DYmztwb4ta",
        "colab_type": "code",
        "colab": {},
        "outputId": "9f253ecc-33a1-4566-aca8-451737a07a83"
      },
      "source": [
        "df1 = df[['food', 'height']]\n",
        "df1"
      ],
      "execution_count": null,
      "outputs": [
        {
          "output_type": "execute_result",
          "data": {
            "text/html": [
              "<div>\n",
              "<style scoped>\n",
              "    .dataframe tbody tr th:only-of-type {\n",
              "        vertical-align: middle;\n",
              "    }\n",
              "\n",
              "    .dataframe tbody tr th {\n",
              "        vertical-align: top;\n",
              "    }\n",
              "\n",
              "    .dataframe thead th {\n",
              "        text-align: right;\n",
              "    }\n",
              "</style>\n",
              "<table border=\"1\" class=\"dataframe\">\n",
              "  <thead>\n",
              "    <tr style=\"text-align: right;\">\n",
              "      <th></th>\n",
              "      <th>food</th>\n",
              "      <th>height</th>\n",
              "    </tr>\n",
              "  </thead>\n",
              "  <tbody>\n",
              "    <tr>\n",
              "      <th>Jane</th>\n",
              "      <td>Steak</td>\n",
              "      <td>165</td>\n",
              "    </tr>\n",
              "    <tr>\n",
              "      <th>Niko</th>\n",
              "      <td>Lamb</td>\n",
              "      <td>70</td>\n",
              "    </tr>\n",
              "    <tr>\n",
              "      <th>Aaron</th>\n",
              "      <td>Mango</td>\n",
              "      <td>120</td>\n",
              "    </tr>\n",
              "    <tr>\n",
              "      <th>Penelope</th>\n",
              "      <td>Apple</td>\n",
              "      <td>80</td>\n",
              "    </tr>\n",
              "    <tr>\n",
              "      <th>Dean</th>\n",
              "      <td>Cheese</td>\n",
              "      <td>180</td>\n",
              "    </tr>\n",
              "    <tr>\n",
              "      <th>Christina</th>\n",
              "      <td>Melon</td>\n",
              "      <td>172</td>\n",
              "    </tr>\n",
              "    <tr>\n",
              "      <th>Cornelia</th>\n",
              "      <td>Beans</td>\n",
              "      <td>150</td>\n",
              "    </tr>\n",
              "  </tbody>\n",
              "</table>\n",
              "</div>"
            ],
            "text/plain": [
              "             food  height\n",
              "Jane        Steak     165\n",
              "Niko         Lamb      70\n",
              "Aaron       Mango     120\n",
              "Penelope    Apple      80\n",
              "Dean       Cheese     180\n",
              "Christina   Melon     172\n",
              "Cornelia    Beans     150"
            ]
          },
          "metadata": {
            "tags": []
          },
          "execution_count": 70
        }
      ]
    },
    {
      "cell_type": "markdown",
      "metadata": {
        "id": "4lVVQxiRb4w4",
        "colab_type": "text"
      },
      "source": [
        "As we saw from above, this DataFrame is still linked to the original DataFrame. We can check the **`is_copy`** attribute."
      ]
    },
    {
      "cell_type": "code",
      "metadata": {
        "id": "NXYZvdBxb4w4",
        "colab_type": "code",
        "colab": {},
        "outputId": "ea1e1644-602e-4676-e484-8f8c0753ffcd"
      },
      "source": [
        "df1.is_copy()"
      ],
      "execution_count": null,
      "outputs": [
        {
          "output_type": "execute_result",
          "data": {
            "text/html": [
              "<div>\n",
              "<style scoped>\n",
              "    .dataframe tbody tr th:only-of-type {\n",
              "        vertical-align: middle;\n",
              "    }\n",
              "\n",
              "    .dataframe tbody tr th {\n",
              "        vertical-align: top;\n",
              "    }\n",
              "\n",
              "    .dataframe thead th {\n",
              "        text-align: right;\n",
              "    }\n",
              "</style>\n",
              "<table border=\"1\" class=\"dataframe\">\n",
              "  <thead>\n",
              "    <tr style=\"text-align: right;\">\n",
              "      <th></th>\n",
              "      <th>state</th>\n",
              "      <th>color</th>\n",
              "      <th>food</th>\n",
              "      <th>age</th>\n",
              "      <th>height</th>\n",
              "      <th>score</th>\n",
              "    </tr>\n",
              "  </thead>\n",
              "  <tbody>\n",
              "    <tr>\n",
              "      <th>Jane</th>\n",
              "      <td>NY</td>\n",
              "      <td>blue</td>\n",
              "      <td>Steak</td>\n",
              "      <td>30</td>\n",
              "      <td>165</td>\n",
              "      <td>9.6</td>\n",
              "    </tr>\n",
              "    <tr>\n",
              "      <th>Niko</th>\n",
              "      <td>TX</td>\n",
              "      <td>maroon</td>\n",
              "      <td>Lamb</td>\n",
              "      <td>2</td>\n",
              "      <td>70</td>\n",
              "      <td>8.3</td>\n",
              "    </tr>\n",
              "    <tr>\n",
              "      <th>Aaron</th>\n",
              "      <td>FL</td>\n",
              "      <td>red</td>\n",
              "      <td>Mango</td>\n",
              "      <td>15</td>\n",
              "      <td>120</td>\n",
              "      <td>9.0</td>\n",
              "    </tr>\n",
              "    <tr>\n",
              "      <th>Penelope</th>\n",
              "      <td>AL</td>\n",
              "      <td>white</td>\n",
              "      <td>Apple</td>\n",
              "      <td>4</td>\n",
              "      <td>80</td>\n",
              "      <td>3.3</td>\n",
              "    </tr>\n",
              "    <tr>\n",
              "      <th>Dean</th>\n",
              "      <td>AK</td>\n",
              "      <td>gray</td>\n",
              "      <td>Cheese</td>\n",
              "      <td>32</td>\n",
              "      <td>180</td>\n",
              "      <td>6.8</td>\n",
              "    </tr>\n",
              "    <tr>\n",
              "      <th>Christina</th>\n",
              "      <td>TX</td>\n",
              "      <td>maroon</td>\n",
              "      <td>Melon</td>\n",
              "      <td>33</td>\n",
              "      <td>172</td>\n",
              "      <td>9.5</td>\n",
              "    </tr>\n",
              "    <tr>\n",
              "      <th>Cornelia</th>\n",
              "      <td>TX</td>\n",
              "      <td>maroon</td>\n",
              "      <td>Beans</td>\n",
              "      <td>69</td>\n",
              "      <td>150</td>\n",
              "      <td>7.2</td>\n",
              "    </tr>\n",
              "  </tbody>\n",
              "</table>\n",
              "</div>"
            ],
            "text/plain": [
              "          state   color    food  age  height  score\n",
              "Jane         NY    blue   Steak   30     165    9.6\n",
              "Niko         TX  maroon    Lamb    2      70    8.3\n",
              "Aaron        FL     red   Mango   15     120    9.0\n",
              "Penelope     AL   white   Apple    4      80    3.3\n",
              "Dean         AK    gray  Cheese   32     180    6.8\n",
              "Christina    TX  maroon   Melon   33     172    9.5\n",
              "Cornelia     TX  maroon   Beans   69     150    7.2"
            ]
          },
          "metadata": {
            "tags": []
          },
          "execution_count": 71
        }
      ]
    },
    {
      "cell_type": "markdown",
      "metadata": {
        "id": "GXDP94MSb4w7",
        "colab_type": "text"
      },
      "source": [
        "## Use the copy method\n",
        "To get an independent copy, call the **`copy`** method like this:"
      ]
    },
    {
      "cell_type": "code",
      "metadata": {
        "id": "VfnRYMiRb4w7",
        "colab_type": "code",
        "colab": {},
        "outputId": "6788c892-f55e-4c53-ddd6-460693d0b3eb"
      },
      "source": [
        "df1 = df[['food', 'height']].copy()\n",
        "df1.is_copy is None"
      ],
      "execution_count": null,
      "outputs": [
        {
          "output_type": "execute_result",
          "data": {
            "text/plain": [
              "True"
            ]
          },
          "metadata": {
            "tags": []
          },
          "execution_count": 72
        }
      ]
    },
    {
      "cell_type": "markdown",
      "metadata": {
        "id": "tqqbMsGWb4w8",
        "colab_type": "text"
      },
      "source": [
        "**`df1`** is no longer linked to the original in any way. We can now modify one of its columns without getting the **`SettingWithCopy`** warning.\n",
        "\n",
        "Let's change the height of every person to 100:"
      ]
    },
    {
      "cell_type": "code",
      "metadata": {
        "id": "svNg7_Zdb4w8",
        "colab_type": "code",
        "colab": {},
        "outputId": "2742128a-ba8e-4240-8581-0769172ff7c3"
      },
      "source": [
        "df1['height'] = 100\n",
        "df1"
      ],
      "execution_count": null,
      "outputs": [
        {
          "output_type": "execute_result",
          "data": {
            "text/html": [
              "<div>\n",
              "<style scoped>\n",
              "    .dataframe tbody tr th:only-of-type {\n",
              "        vertical-align: middle;\n",
              "    }\n",
              "\n",
              "    .dataframe tbody tr th {\n",
              "        vertical-align: top;\n",
              "    }\n",
              "\n",
              "    .dataframe thead th {\n",
              "        text-align: right;\n",
              "    }\n",
              "</style>\n",
              "<table border=\"1\" class=\"dataframe\">\n",
              "  <thead>\n",
              "    <tr style=\"text-align: right;\">\n",
              "      <th></th>\n",
              "      <th>food</th>\n",
              "      <th>height</th>\n",
              "    </tr>\n",
              "  </thead>\n",
              "  <tbody>\n",
              "    <tr>\n",
              "      <th>Jane</th>\n",
              "      <td>Steak</td>\n",
              "      <td>100</td>\n",
              "    </tr>\n",
              "    <tr>\n",
              "      <th>Niko</th>\n",
              "      <td>Lamb</td>\n",
              "      <td>100</td>\n",
              "    </tr>\n",
              "    <tr>\n",
              "      <th>Aaron</th>\n",
              "      <td>Mango</td>\n",
              "      <td>100</td>\n",
              "    </tr>\n",
              "    <tr>\n",
              "      <th>Penelope</th>\n",
              "      <td>Apple</td>\n",
              "      <td>100</td>\n",
              "    </tr>\n",
              "    <tr>\n",
              "      <th>Dean</th>\n",
              "      <td>Cheese</td>\n",
              "      <td>100</td>\n",
              "    </tr>\n",
              "    <tr>\n",
              "      <th>Christina</th>\n",
              "      <td>Melon</td>\n",
              "      <td>100</td>\n",
              "    </tr>\n",
              "    <tr>\n",
              "      <th>Cornelia</th>\n",
              "      <td>Beans</td>\n",
              "      <td>100</td>\n",
              "    </tr>\n",
              "  </tbody>\n",
              "</table>\n",
              "</div>"
            ],
            "text/plain": [
              "             food  height\n",
              "Jane        Steak     100\n",
              "Niko         Lamb     100\n",
              "Aaron       Mango     100\n",
              "Penelope    Apple     100\n",
              "Dean       Cheese     100\n",
              "Christina   Melon     100\n",
              "Cornelia    Beans     100"
            ]
          },
          "metadata": {
            "tags": []
          },
          "execution_count": 73
        }
      ]
    },
    {
      "cell_type": "markdown",
      "metadata": {
        "id": "kiQ16S8Fb4w-",
        "colab_type": "text"
      },
      "source": [
        "# Avoiding ambiguity and complexity\n",
        "We will now move away from the **`SettingWithCopy`** warning and cover some subset selections that I tend to avoid. These subset selections that I personally find either ambiguous or adding complexity to pandas without adding any additional functionality. \n",
        "\n",
        "However, this does not mean that these subset selections are wrong. They were built into pandas for a purpose and many others make use of them and don't have a problem using them. So, it will be up to you whether or not you decide to use these upcoming subset selections.\n",
        "\n",
        "## Selecting rows with *just the indexing operator*\n",
        "The primary purpose of *just the indexing operator* is to select column(s) by passing it a string or list of strings. Unexpectedly, this operator completely changes behavior whenever you pass it a slice. For instance, we can select every other row beginning with integer location 1 to the end like this:"
      ]
    },
    {
      "cell_type": "code",
      "metadata": {
        "id": "k8GjaNfob4w_",
        "colab_type": "code",
        "colab": {}
      },
      "source": [
        "df = pd.read_csv('../../data/sample_data.csv', index_col=0)"
      ],
      "execution_count": null,
      "outputs": []
    },
    {
      "cell_type": "code",
      "metadata": {
        "id": "hx6NPWEyb4xA",
        "colab_type": "code",
        "colab": {},
        "outputId": "1a7a7a6d-b392-4962-bafa-5dd0771be809"
      },
      "source": [
        "df[1::2]"
      ],
      "execution_count": null,
      "outputs": [
        {
          "output_type": "execute_result",
          "data": {
            "text/html": [
              "<div>\n",
              "<style scoped>\n",
              "    .dataframe tbody tr th:only-of-type {\n",
              "        vertical-align: middle;\n",
              "    }\n",
              "\n",
              "    .dataframe tbody tr th {\n",
              "        vertical-align: top;\n",
              "    }\n",
              "\n",
              "    .dataframe thead th {\n",
              "        text-align: right;\n",
              "    }\n",
              "</style>\n",
              "<table border=\"1\" class=\"dataframe\">\n",
              "  <thead>\n",
              "    <tr style=\"text-align: right;\">\n",
              "      <th></th>\n",
              "      <th>state</th>\n",
              "      <th>color</th>\n",
              "      <th>food</th>\n",
              "      <th>age</th>\n",
              "      <th>height</th>\n",
              "      <th>score</th>\n",
              "    </tr>\n",
              "  </thead>\n",
              "  <tbody>\n",
              "    <tr>\n",
              "      <th>Niko</th>\n",
              "      <td>TX</td>\n",
              "      <td>green</td>\n",
              "      <td>Lamb</td>\n",
              "      <td>2</td>\n",
              "      <td>70</td>\n",
              "      <td>8.3</td>\n",
              "    </tr>\n",
              "    <tr>\n",
              "      <th>Penelope</th>\n",
              "      <td>AL</td>\n",
              "      <td>white</td>\n",
              "      <td>Apple</td>\n",
              "      <td>4</td>\n",
              "      <td>80</td>\n",
              "      <td>3.3</td>\n",
              "    </tr>\n",
              "    <tr>\n",
              "      <th>Christina</th>\n",
              "      <td>TX</td>\n",
              "      <td>black</td>\n",
              "      <td>Melon</td>\n",
              "      <td>33</td>\n",
              "      <td>172</td>\n",
              "      <td>9.5</td>\n",
              "    </tr>\n",
              "  </tbody>\n",
              "</table>\n",
              "</div>"
            ],
            "text/plain": [
              "          state  color   food  age  height  score\n",
              "Niko         TX  green   Lamb    2      70    8.3\n",
              "Penelope     AL  white  Apple    4      80    3.3\n",
              "Christina    TX  black  Melon   33     172    9.5"
            ]
          },
          "metadata": {
            "tags": []
          },
          "execution_count": 75
        }
      ]
    },
    {
      "cell_type": "markdown",
      "metadata": {
        "id": "f7cuKtHHb4yT",
        "colab_type": "text"
      },
      "source": [
        "Even stranger, is that you can make selections by row label as well. For instance, we can select **`Niko`** through **`Dean`** like this:"
      ]
    },
    {
      "cell_type": "code",
      "metadata": {
        "id": "ANNOgUAYb4yT",
        "colab_type": "code",
        "colab": {},
        "outputId": "f0f55933-1426-40b8-8419-a47582ba52e0"
      },
      "source": [
        "df['Niko':'Dean']"
      ],
      "execution_count": null,
      "outputs": [
        {
          "output_type": "execute_result",
          "data": {
            "text/html": [
              "<div>\n",
              "<style scoped>\n",
              "    .dataframe tbody tr th:only-of-type {\n",
              "        vertical-align: middle;\n",
              "    }\n",
              "\n",
              "    .dataframe tbody tr th {\n",
              "        vertical-align: top;\n",
              "    }\n",
              "\n",
              "    .dataframe thead th {\n",
              "        text-align: right;\n",
              "    }\n",
              "</style>\n",
              "<table border=\"1\" class=\"dataframe\">\n",
              "  <thead>\n",
              "    <tr style=\"text-align: right;\">\n",
              "      <th></th>\n",
              "      <th>state</th>\n",
              "      <th>color</th>\n",
              "      <th>food</th>\n",
              "      <th>age</th>\n",
              "      <th>height</th>\n",
              "      <th>score</th>\n",
              "    </tr>\n",
              "  </thead>\n",
              "  <tbody>\n",
              "    <tr>\n",
              "      <th>Niko</th>\n",
              "      <td>TX</td>\n",
              "      <td>green</td>\n",
              "      <td>Lamb</td>\n",
              "      <td>2</td>\n",
              "      <td>70</td>\n",
              "      <td>8.3</td>\n",
              "    </tr>\n",
              "    <tr>\n",
              "      <th>Aaron</th>\n",
              "      <td>FL</td>\n",
              "      <td>red</td>\n",
              "      <td>Mango</td>\n",
              "      <td>12</td>\n",
              "      <td>120</td>\n",
              "      <td>9.0</td>\n",
              "    </tr>\n",
              "    <tr>\n",
              "      <th>Penelope</th>\n",
              "      <td>AL</td>\n",
              "      <td>white</td>\n",
              "      <td>Apple</td>\n",
              "      <td>4</td>\n",
              "      <td>80</td>\n",
              "      <td>3.3</td>\n",
              "    </tr>\n",
              "    <tr>\n",
              "      <th>Dean</th>\n",
              "      <td>AK</td>\n",
              "      <td>gray</td>\n",
              "      <td>Cheese</td>\n",
              "      <td>32</td>\n",
              "      <td>180</td>\n",
              "      <td>1.8</td>\n",
              "    </tr>\n",
              "  </tbody>\n",
              "</table>\n",
              "</div>"
            ],
            "text/plain": [
              "         state  color    food  age  height  score\n",
              "Niko        TX  green    Lamb    2      70    8.3\n",
              "Aaron       FL    red   Mango   12     120    9.0\n",
              "Penelope    AL  white   Apple    4      80    3.3\n",
              "Dean        AK   gray  Cheese   32     180    1.8"
            ]
          },
          "metadata": {
            "tags": []
          },
          "execution_count": 76
        }
      ]
    },
    {
      "cell_type": "markdown",
      "metadata": {
        "id": "7kM6CsoKb4yU",
        "colab_type": "text"
      },
      "source": [
        "## Even more bizarre....partial string subset selection\n",
        "The most bizarre thing is that you can use partial string matches on the index when using a slice with *just the indexing operator*. For this to work, the index will need to be sorted. Call the **`sort_index`** method to do so:"
      ]
    },
    {
      "cell_type": "code",
      "metadata": {
        "id": "Fby1NpnNb4yU",
        "colab_type": "code",
        "colab": {},
        "outputId": "572f6d4a-ea8c-4629-9c75-f89483b4b9ac"
      },
      "source": [
        "df_sort = df.sort_index()\n",
        "df_sort"
      ],
      "execution_count": null,
      "outputs": [
        {
          "output_type": "execute_result",
          "data": {
            "text/html": [
              "<div>\n",
              "<style scoped>\n",
              "    .dataframe tbody tr th:only-of-type {\n",
              "        vertical-align: middle;\n",
              "    }\n",
              "\n",
              "    .dataframe tbody tr th {\n",
              "        vertical-align: top;\n",
              "    }\n",
              "\n",
              "    .dataframe thead th {\n",
              "        text-align: right;\n",
              "    }\n",
              "</style>\n",
              "<table border=\"1\" class=\"dataframe\">\n",
              "  <thead>\n",
              "    <tr style=\"text-align: right;\">\n",
              "      <th></th>\n",
              "      <th>state</th>\n",
              "      <th>color</th>\n",
              "      <th>food</th>\n",
              "      <th>age</th>\n",
              "      <th>height</th>\n",
              "      <th>score</th>\n",
              "    </tr>\n",
              "  </thead>\n",
              "  <tbody>\n",
              "    <tr>\n",
              "      <th>Aaron</th>\n",
              "      <td>FL</td>\n",
              "      <td>red</td>\n",
              "      <td>Mango</td>\n",
              "      <td>12</td>\n",
              "      <td>120</td>\n",
              "      <td>9.0</td>\n",
              "    </tr>\n",
              "    <tr>\n",
              "      <th>Christina</th>\n",
              "      <td>TX</td>\n",
              "      <td>black</td>\n",
              "      <td>Melon</td>\n",
              "      <td>33</td>\n",
              "      <td>172</td>\n",
              "      <td>9.5</td>\n",
              "    </tr>\n",
              "    <tr>\n",
              "      <th>Cornelia</th>\n",
              "      <td>TX</td>\n",
              "      <td>red</td>\n",
              "      <td>Beans</td>\n",
              "      <td>69</td>\n",
              "      <td>150</td>\n",
              "      <td>2.2</td>\n",
              "    </tr>\n",
              "    <tr>\n",
              "      <th>Dean</th>\n",
              "      <td>AK</td>\n",
              "      <td>gray</td>\n",
              "      <td>Cheese</td>\n",
              "      <td>32</td>\n",
              "      <td>180</td>\n",
              "      <td>1.8</td>\n",
              "    </tr>\n",
              "    <tr>\n",
              "      <th>Jane</th>\n",
              "      <td>NY</td>\n",
              "      <td>blue</td>\n",
              "      <td>Steak</td>\n",
              "      <td>30</td>\n",
              "      <td>165</td>\n",
              "      <td>4.6</td>\n",
              "    </tr>\n",
              "    <tr>\n",
              "      <th>Niko</th>\n",
              "      <td>TX</td>\n",
              "      <td>green</td>\n",
              "      <td>Lamb</td>\n",
              "      <td>2</td>\n",
              "      <td>70</td>\n",
              "      <td>8.3</td>\n",
              "    </tr>\n",
              "    <tr>\n",
              "      <th>Penelope</th>\n",
              "      <td>AL</td>\n",
              "      <td>white</td>\n",
              "      <td>Apple</td>\n",
              "      <td>4</td>\n",
              "      <td>80</td>\n",
              "      <td>3.3</td>\n",
              "    </tr>\n",
              "  </tbody>\n",
              "</table>\n",
              "</div>"
            ],
            "text/plain": [
              "          state  color    food  age  height  score\n",
              "Aaron        FL    red   Mango   12     120    9.0\n",
              "Christina    TX  black   Melon   33     172    9.5\n",
              "Cornelia     TX    red   Beans   69     150    2.2\n",
              "Dean         AK   gray  Cheese   32     180    1.8\n",
              "Jane         NY   blue   Steak   30     165    4.6\n",
              "Niko         TX  green    Lamb    2      70    8.3\n",
              "Penelope     AL  white   Apple    4      80    3.3"
            ]
          },
          "metadata": {
            "tags": []
          },
          "execution_count": 77
        }
      ]
    },
    {
      "cell_type": "markdown",
      "metadata": {
        "id": "iHnrgG8Nb4yV",
        "colab_type": "text"
      },
      "source": [
        "Now, you can do use slice notation with partial strings. For instance, if we wanted to select names that begin with 'C' and 'D', we would do the following:"
      ]
    },
    {
      "cell_type": "code",
      "metadata": {
        "id": "-Z287lqdb4yW",
        "colab_type": "code",
        "colab": {},
        "outputId": "bcf9693b-6a54-4cdc-808c-1e510a514648"
      },
      "source": [
        "df_sort['C':'E']"
      ],
      "execution_count": null,
      "outputs": [
        {
          "output_type": "execute_result",
          "data": {
            "text/html": [
              "<div>\n",
              "<style scoped>\n",
              "    .dataframe tbody tr th:only-of-type {\n",
              "        vertical-align: middle;\n",
              "    }\n",
              "\n",
              "    .dataframe tbody tr th {\n",
              "        vertical-align: top;\n",
              "    }\n",
              "\n",
              "    .dataframe thead th {\n",
              "        text-align: right;\n",
              "    }\n",
              "</style>\n",
              "<table border=\"1\" class=\"dataframe\">\n",
              "  <thead>\n",
              "    <tr style=\"text-align: right;\">\n",
              "      <th></th>\n",
              "      <th>state</th>\n",
              "      <th>color</th>\n",
              "      <th>food</th>\n",
              "      <th>age</th>\n",
              "      <th>height</th>\n",
              "      <th>score</th>\n",
              "    </tr>\n",
              "  </thead>\n",
              "  <tbody>\n",
              "    <tr>\n",
              "      <th>Christina</th>\n",
              "      <td>TX</td>\n",
              "      <td>black</td>\n",
              "      <td>Melon</td>\n",
              "      <td>33</td>\n",
              "      <td>172</td>\n",
              "      <td>9.5</td>\n",
              "    </tr>\n",
              "    <tr>\n",
              "      <th>Cornelia</th>\n",
              "      <td>TX</td>\n",
              "      <td>red</td>\n",
              "      <td>Beans</td>\n",
              "      <td>69</td>\n",
              "      <td>150</td>\n",
              "      <td>2.2</td>\n",
              "    </tr>\n",
              "    <tr>\n",
              "      <th>Dean</th>\n",
              "      <td>AK</td>\n",
              "      <td>gray</td>\n",
              "      <td>Cheese</td>\n",
              "      <td>32</td>\n",
              "      <td>180</td>\n",
              "      <td>1.8</td>\n",
              "    </tr>\n",
              "  </tbody>\n",
              "</table>\n",
              "</div>"
            ],
            "text/plain": [
              "          state  color    food  age  height  score\n",
              "Christina    TX  black   Melon   33     172    9.5\n",
              "Cornelia     TX    red   Beans   69     150    2.2\n",
              "Dean         AK   gray  Cheese   32     180    1.8"
            ]
          },
          "metadata": {
            "tags": []
          },
          "execution_count": 78
        }
      ]
    },
    {
      "cell_type": "markdown",
      "metadata": {
        "id": "_QPlfGogb4yX",
        "colab_type": "text"
      },
      "source": [
        "Technically this slices from the exact label 'C' to the exact label 'E'.\n",
        "\n",
        "## I never do this\n",
        "I never pass *just the indexing operator* slices like in these examples for the following reasons:\n",
        "* It is confusing for there to be multiple modes of operation for an operator - one for selecting columns and the other for selecting rows\n",
        "* It is not explicit - slicing can happen by both integer location and by label.\n",
        "\n",
        "## If I want to slice rows, I always use .loc/.iloc\n",
        "The **`.loc/.iloc`** indexers are explicit and there will be no ambiguity with them. This follows from the Zen of Python that explicit is better than implicit.\n",
        "\n",
        "## Scalar selection with `.at\\.iat`\n",
        "Both **`.at\\.iat`** are indexers that pandas has available to make a selection of one and only one single value. Each of these indexers works analogously to **`.loc\\.iloc`**.\n",
        "\n",
        "**`.at`** makes its selection only by **label** and **`.iat`** selects only by integer location. They each select a single value. The term **scalar** is used to refer to a single value.\n",
        "\n",
        "Let's take a look at an example of each. First, let's select Dean's age."
      ]
    },
    {
      "cell_type": "code",
      "metadata": {
        "id": "yBNS0gT_b4yX",
        "colab_type": "code",
        "colab": {},
        "outputId": "16634988-9431-45e4-b944-e3562d02f13c"
      },
      "source": [
        "df.at['Dean', 'age']"
      ],
      "execution_count": null,
      "outputs": [
        {
          "output_type": "execute_result",
          "data": {
            "text/plain": [
              "32"
            ]
          },
          "metadata": {
            "tags": []
          },
          "execution_count": 79
        }
      ]
    },
    {
      "cell_type": "markdown",
      "metadata": {
        "id": "Zahm_4Vsb4yY",
        "colab_type": "text"
      },
      "source": [
        "Notice that a scalar value was returned and not a pandas Series or DataFrame.\n",
        "\n",
        "We can select the cell at the 5th row and 2nd column like this:"
      ]
    },
    {
      "cell_type": "code",
      "metadata": {
        "id": "71XRi87Tb4yZ",
        "colab_type": "code",
        "colab": {},
        "outputId": "5e93a28a-ad72-4f53-aa0a-003c20638113"
      },
      "source": [
        "df.iat[5, 2]"
      ],
      "execution_count": null,
      "outputs": [
        {
          "output_type": "execute_result",
          "data": {
            "text/plain": [
              "'Melon'"
            ]
          },
          "metadata": {
            "tags": []
          },
          "execution_count": 80
        }
      ]
    },
    {
      "cell_type": "markdown",
      "metadata": {
        "id": "xIz-ftPzb4yb",
        "colab_type": "text"
      },
      "source": [
        "## What is the purpose of `.at\\.iat`?\n",
        "These indexers offer no additional functionality. You can select a single value with **`.loc`** or **`.iloc`**. But, what they do offer, is a performance improvement, albeit a minor one. So, if there is a performance critical part of your code that does lots of scalar selections you could use **`.at\\.iat`**.\n",
        "\n",
        "Personally, I never use them as they add needless complexity to the library for a small performance gain."
      ]
    },
    {
      "cell_type": "markdown",
      "metadata": {
        "id": "G9GwWHnsb4yf",
        "colab_type": "text"
      },
      "source": [
        "# Summary\n",
        "* Idiomatic pandas is efficient, easy to read, and common among experts\n",
        "* It is easy to write non-idiomatic pandas - lots of ways to do the same thing\n",
        "* Getting the right answer does not guarantee that you are using pandas correctly\n",
        "* Assignment with chained indexing with a list does not work: **`a[2:6][0] = 5`** - NEVER DO THIS!\n",
        "* Assigning an entire list to a new variable does NOT create a new copy. Both variable names will refer to the same underlying object\n",
        "* Slicing a list creates a shallow copy\n",
        "* To make new copies of any mutable objects within a list, you need to do a deep copy\n",
        "* Chained indexing happens when you make two successive subset selections one directly after the other\n",
        "* Avoid chained indexing in pandas\n",
        "* Identify chained indexing - closed then open brackets **`][`** or **`.loc\\.iloc`** following a bracket like this: **`df[a].loc[b]`**\n",
        "* Another way to identify chained indexing is if you can break up the indexing into 2 lines of code.\n",
        "* Chained indexing is bad because it uses two calls to the indexers instead of one and more importantly triggers the **`SettingWithCopy`** warning when doing an assignment\n",
        "* The **`SettingWithCopy`** warning gets triggered when you make a subset selection and then try to assign new values within this selection. i.e. you have done chained indexing!\n",
        "* Chained indexing is the cause of the **`SettingWithCopy`** warning. Chained indexing can happen in the same line, consecutive lines, or two lines very far apart from each other.\n",
        "* Whenever you make a subset selection, pandas creates either a **view** or a **copy**\n",
        "* A **view** is a reference to the original DataFrame. No new data has been created.\n",
        "* A **copy** means a completely new object with new data that is unlinked from the original DataFrame\n",
        "* The reason the **`SettingWithCopy`** warning exists, is because you might be trying to make an assignment that actually fails or you might be modifying the original DataFrame without knowing it.\n",
        "* Regardless of why the **`SettingWithCopy`** warning was triggered, you should not ignore it. \n",
        "* You need to go back and understand what happened and probably rewrite your pandas so you don't trigger the warning\n",
        "* One of the most common triggers of the **`SettingWithCopy`** warning is when you do boolean selection and then try to set the values of a column like this: **`df[df['col a'] > 5]['col b'] = 10`**\n",
        "* Fix this chained assignment with **`.loc`** or **`.iloc`** like this: **`df.loc[df['col a'] > 5, 'col b'] = 10`**\n",
        "* You can use **`is_copy`** or the private attribute **`_is_view`** to determine if you have a view or a copy\n",
        "* It is not necessary to know whether you have a view or a copy to write good pandas, because you will likely be in one of two scenarios.\n",
        "* In Scenario 1, you will be working on one DataFrame and want to change values in it and continue to use it in its entirety\n",
        "* In Scenario 2, you will make a subset selection, store it to a variable, and want to continue working on it independently from the original data.\n",
        "* To avoid the **`SettingWithCopy`** warning, use **`.loc\\.iloc`** for scenario 1 and the **`copy`** method with scenario 2.\n",
        "* Personally, I avoid using *just the indexing operator* to select rows with slices because it is ambiguous.\n",
        "* I also avoid using **`.at\\.iat`** because it adds unneeded complexity and adds no increased functionality."
      ]
    },
    {
      "cell_type": "markdown",
      "metadata": {
        "id": "XqTtkT-8b4yf",
        "colab_type": "text"
      },
      "source": [
        "# Exercises"
      ]
    },
    {
      "cell_type": "markdown",
      "metadata": {
        "id": "BnbJg2spb4yg",
        "colab_type": "text"
      },
      "source": [
        "### Exercise 1\n",
        "<span  style=\"color:green; font-size:16px\"> Create a ten item list and then use chained indexing to select the items from 2 to the end and then from this subset, the first three items.</span>"
      ]
    },
    {
      "cell_type": "code",
      "metadata": {
        "id": "28AQ1T4pb4y9",
        "colab_type": "code",
        "colab": {}
      },
      "source": [
        "# Your code here"
      ],
      "execution_count": null,
      "outputs": []
    },
    {
      "cell_type": "markdown",
      "metadata": {
        "id": "ox3B9BB_b4zP",
        "colab_type": "text"
      },
      "source": [
        "### Exercise 2\n",
        "<span  style=\"color:green; font-size:16px\"> Get the same result from example 1 with just a single call to the indexing operator.</span>"
      ]
    },
    {
      "cell_type": "code",
      "metadata": {
        "id": "8PgiSl4yb4zP",
        "colab_type": "code",
        "colab": {}
      },
      "source": [
        "# Your code here"
      ],
      "execution_count": null,
      "outputs": []
    },
    {
      "cell_type": "markdown",
      "metadata": {
        "id": "rDNCbOEbb4zV",
        "colab_type": "text"
      },
      "source": [
        "Use the following DataFrame for the next several questions"
      ]
    },
    {
      "cell_type": "code",
      "metadata": {
        "id": "maSDqkbnb4zV",
        "colab_type": "code",
        "colab": {},
        "outputId": "920670a4-1dc7-4b18-950d-9315584a1363"
      },
      "source": [
        "df = pd.read_csv('../../data/sample_data.csv', index_col=0)\n",
        "df"
      ],
      "execution_count": null,
      "outputs": [
        {
          "output_type": "execute_result",
          "data": {
            "text/html": [
              "<div>\n",
              "<style scoped>\n",
              "    .dataframe tbody tr th:only-of-type {\n",
              "        vertical-align: middle;\n",
              "    }\n",
              "\n",
              "    .dataframe tbody tr th {\n",
              "        vertical-align: top;\n",
              "    }\n",
              "\n",
              "    .dataframe thead th {\n",
              "        text-align: right;\n",
              "    }\n",
              "</style>\n",
              "<table border=\"1\" class=\"dataframe\">\n",
              "  <thead>\n",
              "    <tr style=\"text-align: right;\">\n",
              "      <th></th>\n",
              "      <th>state</th>\n",
              "      <th>color</th>\n",
              "      <th>food</th>\n",
              "      <th>age</th>\n",
              "      <th>height</th>\n",
              "      <th>score</th>\n",
              "    </tr>\n",
              "  </thead>\n",
              "  <tbody>\n",
              "    <tr>\n",
              "      <th>Jane</th>\n",
              "      <td>NY</td>\n",
              "      <td>blue</td>\n",
              "      <td>Steak</td>\n",
              "      <td>30</td>\n",
              "      <td>165</td>\n",
              "      <td>4.6</td>\n",
              "    </tr>\n",
              "    <tr>\n",
              "      <th>Niko</th>\n",
              "      <td>TX</td>\n",
              "      <td>green</td>\n",
              "      <td>Lamb</td>\n",
              "      <td>2</td>\n",
              "      <td>70</td>\n",
              "      <td>8.3</td>\n",
              "    </tr>\n",
              "    <tr>\n",
              "      <th>Aaron</th>\n",
              "      <td>FL</td>\n",
              "      <td>red</td>\n",
              "      <td>Mango</td>\n",
              "      <td>12</td>\n",
              "      <td>120</td>\n",
              "      <td>9.0</td>\n",
              "    </tr>\n",
              "    <tr>\n",
              "      <th>Penelope</th>\n",
              "      <td>AL</td>\n",
              "      <td>white</td>\n",
              "      <td>Apple</td>\n",
              "      <td>4</td>\n",
              "      <td>80</td>\n",
              "      <td>3.3</td>\n",
              "    </tr>\n",
              "    <tr>\n",
              "      <th>Dean</th>\n",
              "      <td>AK</td>\n",
              "      <td>gray</td>\n",
              "      <td>Cheese</td>\n",
              "      <td>32</td>\n",
              "      <td>180</td>\n",
              "      <td>1.8</td>\n",
              "    </tr>\n",
              "    <tr>\n",
              "      <th>Christina</th>\n",
              "      <td>TX</td>\n",
              "      <td>black</td>\n",
              "      <td>Melon</td>\n",
              "      <td>33</td>\n",
              "      <td>172</td>\n",
              "      <td>9.5</td>\n",
              "    </tr>\n",
              "    <tr>\n",
              "      <th>Cornelia</th>\n",
              "      <td>TX</td>\n",
              "      <td>red</td>\n",
              "      <td>Beans</td>\n",
              "      <td>69</td>\n",
              "      <td>150</td>\n",
              "      <td>2.2</td>\n",
              "    </tr>\n",
              "  </tbody>\n",
              "</table>\n",
              "</div>"
            ],
            "text/plain": [
              "          state  color    food  age  height  score\n",
              "Jane         NY   blue   Steak   30     165    4.6\n",
              "Niko         TX  green    Lamb    2      70    8.3\n",
              "Aaron        FL    red   Mango   12     120    9.0\n",
              "Penelope     AL  white   Apple    4      80    3.3\n",
              "Dean         AK   gray  Cheese   32     180    1.8\n",
              "Christina    TX  black   Melon   33     172    9.5\n",
              "Cornelia     TX    red   Beans   69     150    2.2"
            ]
          },
          "metadata": {
            "tags": []
          },
          "execution_count": 83
        }
      ]
    },
    {
      "cell_type": "markdown",
      "metadata": {
        "id": "loi9MY5Xb4zW",
        "colab_type": "text"
      },
      "source": [
        "### Exercise 3\n",
        "<span  style=\"color:green; font-size:16px\">Determine whether the following line of code is chained indexing. If it is, rewrite it so that it is not.</span>"
      ]
    },
    {
      "cell_type": "code",
      "metadata": {
        "id": "__SoBjDDb4zX",
        "colab_type": "code",
        "colab": {},
        "outputId": "76f7f410-695f-4747-ea10-634d64d6d4a8"
      },
      "source": [
        "df[['state', 'food', 'color', 'score']]\n",
        "# Your code here"
      ],
      "execution_count": null,
      "outputs": [
        {
          "output_type": "execute_result",
          "data": {
            "text/html": [
              "<div>\n",
              "<style scoped>\n",
              "    .dataframe tbody tr th:only-of-type {\n",
              "        vertical-align: middle;\n",
              "    }\n",
              "\n",
              "    .dataframe tbody tr th {\n",
              "        vertical-align: top;\n",
              "    }\n",
              "\n",
              "    .dataframe thead th {\n",
              "        text-align: right;\n",
              "    }\n",
              "</style>\n",
              "<table border=\"1\" class=\"dataframe\">\n",
              "  <thead>\n",
              "    <tr style=\"text-align: right;\">\n",
              "      <th></th>\n",
              "      <th>state</th>\n",
              "      <th>food</th>\n",
              "      <th>color</th>\n",
              "      <th>score</th>\n",
              "    </tr>\n",
              "  </thead>\n",
              "  <tbody>\n",
              "    <tr>\n",
              "      <th>Jane</th>\n",
              "      <td>NY</td>\n",
              "      <td>Steak</td>\n",
              "      <td>blue</td>\n",
              "      <td>4.6</td>\n",
              "    </tr>\n",
              "    <tr>\n",
              "      <th>Niko</th>\n",
              "      <td>TX</td>\n",
              "      <td>Lamb</td>\n",
              "      <td>green</td>\n",
              "      <td>8.3</td>\n",
              "    </tr>\n",
              "    <tr>\n",
              "      <th>Aaron</th>\n",
              "      <td>FL</td>\n",
              "      <td>Mango</td>\n",
              "      <td>red</td>\n",
              "      <td>9.0</td>\n",
              "    </tr>\n",
              "    <tr>\n",
              "      <th>Penelope</th>\n",
              "      <td>AL</td>\n",
              "      <td>Apple</td>\n",
              "      <td>white</td>\n",
              "      <td>3.3</td>\n",
              "    </tr>\n",
              "    <tr>\n",
              "      <th>Dean</th>\n",
              "      <td>AK</td>\n",
              "      <td>Cheese</td>\n",
              "      <td>gray</td>\n",
              "      <td>1.8</td>\n",
              "    </tr>\n",
              "    <tr>\n",
              "      <th>Christina</th>\n",
              "      <td>TX</td>\n",
              "      <td>Melon</td>\n",
              "      <td>black</td>\n",
              "      <td>9.5</td>\n",
              "    </tr>\n",
              "    <tr>\n",
              "      <th>Cornelia</th>\n",
              "      <td>TX</td>\n",
              "      <td>Beans</td>\n",
              "      <td>red</td>\n",
              "      <td>2.2</td>\n",
              "    </tr>\n",
              "  </tbody>\n",
              "</table>\n",
              "</div>"
            ],
            "text/plain": [
              "          state    food  color  score\n",
              "Jane         NY   Steak   blue    4.6\n",
              "Niko         TX    Lamb  green    8.3\n",
              "Aaron        FL   Mango    red    9.0\n",
              "Penelope     AL   Apple  white    3.3\n",
              "Dean         AK  Cheese   gray    1.8\n",
              "Christina    TX   Melon  black    9.5\n",
              "Cornelia     TX   Beans    red    2.2"
            ]
          },
          "metadata": {
            "tags": []
          },
          "execution_count": 84
        }
      ]
    },
    {
      "cell_type": "markdown",
      "metadata": {
        "id": "a7yx4UAQb4zZ",
        "colab_type": "text"
      },
      "source": [
        "### Exercise 4\n",
        "<span  style=\"color:green; font-size:16px\">Determine whether the following line of code is chained indexing. If it is, rewrite it so that it is not.</span>"
      ]
    },
    {
      "cell_type": "code",
      "metadata": {
        "id": "W_Tcfgp4b4zZ",
        "colab_type": "code",
        "colab": {},
        "outputId": "5111d1d6-c01c-454b-d2ad-de2da631c023"
      },
      "source": [
        "df.loc[['Niko', 'Penelope', 'Dean', 'Cornelia', 'Jane'], ['state', 'food', 'color', 'score']]\n",
        "# Your code here"
      ],
      "execution_count": null,
      "outputs": [
        {
          "output_type": "execute_result",
          "data": {
            "text/html": [
              "<div>\n",
              "<style scoped>\n",
              "    .dataframe tbody tr th:only-of-type {\n",
              "        vertical-align: middle;\n",
              "    }\n",
              "\n",
              "    .dataframe tbody tr th {\n",
              "        vertical-align: top;\n",
              "    }\n",
              "\n",
              "    .dataframe thead th {\n",
              "        text-align: right;\n",
              "    }\n",
              "</style>\n",
              "<table border=\"1\" class=\"dataframe\">\n",
              "  <thead>\n",
              "    <tr style=\"text-align: right;\">\n",
              "      <th></th>\n",
              "      <th>state</th>\n",
              "      <th>food</th>\n",
              "      <th>color</th>\n",
              "      <th>score</th>\n",
              "    </tr>\n",
              "  </thead>\n",
              "  <tbody>\n",
              "    <tr>\n",
              "      <th>Niko</th>\n",
              "      <td>TX</td>\n",
              "      <td>Lamb</td>\n",
              "      <td>green</td>\n",
              "      <td>8.3</td>\n",
              "    </tr>\n",
              "    <tr>\n",
              "      <th>Penelope</th>\n",
              "      <td>AL</td>\n",
              "      <td>Apple</td>\n",
              "      <td>white</td>\n",
              "      <td>3.3</td>\n",
              "    </tr>\n",
              "    <tr>\n",
              "      <th>Dean</th>\n",
              "      <td>AK</td>\n",
              "      <td>Cheese</td>\n",
              "      <td>gray</td>\n",
              "      <td>1.8</td>\n",
              "    </tr>\n",
              "    <tr>\n",
              "      <th>Cornelia</th>\n",
              "      <td>TX</td>\n",
              "      <td>Beans</td>\n",
              "      <td>red</td>\n",
              "      <td>2.2</td>\n",
              "    </tr>\n",
              "    <tr>\n",
              "      <th>Jane</th>\n",
              "      <td>NY</td>\n",
              "      <td>Steak</td>\n",
              "      <td>blue</td>\n",
              "      <td>4.6</td>\n",
              "    </tr>\n",
              "  </tbody>\n",
              "</table>\n",
              "</div>"
            ],
            "text/plain": [
              "         state    food  color  score\n",
              "Niko        TX    Lamb  green    8.3\n",
              "Penelope    AL   Apple  white    3.3\n",
              "Dean        AK  Cheese   gray    1.8\n",
              "Cornelia    TX   Beans    red    2.2\n",
              "Jane        NY   Steak   blue    4.6"
            ]
          },
          "metadata": {
            "tags": []
          },
          "execution_count": 85
        }
      ]
    },
    {
      "cell_type": "markdown",
      "metadata": {
        "id": "Icf31mb5b4za",
        "colab_type": "text"
      },
      "source": [
        "### Exercise 5\n",
        "<span  style=\"color:green; font-size:16px\">Determine whether the following line of code is chained indexing. If it is, rewrite it so that it is not.</span>"
      ]
    },
    {
      "cell_type": "code",
      "metadata": {
        "id": "14dOpTf6b4za",
        "colab_type": "code",
        "colab": {},
        "outputId": "8ac06fc1-f648-4ab2-db49-ccaf16b02dc6"
      },
      "source": [
        "df.loc[['Niko', 'Penelope', 'Dean', 'Cornelia', 'Jane']][['state', 'food', 'color', 'score']]\n",
        "# Your code here"
      ],
      "execution_count": null,
      "outputs": [
        {
          "output_type": "execute_result",
          "data": {
            "text/html": [
              "<div>\n",
              "<style scoped>\n",
              "    .dataframe tbody tr th:only-of-type {\n",
              "        vertical-align: middle;\n",
              "    }\n",
              "\n",
              "    .dataframe tbody tr th {\n",
              "        vertical-align: top;\n",
              "    }\n",
              "\n",
              "    .dataframe thead th {\n",
              "        text-align: right;\n",
              "    }\n",
              "</style>\n",
              "<table border=\"1\" class=\"dataframe\">\n",
              "  <thead>\n",
              "    <tr style=\"text-align: right;\">\n",
              "      <th></th>\n",
              "      <th>state</th>\n",
              "      <th>food</th>\n",
              "      <th>color</th>\n",
              "      <th>score</th>\n",
              "    </tr>\n",
              "  </thead>\n",
              "  <tbody>\n",
              "    <tr>\n",
              "      <th>Niko</th>\n",
              "      <td>TX</td>\n",
              "      <td>Lamb</td>\n",
              "      <td>green</td>\n",
              "      <td>8.3</td>\n",
              "    </tr>\n",
              "    <tr>\n",
              "      <th>Penelope</th>\n",
              "      <td>AL</td>\n",
              "      <td>Apple</td>\n",
              "      <td>white</td>\n",
              "      <td>3.3</td>\n",
              "    </tr>\n",
              "    <tr>\n",
              "      <th>Dean</th>\n",
              "      <td>AK</td>\n",
              "      <td>Cheese</td>\n",
              "      <td>gray</td>\n",
              "      <td>1.8</td>\n",
              "    </tr>\n",
              "    <tr>\n",
              "      <th>Cornelia</th>\n",
              "      <td>TX</td>\n",
              "      <td>Beans</td>\n",
              "      <td>red</td>\n",
              "      <td>2.2</td>\n",
              "    </tr>\n",
              "    <tr>\n",
              "      <th>Jane</th>\n",
              "      <td>NY</td>\n",
              "      <td>Steak</td>\n",
              "      <td>blue</td>\n",
              "      <td>4.6</td>\n",
              "    </tr>\n",
              "  </tbody>\n",
              "</table>\n",
              "</div>"
            ],
            "text/plain": [
              "         state    food  color  score\n",
              "Niko        TX    Lamb  green    8.3\n",
              "Penelope    AL   Apple  white    3.3\n",
              "Dean        AK  Cheese   gray    1.8\n",
              "Cornelia    TX   Beans    red    2.2\n",
              "Jane        NY   Steak   blue    4.6"
            ]
          },
          "metadata": {
            "tags": []
          },
          "execution_count": 86
        }
      ]
    },
    {
      "cell_type": "markdown",
      "metadata": {
        "id": "k4UyTePjb40C",
        "colab_type": "text"
      },
      "source": [
        "### Exercise 6\n",
        "<span  style=\"color:green; font-size:16px\">Determine whether the following line of code is chained indexing. If it is, rewrite it so that it is not.</span>"
      ]
    },
    {
      "cell_type": "code",
      "metadata": {
        "id": "r3S2ntZFb40C",
        "colab_type": "code",
        "colab": {},
        "outputId": "981f9c6a-445e-4bcc-cecb-8acc517e6b5a"
      },
      "source": [
        "df.iloc[:5].iloc[2:, 1:4]\n",
        "# Your code here"
      ],
      "execution_count": null,
      "outputs": [
        {
          "output_type": "execute_result",
          "data": {
            "text/html": [
              "<div>\n",
              "<style scoped>\n",
              "    .dataframe tbody tr th:only-of-type {\n",
              "        vertical-align: middle;\n",
              "    }\n",
              "\n",
              "    .dataframe tbody tr th {\n",
              "        vertical-align: top;\n",
              "    }\n",
              "\n",
              "    .dataframe thead th {\n",
              "        text-align: right;\n",
              "    }\n",
              "</style>\n",
              "<table border=\"1\" class=\"dataframe\">\n",
              "  <thead>\n",
              "    <tr style=\"text-align: right;\">\n",
              "      <th></th>\n",
              "      <th>color</th>\n",
              "      <th>food</th>\n",
              "      <th>age</th>\n",
              "    </tr>\n",
              "  </thead>\n",
              "  <tbody>\n",
              "    <tr>\n",
              "      <th>Aaron</th>\n",
              "      <td>red</td>\n",
              "      <td>Mango</td>\n",
              "      <td>12</td>\n",
              "    </tr>\n",
              "    <tr>\n",
              "      <th>Penelope</th>\n",
              "      <td>white</td>\n",
              "      <td>Apple</td>\n",
              "      <td>4</td>\n",
              "    </tr>\n",
              "    <tr>\n",
              "      <th>Dean</th>\n",
              "      <td>gray</td>\n",
              "      <td>Cheese</td>\n",
              "      <td>32</td>\n",
              "    </tr>\n",
              "  </tbody>\n",
              "</table>\n",
              "</div>"
            ],
            "text/plain": [
              "          color    food  age\n",
              "Aaron       red   Mango   12\n",
              "Penelope  white   Apple    4\n",
              "Dean       gray  Cheese   32"
            ]
          },
          "metadata": {
            "tags": []
          },
          "execution_count": 87
        }
      ]
    },
    {
      "cell_type": "markdown",
      "metadata": {
        "id": "9VZz4YMgb40D",
        "colab_type": "text"
      },
      "source": [
        "### Exercise 7\n",
        "<span  style=\"color:green; font-size:16px\">Determine whether the following line of code is chained indexing. If it is, rewrite it so that it is not.</span>"
      ]
    },
    {
      "cell_type": "code",
      "metadata": {
        "id": "54azq_Tjb40D",
        "colab_type": "code",
        "colab": {},
        "outputId": "ea8275a6-b9ab-43fe-c701-c779de2d9a3a"
      },
      "source": [
        "df[df['state'] == 'TX']['age']\n",
        "# Your code here"
      ],
      "execution_count": null,
      "outputs": [
        {
          "output_type": "execute_result",
          "data": {
            "text/plain": [
              "Niko          2\n",
              "Christina    33\n",
              "Cornelia     69\n",
              "Name: age, dtype: int64"
            ]
          },
          "metadata": {
            "tags": []
          },
          "execution_count": 88
        }
      ]
    },
    {
      "cell_type": "markdown",
      "metadata": {
        "id": "qfO2bc-ib40G",
        "colab_type": "text"
      },
      "source": [
        "### Exercise 8\n",
        "<span  style=\"color:green; font-size:16px\">Determine whether the following line of code is chained indexing. If it is, rewrite it so that it is not.</span>"
      ]
    },
    {
      "cell_type": "code",
      "metadata": {
        "id": "JmJ5R1Hwb40G",
        "colab_type": "code",
        "colab": {},
        "outputId": "ed4ce171-43f0-45a0-e78c-a9182469c5fa"
      },
      "source": [
        "df[['state', 'food', 'age', 'height']][['state', 'age']].loc[['Jane', 'Aaron'], ['age', 'state']]\n",
        "# Your code here"
      ],
      "execution_count": null,
      "outputs": [
        {
          "output_type": "execute_result",
          "data": {
            "text/html": [
              "<div>\n",
              "<style scoped>\n",
              "    .dataframe tbody tr th:only-of-type {\n",
              "        vertical-align: middle;\n",
              "    }\n",
              "\n",
              "    .dataframe tbody tr th {\n",
              "        vertical-align: top;\n",
              "    }\n",
              "\n",
              "    .dataframe thead th {\n",
              "        text-align: right;\n",
              "    }\n",
              "</style>\n",
              "<table border=\"1\" class=\"dataframe\">\n",
              "  <thead>\n",
              "    <tr style=\"text-align: right;\">\n",
              "      <th></th>\n",
              "      <th>age</th>\n",
              "      <th>state</th>\n",
              "    </tr>\n",
              "  </thead>\n",
              "  <tbody>\n",
              "    <tr>\n",
              "      <th>Jane</th>\n",
              "      <td>30</td>\n",
              "      <td>NY</td>\n",
              "    </tr>\n",
              "    <tr>\n",
              "      <th>Aaron</th>\n",
              "      <td>12</td>\n",
              "      <td>FL</td>\n",
              "    </tr>\n",
              "  </tbody>\n",
              "</table>\n",
              "</div>"
            ],
            "text/plain": [
              "       age state\n",
              "Jane    30    NY\n",
              "Aaron   12    FL"
            ]
          },
          "metadata": {
            "tags": []
          },
          "execution_count": 89
        }
      ]
    },
    {
      "cell_type": "markdown",
      "metadata": {
        "id": "YUbk4D61b40H",
        "colab_type": "text"
      },
      "source": [
        "### Exercise 9\n",
        "<span  style=\"color:green; font-size:16px\">Change the score for all people who are over 30 years of age to 99 without doing chained indexing.</span>"
      ]
    },
    {
      "cell_type": "code",
      "metadata": {
        "id": "R9hi1_8sb40I",
        "colab_type": "code",
        "colab": {}
      },
      "source": [
        "# Your code here"
      ],
      "execution_count": null,
      "outputs": []
    },
    {
      "cell_type": "markdown",
      "metadata": {
        "id": "RPeJCQvDb40J",
        "colab_type": "text"
      },
      "source": [
        "### Exercise 10\n",
        "<span  style=\"color:green; font-size:16px\">Select the **`color`** and **`food`** columns into their own variable.  Then write one more line of code that will trigger the **`SettingWithCopy`** warning.</span>"
      ]
    },
    {
      "cell_type": "code",
      "metadata": {
        "id": "QdRvU-4Mb40K",
        "colab_type": "code",
        "colab": {}
      },
      "source": [
        "# Your code here"
      ],
      "execution_count": null,
      "outputs": []
    },
    {
      "cell_type": "markdown",
      "metadata": {
        "id": "ra0rZPT2b40L",
        "colab_type": "text"
      },
      "source": [
        "### Exercise 11\n",
        "<span  style=\"color:green; font-size:16px\">Select the **`color`** and **`food`** columns into their own variable like you did in exercise 10.  Do the same operation as you did without getting the warning.</span>"
      ]
    },
    {
      "cell_type": "code",
      "metadata": {
        "id": "DZzXjWQMb40L",
        "colab_type": "code",
        "colab": {}
      },
      "source": [
        "# Your code here"
      ],
      "execution_count": null,
      "outputs": []
    },
    {
      "cell_type": "markdown",
      "metadata": {
        "id": "lMJRhSSTb40M",
        "colab_type": "text"
      },
      "source": [
        "### Exercise 12\n",
        "<span  style=\"color:green; font-size:16px\">Change the values of **`color`**, **`age`**, and **`score`** for **`Niko`** to anything you like</span>"
      ]
    },
    {
      "cell_type": "code",
      "metadata": {
        "id": "j0MplXZIb40M",
        "colab_type": "code",
        "colab": {}
      },
      "source": [
        "# Your code here"
      ],
      "execution_count": null,
      "outputs": []
    }
  ]
}