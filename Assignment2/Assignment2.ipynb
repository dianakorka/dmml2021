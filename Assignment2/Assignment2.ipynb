{
  "nbformat": 4,
  "nbformat_minor": 0,
  "metadata": {
    "colab": {
      "name": "Assignment2.ipynb",
      "provenance": [],
      "collapsed_sections": [
        "ggwsQQ430s7P",
        "Uxnoh22x1NQE",
        "Ef69Or0C2G0w",
        "m5QlsizK29dR",
        "hdgZ5cm2351c",
        "9aSX_T0H6Mhw",
        "AnPpI_li6yg_",
        "p6BHQzMUDAzR"
      ],
      "include_colab_link": true
    },
    "kernelspec": {
      "name": "python3",
      "display_name": "Python 3"
    },
    "language_info": {
      "name": "python"
    }
  },
  "cells": [
    {
      "cell_type": "markdown",
      "metadata": {
        "id": "view-in-github",
        "colab_type": "text"
      },
      "source": [
        "<a href=\"https://colab.research.google.com/github/michalis0/DataMining_and_MachineLearning/blob/master/Assignment2/Assignment2.ipynb\" target=\"_parent\"><img src=\"https://colab.research.google.com/assets/colab-badge.svg\" alt=\"Open In Colab\"/></a>"
      ]
    },
    {
      "cell_type": "markdown",
      "metadata": {
        "id": "xKZsLA54_9EO"
      },
      "source": [
        "# Data Mining and Machine Learning - Assignment 2\n",
        "\n",
        "> Topics Covered: Classification (week 6 to week 7)\n",
        "\n",
        "**Due: Sunday November 21, 11.59pm**\n",
        "\n",
        "\n",
        "To complete the assignment you have to do ***both***:\n",
        "\n",
        "1. Complete the exercises and [submit your Python notebook](https://moodle.unil.ch/mod/assign/view.php?id=1182268)\n",
        "2. Answer the questions to the [quiz on Moodle](https://moodle.unil.ch/mod/quiz/view.php?id=1182280)\n",
        ">Note: You can only complete the quiz *one time*. Have your notebook ready with your solutions for answering the quiz. \n",
        "\n",
        "The answers to the quiz should be supported by your code in the notebook. If they are not you will not receive points for them.\n",
        "\n",
        "**IMPORTANT!** You can discuss the questions with other students but **do not exchange code!** This is individual work. We will run your code and check for similarities.\n",
        "\n",
        "You can post your questions in [slack channel #assignment_questions](https://app.slack.com/client/T02C4KVGVMX/C02BBA2TFQF).\n",
        "\n",
        "\n",
        "If there is need for further clarifications on the questions, after the assignment is released, we will update this file on GitHub, so make sure you check the git repo for updates.\n",
        "\n",
        "To get started, run the first few cells to load the dataset and then check out the questions.\n",
        "\n",
        "Good luck!"
      ]
    },
    {
      "cell_type": "code",
      "metadata": {
        "id": "lzK7uuJqBf-g"
      },
      "source": [
        "# Import required packages\n",
        "\n",
        "%matplotlib inline\n",
        "import numpy as np\n",
        "import matplotlib.pyplot as plt\n",
        "import pandas as pd \n",
        "import seaborn as sns\n",
        "sns.set_style(\"whitegrid\")"
      ],
      "execution_count": null,
      "outputs": []
    },
    {
      "cell_type": "markdown",
      "metadata": {
        "id": "gV9UH9Y9CDUb"
      },
      "source": [
        "**Important!**\n",
        "\n",
        "**For all the questions below, fix the seed of random generators to 72.**"
      ]
    },
    {
      "cell_type": "code",
      "metadata": {
        "id": "nfz1e8kmB3fw"
      },
      "source": [
        "np.random.seed = 72"
      ],
      "execution_count": null,
      "outputs": []
    },
    {
      "cell_type": "markdown",
      "metadata": {
        "id": "zkMhOCYSCOmH"
      },
      "source": [
        "# Classification\n",
        "\n",
        "For the first part we use employee retention data from [Kaggle](https://www.kaggle.com/pankeshpatel/hrcommasep). The dataset contains HR information on a company's employees such as:\n",
        "* satisfaction level, ranges from 0 to 1\n",
        "* score of the last evaluation they received, ranges from 0 to 1\n",
        "* number of projects in which the employee is involved \n",
        "* average number of hours worked per month\n",
        "* years spent with the company\n",
        "* whether they experienced a work accident (1 if yes, 0 if no)\n",
        "* whether they left thier job (1) or stayed with the company (0)\n",
        "* whether they received a promotion in the last 5 years (1 if yes, 0 if no)\n",
        "* the department in which they work\n",
        "* whether their salary was low, medium or high.\n",
        "\n",
        "### _Your task is to build a model that predicts whether an employee stays (0) or leaves the company (1)._\n",
        "\n",
        "### 1. Load the data"
      ]
    },
    {
      "cell_type": "code",
      "metadata": {
        "id": "r8vG7eB6FBFe"
      },
      "source": [
        "# Load data\n",
        "df=pd.read_csv('https://raw.githubusercontent.com/michalis0/DataMining_and_MachineLearning/master/data/HR_comma_sep.csv')\n",
        "df.head()"
      ],
      "execution_count": null,
      "outputs": []
    },
    {
      "cell_type": "markdown",
      "metadata": {
        "id": "XjJUPGBhGkWl"
      },
      "source": [
        "#### 1.1. How many rows and columns does the dataset have?"
      ]
    },
    {
      "cell_type": "code",
      "metadata": {
        "id": "t2vhggADGC_j"
      },
      "source": [
        "#your code here\n"
      ],
      "execution_count": null,
      "outputs": []
    },
    {
      "cell_type": "markdown",
      "metadata": {
        "id": "CKhxJGwek5Uo"
      },
      "source": [
        "#### 1.2. Looking at the `left` column, which shows 1 if an employee left their job and 0 if they stayed, calculate and show the frequency of each class in the total dataset. "
      ]
    },
    {
      "cell_type": "code",
      "metadata": {
        "id": "0Lk2MlFJlgXx"
      },
      "source": [
        "# your code here\n"
      ],
      "execution_count": null,
      "outputs": []
    },
    {
      "cell_type": "markdown",
      "metadata": {
        "id": "aoopUs5tImLE"
      },
      "source": [
        "\n",
        "### 2. Encode categorical variables\n",
        "\n",
        "\n",
        "For the following categorical features:\n",
        "- encode `salary` with two different encoders: a label encoder, an ordinal encoder (keep both), and\n",
        "- `department` with one hot encoding. \n",
        "\n"
      ]
    },
    {
      "cell_type": "code",
      "metadata": {
        "id": "zQXR8WIZLRNE"
      },
      "source": [
        "# import some additional packages\n",
        "from sklearn.preprocessing import OrdinalEncoder, OneHotEncoder, LabelEncoder\n",
        "from sklearn.linear_model import LogisticRegression, LogisticRegressionCV\n",
        "from sklearn.model_selection import train_test_split\n",
        "from sklearn.metrics import confusion_matrix, accuracy_score, precision_score, recall_score, f1_score\n",
        "from sklearn. preprocessing import StandardScaler"
      ],
      "execution_count": null,
      "outputs": []
    },
    {
      "cell_type": "markdown",
      "metadata": {
        "id": "sjAsVeI_ZL35"
      },
      "source": [
        "#### 2.1. Use a LabelEncoder to encode `salary` as `le_salary`."
      ]
    },
    {
      "cell_type": "code",
      "metadata": {
        "id": "VT14zC0LZTb5"
      },
      "source": [
        "# your code here\n"
      ],
      "execution_count": null,
      "outputs": []
    },
    {
      "cell_type": "markdown",
      "metadata": {
        "id": "rT76Rg8nXX5X"
      },
      "source": [
        "#### 2.2. Use an Ordinal Encoder to encode `salary` as `oe_salary`. For the ordinal encoding you should set your own dictionary such that `low salary` corresponds to 0, 1 to medium and 2 to high. "
      ]
    },
    {
      "cell_type": "code",
      "metadata": {
        "id": "MlaIHaSDOttB"
      },
      "source": [
        "# your code here\n"
      ],
      "execution_count": null,
      "outputs": []
    },
    {
      "cell_type": "markdown",
      "metadata": {
        "id": "pG6n5thAaTPL"
      },
      "source": [
        "#### 2.3. Encode the `department` column with one hot encoding."
      ]
    },
    {
      "cell_type": "code",
      "metadata": {
        "id": "LONRrPVqaVtL"
      },
      "source": [
        "#your code here\n"
      ],
      "execution_count": null,
      "outputs": []
    },
    {
      "cell_type": "markdown",
      "metadata": {
        "id": "UWzJoRFib5PH"
      },
      "source": [
        "#### 2.4. Now concatenate all the features (`department` one hot-encoded, and the two versions of encoded `salary`) to the initial dataframe. You can use the `pd.concat` function. \n",
        "> Hint: You should have a total of 22 features in the concatenated dataset."
      ]
    },
    {
      "cell_type": "code",
      "metadata": {
        "id": "DuG_lUKqcQrk"
      },
      "source": [
        "# your code here\n"
      ],
      "execution_count": null,
      "outputs": []
    },
    {
      "cell_type": "markdown",
      "metadata": {
        "id": "yXg5BFFAvlsG"
      },
      "source": [
        "#### 2.5. Create a new column, `eval_spent` equal to the product of two of the existing columns: the `evaluation score` and the `time spent` with the company."
      ]
    },
    {
      "cell_type": "code",
      "metadata": {
        "id": "9y-5jUqVmSVt"
      },
      "source": [
        "# your code here\n"
      ],
      "execution_count": null,
      "outputs": []
    },
    {
      "cell_type": "markdown",
      "metadata": {
        "id": "RGD7oEYNy3RH"
      },
      "source": [
        "### 3. Train a Logistic Regression model with Cross Validation (with Label-Encoded Salary)\n",
        "\n",
        "For this section, train a logistic regression model with cross-validation on the employee retention dataset. Use all of the dependent variable features available from the concatenated dataset, but use only one encoded `salary` column at a time. \n",
        "\n",
        "Your dependent variable (y) is the column named `left`.\n",
        "\n",
        "You can then compare your logistic regression results when using the label-encoded salary and when using the ordinal-encoded salary.\n",
        "\n",
        "#### 3.1. Set the y and X variables. This time using `le_salary`.\n",
        "\n",
        "> Hint: X should have a total of 19 features, namely: 'satisfaction_level', 'last_evaluation',            'number_project', 'average_monthly_hours',           'time_spent_company',         'work_accident',       'promotion_last_5years',                 ('IT',),                   ('RandD',),         ('accounting',), ('hr',),         ('management',),  ('marketing',), ('product_mng',), ('sales',),            ('support',), ('technical',), 'le_salary', 'eval_spent'."
      ]
    },
    {
      "cell_type": "code",
      "metadata": {
        "id": "9299fcT1sKsh"
      },
      "source": [
        "# your code here\n"
      ],
      "execution_count": null,
      "outputs": []
    },
    {
      "cell_type": "markdown",
      "metadata": {
        "id": "btHb7-IHsnys"
      },
      "source": [
        "#### 3.2. Train/test splitting: Now split the data into 80% training and 20% test set. Remember to set the random seed to 72.\n"
      ]
    },
    {
      "cell_type": "code",
      "metadata": {
        "id": "nCgAYgX5s0QZ"
      },
      "source": [
        "# your code here\n"
      ],
      "execution_count": null,
      "outputs": []
    },
    {
      "cell_type": "markdown",
      "metadata": {
        "id": "k6TBBmk_jsgy"
      },
      "source": [
        "#### 3.3. What is the base rate of the classification problem (whether an employee stays or leaves) ?\n",
        "> Hint: calculate the frequency of the most common class on the test set for y"
      ]
    },
    {
      "cell_type": "code",
      "metadata": {
        "id": "5Vk3Hbjsj4Ow"
      },
      "source": [
        "# your code here\n"
      ],
      "execution_count": null,
      "outputs": []
    },
    {
      "cell_type": "code",
      "metadata": {
        "id": "W-2Z6Bc-wdyZ"
      },
      "source": [
        "# store for comparing it later\n"
      ],
      "execution_count": null,
      "outputs": []
    },
    {
      "cell_type": "markdown",
      "metadata": {
        "id": "6kp7Bth_tAzZ"
      },
      "source": [
        "#### 3.4. Finally, train a Logistic Regression model with cross validation. Use the following parameters for Logistic Regression.\n",
        "\n",
        "`LogisticRegressionCV(solver='lbfgs', cv=5, max_iter=1000, random_state=72)`"
      ]
    },
    {
      "cell_type": "code",
      "metadata": {
        "id": "v6rjMI9Ps0D7"
      },
      "source": [
        "# your code here\n"
      ],
      "execution_count": null,
      "outputs": []
    },
    {
      "cell_type": "markdown",
      "metadata": {
        "id": "ueQMjfHku1yt"
      },
      "source": [
        "#### 3.5. What is the test accuracy? What is the train accuracy?"
      ]
    },
    {
      "cell_type": "code",
      "metadata": {
        "id": "yX73g379u4q4"
      },
      "source": [
        "# your code here\n"
      ],
      "execution_count": null,
      "outputs": []
    },
    {
      "cell_type": "code",
      "metadata": {
        "id": "gMv0zPKGp9Ir"
      },
      "source": [
        "# storing the first test-accuracy score for comparing it later\n"
      ],
      "execution_count": null,
      "outputs": []
    },
    {
      "cell_type": "markdown",
      "metadata": {
        "id": "cAKLieirvIfm"
      },
      "source": [
        "#### 3.6. Calculate the precision and recall on the test set."
      ]
    },
    {
      "cell_type": "code",
      "metadata": {
        "id": "-smGt5mXvJFR"
      },
      "source": [
        "# your code here\n"
      ],
      "execution_count": null,
      "outputs": []
    },
    {
      "cell_type": "markdown",
      "metadata": {
        "id": "wKXpzetYxxaJ"
      },
      "source": [
        "#### 3.7. Plot the confusion matrix"
      ]
    },
    {
      "cell_type": "code",
      "metadata": {
        "id": "rSZyi_Y3sz2Q"
      },
      "source": [
        "# your code here\n"
      ],
      "execution_count": null,
      "outputs": []
    },
    {
      "cell_type": "markdown",
      "metadata": {
        "id": "sC_GAUVZyVvP"
      },
      "source": [
        "### 4. Logistic Regression with Cross Validation (with Ordinal-Encoded Salary)\n",
        "#### 4.1. One more time, set the y and X variables, this time using `oe_salary` instead of `le_salary`.\n",
        "\n",
        "> Hint: X shoud contain the following 19 features 'satisfaction_level', 'last_evaluation', 'number_project',\n",
        "       'average_monthly_hours', 'time_spent_company', 'eval_spent','work_accident',\n",
        "       'promotion_last_5years', ('IT',), ('RandD',), ('accounting',),\n",
        "       ('hr',), ('management',), ('marketing',), ('product_mng',),\n",
        "       ('sales',), ('support',), ('technical',), 'oe_salary'."
      ]
    },
    {
      "cell_type": "code",
      "metadata": {
        "id": "Z8KeZ4Y0c_Vq"
      },
      "source": [
        "# your code here\n"
      ],
      "execution_count": null,
      "outputs": []
    },
    {
      "cell_type": "markdown",
      "metadata": {
        "id": "hpiThHMOcu4g"
      },
      "source": [
        "\n",
        "#### 4.2. Train/test splitting¶: Now split the data into 80% training and 20% test set. Remember to set the random seed to 72.\n"
      ]
    },
    {
      "cell_type": "code",
      "metadata": {
        "id": "yQBUxCExeFiW"
      },
      "source": [
        "# your code here\n"
      ],
      "execution_count": null,
      "outputs": []
    },
    {
      "cell_type": "markdown",
      "metadata": {
        "id": "FI07dGPezBcp"
      },
      "source": [
        "#### 4.3. Finally, train a Logistic Regression model with cross validation. Use the same parameters as before for Logistic RegressionCV. These are copied again below.\n",
        "\n",
        "`LogisticRegressionCV(solver='lbfgs', cv=5, max_iter=1000, random_state=72)`"
      ]
    },
    {
      "cell_type": "code",
      "metadata": {
        "id": "fkWs6d6HzAhQ"
      },
      "source": [
        "# your code here\n"
      ],
      "execution_count": null,
      "outputs": []
    },
    {
      "cell_type": "markdown",
      "metadata": {
        "id": "Jc4D3VyVzVYf"
      },
      "source": [
        "#### 4.4 What are accuracy, precision and recall on the test set?"
      ]
    },
    {
      "cell_type": "code",
      "metadata": {
        "id": "YVVDLcVhzhwS"
      },
      "source": [
        "# your code here\n"
      ],
      "execution_count": null,
      "outputs": []
    },
    {
      "cell_type": "code",
      "metadata": {
        "id": "s3KA5KYhwvSx"
      },
      "source": [
        "# store your test accuracy for later\n"
      ],
      "execution_count": null,
      "outputs": []
    },
    {
      "cell_type": "markdown",
      "metadata": {
        "id": "2GOmCRGsrp2M"
      },
      "source": [
        "#### 4.5. Plot the confusion matrix."
      ]
    },
    {
      "cell_type": "code",
      "metadata": {
        "id": "UPRF8EVazuMZ"
      },
      "source": [
        "# your code here\n"
      ],
      "execution_count": null,
      "outputs": []
    },
    {
      "cell_type": "markdown",
      "metadata": {
        "id": "iOmMrPwzeYpR"
      },
      "source": [
        "### 5. Logistic Regression with Standardisation and Cross Validation\n",
        "\n",
        "Try to improve the previous model under point 4 (with `oe_salary`) using standardisation. \n",
        "\n",
        "#### 5.1. Standardize only these numerical features: `satisfaction_level`, `last_evaluation`, `number_project`, `average_monthly_hours`, `time_spent_company`, `eval_spent`, so that each have a mean of zero and a standard deviation of 1. You can use the Scikit-learn `StandardScaler` function.\n",
        "> Hint: remember to use only the training set for fiting the StandardScaler, then apply the scaler (transform) to both the train and test sets.\n",
        ">\n",
        "> Hint 2: X shoud contain the following 19 features 'satisfaction_level', 'last_evaluation', 'number_project',\n",
        "       'average_monthly_hours', 'time_spent_company', 'eval_spent','work_accident',\n",
        "       'promotion_last_5years', ('IT',), ('RandD',), ('accounting',),\n",
        "       ('hr',), ('management',), ('marketing',), ('product_mng',),\n",
        "       ('sales',), ('support',), ('technical',), 'oe_salary'.\n"
      ]
    },
    {
      "cell_type": "code",
      "metadata": {
        "id": "--3fuA6ge1sW"
      },
      "source": [
        "# your code here\n"
      ],
      "execution_count": null,
      "outputs": []
    },
    {
      "cell_type": "markdown",
      "metadata": {
        "id": "Jxuz3ooZkxm5"
      },
      "source": [
        "#### 5.2. Training\n",
        "\n",
        "Train a Logistic Regression model with Cross Validation on the pre-processed dataset to which you applied standardisation. Use the same parameters for LogisticRegressionCV as before. These are copied below.\n",
        "\n",
        "`LogisticRegressionCV(solver='lbfgs', cv=5, max_iter=1000, random_state=72)`\n",
        "\n"
      ]
    },
    {
      "cell_type": "code",
      "metadata": {
        "id": "MW--o0sHk-2-"
      },
      "source": [
        "# your code here\n"
      ],
      "execution_count": null,
      "outputs": []
    },
    {
      "cell_type": "markdown",
      "metadata": {
        "id": "G8e1k-cTld4s"
      },
      "source": [
        "#### 5.3. What is the test accuracy? What is the train accuracy?"
      ]
    },
    {
      "cell_type": "code",
      "metadata": {
        "id": "oRM8iaRslddX"
      },
      "source": [
        "# your code here\n"
      ],
      "execution_count": null,
      "outputs": []
    },
    {
      "cell_type": "code",
      "metadata": {
        "id": "xoepEdpLw4lA"
      },
      "source": [
        "# store the test accuracy for later\n"
      ],
      "execution_count": null,
      "outputs": []
    },
    {
      "cell_type": "markdown",
      "metadata": {
        "id": "TwqF0NopnNcv"
      },
      "source": [
        "#### 5.4. Calculate the precision and recall on the test set."
      ]
    },
    {
      "cell_type": "code",
      "metadata": {
        "id": "gRY2UFNNnZub"
      },
      "source": [
        "# your code here\n"
      ],
      "execution_count": null,
      "outputs": []
    },
    {
      "cell_type": "markdown",
      "metadata": {
        "id": "KiE8eSDNnpMj"
      },
      "source": [
        "#### 5.5. Show the confusion matrix for the test set"
      ]
    },
    {
      "cell_type": "code",
      "metadata": {
        "id": "oFblg98AntID"
      },
      "source": [
        "# your code here\n"
      ],
      "execution_count": null,
      "outputs": []
    },
    {
      "cell_type": "markdown",
      "metadata": {
        "id": "gP60c3W1gger"
      },
      "source": [
        "#### 5.6. Plot the confusion matrix"
      ]
    },
    {
      "cell_type": "code",
      "metadata": {
        "id": "agoL8LZWguFt"
      },
      "source": [
        "# your code here\n"
      ],
      "execution_count": null,
      "outputs": []
    },
    {
      "cell_type": "markdown",
      "metadata": {
        "id": "IugsRC-jXOOF"
      },
      "source": [
        "#### 5.7. Use the logistic regression model with standardisation and cross validation to predict whether a employee with the following characteristics will stay on the job or leave:\n",
        "\n",
        "> An employee from the sales department, low salary, satisfaction 0.43, last evaluation 0.97, involved in 6 projects, working 284 monthly hours, 4 years spent with the company, 0 work accident and 0 promotions in the last 5 years."
      ]
    },
    {
      "cell_type": "code",
      "metadata": {
        "id": "aFbXuh8dXVqz"
      },
      "source": [
        "# these are the X-values for which you should make the prediction\n",
        "X_new = pd.DataFrame({'satisfaction_level': 0.43, 'last_evaluation': 0.97, 'number_project': 6,\n",
        "       'average_monthly_hours': 284, 'time_spent_company': 4, 'eval_spent': 3.88, \n",
        "       'work_accident': 0, 'promotion_last_5years': 0, ('IT',): 0, ('RandD',): 0, ('accounting',): 0,\n",
        "       ('hr',): 0, ('management',): 0, ('marketing',): 0, ('product_mng',): 0,\n",
        "       ('sales',): 1, ('support',): 0, ('technical',): 0, 'oe_salary': 0}, index=[0])\n",
        "X_new"
      ],
      "execution_count": null,
      "outputs": []
    },
    {
      "cell_type": "code",
      "metadata": {
        "id": "X6lnBXFxS_ik"
      },
      "source": [
        "# your code here"
      ],
      "execution_count": null,
      "outputs": []
    },
    {
      "cell_type": "markdown",
      "metadata": {
        "id": "ZZ4x4uoIieJe"
      },
      "source": [
        "### 6. KNN with standardisation\n",
        "\n",
        "#### 6.1. Train a model using a K-Nearest Neighbours (KNN) algorithm, setting `knn = KNeighborsClassifier(n_neighbors=2)`. Use the same features as in the previous model (`oe_salary`) and standardisation.\n",
        "\n",
        "> Hint: X shoud contain the following 19 features 'satisfaction_level', 'last_evaluation', 'number_project',\n",
        "       'average_monthly_hours', 'time_spent_company', 'eval_spent','work_accident',\n",
        "       'promotion_last_5years', ('IT',), ('RandD',), ('accounting',),\n",
        "       ('hr',), ('management',), ('marketing',), ('product_mng',),\n",
        "       ('sales',), ('support',), ('technical',), 'oe_salary'."
      ]
    },
    {
      "cell_type": "code",
      "metadata": {
        "id": "9FHx6ToXkXdH"
      },
      "source": [
        "# your code here\n"
      ],
      "execution_count": null,
      "outputs": []
    },
    {
      "cell_type": "markdown",
      "metadata": {
        "id": "_D_OMunOmjrt"
      },
      "source": [
        "#### 6.2. What is the train and test accuracy?"
      ]
    },
    {
      "cell_type": "code",
      "metadata": {
        "id": "41or1EWqDFn3"
      },
      "source": [
        "# your code here\n"
      ],
      "execution_count": null,
      "outputs": []
    },
    {
      "cell_type": "code",
      "metadata": {
        "id": "I7Qf7nJixb6W"
      },
      "source": [
        "# store the test-accuracy for later\n"
      ],
      "execution_count": null,
      "outputs": []
    },
    {
      "cell_type": "markdown",
      "metadata": {
        "id": "FL2KCnrXm8RD"
      },
      "source": [
        "#### 6.3. What is the precision and recall?"
      ]
    },
    {
      "cell_type": "code",
      "metadata": {
        "id": "6B3B9MKmm_My"
      },
      "source": [
        "# your code here\n"
      ],
      "execution_count": null,
      "outputs": []
    },
    {
      "cell_type": "markdown",
      "metadata": {
        "id": "kd1N5wMlmn8J"
      },
      "source": [
        "#### 6.4. Print and plot the confusion matrix"
      ]
    },
    {
      "cell_type": "code",
      "metadata": {
        "id": "b5QSYum1lqRN"
      },
      "source": [
        "# your code here\n"
      ],
      "execution_count": null,
      "outputs": []
    },
    {
      "cell_type": "markdown",
      "metadata": {
        "id": "kWMZOW63GtSZ"
      },
      "source": [
        "#### 6.5. Use the K-Nearest Neighbours (KNN) model trained above to predict whether a employee with the characteristics outilined below will stay on the job. This is the same employee as before under point 5.7.\n",
        "\n",
        "> An employee from the sales department, low salary, satisfaction 0.43, last evaluation 0.97, involved in 6 projects, working 284 monthly hours, 4 years spent with the company, 0 work accident and 0 promotions in the last 5 years. (same as before)\n",
        ">\n",
        "> Hint: do not forget to apply standardisation to the data for the new employee for which you want to make the prediction."
      ]
    },
    {
      "cell_type": "code",
      "metadata": {
        "id": "TeMJ-3nbymnQ"
      },
      "source": [
        "# these are the X-values for which you should make the prediction\n",
        "X_new = pd.DataFrame({'satisfaction_level': 0.43, 'last_evaluation': 0.97, 'number_project': 6,\n",
        "       'average_monthly_hours': 284, 'time_spent_company': 4, 'eval_spent': 3.88, \n",
        "       'work_accident': 0, 'promotion_last_5years': 0, ('IT',): 0, ('RandD',): 0, ('accounting',): 0,\n",
        "       ('hr',): 0, ('management',): 0, ('marketing',): 0, ('product_mng',): 0,\n",
        "       ('sales',): 1, ('support',): 0, ('technical',): 0, 'oe_salary': 0}, index=[0])\n",
        "X_new"
      ],
      "execution_count": null,
      "outputs": []
    },
    {
      "cell_type": "code",
      "metadata": {
        "id": "o0qdDuAjMU_G"
      },
      "source": [
        "# your code here\n"
      ],
      "execution_count": null,
      "outputs": []
    },
    {
      "cell_type": "markdown",
      "metadata": {
        "id": "bsnPOjTLIAb5"
      },
      "source": [
        "### 7. Decision Tree Classifier and Standardisation\n",
        "\n",
        "#### 7.1. Use the same features as before (with `oe_salary`) and standardisation to train your model of emloyee retention. Use the following parameters for your decision tree: `DecisionTreeClassifier(max_depth=7, random_state=72)`\n",
        "\n",
        "> Hint: X should have a total of 19 features, namely: 'satisfaction_level', 'last_evaluation',            'number_project', 'average_monthly_hours',           'time_spent_company',         'work_accident',       'promotion_last_5years',                 ('IT',),                   ('RandD',),         ('accounting',), ('hr',),         ('management',),  ('marketing',), ('product_mng',), ('sales',),            ('support',), ('technical',), 'oe_salary', 'eval_spent'.\n"
      ]
    },
    {
      "cell_type": "code",
      "metadata": {
        "id": "xlDAUBkcH_iq"
      },
      "source": [
        "from sklearn.tree import DecisionTreeClassifier\n",
        "tree=DecisionTreeClassifier(max_depth=7, random_state=72)"
      ],
      "execution_count": null,
      "outputs": []
    },
    {
      "cell_type": "code",
      "metadata": {
        "id": "1_uupNg6H_Us"
      },
      "source": [
        "# your code here\n"
      ],
      "execution_count": null,
      "outputs": []
    },
    {
      "cell_type": "markdown",
      "metadata": {
        "id": "G2FpmqNjJ66g"
      },
      "source": [
        "#### 7.2. Calculate the test and train accuracy."
      ]
    },
    {
      "cell_type": "code",
      "metadata": {
        "id": "mQULc9q6H_LX"
      },
      "source": [
        "# your code here\n"
      ],
      "execution_count": null,
      "outputs": []
    },
    {
      "cell_type": "code",
      "metadata": {
        "id": "-XSqSItkxj9h"
      },
      "source": [
        "# store for the test-accuracy for later\n"
      ],
      "execution_count": null,
      "outputs": []
    },
    {
      "cell_type": "markdown",
      "metadata": {
        "id": "Q5RqEnqtOp4i"
      },
      "source": [
        "#### 7.3. Calculate precision and recall on the test set"
      ]
    },
    {
      "cell_type": "code",
      "metadata": {
        "id": "toVqjFO9O27Y"
      },
      "source": [
        "# your code here\n"
      ],
      "execution_count": null,
      "outputs": []
    },
    {
      "cell_type": "markdown",
      "metadata": {
        "id": "BwZd3GFTPa62"
      },
      "source": [
        "#### 7.4. Plot the confusion matrix"
      ]
    },
    {
      "cell_type": "code",
      "metadata": {
        "id": "Dc5v4veLMThI"
      },
      "source": [
        "# your code here\n"
      ],
      "execution_count": null,
      "outputs": []
    },
    {
      "cell_type": "markdown",
      "metadata": {
        "id": "TI36pgVHv3Dy"
      },
      "source": [
        "### 8. Accuracy improvement\n",
        "\n",
        "Generate a plot with the different test accuracy scores obtained for the different models trained and including the base rate you calculated in the beginning."
      ]
    },
    {
      "cell_type": "code",
      "metadata": {
        "id": "qGN0jmaMv1fP"
      },
      "source": [
        "# your code here\n"
      ],
      "execution_count": null,
      "outputs": []
    }
  ]
}