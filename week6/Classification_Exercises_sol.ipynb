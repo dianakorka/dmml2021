{
  "nbformat": 4,
  "nbformat_minor": 0,
  "metadata": {
    "colab": {
      "name": "Classification_Exercises_sol.ipynb",
      "provenance": [],
      "collapsed_sections": [],
      "include_colab_link": true
    },
    "kernelspec": {
      "display_name": "Python 3",
      "language": "python",
      "name": "python3"
    },
    "language_info": {
      "codemirror_mode": {
        "name": "ipython",
        "version": 3
      },
      "file_extension": ".py",
      "mimetype": "text/x-python",
      "name": "python",
      "nbconvert_exporter": "python",
      "pygments_lexer": "ipython3",
      "version": "3.6.9"
    }
  },
  "cells": [
    {
      "cell_type": "markdown",
      "metadata": {
        "id": "view-in-github",
        "colab_type": "text"
      },
      "source": [
        "<a href=\"https://colab.research.google.com/github/michalis0/DataMining_and_MachineLearning/blob/master/week6/Classification_Exercises_sol.ipynb\" target=\"_parent\"><img src=\"https://colab.research.google.com/assets/colab-badge.svg\" alt=\"Open In Colab\"/></a>"
      ]
    },
    {
      "cell_type": "markdown",
      "metadata": {
        "id": "R1BSf8GX2sQd"
      },
      "source": [
        "# Data Mining and Machine Learning - Week 6\n",
        "# Classification - Exercises Solution\n",
        "\n",
        "This is an exercise based on a sample from the Titanic dataset."
      ]
    },
    {
      "cell_type": "code",
      "metadata": {
        "id": "2D9mQhcj2sQe"
      },
      "source": [
        "# Import required packages\n",
        "import  numpy as np\n",
        "import pandas as pd\n",
        "import matplotlib.pyplot as plt\n",
        "from sklearn.preprocessing import LabelEncoder, OneHotEncoder\n",
        "from sklearn.linear_model import LogisticRegression, LogisticRegressionCV\n",
        "from sklearn.model_selection import train_test_split\n",
        "from sklearn.metrics import confusion_matrix, accuracy_score, precision_score, recall_score, f1_score\n",
        "\n",
        "%matplotlib inline"
      ],
      "execution_count": 1,
      "outputs": []
    },
    {
      "cell_type": "markdown",
      "metadata": {
        "id": "KDiVdtK2hPaQ"
      },
      "source": [
        "### Load Data"
      ]
    },
    {
      "cell_type": "code",
      "metadata": {
        "id": "Q1CKWYwc2sQh",
        "colab": {
          "base_uri": "https://localhost:8080/",
          "height": 206
        },
        "outputId": "77447fcf-e307-4389-8a15-9e4aa138627c"
      },
      "source": [
        "data = pd.read_csv(\"https://raw.githubusercontent.com/michalis0/DataMining_and_MachineLearning/master/week6/data/Sample-Data-Titanic-Survival.csv\")\n",
        "data.head()"
      ],
      "execution_count": 3,
      "outputs": [
        {
          "output_type": "execute_result",
          "data": {
            "text/html": [
              "<div>\n",
              "<style scoped>\n",
              "    .dataframe tbody tr th:only-of-type {\n",
              "        vertical-align: middle;\n",
              "    }\n",
              "\n",
              "    .dataframe tbody tr th {\n",
              "        vertical-align: top;\n",
              "    }\n",
              "\n",
              "    .dataframe thead th {\n",
              "        text-align: right;\n",
              "    }\n",
              "</style>\n",
              "<table border=\"1\" class=\"dataframe\">\n",
              "  <thead>\n",
              "    <tr style=\"text-align: right;\">\n",
              "      <th></th>\n",
              "      <th>Class</th>\n",
              "      <th>Age</th>\n",
              "      <th>Sex</th>\n",
              "      <th>SurvivalStatus</th>\n",
              "    </tr>\n",
              "  </thead>\n",
              "  <tbody>\n",
              "    <tr>\n",
              "      <th>0</th>\n",
              "      <td>1st</td>\n",
              "      <td>Quantity[29., \"Years\"]</td>\n",
              "      <td>female</td>\n",
              "      <td>survived</td>\n",
              "    </tr>\n",
              "    <tr>\n",
              "      <th>1</th>\n",
              "      <td>1st</td>\n",
              "      <td>Quantity[0.9167, \"Years\"]</td>\n",
              "      <td>male</td>\n",
              "      <td>survived</td>\n",
              "    </tr>\n",
              "    <tr>\n",
              "      <th>2</th>\n",
              "      <td>1st</td>\n",
              "      <td>Quantity[2., \"Years\"]</td>\n",
              "      <td>female</td>\n",
              "      <td>died</td>\n",
              "    </tr>\n",
              "    <tr>\n",
              "      <th>3</th>\n",
              "      <td>1st</td>\n",
              "      <td>Quantity[30., \"Years\"]</td>\n",
              "      <td>male</td>\n",
              "      <td>died</td>\n",
              "    </tr>\n",
              "    <tr>\n",
              "      <th>4</th>\n",
              "      <td>1st</td>\n",
              "      <td>Quantity[25., \"Years\"]</td>\n",
              "      <td>female</td>\n",
              "      <td>died</td>\n",
              "    </tr>\n",
              "  </tbody>\n",
              "</table>\n",
              "</div>"
            ],
            "text/plain": [
              "  Class                        Age     Sex SurvivalStatus\n",
              "0   1st     Quantity[29., \"Years\"]  female       survived\n",
              "1   1st  Quantity[0.9167, \"Years\"]    male       survived\n",
              "2   1st      Quantity[2., \"Years\"]  female           died\n",
              "3   1st     Quantity[30., \"Years\"]    male           died\n",
              "4   1st     Quantity[25., \"Years\"]  female           died"
            ]
          },
          "metadata": {},
          "execution_count": 3
        }
      ]
    },
    {
      "cell_type": "code",
      "metadata": {
        "id": "YHybnOddh1bf",
        "colab": {
          "base_uri": "https://localhost:8080/",
          "height": 206
        },
        "outputId": "58d23a83-cd43-4e12-feeb-e26ed87f7f52"
      },
      "source": [
        "# Clean data\n",
        "data[\"Age\"] = data[\"Age\"].map(lambda x: float(x.strip('Quantity[').split(\",\")[0].replace('Missing[\"Not Available\"]', \"-1.\")))\n",
        "data = data.replace(-1.0, np.nan)\n",
        "data.head()"
      ],
      "execution_count": 4,
      "outputs": [
        {
          "output_type": "execute_result",
          "data": {
            "text/html": [
              "<div>\n",
              "<style scoped>\n",
              "    .dataframe tbody tr th:only-of-type {\n",
              "        vertical-align: middle;\n",
              "    }\n",
              "\n",
              "    .dataframe tbody tr th {\n",
              "        vertical-align: top;\n",
              "    }\n",
              "\n",
              "    .dataframe thead th {\n",
              "        text-align: right;\n",
              "    }\n",
              "</style>\n",
              "<table border=\"1\" class=\"dataframe\">\n",
              "  <thead>\n",
              "    <tr style=\"text-align: right;\">\n",
              "      <th></th>\n",
              "      <th>Class</th>\n",
              "      <th>Age</th>\n",
              "      <th>Sex</th>\n",
              "      <th>SurvivalStatus</th>\n",
              "    </tr>\n",
              "  </thead>\n",
              "  <tbody>\n",
              "    <tr>\n",
              "      <th>0</th>\n",
              "      <td>1st</td>\n",
              "      <td>29.0000</td>\n",
              "      <td>female</td>\n",
              "      <td>survived</td>\n",
              "    </tr>\n",
              "    <tr>\n",
              "      <th>1</th>\n",
              "      <td>1st</td>\n",
              "      <td>0.9167</td>\n",
              "      <td>male</td>\n",
              "      <td>survived</td>\n",
              "    </tr>\n",
              "    <tr>\n",
              "      <th>2</th>\n",
              "      <td>1st</td>\n",
              "      <td>2.0000</td>\n",
              "      <td>female</td>\n",
              "      <td>died</td>\n",
              "    </tr>\n",
              "    <tr>\n",
              "      <th>3</th>\n",
              "      <td>1st</td>\n",
              "      <td>30.0000</td>\n",
              "      <td>male</td>\n",
              "      <td>died</td>\n",
              "    </tr>\n",
              "    <tr>\n",
              "      <th>4</th>\n",
              "      <td>1st</td>\n",
              "      <td>25.0000</td>\n",
              "      <td>female</td>\n",
              "      <td>died</td>\n",
              "    </tr>\n",
              "  </tbody>\n",
              "</table>\n",
              "</div>"
            ],
            "text/plain": [
              "  Class      Age     Sex SurvivalStatus\n",
              "0   1st  29.0000  female       survived\n",
              "1   1st   0.9167    male       survived\n",
              "2   1st   2.0000  female           died\n",
              "3   1st  30.0000    male           died\n",
              "4   1st  25.0000  female           died"
            ]
          },
          "metadata": {},
          "execution_count": 4
        }
      ]
    },
    {
      "cell_type": "code",
      "metadata": {
        "id": "VCrCRiEnjwow",
        "colab": {
          "base_uri": "https://localhost:8080/"
        },
        "outputId": "7d07b51e-a4f6-4c22-a602-da7c844ff2a9"
      },
      "source": [
        "data.info()"
      ],
      "execution_count": 5,
      "outputs": [
        {
          "output_type": "stream",
          "name": "stdout",
          "text": [
            "<class 'pandas.core.frame.DataFrame'>\n",
            "RangeIndex: 1309 entries, 0 to 1308\n",
            "Data columns (total 4 columns):\n",
            " #   Column          Non-Null Count  Dtype  \n",
            "---  ------          --------------  -----  \n",
            " 0   Class           1309 non-null   object \n",
            " 1   Age             1046 non-null   float64\n",
            " 2   Sex             1309 non-null   object \n",
            " 3   SurvivalStatus  1309 non-null   object \n",
            "dtypes: float64(1), object(3)\n",
            "memory usage: 41.0+ KB\n"
          ]
        }
      ]
    },
    {
      "cell_type": "code",
      "metadata": {
        "id": "ttqhlTL7mK0K",
        "colab": {
          "base_uri": "https://localhost:8080/"
        },
        "outputId": "9b084013-5d20-471e-b0da-55976fcd3ef8"
      },
      "source": [
        "data = data.dropna().reset_index(drop=True)\n",
        "data.info()"
      ],
      "execution_count": 6,
      "outputs": [
        {
          "output_type": "stream",
          "name": "stdout",
          "text": [
            "<class 'pandas.core.frame.DataFrame'>\n",
            "RangeIndex: 1046 entries, 0 to 1045\n",
            "Data columns (total 4 columns):\n",
            " #   Column          Non-Null Count  Dtype  \n",
            "---  ------          --------------  -----  \n",
            " 0   Class           1046 non-null   object \n",
            " 1   Age             1046 non-null   float64\n",
            " 2   Sex             1046 non-null   object \n",
            " 3   SurvivalStatus  1046 non-null   object \n",
            "dtypes: float64(1), object(3)\n",
            "memory usage: 32.8+ KB\n"
          ]
        }
      ]
    },
    {
      "cell_type": "markdown",
      "metadata": {
        "id": "IfFBcCV_nRFG"
      },
      "source": [
        "### 1. Create a new DataFrame where you encode the different categorical features as follows:\n",
        "* Use one-hot encoding for `Class`\n",
        "* Use label encoding for `Sex` and `SurvivalStatus`"
      ]
    },
    {
      "cell_type": "code",
      "metadata": {
        "id": "yFUEig7y2sQp",
        "colab": {
          "base_uri": "https://localhost:8080/",
          "height": 424
        },
        "outputId": "14c01f05-f77c-4f85-bae6-e45ebef67af3"
      },
      "source": [
        "# One-hot encoding\n",
        "one_hot = OneHotEncoder()\n",
        "cat_to_onehot = one_hot.fit_transform(data[[\"Class\"]]).toarray()\n",
        "cat_to_onehot = pd.DataFrame(cat_to_onehot, columns=one_hot.categories_)\n",
        "cat_to_onehot"
      ],
      "execution_count": 7,
      "outputs": [
        {
          "output_type": "execute_result",
          "data": {
            "text/html": [
              "<div>\n",
              "<style scoped>\n",
              "    .dataframe tbody tr th:only-of-type {\n",
              "        vertical-align: middle;\n",
              "    }\n",
              "\n",
              "    .dataframe tbody tr th {\n",
              "        vertical-align: top;\n",
              "    }\n",
              "\n",
              "    .dataframe thead tr th {\n",
              "        text-align: left;\n",
              "    }\n",
              "</style>\n",
              "<table border=\"1\" class=\"dataframe\">\n",
              "  <thead>\n",
              "    <tr>\n",
              "      <th></th>\n",
              "      <th>1st</th>\n",
              "      <th>2nd</th>\n",
              "      <th>3rd</th>\n",
              "    </tr>\n",
              "  </thead>\n",
              "  <tbody>\n",
              "    <tr>\n",
              "      <th>0</th>\n",
              "      <td>1.0</td>\n",
              "      <td>0.0</td>\n",
              "      <td>0.0</td>\n",
              "    </tr>\n",
              "    <tr>\n",
              "      <th>1</th>\n",
              "      <td>1.0</td>\n",
              "      <td>0.0</td>\n",
              "      <td>0.0</td>\n",
              "    </tr>\n",
              "    <tr>\n",
              "      <th>2</th>\n",
              "      <td>1.0</td>\n",
              "      <td>0.0</td>\n",
              "      <td>0.0</td>\n",
              "    </tr>\n",
              "    <tr>\n",
              "      <th>3</th>\n",
              "      <td>1.0</td>\n",
              "      <td>0.0</td>\n",
              "      <td>0.0</td>\n",
              "    </tr>\n",
              "    <tr>\n",
              "      <th>4</th>\n",
              "      <td>1.0</td>\n",
              "      <td>0.0</td>\n",
              "      <td>0.0</td>\n",
              "    </tr>\n",
              "    <tr>\n",
              "      <th>...</th>\n",
              "      <td>...</td>\n",
              "      <td>...</td>\n",
              "      <td>...</td>\n",
              "    </tr>\n",
              "    <tr>\n",
              "      <th>1041</th>\n",
              "      <td>0.0</td>\n",
              "      <td>0.0</td>\n",
              "      <td>1.0</td>\n",
              "    </tr>\n",
              "    <tr>\n",
              "      <th>1042</th>\n",
              "      <td>0.0</td>\n",
              "      <td>0.0</td>\n",
              "      <td>1.0</td>\n",
              "    </tr>\n",
              "    <tr>\n",
              "      <th>1043</th>\n",
              "      <td>0.0</td>\n",
              "      <td>0.0</td>\n",
              "      <td>1.0</td>\n",
              "    </tr>\n",
              "    <tr>\n",
              "      <th>1044</th>\n",
              "      <td>0.0</td>\n",
              "      <td>0.0</td>\n",
              "      <td>1.0</td>\n",
              "    </tr>\n",
              "    <tr>\n",
              "      <th>1045</th>\n",
              "      <td>0.0</td>\n",
              "      <td>0.0</td>\n",
              "      <td>1.0</td>\n",
              "    </tr>\n",
              "  </tbody>\n",
              "</table>\n",
              "<p>1046 rows × 3 columns</p>\n",
              "</div>"
            ],
            "text/plain": [
              "      1st  2nd  3rd\n",
              "0     1.0  0.0  0.0\n",
              "1     1.0  0.0  0.0\n",
              "2     1.0  0.0  0.0\n",
              "3     1.0  0.0  0.0\n",
              "4     1.0  0.0  0.0\n",
              "...   ...  ...  ...\n",
              "1041  0.0  0.0  1.0\n",
              "1042  0.0  0.0  1.0\n",
              "1043  0.0  0.0  1.0\n",
              "1044  0.0  0.0  1.0\n",
              "1045  0.0  0.0  1.0\n",
              "\n",
              "[1046 rows x 3 columns]"
            ]
          },
          "metadata": {},
          "execution_count": 7
        }
      ]
    },
    {
      "cell_type": "code",
      "metadata": {
        "id": "vjudKdu4phvX",
        "colab": {
          "base_uri": "https://localhost:8080/"
        },
        "outputId": "8469f9f7-0bfe-4d33-9d46-228399e45e45"
      },
      "source": [
        "le_sex = pd.Series(LabelEncoder().fit_transform(data[\"Sex\"]), name=\"SexCode\")\n",
        "le_sex"
      ],
      "execution_count": 8,
      "outputs": [
        {
          "output_type": "execute_result",
          "data": {
            "text/plain": [
              "0       0\n",
              "1       1\n",
              "2       0\n",
              "3       1\n",
              "4       0\n",
              "       ..\n",
              "1041    1\n",
              "1042    0\n",
              "1043    1\n",
              "1044    1\n",
              "1045    1\n",
              "Name: SexCode, Length: 1046, dtype: int64"
            ]
          },
          "metadata": {},
          "execution_count": 8
        }
      ]
    },
    {
      "cell_type": "code",
      "metadata": {
        "id": "hEnxrSosqFct",
        "colab": {
          "base_uri": "https://localhost:8080/"
        },
        "outputId": "75439fd2-4004-49d7-90e6-d728f1a7039a"
      },
      "source": [
        "le_survival = pd.Series(LabelEncoder().fit_transform(data[\"SurvivalStatus\"]), name=\"SurvivalStatusCode\")\n",
        "le_survival"
      ],
      "execution_count": 9,
      "outputs": [
        {
          "output_type": "execute_result",
          "data": {
            "text/plain": [
              "0       1\n",
              "1       1\n",
              "2       0\n",
              "3       0\n",
              "4       0\n",
              "       ..\n",
              "1041    0\n",
              "1042    0\n",
              "1043    0\n",
              "1044    0\n",
              "1045    0\n",
              "Name: SurvivalStatusCode, Length: 1046, dtype: int64"
            ]
          },
          "metadata": {},
          "execution_count": 9
        }
      ]
    },
    {
      "cell_type": "code",
      "metadata": {
        "id": "Yx44ko_sqFbD",
        "colab": {
          "base_uri": "https://localhost:8080/",
          "height": 206
        },
        "outputId": "42137bb8-f724-44b8-be3e-b068de6e8a26"
      },
      "source": [
        "# Concatenate\n",
        "data = pd.concat([data, cat_to_onehot, le_sex, le_survival], axis=1)\n",
        "data.head()"
      ],
      "execution_count": 10,
      "outputs": [
        {
          "output_type": "execute_result",
          "data": {
            "text/html": [
              "<div>\n",
              "<style scoped>\n",
              "    .dataframe tbody tr th:only-of-type {\n",
              "        vertical-align: middle;\n",
              "    }\n",
              "\n",
              "    .dataframe tbody tr th {\n",
              "        vertical-align: top;\n",
              "    }\n",
              "\n",
              "    .dataframe thead th {\n",
              "        text-align: right;\n",
              "    }\n",
              "</style>\n",
              "<table border=\"1\" class=\"dataframe\">\n",
              "  <thead>\n",
              "    <tr style=\"text-align: right;\">\n",
              "      <th></th>\n",
              "      <th>Class</th>\n",
              "      <th>Age</th>\n",
              "      <th>Sex</th>\n",
              "      <th>SurvivalStatus</th>\n",
              "      <th>(1st,)</th>\n",
              "      <th>(2nd,)</th>\n",
              "      <th>(3rd,)</th>\n",
              "      <th>SexCode</th>\n",
              "      <th>SurvivalStatusCode</th>\n",
              "    </tr>\n",
              "  </thead>\n",
              "  <tbody>\n",
              "    <tr>\n",
              "      <th>0</th>\n",
              "      <td>1st</td>\n",
              "      <td>29.0000</td>\n",
              "      <td>female</td>\n",
              "      <td>survived</td>\n",
              "      <td>1.0</td>\n",
              "      <td>0.0</td>\n",
              "      <td>0.0</td>\n",
              "      <td>0</td>\n",
              "      <td>1</td>\n",
              "    </tr>\n",
              "    <tr>\n",
              "      <th>1</th>\n",
              "      <td>1st</td>\n",
              "      <td>0.9167</td>\n",
              "      <td>male</td>\n",
              "      <td>survived</td>\n",
              "      <td>1.0</td>\n",
              "      <td>0.0</td>\n",
              "      <td>0.0</td>\n",
              "      <td>1</td>\n",
              "      <td>1</td>\n",
              "    </tr>\n",
              "    <tr>\n",
              "      <th>2</th>\n",
              "      <td>1st</td>\n",
              "      <td>2.0000</td>\n",
              "      <td>female</td>\n",
              "      <td>died</td>\n",
              "      <td>1.0</td>\n",
              "      <td>0.0</td>\n",
              "      <td>0.0</td>\n",
              "      <td>0</td>\n",
              "      <td>0</td>\n",
              "    </tr>\n",
              "    <tr>\n",
              "      <th>3</th>\n",
              "      <td>1st</td>\n",
              "      <td>30.0000</td>\n",
              "      <td>male</td>\n",
              "      <td>died</td>\n",
              "      <td>1.0</td>\n",
              "      <td>0.0</td>\n",
              "      <td>0.0</td>\n",
              "      <td>1</td>\n",
              "      <td>0</td>\n",
              "    </tr>\n",
              "    <tr>\n",
              "      <th>4</th>\n",
              "      <td>1st</td>\n",
              "      <td>25.0000</td>\n",
              "      <td>female</td>\n",
              "      <td>died</td>\n",
              "      <td>1.0</td>\n",
              "      <td>0.0</td>\n",
              "      <td>0.0</td>\n",
              "      <td>0</td>\n",
              "      <td>0</td>\n",
              "    </tr>\n",
              "  </tbody>\n",
              "</table>\n",
              "</div>"
            ],
            "text/plain": [
              "  Class      Age     Sex  ... (3rd,)  SexCode  SurvivalStatusCode\n",
              "0   1st  29.0000  female  ...    0.0        0                   1\n",
              "1   1st   0.9167    male  ...    0.0        1                   1\n",
              "2   1st   2.0000  female  ...    0.0        0                   0\n",
              "3   1st  30.0000    male  ...    0.0        1                   0\n",
              "4   1st  25.0000  female  ...    0.0        0                   0\n",
              "\n",
              "[5 rows x 9 columns]"
            ]
          },
          "metadata": {},
          "execution_count": 10
        }
      ]
    },
    {
      "cell_type": "code",
      "metadata": {
        "id": "2y8vZKGP_t_g",
        "colab": {
          "base_uri": "https://localhost:8080/"
        },
        "outputId": "bbdc13d9-dc79-49ae-81b4-81e62c6ebe5b"
      },
      "source": [
        "data.info()"
      ],
      "execution_count": 11,
      "outputs": [
        {
          "output_type": "stream",
          "name": "stdout",
          "text": [
            "<class 'pandas.core.frame.DataFrame'>\n",
            "RangeIndex: 1046 entries, 0 to 1045\n",
            "Data columns (total 9 columns):\n",
            " #   Column              Non-Null Count  Dtype  \n",
            "---  ------              --------------  -----  \n",
            " 0   Class               1046 non-null   object \n",
            " 1   Age                 1046 non-null   float64\n",
            " 2   Sex                 1046 non-null   object \n",
            " 3   SurvivalStatus      1046 non-null   object \n",
            " 4   (1st,)              1046 non-null   float64\n",
            " 5   (2nd,)              1046 non-null   float64\n",
            " 6   (3rd,)              1046 non-null   float64\n",
            " 7   SexCode             1046 non-null   int64  \n",
            " 8   SurvivalStatusCode  1046 non-null   int64  \n",
            "dtypes: float64(4), int64(2), object(3)\n",
            "memory usage: 73.7+ KB\n"
          ]
        }
      ]
    },
    {
      "cell_type": "markdown",
      "metadata": {
        "id": "7BLOy4W32sQt"
      },
      "source": [
        "### 2. Logistic Regression: part 1"
      ]
    },
    {
      "cell_type": "markdown",
      "metadata": {
        "id": "8Rv6x4SG_Ooa"
      },
      "source": [
        "#### 2.1 Use logistic regression to predict the `SurvivalStatus` based on `Age` and `Sex` (test size = 0.2). Display the confusion matrix and the other accuracy measures seen in class."
      ]
    },
    {
      "cell_type": "code",
      "metadata": {
        "id": "ki6QRs6t2sQu"
      },
      "source": [
        "X = data[[\"Age\", \"SexCode\"]].values\n",
        "y = data[\"SurvivalStatusCode\"].values"
      ],
      "execution_count": 12,
      "outputs": []
    },
    {
      "cell_type": "code",
      "metadata": {
        "id": "iNvVsTIp2sQx"
      },
      "source": [
        "# Train test split\n",
        "X_train, X_test, y_train, y_test = train_test_split(X, y, test_size=0.2, random_state=42)"
      ],
      "execution_count": 13,
      "outputs": []
    },
    {
      "cell_type": "code",
      "metadata": {
        "id": "nExvGYiR2sQ7"
      },
      "source": [
        "# logistic regression with 5 fold cross validation\n",
        "LR_cv = LogisticRegressionCV(solver='lbfgs', cv=5, max_iter=100)"
      ],
      "execution_count": 14,
      "outputs": []
    },
    {
      "cell_type": "code",
      "metadata": {
        "id": "F9WckoiSD8kv",
        "colab": {
          "base_uri": "https://localhost:8080/"
        },
        "outputId": "b47796b3-6ff0-471b-8ebd-7581d6d00015"
      },
      "source": [
        "LR_cv.fit(X_train, y_train)"
      ],
      "execution_count": 15,
      "outputs": [
        {
          "output_type": "execute_result",
          "data": {
            "text/plain": [
              "LogisticRegressionCV(Cs=10, class_weight=None, cv=5, dual=False,\n",
              "                     fit_intercept=True, intercept_scaling=1.0, l1_ratios=None,\n",
              "                     max_iter=100, multi_class='auto', n_jobs=None,\n",
              "                     penalty='l2', random_state=None, refit=True, scoring=None,\n",
              "                     solver='lbfgs', tol=0.0001, verbose=0)"
            ]
          },
          "metadata": {},
          "execution_count": 15
        }
      ]
    },
    {
      "cell_type": "code",
      "metadata": {
        "id": "-YK9xRp6CIyP",
        "colab": {
          "base_uri": "https://localhost:8080/"
        },
        "outputId": "6d15b333-6940-47d5-9996-d00799f911f2"
      },
      "source": [
        "# train accuracy with CV\n",
        "LR_cv.score(X_train, y_train)"
      ],
      "execution_count": 16,
      "outputs": [
        {
          "output_type": "execute_result",
          "data": {
            "text/plain": [
              "0.7930622009569378"
            ]
          },
          "metadata": {},
          "execution_count": 16
        }
      ]
    },
    {
      "cell_type": "code",
      "metadata": {
        "id": "4V2KZ7XTCNNK",
        "colab": {
          "base_uri": "https://localhost:8080/"
        },
        "outputId": "7a1a2ecf-6ce1-4f4b-8b17-62c78c0d4ca1"
      },
      "source": [
        "# test accuracy with CV\n",
        "LR_cv.score(X_test, y_test)"
      ],
      "execution_count": 17,
      "outputs": [
        {
          "output_type": "execute_result",
          "data": {
            "text/plain": [
              "0.7238095238095238"
            ]
          },
          "metadata": {},
          "execution_count": 17
        }
      ]
    },
    {
      "cell_type": "code",
      "metadata": {
        "id": "2DsK5wpLrfSt",
        "colab": {
          "base_uri": "https://localhost:8080/"
        },
        "outputId": "ad3bfa17-b626-4a23-c5d3-cc61aec0eb4f"
      },
      "source": [
        "# Accuracy measures\n",
        "y_pred = LR_cv.predict(X_test)\n",
        "\n",
        "def evaluate(true, pred):\n",
        "    precision = precision_score(y_test, y_pred)\n",
        "    recall = recall_score(y_test, y_pred)\n",
        "    f1 = f1_score(y_test, y_pred)\n",
        "    print(f\"CONFUSION MATRIX:\\n{confusion_matrix(true, pred)}\")\n",
        "    print(f\"ACCURACY SCORE:\\n{accuracy_score(true, pred):.4f}\")\n",
        "    print(f\"CLASSIFICATION REPORT:\\n\\tPrecision: {precision:.4f}\\n\\tRecall: {recall:.4f}\\n\\tF1_Score: {f1:.4f}\")\n",
        "\n",
        "evaluate(y_test, y_pred)"
      ],
      "execution_count": 18,
      "outputs": [
        {
          "output_type": "stream",
          "name": "stdout",
          "text": [
            "CONFUSION MATRIX:\n",
            "[[95 25]\n",
            " [33 57]]\n",
            "ACCURACY SCORE:\n",
            "0.7238\n",
            "CLASSIFICATION REPORT:\n",
            "\tPrecision: 0.6951\n",
            "\tRecall: 0.6333\n",
            "\tF1_Score: 0.6628\n"
          ]
        }
      ]
    },
    {
      "cell_type": "markdown",
      "metadata": {
        "id": "iwF1RHqA75K6"
      },
      "source": [
        "#### 2.2 What is the prediction for a man aged 50? What is the probability of each class?"
      ]
    },
    {
      "cell_type": "code",
      "metadata": {
        "id": "MZHfOo8cDYqe",
        "colab": {
          "base_uri": "https://localhost:8080/"
        },
        "outputId": "51e483b4-b944-453d-f975-c7e1a649e75d"
      },
      "source": [
        "man = np.array([[50, 1]])\n",
        "LR_cv.predict(man)"
      ],
      "execution_count": 19,
      "outputs": [
        {
          "output_type": "execute_result",
          "data": {
            "text/plain": [
              "array([0])"
            ]
          },
          "metadata": {},
          "execution_count": 19
        }
      ]
    },
    {
      "cell_type": "code",
      "metadata": {
        "id": "jxYtT2fU75K7",
        "colab": {
          "base_uri": "https://localhost:8080/"
        },
        "outputId": "12cfa4c9-8835-42aa-9b05-b5bac2eb1fca"
      },
      "source": [
        "LR_cv.predict_proba(man)"
      ],
      "execution_count": 20,
      "outputs": [
        {
          "output_type": "execute_result",
          "data": {
            "text/plain": [
              "array([[0.76366655, 0.23633345]])"
            ]
          },
          "metadata": {},
          "execution_count": 20
        }
      ]
    },
    {
      "cell_type": "markdown",
      "metadata": {
        "id": "deHMNdmZEB0Z"
      },
      "source": [
        "#### 2.3 What is the prediction for a woman aged 30? What is the probability of each class?\n"
      ]
    },
    {
      "cell_type": "code",
      "metadata": {
        "id": "63v06sRlEBRo",
        "colab": {
          "base_uri": "https://localhost:8080/"
        },
        "outputId": "8ebbab82-7a85-4bce-9ca8-1fe7ec015c11"
      },
      "source": [
        "woman = np.array([[30, 0]])\n",
        "LR_cv.predict(woman)"
      ],
      "execution_count": 21,
      "outputs": [
        {
          "output_type": "execute_result",
          "data": {
            "text/plain": [
              "array([1])"
            ]
          },
          "metadata": {},
          "execution_count": 21
        }
      ]
    },
    {
      "cell_type": "code",
      "metadata": {
        "id": "gB2wJAXbETof",
        "colab": {
          "base_uri": "https://localhost:8080/"
        },
        "outputId": "435f2e53-462f-4c25-cfec-9467c60f92d2"
      },
      "source": [
        "LR_cv.predict_proba(woman)"
      ],
      "execution_count": 22,
      "outputs": [
        {
          "output_type": "execute_result",
          "data": {
            "text/plain": [
              "array([[0.35053728, 0.64946272]])"
            ]
          },
          "metadata": {},
          "execution_count": 22
        }
      ]
    },
    {
      "cell_type": "markdown",
      "metadata": {
        "id": "QRpOrur22sRV"
      },
      "source": [
        "### 3. Logistic Regression: part 2"
      ]
    },
    {
      "cell_type": "markdown",
      "metadata": {
        "id": "mTJRl1JjEkk2"
      },
      "source": [
        "#### 3.1 Use logistic regression to predict the `SurvivalStatus` based on all other variables (test size = 0.2). Display the confusion matrix and the other accuracy measures seen in class."
      ]
    },
    {
      "cell_type": "code",
      "metadata": {
        "id": "eYqC1wc2EjFr",
        "colab": {
          "base_uri": "https://localhost:8080/"
        },
        "outputId": "39393ed1-8ce9-4910-fc11-b78d3c2be771"
      },
      "source": [
        "X = data[[\"Age\", \"SexCode\", (\"1st\",), (\"2nd\",), (\"3rd\",)]].values\n",
        "y = data[\"SurvivalStatusCode\"].values"
      ],
      "execution_count": 23,
      "outputs": [
        {
          "output_type": "stream",
          "name": "stderr",
          "text": [
            "/usr/local/lib/python3.7/dist-packages/numpy/core/_asarray.py:83: VisibleDeprecationWarning: Creating an ndarray from ragged nested sequences (which is a list-or-tuple of lists-or-tuples-or ndarrays with different lengths or shapes) is deprecated. If you meant to do this, you must specify 'dtype=object' when creating the ndarray\n",
            "  return array(a, dtype, copy=False, order=order)\n"
          ]
        }
      ]
    },
    {
      "cell_type": "code",
      "metadata": {
        "id": "yS9tUIYVEhLI",
        "colab": {
          "base_uri": "https://localhost:8080/"
        },
        "outputId": "d7c15b6a-77b9-4fbe-cbae-b7ad54a85e8b"
      },
      "source": [
        "# Train test split\n",
        "X_train, X_test, y_train, y_test = train_test_split(X, y, test_size=0.2, random_state=42)\n",
        "\n",
        "# Fit model\n",
        "LR_cv = LogisticRegressionCV(solver='lbfgs', cv=5, max_iter=1000)\n",
        "LR_cv.fit(X_train, y_train)\n",
        "\n",
        "# Accuracy measures\n",
        "y_pred = LR_cv.predict(X_test)\n",
        "\n",
        "def evaluate(true, pred):\n",
        "    precision = precision_score(y_test, y_pred)\n",
        "    recall = recall_score(y_test, y_pred)\n",
        "    f1 = f1_score(y_test, y_pred)\n",
        "    print(f\"CONFUSION MATRIX:\\n{confusion_matrix(true, pred)}\")\n",
        "    print(f\"ACCURACY SCORE:\\n{accuracy_score(true, pred):.4f}\")\n",
        "    print(f\"CLASSIFICATION REPORT:\\n\\tPrecision: {precision:.4f}\\n\\tRecall: {recall:.4f}\\n\\tF1_Score: {f1:.4f}\")\n",
        "\n",
        "evaluate(y_test, y_pred)"
      ],
      "execution_count": 24,
      "outputs": [
        {
          "output_type": "stream",
          "name": "stdout",
          "text": [
            "CONFUSION MATRIX:\n",
            "[[100  20]\n",
            " [ 33  57]]\n",
            "ACCURACY SCORE:\n",
            "0.7476\n",
            "CLASSIFICATION REPORT:\n",
            "\tPrecision: 0.7403\n",
            "\tRecall: 0.6333\n",
            "\tF1_Score: 0.6826\n"
          ]
        }
      ]
    },
    {
      "cell_type": "markdown",
      "metadata": {
        "id": "cJKhubMyGd9W"
      },
      "source": [
        "#### 3.2 What is the prediction for a man aged 50 of the 2nd class? What is the prbability of each class?"
      ]
    },
    {
      "cell_type": "code",
      "metadata": {
        "id": "uDnaUYF92sRV",
        "colab": {
          "base_uri": "https://localhost:8080/"
        },
        "outputId": "b036c1a7-bea6-403c-8065-39737fcb0ef8"
      },
      "source": [
        "man = np.array([[50, 1, 0, 1, 0]])\n",
        "LR_cv.predict(man)"
      ],
      "execution_count": 25,
      "outputs": [
        {
          "output_type": "execute_result",
          "data": {
            "text/plain": [
              "array([0])"
            ]
          },
          "metadata": {},
          "execution_count": 25
        }
      ]
    },
    {
      "cell_type": "code",
      "metadata": {
        "id": "PVVfZsnsGo0r",
        "colab": {
          "base_uri": "https://localhost:8080/"
        },
        "outputId": "e2d1366f-d26e-47de-a1c5-6b3d1225ac62"
      },
      "source": [
        "LR_cv.predict_proba(man)"
      ],
      "execution_count": 26,
      "outputs": [
        {
          "output_type": "execute_result",
          "data": {
            "text/plain": [
              "array([[0.80274313, 0.19725687]])"
            ]
          },
          "metadata": {},
          "execution_count": 26
        }
      ]
    },
    {
      "cell_type": "markdown",
      "metadata": {
        "id": "0q09jUP34hme"
      },
      "source": [
        "#### 3.3 What is the prediction for a woman aged 30 of the 1st class? What is the probability of each class?"
      ]
    },
    {
      "cell_type": "code",
      "metadata": {
        "id": "1g55iCbL2sRY",
        "colab": {
          "base_uri": "https://localhost:8080/"
        },
        "outputId": "f428b194-3e67-412f-e776-79a4cad5ffd2"
      },
      "source": [
        "woman = np.array([[30, 0, 1, 0, 0]])\n",
        "LR_cv.predict(woman)"
      ],
      "execution_count": 27,
      "outputs": [
        {
          "output_type": "execute_result",
          "data": {
            "text/plain": [
              "array([1])"
            ]
          },
          "metadata": {},
          "execution_count": 27
        }
      ]
    },
    {
      "cell_type": "code",
      "metadata": {
        "id": "69x8sz0NHEtV",
        "colab": {
          "base_uri": "https://localhost:8080/"
        },
        "outputId": "63f833f2-8a20-42ac-a541-04eb0ec74c26"
      },
      "source": [
        "LR_cv.predict_proba(woman)"
      ],
      "execution_count": 28,
      "outputs": [
        {
          "output_type": "execute_result",
          "data": {
            "text/plain": [
              "array([[0.19924215, 0.80075785]])"
            ]
          },
          "metadata": {},
          "execution_count": 28
        }
      ]
    }
  ]
}