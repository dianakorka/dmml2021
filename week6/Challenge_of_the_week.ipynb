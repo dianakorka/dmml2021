{
  "nbformat": 4,
  "nbformat_minor": 0,
  "metadata": {
    "colab": {
      "name": "Challenge_of_the_week.ipynb",
      "provenance": [],
      "authorship_tag": "ABX9TyOYAEDIDP8a0iyUB/CvJnz1",
      "include_colab_link": true
    },
    "kernelspec": {
      "name": "python3",
      "display_name": "Python 3"
    },
    "language_info": {
      "name": "python"
    }
  },
  "cells": [
    {
      "cell_type": "markdown",
      "metadata": {
        "id": "view-in-github",
        "colab_type": "text"
      },
      "source": [
        "<a href=\"https://colab.research.google.com/github/michalis0/DataMining_and_MachineLearning/blob/master/week6/Challenge_of_the_week.ipynb\" target=\"_parent\"><img src=\"https://colab.research.google.com/assets/colab-badge.svg\" alt=\"Open In Colab\"/></a>"
      ]
    },
    {
      "cell_type": "markdown",
      "metadata": {
        "id": "xTVrUMu59MDr"
      },
      "source": [
        "# Data Mining and Machine Learning - Week 6\n",
        "# Classification (I)\n",
        "\n",
        "## Challenge of the week\n",
        "\n",
        "Take 15 minutes to think through the following business problem.\n",
        "It is using the same dataset on Advertisements clicked on by customers that we used in the lab.\n",
        "\n",
        "*Once you are done please post your solution in Slack under #general.* A simple screenshot should do\n",
        "\n",
        "Here is the dataset again for you, along with one of the models we used to solve it."
      ]
    },
    {
      "cell_type": "code",
      "metadata": {
        "id": "gSD7wiKc85LA"
      },
      "source": [
        "# import required packages\n",
        "import numpy as np\n",
        "import pandas as pd\n",
        "import seaborn as sns\n",
        "import matplotlib.pyplot as plt\n",
        "from sklearn.preprocessing import LabelEncoder, OrdinalEncoder, OneHotEncoder, StandardScaler\n",
        "from sklearn.model_selection import train_test_split\n",
        "from sklearn.metrics import confusion_matrix, accuracy_score, precision_score, recall_score, f1_score\n",
        "\n",
        "from sklearn.linear_model import LogisticRegression, LogisticRegressionCV\n",
        "\n",
        "%matplotlib inline\n",
        "sns.set_style('dark')"
      ],
      "execution_count": 1,
      "outputs": []
    },
    {
      "cell_type": "markdown",
      "metadata": {
        "id": "lns3bBap-Mmr"
      },
      "source": [
        "The dataset is available online here: https://www.kaggle.com/dipankarroydipu/advertising-data-analysis-logistic-regression/data.\n",
        "\n",
        "It has 1000`rows and 10 features:\n",
        "* `Daily Time Spent on Site`: consumer time on site in minutes\n",
        "* `Age`: customer age in years\n",
        "* `Area Income`: average income of geographical area in which customer resides\n",
        "* `Daily Internet Usage`: average minutes a day a customer is online\n",
        "* `Ad Topic Line`: headline of the advertisement\n",
        "* `City`: city of the customer\n",
        "* `Male`: takes 1 if customer is male\n",
        "* `Country`: country of the customer\n",
        "* `Timestamp`: time at which customer clicked on ad\n",
        "* `Clicked ad`: 1 if clicked on ad and 0 otherwise.\n",
        "\n",
        "The goal is the predict whether a customer clicks on an advertisement email using `Clicked ad`.\n",
        "\n",
        "First, load the dataset."
      ]
    },
    {
      "cell_type": "code",
      "metadata": {
        "colab": {
          "base_uri": "https://localhost:8080/",
          "height": 204
        },
        "id": "Tf9yw7Gk-P45",
        "outputId": "8ba19625-5fa3-4fac-abcc-93d469950dd8"
      },
      "source": [
        "data = pd.read_csv('https://raw.githubusercontent.com/michalis0/DataMining_and_MachineLearning/master/week6/data/advertising.csv')\n",
        "data.head()"
      ],
      "execution_count": 2,
      "outputs": [
        {
          "output_type": "execute_result",
          "data": {
            "text/html": [
              "<div>\n",
              "<style scoped>\n",
              "    .dataframe tbody tr th:only-of-type {\n",
              "        vertical-align: middle;\n",
              "    }\n",
              "\n",
              "    .dataframe tbody tr th {\n",
              "        vertical-align: top;\n",
              "    }\n",
              "\n",
              "    .dataframe thead th {\n",
              "        text-align: right;\n",
              "    }\n",
              "</style>\n",
              "<table border=\"1\" class=\"dataframe\">\n",
              "  <thead>\n",
              "    <tr style=\"text-align: right;\">\n",
              "      <th></th>\n",
              "      <th>Daily Time Spent on Site</th>\n",
              "      <th>Age</th>\n",
              "      <th>Area Income</th>\n",
              "      <th>Daily Internet Usage</th>\n",
              "      <th>Ad Topic Line</th>\n",
              "      <th>City</th>\n",
              "      <th>Male</th>\n",
              "      <th>Country</th>\n",
              "      <th>Timestamp</th>\n",
              "      <th>Clicked on Ad</th>\n",
              "    </tr>\n",
              "  </thead>\n",
              "  <tbody>\n",
              "    <tr>\n",
              "      <th>0</th>\n",
              "      <td>68.95</td>\n",
              "      <td>35</td>\n",
              "      <td>61833.90</td>\n",
              "      <td>256.09</td>\n",
              "      <td>Cloned 5thgeneration orchestration</td>\n",
              "      <td>Wrightburgh</td>\n",
              "      <td>0</td>\n",
              "      <td>Tunisia</td>\n",
              "      <td>2016-03-27 00:53:11</td>\n",
              "      <td>0</td>\n",
              "    </tr>\n",
              "    <tr>\n",
              "      <th>1</th>\n",
              "      <td>80.23</td>\n",
              "      <td>31</td>\n",
              "      <td>68441.85</td>\n",
              "      <td>193.77</td>\n",
              "      <td>Monitored national standardization</td>\n",
              "      <td>West Jodi</td>\n",
              "      <td>1</td>\n",
              "      <td>Nauru</td>\n",
              "      <td>2016-04-04 01:39:02</td>\n",
              "      <td>0</td>\n",
              "    </tr>\n",
              "    <tr>\n",
              "      <th>2</th>\n",
              "      <td>69.47</td>\n",
              "      <td>26</td>\n",
              "      <td>59785.94</td>\n",
              "      <td>236.50</td>\n",
              "      <td>Organic bottom-line service-desk</td>\n",
              "      <td>Davidton</td>\n",
              "      <td>0</td>\n",
              "      <td>San Marino</td>\n",
              "      <td>2016-03-13 20:35:42</td>\n",
              "      <td>0</td>\n",
              "    </tr>\n",
              "    <tr>\n",
              "      <th>3</th>\n",
              "      <td>74.15</td>\n",
              "      <td>29</td>\n",
              "      <td>54806.18</td>\n",
              "      <td>245.89</td>\n",
              "      <td>Triple-buffered reciprocal time-frame</td>\n",
              "      <td>West Terrifurt</td>\n",
              "      <td>1</td>\n",
              "      <td>Italy</td>\n",
              "      <td>2016-01-10 02:31:19</td>\n",
              "      <td>0</td>\n",
              "    </tr>\n",
              "    <tr>\n",
              "      <th>4</th>\n",
              "      <td>68.37</td>\n",
              "      <td>35</td>\n",
              "      <td>73889.99</td>\n",
              "      <td>225.58</td>\n",
              "      <td>Robust logistical utilization</td>\n",
              "      <td>South Manuel</td>\n",
              "      <td>0</td>\n",
              "      <td>Iceland</td>\n",
              "      <td>2016-06-03 03:36:18</td>\n",
              "      <td>0</td>\n",
              "    </tr>\n",
              "  </tbody>\n",
              "</table>\n",
              "</div>"
            ],
            "text/plain": [
              "   Daily Time Spent on Site  Age  ...            Timestamp  Clicked on Ad\n",
              "0                     68.95   35  ...  2016-03-27 00:53:11              0\n",
              "1                     80.23   31  ...  2016-04-04 01:39:02              0\n",
              "2                     69.47   26  ...  2016-03-13 20:35:42              0\n",
              "3                     74.15   29  ...  2016-01-10 02:31:19              0\n",
              "4                     68.37   35  ...  2016-06-03 03:36:18              0\n",
              "\n",
              "[5 rows x 10 columns]"
            ]
          },
          "metadata": {},
          "execution_count": 2
        }
      ]
    },
    {
      "cell_type": "code",
      "metadata": {
        "id": "HSv0hb9_-gSw"
      },
      "source": [
        "le=LabelEncoder()\n",
        "# fit_transform on entire dataset\n",
        "data['city_label'] = pd.Series(le.fit_transform(data.City))\n",
        "data['country_label'] = pd.Series(le.fit_transform(data.Country))"
      ],
      "execution_count": 3,
      "outputs": []
    },
    {
      "cell_type": "code",
      "metadata": {
        "colab": {
          "base_uri": "https://localhost:8080/"
        },
        "id": "rvhvkxsI-soi",
        "outputId": "9d52194b-4461-4958-cdf2-6b1222694579"
      },
      "source": [
        "# This is the selected model\n",
        "X = data.drop(['Timestamp', 'Clicked on Ad', 'Ad Topic Line', 'City', 'Country'], axis=1)\n",
        "\n",
        "y= data['Clicked on Ad']\n",
        "\n",
        "X_train, X_test, y_train, y_test = train_test_split(X, y, test_size=0.2, random_state=10)\n",
        "\n",
        "log_reg =LogisticRegression(max_iter=1000, solver='lbfgs', random_state=0)\n",
        "\n",
        "log_reg.fit(X_train, y_train)\n",
        "\n",
        "y_pred = log_reg.predict(X_test)\n",
        "\n",
        "y_pred\n",
        "\n",
        "confusion_matrix(y_test, y_pred)"
      ],
      "execution_count": 4,
      "outputs": [
        {
          "output_type": "execute_result",
          "data": {
            "text/plain": [
              "array([[89,  7],\n",
              "       [13, 91]])"
            ]
          },
          "metadata": {},
          "execution_count": 4
        }
      ]
    },
    {
      "cell_type": "markdown",
      "metadata": {
        "id": "kdJGzL6K_JD5"
      },
      "source": [
        "##The business problem\n",
        "\n",
        "The advertisement producer decides to conduct a campaign to improve the rate at which customers click on its adverts.  \n",
        "\n",
        "For this it will only target the customers for which our model predicted that they will not click on the ad.   \n",
        "\n",
        "**Administrative cost**: The campaign will entail a USD 3 administrative cost for each contacted customer. \n",
        "\n",
        "**Offer cost**: If the contacted customer click on the new offer, this will cost the advertiser an additional USD 100 (for each accepting customer). This is because a special sale/offer is made.  \n",
        "\n",
        "From a previous campaign it is assumed that a fraction of 0.3 of the contacted customers accept the offer. \n",
        "\n",
        "**Value of missing a customer's business due to not clicking on ads**: The fact that a customer does not click on an add, costs the enterprise USD 1000 for each lost customer. This is estimated to be the forgone commercial value of the business the customer could generate if he or she clicked on the ad.\n",
        "\n",
        "In summary, you can use the following elements for the costing function:\n",
        "*admin_cost=3\n",
        "*offer_cost=100\n",
        "*f=0.3\n",
        "*no_click_value=1000  \n",
        "\n",
        "\n",
        "###_For the test set only, calculate the average cost per customer of the campaign, given the predicted True Positives, True Negatives, False Positive and False Negatives from the model shown above._\n",
        "\n",
        "The average cost will be the sum of all cost incurred (amin, offer, no click) divided by the total number of customers in the test set."
      ]
    },
    {
      "cell_type": "code",
      "metadata": {
        "id": "PE_nw2gfBntz"
      },
      "source": [
        "admin_cost=3\n",
        "offer_cost=100\n",
        "f=0.3\n",
        "no_click_value=1000"
      ],
      "execution_count": null,
      "outputs": []
    },
    {
      "cell_type": "code",
      "metadata": {
        "colab": {
          "base_uri": "https://localhost:8080/"
        },
        "id": "T1CRdLczCX28",
        "outputId": "09e2b470-9680-4dc3-fedb-67ce6f3b672b"
      },
      "source": [
        "tn, fp, fn, tp = confusion_matrix(y_test, y_pred).ravel()\n",
        "print('True positives: '+str(tp))\n",
        "print('False positives: '+str(fp))\n",
        "print('True negatives: '+str(tn))\n",
        "print('False negatives: '+str(fn))"
      ],
      "execution_count": 5,
      "outputs": [
        {
          "output_type": "stream",
          "name": "stdout",
          "text": [
            "True positives: 91\n",
            "False positives: 7\n",
            "True negatives: 89\n",
            "False negatives: 13\n"
          ]
        }
      ]
    },
    {
      "cell_type": "code",
      "metadata": {
        "id": "R5P29aQBDW_x"
      },
      "source": [
        "# your code here"
      ],
      "execution_count": null,
      "outputs": []
    }
  ]
}