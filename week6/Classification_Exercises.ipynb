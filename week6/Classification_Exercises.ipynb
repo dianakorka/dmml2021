{
  "nbformat": 4,
  "nbformat_minor": 0,
  "metadata": {
    "colab": {
      "name": "Classification_Exercises.ipynb",
      "provenance": [],
      "collapsed_sections": [],
      "include_colab_link": true
    },
    "kernelspec": {
      "display_name": "Python 3",
      "language": "python",
      "name": "python3"
    },
    "language_info": {
      "codemirror_mode": {
        "name": "ipython",
        "version": 3
      },
      "file_extension": ".py",
      "mimetype": "text/x-python",
      "name": "python",
      "nbconvert_exporter": "python",
      "pygments_lexer": "ipython3",
      "version": "3.6.9"
    }
  },
  "cells": [
    {
      "cell_type": "markdown",
      "metadata": {
        "id": "view-in-github",
        "colab_type": "text"
      },
      "source": [
        "<a href=\"https://colab.research.google.com/github/michalis0/DataMining_and_MachineLearning/blob/master/week6/Classification_Exercises.ipynb\" target=\"_parent\"><img src=\"https://colab.research.google.com/assets/colab-badge.svg\" alt=\"Open In Colab\"/></a>"
      ]
    },
    {
      "cell_type": "markdown",
      "metadata": {
        "id": "R1BSf8GX2sQd"
      },
      "source": [
        "# Data Mining and Machine Learning - Week 6\n",
        "# Classification - Exercises\n",
        "\n",
        "This is an exercise based on a sample from the Titanic dataset."
      ]
    },
    {
      "cell_type": "code",
      "metadata": {
        "id": "2D9mQhcj2sQe"
      },
      "source": [
        "# Import required packages\n",
        "import  numpy as np\n",
        "import pandas as pd\n",
        "import matplotlib.pyplot as plt\n",
        "from sklearn.preprocessing import LabelEncoder, OneHotEncoder\n",
        "from sklearn.linear_model import LogisticRegression, LogisticRegressionCV\n",
        "from sklearn.model_selection import train_test_split\n",
        "from sklearn.metrics import confusion_matrix, accuracy_score, precision_score, recall_score, f1_score\n",
        "\n",
        "%matplotlib inline"
      ],
      "execution_count": 4,
      "outputs": []
    },
    {
      "cell_type": "markdown",
      "metadata": {
        "id": "KDiVdtK2hPaQ"
      },
      "source": [
        "### Load Data"
      ]
    },
    {
      "cell_type": "code",
      "metadata": {
        "id": "Q1CKWYwc2sQh",
        "colab": {
          "base_uri": "https://localhost:8080/",
          "height": 206
        },
        "outputId": "69c26ca0-30ca-4d19-8834-b341b8f30c34"
      },
      "source": [
        "data = pd.read_csv(\"https://raw.githubusercontent.com/michalis0/DataMining_and_MachineLearning/master/week6/data/Sample-Data-Titanic-Survival.csv\")\n",
        "data.head()"
      ],
      "execution_count": 5,
      "outputs": [
        {
          "output_type": "execute_result",
          "data": {
            "text/html": [
              "<div>\n",
              "<style scoped>\n",
              "    .dataframe tbody tr th:only-of-type {\n",
              "        vertical-align: middle;\n",
              "    }\n",
              "\n",
              "    .dataframe tbody tr th {\n",
              "        vertical-align: top;\n",
              "    }\n",
              "\n",
              "    .dataframe thead th {\n",
              "        text-align: right;\n",
              "    }\n",
              "</style>\n",
              "<table border=\"1\" class=\"dataframe\">\n",
              "  <thead>\n",
              "    <tr style=\"text-align: right;\">\n",
              "      <th></th>\n",
              "      <th>Class</th>\n",
              "      <th>Age</th>\n",
              "      <th>Sex</th>\n",
              "      <th>SurvivalStatus</th>\n",
              "    </tr>\n",
              "  </thead>\n",
              "  <tbody>\n",
              "    <tr>\n",
              "      <th>0</th>\n",
              "      <td>1st</td>\n",
              "      <td>Quantity[29., \"Years\"]</td>\n",
              "      <td>female</td>\n",
              "      <td>survived</td>\n",
              "    </tr>\n",
              "    <tr>\n",
              "      <th>1</th>\n",
              "      <td>1st</td>\n",
              "      <td>Quantity[0.9167, \"Years\"]</td>\n",
              "      <td>male</td>\n",
              "      <td>survived</td>\n",
              "    </tr>\n",
              "    <tr>\n",
              "      <th>2</th>\n",
              "      <td>1st</td>\n",
              "      <td>Quantity[2., \"Years\"]</td>\n",
              "      <td>female</td>\n",
              "      <td>died</td>\n",
              "    </tr>\n",
              "    <tr>\n",
              "      <th>3</th>\n",
              "      <td>1st</td>\n",
              "      <td>Quantity[30., \"Years\"]</td>\n",
              "      <td>male</td>\n",
              "      <td>died</td>\n",
              "    </tr>\n",
              "    <tr>\n",
              "      <th>4</th>\n",
              "      <td>1st</td>\n",
              "      <td>Quantity[25., \"Years\"]</td>\n",
              "      <td>female</td>\n",
              "      <td>died</td>\n",
              "    </tr>\n",
              "  </tbody>\n",
              "</table>\n",
              "</div>"
            ],
            "text/plain": [
              "  Class                        Age     Sex SurvivalStatus\n",
              "0   1st     Quantity[29., \"Years\"]  female       survived\n",
              "1   1st  Quantity[0.9167, \"Years\"]    male       survived\n",
              "2   1st      Quantity[2., \"Years\"]  female           died\n",
              "3   1st     Quantity[30., \"Years\"]    male           died\n",
              "4   1st     Quantity[25., \"Years\"]  female           died"
            ]
          },
          "metadata": {},
          "execution_count": 5
        }
      ]
    },
    {
      "cell_type": "code",
      "metadata": {
        "id": "YHybnOddh1bf",
        "colab": {
          "base_uri": "https://localhost:8080/",
          "height": 206
        },
        "outputId": "4432dc62-8563-438f-dde3-698fbab3c8b1"
      },
      "source": [
        "# Clean data\n",
        "data[\"Age\"] = data[\"Age\"].map(lambda x: float(x.strip('Quantity[').split(\",\")[0].replace('Missing[\"Not Available\"]', \"-1.\")))\n",
        "data = data.replace(-1.0, np.nan)\n",
        "data.head()"
      ],
      "execution_count": 6,
      "outputs": [
        {
          "output_type": "execute_result",
          "data": {
            "text/html": [
              "<div>\n",
              "<style scoped>\n",
              "    .dataframe tbody tr th:only-of-type {\n",
              "        vertical-align: middle;\n",
              "    }\n",
              "\n",
              "    .dataframe tbody tr th {\n",
              "        vertical-align: top;\n",
              "    }\n",
              "\n",
              "    .dataframe thead th {\n",
              "        text-align: right;\n",
              "    }\n",
              "</style>\n",
              "<table border=\"1\" class=\"dataframe\">\n",
              "  <thead>\n",
              "    <tr style=\"text-align: right;\">\n",
              "      <th></th>\n",
              "      <th>Class</th>\n",
              "      <th>Age</th>\n",
              "      <th>Sex</th>\n",
              "      <th>SurvivalStatus</th>\n",
              "    </tr>\n",
              "  </thead>\n",
              "  <tbody>\n",
              "    <tr>\n",
              "      <th>0</th>\n",
              "      <td>1st</td>\n",
              "      <td>29.0000</td>\n",
              "      <td>female</td>\n",
              "      <td>survived</td>\n",
              "    </tr>\n",
              "    <tr>\n",
              "      <th>1</th>\n",
              "      <td>1st</td>\n",
              "      <td>0.9167</td>\n",
              "      <td>male</td>\n",
              "      <td>survived</td>\n",
              "    </tr>\n",
              "    <tr>\n",
              "      <th>2</th>\n",
              "      <td>1st</td>\n",
              "      <td>2.0000</td>\n",
              "      <td>female</td>\n",
              "      <td>died</td>\n",
              "    </tr>\n",
              "    <tr>\n",
              "      <th>3</th>\n",
              "      <td>1st</td>\n",
              "      <td>30.0000</td>\n",
              "      <td>male</td>\n",
              "      <td>died</td>\n",
              "    </tr>\n",
              "    <tr>\n",
              "      <th>4</th>\n",
              "      <td>1st</td>\n",
              "      <td>25.0000</td>\n",
              "      <td>female</td>\n",
              "      <td>died</td>\n",
              "    </tr>\n",
              "  </tbody>\n",
              "</table>\n",
              "</div>"
            ],
            "text/plain": [
              "  Class      Age     Sex SurvivalStatus\n",
              "0   1st  29.0000  female       survived\n",
              "1   1st   0.9167    male       survived\n",
              "2   1st   2.0000  female           died\n",
              "3   1st  30.0000    male           died\n",
              "4   1st  25.0000  female           died"
            ]
          },
          "metadata": {},
          "execution_count": 6
        }
      ]
    },
    {
      "cell_type": "code",
      "metadata": {
        "id": "VCrCRiEnjwow",
        "colab": {
          "base_uri": "https://localhost:8080/"
        },
        "outputId": "a1172356-c6da-4b53-9462-b085278eb89a"
      },
      "source": [
        "data.info()"
      ],
      "execution_count": 7,
      "outputs": [
        {
          "output_type": "stream",
          "name": "stdout",
          "text": [
            "<class 'pandas.core.frame.DataFrame'>\n",
            "RangeIndex: 1309 entries, 0 to 1308\n",
            "Data columns (total 4 columns):\n",
            " #   Column          Non-Null Count  Dtype  \n",
            "---  ------          --------------  -----  \n",
            " 0   Class           1309 non-null   object \n",
            " 1   Age             1046 non-null   float64\n",
            " 2   Sex             1309 non-null   object \n",
            " 3   SurvivalStatus  1309 non-null   object \n",
            "dtypes: float64(1), object(3)\n",
            "memory usage: 41.0+ KB\n"
          ]
        }
      ]
    },
    {
      "cell_type": "code",
      "metadata": {
        "id": "ttqhlTL7mK0K",
        "colab": {
          "base_uri": "https://localhost:8080/"
        },
        "outputId": "27f9414b-4738-4459-f757-f3c267776af0"
      },
      "source": [
        "data = data.dropna().reset_index(drop=True)\n",
        "data.info()"
      ],
      "execution_count": 8,
      "outputs": [
        {
          "output_type": "stream",
          "name": "stdout",
          "text": [
            "<class 'pandas.core.frame.DataFrame'>\n",
            "RangeIndex: 1046 entries, 0 to 1045\n",
            "Data columns (total 4 columns):\n",
            " #   Column          Non-Null Count  Dtype  \n",
            "---  ------          --------------  -----  \n",
            " 0   Class           1046 non-null   object \n",
            " 1   Age             1046 non-null   float64\n",
            " 2   Sex             1046 non-null   object \n",
            " 3   SurvivalStatus  1046 non-null   object \n",
            "dtypes: float64(1), object(3)\n",
            "memory usage: 32.8+ KB\n"
          ]
        }
      ]
    },
    {
      "cell_type": "markdown",
      "metadata": {
        "id": "TAF7FTSD6D-3"
      },
      "source": [
        "## In what follows, try to answer the questions. The results will be provided during the week. You need to complete the code (# [YOUR CODE HERE] or ...) to arrive at the same results."
      ]
    },
    {
      "cell_type": "markdown",
      "metadata": {
        "id": "IfFBcCV_nRFG"
      },
      "source": [
        "### 1. Create a new DataFrame where you encode the different categorical features as follows:\n",
        "* Use one-hot encoding for `Class`\n",
        "* Use label encoding for `Sex` and `SurvivalStatus`"
      ]
    },
    {
      "cell_type": "code",
      "metadata": {
        "id": "yFUEig7y2sQp"
      },
      "source": [
        "# One-hot encoding\n",
        "# [YOUR CODE HERE]"
      ],
      "execution_count": null,
      "outputs": []
    },
    {
      "cell_type": "code",
      "metadata": {
        "id": "vjudKdu4phvX"
      },
      "source": [
        "# Label encoding of `Sex`\n",
        "# [YOUR CODE HERE]"
      ],
      "execution_count": null,
      "outputs": []
    },
    {
      "cell_type": "code",
      "metadata": {
        "id": "hEnxrSosqFct"
      },
      "source": [
        "# Label encoding of `SurvivalStatus`\n",
        "# [YOUR CODE HERE]"
      ],
      "execution_count": null,
      "outputs": []
    },
    {
      "cell_type": "code",
      "metadata": {
        "id": "Yx44ko_sqFbD"
      },
      "source": [
        "# Concatenate all your DataFrames\n",
        "data = pd.concat([data, ..., ..., ...], axis=1)\n",
        "data.head()"
      ],
      "execution_count": null,
      "outputs": []
    },
    {
      "cell_type": "code",
      "metadata": {
        "id": "2y8vZKGP_t_g"
      },
      "source": [
        "data.info()"
      ],
      "execution_count": null,
      "outputs": []
    },
    {
      "cell_type": "markdown",
      "metadata": {
        "id": "7BLOy4W32sQt"
      },
      "source": [
        "### 2. Logistic Regression: part 1"
      ]
    },
    {
      "cell_type": "markdown",
      "metadata": {
        "id": "8Rv6x4SG_Ooa"
      },
      "source": [
        "#### 2.1. Use logistic regression to predict the `SurvivalStatus` based on `Age` and `Sex`. Display the confusion matrix and the other accuracy measures seen in class."
      ]
    },
    {
      "cell_type": "code",
      "metadata": {
        "id": "ki6QRs6t2sQu"
      },
      "source": [
        "X = # [YOUR CODE HERE]\n",
        "y = # [YOUR CODE HERE]"
      ],
      "execution_count": null,
      "outputs": []
    },
    {
      "cell_type": "code",
      "metadata": {
        "id": "iNvVsTIp2sQx"
      },
      "source": [
        "# Train test split\n",
        "X_train, X_test, y_train, y_test = train_test_split(X, y, test_size=0.2, random_state=42)"
      ],
      "execution_count": null,
      "outputs": []
    },
    {
      "cell_type": "markdown",
      "metadata": {
        "id": "-ny1FUqu81CM"
      },
      "source": [
        "### 2.2 What is the base rate in this case?"
      ]
    },
    {
      "cell_type": "code",
      "metadata": {
        "id": "ucoZo_LG8zkc"
      },
      "source": [
        "# Base rate\n",
        "# [YOUR CODE HERE]"
      ],
      "execution_count": null,
      "outputs": []
    },
    {
      "cell_type": "code",
      "metadata": {
        "id": "nExvGYiR2sQ7"
      },
      "source": [
        "# logistic regression with 5 fold cross validation\n",
        "LR_cv = LogisticRegressionCV(solver='lbfgs', cv=5, max_iter=100)"
      ],
      "execution_count": null,
      "outputs": []
    },
    {
      "cell_type": "code",
      "metadata": {
        "id": "F9WckoiSD8kv"
      },
      "source": [
        "# Fit the model on the training set\n",
        "LR_cv.fit(..., ...)"
      ],
      "execution_count": null,
      "outputs": []
    },
    {
      "cell_type": "code",
      "metadata": {
        "id": "-YK9xRp6CIyP"
      },
      "source": [
        "# Train accuracy\n",
        "LR_cv.score(..., ...)"
      ],
      "execution_count": null,
      "outputs": []
    },
    {
      "cell_type": "code",
      "metadata": {
        "id": "4V2KZ7XTCNNK"
      },
      "source": [
        "# Test accuracy \n",
        "LR_cv.score(..., ...)"
      ],
      "execution_count": null,
      "outputs": []
    },
    {
      "cell_type": "code",
      "metadata": {
        "id": "2DsK5wpLrfSt"
      },
      "source": [
        "# Accuracy measures\n",
        "y_pred = LR_cv.predict(...)\n",
        "\n",
        "def evaluate(true, pred):\n",
        "    precision = precision_score(y_test, y_pred)\n",
        "    recall = recall_score(y_test, y_pred)\n",
        "    f1 = f1_score(y_test, y_pred)\n",
        "    print(f\"CONFUSION MATRIX:\\n{confusion_matrix(true, pred)}\")\n",
        "    print(f\"ACCURACY SCORE:\\n{accuracy_score(true, pred):.4f}\")\n",
        "    print(f\"CLASSIFICATION REPORT:\\n\\tPrecision: {precision:.4f}\\n\\tRecall: {recall:.4f}\\n\\tF1_Score: {f1:.4f}\")\n",
        "\n",
        "evaluate(..., ...)"
      ],
      "execution_count": null,
      "outputs": []
    },
    {
      "cell_type": "markdown",
      "metadata": {
        "id": "iwF1RHqA75K6"
      },
      "source": [
        "#### 2.3 What is the prediction for a man aged 50? What is the probability of each class?"
      ]
    },
    {
      "cell_type": "code",
      "metadata": {
        "id": "MZHfOo8cDYqe"
      },
      "source": [
        "# Prediction\n",
        "# [YOUR CODE HERE]"
      ],
      "execution_count": null,
      "outputs": []
    },
    {
      "cell_type": "code",
      "metadata": {
        "id": "jxYtT2fU75K7"
      },
      "source": [
        "# Probabilities\n",
        "# [YOUR CODE HERE]"
      ],
      "execution_count": null,
      "outputs": []
    },
    {
      "cell_type": "markdown",
      "metadata": {
        "id": "deHMNdmZEB0Z"
      },
      "source": [
        "#### 2.4 What is the prediction for a woman aged 30? What is the probability of each class?\n"
      ]
    },
    {
      "cell_type": "code",
      "metadata": {
        "id": "63v06sRlEBRo"
      },
      "source": [
        "# Prediction\n",
        "# [YOUR CODE HERE]"
      ],
      "execution_count": null,
      "outputs": []
    },
    {
      "cell_type": "code",
      "metadata": {
        "id": "gB2wJAXbETof"
      },
      "source": [
        "# Probabilities\n",
        "# [YOUR CODE HERE]"
      ],
      "execution_count": null,
      "outputs": []
    },
    {
      "cell_type": "markdown",
      "metadata": {
        "id": "QRpOrur22sRV"
      },
      "source": [
        "### 3. Logistic Regression: part 2"
      ]
    },
    {
      "cell_type": "markdown",
      "metadata": {
        "id": "mTJRl1JjEkk2"
      },
      "source": [
        "#### 3.1 Use logistic regression to predict the `SurvivalStatus` based on all other variables (test size = 0.2). Display the confusion matrix and the other accuracy measures seen in class."
      ]
    },
    {
      "cell_type": "code",
      "metadata": {
        "id": "eYqC1wc2EjFr"
      },
      "source": [
        "X = # [YOUR CODE HERE]\n",
        "y = # [YOUR CODE HERE]"
      ],
      "execution_count": null,
      "outputs": []
    },
    {
      "cell_type": "code",
      "metadata": {
        "id": "yS9tUIYVEhLI"
      },
      "source": [
        "# Train test split\n",
        "X_train, X_test, y_train, y_test = train_test_split(X, y, test_size=0.2, random_state=42)\n",
        "\n",
        "# Fit model\n",
        "LR_cv = LogisticRegressionCV(solver='lbfgs', cv=5, max_iter=100)\n",
        "LR_cv.fit(..., ...)\n",
        "\n",
        "# Accuracy measures\n",
        "y_pred = LR_cv.predict(...)\n",
        "\n",
        "def evaluate(true, pred):\n",
        "    precision = precision_score(y_test, y_pred)\n",
        "    recall = recall_score(y_test, y_pred)\n",
        "    f1 = f1_score(y_test, y_pred)\n",
        "    print(f\"CONFUSION MATRIX:\\n{confusion_matrix(true, pred)}\")\n",
        "    print(f\"ACCURACY SCORE:\\n{accuracy_score(true, pred):.4f}\")\n",
        "    print(f\"CLASSIFICATION REPORT:\\n\\tPrecision: {precision:.4f}\\n\\tRecall: {recall:.4f}\\n\\tF1_Score: {f1:.4f}\")\n",
        "\n",
        "evaluate(..., ...)"
      ],
      "execution_count": null,
      "outputs": []
    },
    {
      "cell_type": "markdown",
      "metadata": {
        "id": "cJKhubMyGd9W"
      },
      "source": [
        "#### 3.2 What is the prediction for a man aged 50 of the 2nd class? What is the prbability of each class?"
      ]
    },
    {
      "cell_type": "code",
      "metadata": {
        "id": "uDnaUYF92sRV"
      },
      "source": [
        "# Prediction\n",
        "# [YOUR CODE HERE]"
      ],
      "execution_count": null,
      "outputs": []
    },
    {
      "cell_type": "code",
      "metadata": {
        "id": "PVVfZsnsGo0r"
      },
      "source": [
        "# Probabilities\n",
        "# [YOUR CODE HERE]"
      ],
      "execution_count": null,
      "outputs": []
    },
    {
      "cell_type": "markdown",
      "metadata": {
        "id": "0q09jUP34hme"
      },
      "source": [
        "#### 3.3 What is the prediction for a woman aged 30 of the 1st class? What is the probability of each class?"
      ]
    },
    {
      "cell_type": "code",
      "metadata": {
        "id": "1g55iCbL2sRY"
      },
      "source": [
        "# Predictions\n",
        "# [YOUR CODE HERE]"
      ],
      "execution_count": null,
      "outputs": []
    },
    {
      "cell_type": "code",
      "metadata": {
        "id": "69x8sz0NHEtV"
      },
      "source": [
        "# Probabilities\n",
        "# [YOUR CODE HERE]"
      ],
      "execution_count": null,
      "outputs": []
    },
    {
      "cell_type": "code",
      "metadata": {
        "id": "DOSbJ2J0IYc9"
      },
      "source": [
        ""
      ],
      "execution_count": null,
      "outputs": []
    }
  ]
}