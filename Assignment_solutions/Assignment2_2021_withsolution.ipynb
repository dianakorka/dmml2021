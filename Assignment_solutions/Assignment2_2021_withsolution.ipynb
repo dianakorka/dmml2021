{
  "nbformat": 4,
  "nbformat_minor": 0,
  "metadata": {
    "colab": {
      "name": "Assignment2_2021.ipynb",
      "provenance": [],
      "collapsed_sections": [
        "ggwsQQ430s7P",
        "Uxnoh22x1NQE",
        "Ef69Or0C2G0w",
        "m5QlsizK29dR",
        "hdgZ5cm2351c",
        "9aSX_T0H6Mhw",
        "AnPpI_li6yg_",
        "p6BHQzMUDAzR"
      ],
      "include_colab_link": true
    },
    "kernelspec": {
      "name": "python3",
      "display_name": "Python 3"
    },
    "language_info": {
      "name": "python"
    }
  },
  "cells": [
    {
      "cell_type": "markdown",
      "metadata": {
        "id": "view-in-github",
        "colab_type": "text"
      },
      "source": [
        "<a href=\"https://colab.research.google.com/github/michalis0/DataMining_and_MachineLearning/blob/master/Assignment_solutions/Assignment2_2021_withsolution.ipynb\" target=\"_parent\"><img src=\"https://colab.research.google.com/assets/colab-badge.svg\" alt=\"Open In Colab\"/></a>"
      ]
    },
    {
      "cell_type": "markdown",
      "metadata": {
        "id": "xKZsLA54_9EO"
      },
      "source": [
        "# Data Mining and Machine Learning - Assignment 2\n",
        "\n",
        "> Topics Covered: Classification (week 6 to week 7)\n",
        "\n",
        "**Due: Sunday November 21, 11.59pm**\n",
        "\n",
        "\n",
        "To complete the assignment you have to do ***both***:\n",
        "\n",
        "1. Complete the exercises and [submit your Python notebook](https://moodle.unil.ch/mod/assign/view.php?id=1182268)\n",
        "2. Answer the questions to the [quiz on Moodle](https://moodle.unil.ch/mod/quiz/view.php?id=1182280)\n",
        ">Note: You can only complete the quiz *one time*. Have your notebook ready with your solutions for answering the quiz. \n",
        "\n",
        "The answers to the quiz should be supported by your code in the notebook. If they are not you will not receive points for them.\n",
        "\n",
        "**IMPORTANT!** You can discuss the questions with other students but **do not exchange code!** This is individual work. We will run your code and check for similarities.\n",
        "\n",
        "You can post your questions in [slack channel #assignment_questions](https://app.slack.com/client/T02C4KVGVMX/C02BBA2TFQF).\n",
        "\n",
        "\n",
        "If there is need for further clarifications on the questions, after the assignment is released, we will update this file on GitHub, so make sure you check the git repo for updates.\n",
        "\n",
        "To get started, run the first few cells to load the dataset and then check out the questions.\n",
        "\n",
        "Good luck!"
      ]
    },
    {
      "cell_type": "code",
      "metadata": {
        "id": "lzK7uuJqBf-g"
      },
      "source": [
        "# Import required packages\n",
        "\n",
        "%matplotlib inline\n",
        "import numpy as np\n",
        "import matplotlib.pyplot as plt\n",
        "import pandas as pd \n",
        "import seaborn as sns\n",
        "sns.set_style(\"whitegrid\")"
      ],
      "execution_count": 153,
      "outputs": []
    },
    {
      "cell_type": "markdown",
      "metadata": {
        "id": "gV9UH9Y9CDUb"
      },
      "source": [
        "**Important!**\n",
        "\n",
        "**For all the questions below, fix the seed of random generators to 72.**"
      ]
    },
    {
      "cell_type": "code",
      "metadata": {
        "id": "nfz1e8kmB3fw"
      },
      "source": [
        "np.random.seed = 72"
      ],
      "execution_count": 154,
      "outputs": []
    },
    {
      "cell_type": "markdown",
      "metadata": {
        "id": "zkMhOCYSCOmH"
      },
      "source": [
        "# Classification\n",
        "\n",
        "For the first part we use employee retention data from [Kaggle](https://www.kaggle.com/pankeshpatel/hrcommasep). The dataset contains HR information on a company's employees such as:\n",
        "* satisfaction level, ranges from 0 to 1\n",
        "* score of the last evaluation they received, ranges from 0 to 1\n",
        "* number of projects in which the employee is involved \n",
        "* average number of hours worked per month\n",
        "* years spent with the company\n",
        "* whether they experienced a work accident (1 if yes, 0 if no)\n",
        "* whether they left thier job (1) or stayed with the company (0)\n",
        "* whether they received a promotion in the last 5 years (1 if yes, 0 if no)\n",
        "* the department in which they work\n",
        "* whether their salary was low, medium or high.\n",
        "\n",
        "### _Your task is to build a model that predicts whether an employee stays (0) or leaves the company (1)._\n",
        "\n",
        "### 1. Load the data"
      ]
    },
    {
      "cell_type": "code",
      "metadata": {
        "colab": {
          "base_uri": "https://localhost:8080/",
          "height": 206
        },
        "id": "r8vG7eB6FBFe",
        "outputId": "82e395da-3e70-413f-c16a-0f92a4ed14f0"
      },
      "source": [
        "# Load data\n",
        "df=pd.read_csv('https://raw.githubusercontent.com/michalis0/DataMining_and_MachineLearning/master/data/HR_comma_sep.csv')\n",
        "df.head()"
      ],
      "execution_count": 155,
      "outputs": [
        {
          "output_type": "execute_result",
          "data": {
            "text/html": [
              "<div>\n",
              "<style scoped>\n",
              "    .dataframe tbody tr th:only-of-type {\n",
              "        vertical-align: middle;\n",
              "    }\n",
              "\n",
              "    .dataframe tbody tr th {\n",
              "        vertical-align: top;\n",
              "    }\n",
              "\n",
              "    .dataframe thead th {\n",
              "        text-align: right;\n",
              "    }\n",
              "</style>\n",
              "<table border=\"1\" class=\"dataframe\">\n",
              "  <thead>\n",
              "    <tr style=\"text-align: right;\">\n",
              "      <th></th>\n",
              "      <th>satisfaction_level</th>\n",
              "      <th>last_evaluation</th>\n",
              "      <th>number_project</th>\n",
              "      <th>average_monthly_hours</th>\n",
              "      <th>time_spent_company</th>\n",
              "      <th>work_accident</th>\n",
              "      <th>left</th>\n",
              "      <th>promotion_last_5years</th>\n",
              "      <th>department</th>\n",
              "      <th>salary</th>\n",
              "    </tr>\n",
              "  </thead>\n",
              "  <tbody>\n",
              "    <tr>\n",
              "      <th>0</th>\n",
              "      <td>0.38</td>\n",
              "      <td>0.53</td>\n",
              "      <td>2</td>\n",
              "      <td>157</td>\n",
              "      <td>3</td>\n",
              "      <td>0</td>\n",
              "      <td>1</td>\n",
              "      <td>0</td>\n",
              "      <td>sales</td>\n",
              "      <td>low</td>\n",
              "    </tr>\n",
              "    <tr>\n",
              "      <th>1</th>\n",
              "      <td>0.80</td>\n",
              "      <td>0.86</td>\n",
              "      <td>5</td>\n",
              "      <td>262</td>\n",
              "      <td>6</td>\n",
              "      <td>0</td>\n",
              "      <td>1</td>\n",
              "      <td>0</td>\n",
              "      <td>sales</td>\n",
              "      <td>medium</td>\n",
              "    </tr>\n",
              "    <tr>\n",
              "      <th>2</th>\n",
              "      <td>0.11</td>\n",
              "      <td>0.88</td>\n",
              "      <td>7</td>\n",
              "      <td>272</td>\n",
              "      <td>4</td>\n",
              "      <td>0</td>\n",
              "      <td>1</td>\n",
              "      <td>0</td>\n",
              "      <td>sales</td>\n",
              "      <td>medium</td>\n",
              "    </tr>\n",
              "    <tr>\n",
              "      <th>3</th>\n",
              "      <td>0.72</td>\n",
              "      <td>0.87</td>\n",
              "      <td>5</td>\n",
              "      <td>223</td>\n",
              "      <td>5</td>\n",
              "      <td>0</td>\n",
              "      <td>1</td>\n",
              "      <td>0</td>\n",
              "      <td>sales</td>\n",
              "      <td>low</td>\n",
              "    </tr>\n",
              "    <tr>\n",
              "      <th>4</th>\n",
              "      <td>0.37</td>\n",
              "      <td>0.52</td>\n",
              "      <td>2</td>\n",
              "      <td>159</td>\n",
              "      <td>3</td>\n",
              "      <td>0</td>\n",
              "      <td>1</td>\n",
              "      <td>0</td>\n",
              "      <td>sales</td>\n",
              "      <td>low</td>\n",
              "    </tr>\n",
              "  </tbody>\n",
              "</table>\n",
              "</div>"
            ],
            "text/plain": [
              "   satisfaction_level  last_evaluation  ...  department  salary\n",
              "0                0.38             0.53  ...       sales     low\n",
              "1                0.80             0.86  ...       sales  medium\n",
              "2                0.11             0.88  ...       sales  medium\n",
              "3                0.72             0.87  ...       sales     low\n",
              "4                0.37             0.52  ...       sales     low\n",
              "\n",
              "[5 rows x 10 columns]"
            ]
          },
          "metadata": {},
          "execution_count": 155
        }
      ]
    },
    {
      "cell_type": "markdown",
      "metadata": {
        "id": "XjJUPGBhGkWl"
      },
      "source": [
        "#### 1.1. How many rows and columns does the dataset have?"
      ]
    },
    {
      "cell_type": "code",
      "metadata": {
        "colab": {
          "base_uri": "https://localhost:8080/"
        },
        "id": "t2vhggADGC_j",
        "outputId": "c8b52cc2-2320-4c57-fc81-38dc923e9eac"
      },
      "source": [
        "#your code here\n",
        "df.shape"
      ],
      "execution_count": 156,
      "outputs": [
        {
          "output_type": "execute_result",
          "data": {
            "text/plain": [
              "(14999, 10)"
            ]
          },
          "metadata": {},
          "execution_count": 156
        }
      ]
    },
    {
      "cell_type": "markdown",
      "metadata": {
        "id": "CKhxJGwek5Uo"
      },
      "source": [
        "#### 1.2. Looking at the `left` column, which shows 1 if an employee left their job and 0 if they stayed, calculate and show the frequency of each class in the total dataset. "
      ]
    },
    {
      "cell_type": "code",
      "metadata": {
        "colab": {
          "base_uri": "https://localhost:8080/"
        },
        "id": "0Lk2MlFJlgXx",
        "outputId": "98e8b796-31f5-4ee5-caa7-074ad9e938fa"
      },
      "source": [
        "# your code here\n",
        "df.left.value_counts()/df.shape[0]"
      ],
      "execution_count": 157,
      "outputs": [
        {
          "output_type": "execute_result",
          "data": {
            "text/plain": [
              "0    0.761917\n",
              "1    0.238083\n",
              "Name: left, dtype: float64"
            ]
          },
          "metadata": {},
          "execution_count": 157
        }
      ]
    },
    {
      "cell_type": "markdown",
      "metadata": {
        "id": "i2poQPaa-e5G"
      },
      "source": [
        "<font color=\"blue\">Additional explanation</font>\n",
        "\n",
        "Or if you prefer to have more information, check out below Paula Heess's solution for this question."
      ]
    },
    {
      "cell_type": "code",
      "metadata": {
        "id": "p3Wjhd58-sBG",
        "outputId": "095480e1-1c23-458c-eaa7-bafbd052186a",
        "colab": {
          "base_uri": "https://localhost:8080/"
        }
      },
      "source": [
        "print('Employees left in absolute terms:',df.loc[df['left']==1, 'left'].size)\n",
        "print('Employees stayed in absolute terms:',df.loc[df['left']==0, 'left'].size)\n",
        "\n",
        "print('Employees left in relative terms:',((df.loc[df['left']==1, 'left'].size)/df.shape[0])*100,'%')\n",
        "print('Employees stayed in relative terms:',((df.loc[df['left']==0, 'left'].size)/df.shape[0])*100,'%')"
      ],
      "execution_count": 158,
      "outputs": [
        {
          "output_type": "stream",
          "name": "stdout",
          "text": [
            "Employees left in absolute terms: 3571\n",
            "Employees stayed in absolute terms: 11428\n",
            "Employees left in relative terms: 23.80825388359224 %\n",
            "Employees stayed in relative terms: 76.19174611640777 %\n"
          ]
        }
      ]
    },
    {
      "cell_type": "markdown",
      "metadata": {
        "id": "aoopUs5tImLE"
      },
      "source": [
        "\n",
        "### 2. Encode categorical variables\n",
        "\n",
        "\n",
        "For the following categorical features:\n",
        "- encode `salary` with two different encoders: a label encoder, an ordinal encoder (keep both), and\n",
        "- `department` with one hot encoding. \n",
        "\n"
      ]
    },
    {
      "cell_type": "code",
      "metadata": {
        "id": "zQXR8WIZLRNE"
      },
      "source": [
        "# import some additional packages\n",
        "from sklearn.preprocessing import OrdinalEncoder, OneHotEncoder, LabelEncoder\n",
        "from sklearn.linear_model import LogisticRegression, LogisticRegressionCV\n",
        "from sklearn.model_selection import train_test_split\n",
        "from sklearn.metrics import confusion_matrix, accuracy_score, precision_score, recall_score, f1_score\n",
        "from sklearn. preprocessing import StandardScaler"
      ],
      "execution_count": 159,
      "outputs": []
    },
    {
      "cell_type": "markdown",
      "metadata": {
        "id": "sjAsVeI_ZL35"
      },
      "source": [
        "#### 2.1. Use a LabelEncoder to encode `salary` as `le_salary`."
      ]
    },
    {
      "cell_type": "code",
      "metadata": {
        "colab": {
          "base_uri": "https://localhost:8080/"
        },
        "id": "VT14zC0LZTb5",
        "outputId": "f7b2ebeb-b96c-42f4-a7d8-db3fe18d2385"
      },
      "source": [
        "# your code here\n",
        "le = LabelEncoder()\n",
        "le_salary=pd.Series(le.fit_transform(df.salary), name='le_salary')\n",
        "le_salary.value_counts()"
      ],
      "execution_count": 160,
      "outputs": [
        {
          "output_type": "execute_result",
          "data": {
            "text/plain": [
              "1    7316\n",
              "2    6446\n",
              "0    1237\n",
              "Name: le_salary, dtype: int64"
            ]
          },
          "metadata": {},
          "execution_count": 160
        }
      ]
    },
    {
      "cell_type": "markdown",
      "metadata": {
        "id": "rT76Rg8nXX5X"
      },
      "source": [
        "#### 2.2. Use an Ordinal Encoder to encode `salary` as `oe_salary`. For the ordinal encoding you should set your own dictionary such that `low salary` corresponds to 0, 1 to medium and 2 to high. "
      ]
    },
    {
      "cell_type": "code",
      "metadata": {
        "colab": {
          "base_uri": "https://localhost:8080/"
        },
        "id": "MlaIHaSDOttB",
        "outputId": "39e2d580-d1f6-4094-ffea-ed18004fcdd2"
      },
      "source": [
        "# your code here\n",
        "oe=OrdinalEncoder()\n",
        "oe.set_params(categories= [['low', 'medium', 'high']])\n",
        "oe_salary= oe.fit_transform(df[['salary']])\n",
        "oe.categories_"
      ],
      "execution_count": 161,
      "outputs": [
        {
          "output_type": "execute_result",
          "data": {
            "text/plain": [
              "[array(['low', 'medium', 'high'], dtype=object)]"
            ]
          },
          "metadata": {},
          "execution_count": 161
        }
      ]
    },
    {
      "cell_type": "code",
      "metadata": {
        "id": "4NbCkFReWFE_"
      },
      "source": [
        "oe_salary=pd.DataFrame(oe_salary, columns=['oe_salary']).astype('int')"
      ],
      "execution_count": 162,
      "outputs": []
    },
    {
      "cell_type": "code",
      "metadata": {
        "colab": {
          "base_uri": "https://localhost:8080/"
        },
        "id": "B9dFL7WIW_KL",
        "outputId": "8983cc95-85ca-4f33-d65d-ce687a98a1f9"
      },
      "source": [
        "oe_salary.iloc[:,0].value_counts()"
      ],
      "execution_count": 163,
      "outputs": [
        {
          "output_type": "execute_result",
          "data": {
            "text/plain": [
              "0    7316\n",
              "1    6446\n",
              "2    1237\n",
              "Name: oe_salary, dtype: int64"
            ]
          },
          "metadata": {},
          "execution_count": 163
        }
      ]
    },
    {
      "cell_type": "markdown",
      "metadata": {
        "id": "pcO-lO7xAR1R"
      },
      "source": [
        "<font color=\"blue\">Additional explanation</font>\n",
        "\n",
        "Or check out below the alternative solution using list comprehension from Melinda Femminis and Raphael Dominguez."
      ]
    },
    {
      "cell_type": "code",
      "metadata": {
        "id": "OSD_BZK3A6Zu",
        "outputId": "75e12e56-05f7-432c-c761-54b7d085824f",
        "colab": {
          "base_uri": "https://localhost:8080/"
        }
      },
      "source": [
        "df['oe_salary'] = [0 if x=='low' \n",
        "                   else 1 if x=='medium'\n",
        "                   else 2 for x in df.salary]\n",
        "df.oe_salary.value_counts()"
      ],
      "execution_count": 164,
      "outputs": [
        {
          "output_type": "execute_result",
          "data": {
            "text/plain": [
              "0    7316\n",
              "1    6446\n",
              "2    1237\n",
              "Name: oe_salary, dtype: int64"
            ]
          },
          "metadata": {},
          "execution_count": 164
        }
      ]
    },
    {
      "cell_type": "markdown",
      "metadata": {
        "id": "pG6n5thAaTPL"
      },
      "source": [
        "#### 2.3. Encode the `department` column with one hot encoding."
      ]
    },
    {
      "cell_type": "code",
      "metadata": {
        "colab": {
          "base_uri": "https://localhost:8080/",
          "height": 81
        },
        "id": "LONRrPVqaVtL",
        "outputId": "fe132a97-bec4-4d41-90f0-d1aaddde9253"
      },
      "source": [
        "#your code here\n",
        "one_hot=OneHotEncoder(sparse=False)\n",
        "dep_one_hot=one_hot.fit_transform(df[['department']])\n",
        "dep_one_hot=pd.DataFrame(dep_one_hot, columns=one_hot.categories_)\n",
        "dep_one_hot.sample()"
      ],
      "execution_count": 165,
      "outputs": [
        {
          "output_type": "execute_result",
          "data": {
            "text/html": [
              "<div>\n",
              "<style scoped>\n",
              "    .dataframe tbody tr th:only-of-type {\n",
              "        vertical-align: middle;\n",
              "    }\n",
              "\n",
              "    .dataframe tbody tr th {\n",
              "        vertical-align: top;\n",
              "    }\n",
              "\n",
              "    .dataframe thead tr th {\n",
              "        text-align: left;\n",
              "    }\n",
              "</style>\n",
              "<table border=\"1\" class=\"dataframe\">\n",
              "  <thead>\n",
              "    <tr>\n",
              "      <th></th>\n",
              "      <th>IT</th>\n",
              "      <th>RandD</th>\n",
              "      <th>accounting</th>\n",
              "      <th>hr</th>\n",
              "      <th>management</th>\n",
              "      <th>marketing</th>\n",
              "      <th>product_mng</th>\n",
              "      <th>sales</th>\n",
              "      <th>support</th>\n",
              "      <th>technical</th>\n",
              "    </tr>\n",
              "  </thead>\n",
              "  <tbody>\n",
              "    <tr>\n",
              "      <th>10978</th>\n",
              "      <td>1.0</td>\n",
              "      <td>0.0</td>\n",
              "      <td>0.0</td>\n",
              "      <td>0.0</td>\n",
              "      <td>0.0</td>\n",
              "      <td>0.0</td>\n",
              "      <td>0.0</td>\n",
              "      <td>0.0</td>\n",
              "      <td>0.0</td>\n",
              "      <td>0.0</td>\n",
              "    </tr>\n",
              "  </tbody>\n",
              "</table>\n",
              "</div>"
            ],
            "text/plain": [
              "        IT RandD accounting   hr  ... product_mng sales support technical\n",
              "10978  1.0   0.0        0.0  0.0  ...         0.0   0.0     0.0       0.0\n",
              "\n",
              "[1 rows x 10 columns]"
            ]
          },
          "metadata": {},
          "execution_count": 165
        }
      ]
    },
    {
      "cell_type": "markdown",
      "metadata": {
        "id": "hIvAZtUyBwsg"
      },
      "source": [
        "<font color=\"blue\">Additional explanation</font>   \n",
        "\n",
        "Also possible to use Pandas' `get_dummies()` function as in Melinda Femminis's solution."
      ]
    },
    {
      "cell_type": "code",
      "metadata": {
        "id": "niAWOwvjCKUo",
        "outputId": "6209cfa8-80b1-4f72-c17f-3fd9003033ac",
        "colab": {
          "base_uri": "https://localhost:8080/",
          "height": 226
        }
      },
      "source": [
        "df = pd.concat([df, pd.get_dummies(df.department, prefix='dep')], axis=1)\n",
        "df.head()"
      ],
      "execution_count": 166,
      "outputs": [
        {
          "output_type": "execute_result",
          "data": {
            "text/html": [
              "<div>\n",
              "<style scoped>\n",
              "    .dataframe tbody tr th:only-of-type {\n",
              "        vertical-align: middle;\n",
              "    }\n",
              "\n",
              "    .dataframe tbody tr th {\n",
              "        vertical-align: top;\n",
              "    }\n",
              "\n",
              "    .dataframe thead th {\n",
              "        text-align: right;\n",
              "    }\n",
              "</style>\n",
              "<table border=\"1\" class=\"dataframe\">\n",
              "  <thead>\n",
              "    <tr style=\"text-align: right;\">\n",
              "      <th></th>\n",
              "      <th>satisfaction_level</th>\n",
              "      <th>last_evaluation</th>\n",
              "      <th>number_project</th>\n",
              "      <th>average_monthly_hours</th>\n",
              "      <th>time_spent_company</th>\n",
              "      <th>work_accident</th>\n",
              "      <th>left</th>\n",
              "      <th>promotion_last_5years</th>\n",
              "      <th>department</th>\n",
              "      <th>salary</th>\n",
              "      <th>oe_salary</th>\n",
              "      <th>dep_IT</th>\n",
              "      <th>dep_RandD</th>\n",
              "      <th>dep_accounting</th>\n",
              "      <th>dep_hr</th>\n",
              "      <th>dep_management</th>\n",
              "      <th>dep_marketing</th>\n",
              "      <th>dep_product_mng</th>\n",
              "      <th>dep_sales</th>\n",
              "      <th>dep_support</th>\n",
              "      <th>dep_technical</th>\n",
              "    </tr>\n",
              "  </thead>\n",
              "  <tbody>\n",
              "    <tr>\n",
              "      <th>0</th>\n",
              "      <td>0.38</td>\n",
              "      <td>0.53</td>\n",
              "      <td>2</td>\n",
              "      <td>157</td>\n",
              "      <td>3</td>\n",
              "      <td>0</td>\n",
              "      <td>1</td>\n",
              "      <td>0</td>\n",
              "      <td>sales</td>\n",
              "      <td>low</td>\n",
              "      <td>0</td>\n",
              "      <td>0</td>\n",
              "      <td>0</td>\n",
              "      <td>0</td>\n",
              "      <td>0</td>\n",
              "      <td>0</td>\n",
              "      <td>0</td>\n",
              "      <td>0</td>\n",
              "      <td>1</td>\n",
              "      <td>0</td>\n",
              "      <td>0</td>\n",
              "    </tr>\n",
              "    <tr>\n",
              "      <th>1</th>\n",
              "      <td>0.80</td>\n",
              "      <td>0.86</td>\n",
              "      <td>5</td>\n",
              "      <td>262</td>\n",
              "      <td>6</td>\n",
              "      <td>0</td>\n",
              "      <td>1</td>\n",
              "      <td>0</td>\n",
              "      <td>sales</td>\n",
              "      <td>medium</td>\n",
              "      <td>1</td>\n",
              "      <td>0</td>\n",
              "      <td>0</td>\n",
              "      <td>0</td>\n",
              "      <td>0</td>\n",
              "      <td>0</td>\n",
              "      <td>0</td>\n",
              "      <td>0</td>\n",
              "      <td>1</td>\n",
              "      <td>0</td>\n",
              "      <td>0</td>\n",
              "    </tr>\n",
              "    <tr>\n",
              "      <th>2</th>\n",
              "      <td>0.11</td>\n",
              "      <td>0.88</td>\n",
              "      <td>7</td>\n",
              "      <td>272</td>\n",
              "      <td>4</td>\n",
              "      <td>0</td>\n",
              "      <td>1</td>\n",
              "      <td>0</td>\n",
              "      <td>sales</td>\n",
              "      <td>medium</td>\n",
              "      <td>1</td>\n",
              "      <td>0</td>\n",
              "      <td>0</td>\n",
              "      <td>0</td>\n",
              "      <td>0</td>\n",
              "      <td>0</td>\n",
              "      <td>0</td>\n",
              "      <td>0</td>\n",
              "      <td>1</td>\n",
              "      <td>0</td>\n",
              "      <td>0</td>\n",
              "    </tr>\n",
              "    <tr>\n",
              "      <th>3</th>\n",
              "      <td>0.72</td>\n",
              "      <td>0.87</td>\n",
              "      <td>5</td>\n",
              "      <td>223</td>\n",
              "      <td>5</td>\n",
              "      <td>0</td>\n",
              "      <td>1</td>\n",
              "      <td>0</td>\n",
              "      <td>sales</td>\n",
              "      <td>low</td>\n",
              "      <td>0</td>\n",
              "      <td>0</td>\n",
              "      <td>0</td>\n",
              "      <td>0</td>\n",
              "      <td>0</td>\n",
              "      <td>0</td>\n",
              "      <td>0</td>\n",
              "      <td>0</td>\n",
              "      <td>1</td>\n",
              "      <td>0</td>\n",
              "      <td>0</td>\n",
              "    </tr>\n",
              "    <tr>\n",
              "      <th>4</th>\n",
              "      <td>0.37</td>\n",
              "      <td>0.52</td>\n",
              "      <td>2</td>\n",
              "      <td>159</td>\n",
              "      <td>3</td>\n",
              "      <td>0</td>\n",
              "      <td>1</td>\n",
              "      <td>0</td>\n",
              "      <td>sales</td>\n",
              "      <td>low</td>\n",
              "      <td>0</td>\n",
              "      <td>0</td>\n",
              "      <td>0</td>\n",
              "      <td>0</td>\n",
              "      <td>0</td>\n",
              "      <td>0</td>\n",
              "      <td>0</td>\n",
              "      <td>0</td>\n",
              "      <td>1</td>\n",
              "      <td>0</td>\n",
              "      <td>0</td>\n",
              "    </tr>\n",
              "  </tbody>\n",
              "</table>\n",
              "</div>"
            ],
            "text/plain": [
              "   satisfaction_level  last_evaluation  ...  dep_support  dep_technical\n",
              "0                0.38             0.53  ...            0              0\n",
              "1                0.80             0.86  ...            0              0\n",
              "2                0.11             0.88  ...            0              0\n",
              "3                0.72             0.87  ...            0              0\n",
              "4                0.37             0.52  ...            0              0\n",
              "\n",
              "[5 rows x 21 columns]"
            ]
          },
          "metadata": {},
          "execution_count": 166
        }
      ]
    },
    {
      "cell_type": "markdown",
      "metadata": {
        "id": "UWzJoRFib5PH"
      },
      "source": [
        "#### 2.4. Now concatenate all the features (`department` one hot-encoded, and the two versions of encoded `salary`) to the initial dataframe. You can use the `pd.concat` function. \n",
        "> Hint: You should have a total of 22 features in the concatenated dataset."
      ]
    },
    {
      "cell_type": "code",
      "metadata": {
        "colab": {
          "base_uri": "https://localhost:8080/",
          "height": 101
        },
        "id": "DuG_lUKqcQrk",
        "outputId": "20d3d670-6477-41c3-a453-daaa667a359d"
      },
      "source": [
        "# your code here\n",
        "data = pd.concat([df, dep_one_hot, le_salary], axis=1) # this should also include oe_salary if you did not yet add it as we did above\n",
        "data.columns = data.columns.map(''.join) # this is optional, so that column names are not tuples\n",
        "data.head(1)"
      ],
      "execution_count": 167,
      "outputs": [
        {
          "output_type": "execute_result",
          "data": {
            "text/html": [
              "<div>\n",
              "<style scoped>\n",
              "    .dataframe tbody tr th:only-of-type {\n",
              "        vertical-align: middle;\n",
              "    }\n",
              "\n",
              "    .dataframe tbody tr th {\n",
              "        vertical-align: top;\n",
              "    }\n",
              "\n",
              "    .dataframe thead th {\n",
              "        text-align: right;\n",
              "    }\n",
              "</style>\n",
              "<table border=\"1\" class=\"dataframe\">\n",
              "  <thead>\n",
              "    <tr style=\"text-align: right;\">\n",
              "      <th></th>\n",
              "      <th>satisfaction_level</th>\n",
              "      <th>last_evaluation</th>\n",
              "      <th>number_project</th>\n",
              "      <th>average_monthly_hours</th>\n",
              "      <th>time_spent_company</th>\n",
              "      <th>work_accident</th>\n",
              "      <th>left</th>\n",
              "      <th>promotion_last_5years</th>\n",
              "      <th>department</th>\n",
              "      <th>salary</th>\n",
              "      <th>oe_salary</th>\n",
              "      <th>dep_IT</th>\n",
              "      <th>dep_RandD</th>\n",
              "      <th>dep_accounting</th>\n",
              "      <th>dep_hr</th>\n",
              "      <th>dep_management</th>\n",
              "      <th>dep_marketing</th>\n",
              "      <th>dep_product_mng</th>\n",
              "      <th>dep_sales</th>\n",
              "      <th>dep_support</th>\n",
              "      <th>dep_technical</th>\n",
              "      <th>IT</th>\n",
              "      <th>RandD</th>\n",
              "      <th>accounting</th>\n",
              "      <th>hr</th>\n",
              "      <th>management</th>\n",
              "      <th>marketing</th>\n",
              "      <th>product_mng</th>\n",
              "      <th>sales</th>\n",
              "      <th>support</th>\n",
              "      <th>technical</th>\n",
              "      <th>le_salary</th>\n",
              "    </tr>\n",
              "  </thead>\n",
              "  <tbody>\n",
              "    <tr>\n",
              "      <th>0</th>\n",
              "      <td>0.38</td>\n",
              "      <td>0.53</td>\n",
              "      <td>2</td>\n",
              "      <td>157</td>\n",
              "      <td>3</td>\n",
              "      <td>0</td>\n",
              "      <td>1</td>\n",
              "      <td>0</td>\n",
              "      <td>sales</td>\n",
              "      <td>low</td>\n",
              "      <td>0</td>\n",
              "      <td>0</td>\n",
              "      <td>0</td>\n",
              "      <td>0</td>\n",
              "      <td>0</td>\n",
              "      <td>0</td>\n",
              "      <td>0</td>\n",
              "      <td>0</td>\n",
              "      <td>1</td>\n",
              "      <td>0</td>\n",
              "      <td>0</td>\n",
              "      <td>0.0</td>\n",
              "      <td>0.0</td>\n",
              "      <td>0.0</td>\n",
              "      <td>0.0</td>\n",
              "      <td>0.0</td>\n",
              "      <td>0.0</td>\n",
              "      <td>0.0</td>\n",
              "      <td>1.0</td>\n",
              "      <td>0.0</td>\n",
              "      <td>0.0</td>\n",
              "      <td>1</td>\n",
              "    </tr>\n",
              "  </tbody>\n",
              "</table>\n",
              "</div>"
            ],
            "text/plain": [
              "   satisfaction_level  last_evaluation  ...  technical  le_salary\n",
              "0                0.38             0.53  ...        0.0          1\n",
              "\n",
              "[1 rows x 32 columns]"
            ]
          },
          "metadata": {},
          "execution_count": 167
        }
      ]
    },
    {
      "cell_type": "code",
      "metadata": {
        "colab": {
          "base_uri": "https://localhost:8080/"
        },
        "id": "LGvvcbNSmEGW",
        "outputId": "29795bef-976a-4090-bcc4-ac6857072109"
      },
      "source": [
        "data.shape"
      ],
      "execution_count": 168,
      "outputs": [
        {
          "output_type": "execute_result",
          "data": {
            "text/plain": [
              "(14999, 32)"
            ]
          },
          "metadata": {},
          "execution_count": 168
        }
      ]
    },
    {
      "cell_type": "code",
      "metadata": {
        "id": "yzPmwV1kEqjM",
        "outputId": "161896cb-e948-4cff-bfb4-85cf5b282358",
        "colab": {
          "base_uri": "https://localhost:8080/"
        }
      },
      "source": [
        "data.columns"
      ],
      "execution_count": 169,
      "outputs": [
        {
          "output_type": "execute_result",
          "data": {
            "text/plain": [
              "Index(['satisfaction_level', 'last_evaluation', 'number_project',\n",
              "       'average_monthly_hours', 'time_spent_company', 'work_accident', 'left',\n",
              "       'promotion_last_5years', 'department', 'salary', 'oe_salary', 'dep_IT',\n",
              "       'dep_RandD', 'dep_accounting', 'dep_hr', 'dep_management',\n",
              "       'dep_marketing', 'dep_product_mng', 'dep_sales', 'dep_support',\n",
              "       'dep_technical', 'IT', 'RandD', 'accounting', 'hr', 'management',\n",
              "       'marketing', 'product_mng', 'sales', 'support', 'technical',\n",
              "       'le_salary'],\n",
              "      dtype='object')"
            ]
          },
          "metadata": {},
          "execution_count": 169
        }
      ]
    },
    {
      "cell_type": "markdown",
      "metadata": {
        "id": "M8pv-5SOETkq"
      },
      "source": [
        "Ok, we have 22 columns + 10 because we have the one-hote encoded department twice from the two code variants. Let's just keep one"
      ]
    },
    {
      "cell_type": "code",
      "metadata": {
        "id": "ri3xQCS_FT9u",
        "outputId": "4146898b-4d2e-4d02-f04c-d74780767049",
        "colab": {
          "base_uri": "https://localhost:8080/"
        }
      },
      "source": [
        "data.drop(['dep_IT',  'dep_RandD',  'dep_accounting',\n",
        "                      'dep_hr',        'dep_management',\n",
        "               'dep_marketing',       'dep_product_mng',\n",
        "                   'dep_sales',           'dep_support',\n",
        "               'dep_technical'], axis=1, inplace=True)\n",
        "data.shape"
      ],
      "execution_count": 170,
      "outputs": [
        {
          "output_type": "execute_result",
          "data": {
            "text/plain": [
              "(14999, 22)"
            ]
          },
          "metadata": {},
          "execution_count": 170
        }
      ]
    },
    {
      "cell_type": "markdown",
      "metadata": {
        "id": "yXg5BFFAvlsG"
      },
      "source": [
        "#### 2.5. Create a new column, `eval_spent` equal to the product of two of the existing columns: the `evaluation score` and the `time spent` with the company."
      ]
    },
    {
      "cell_type": "code",
      "metadata": {
        "id": "9y-5jUqVmSVt"
      },
      "source": [
        "# your code here\n",
        "data['eval_spent']=data.last_evaluation*data.time_spent_company"
      ],
      "execution_count": 171,
      "outputs": []
    },
    {
      "cell_type": "markdown",
      "metadata": {
        "id": "RGD7oEYNy3RH"
      },
      "source": [
        "### 3. Train a Logistic Regression model with Cross Validation (with Label-Encoded Salary)\n",
        "\n",
        "For this section, train a logistic regression model with cross-validation on the employee retention dataset. Use all of the dependent variable features available from the concatenated dataset, but use only one encoded `salary` column at a time. \n",
        "\n",
        "Your dependent variable (y) is the column named `left`.\n",
        "\n",
        "You can then compare your logistic regression results when using the label-encoded salary and when using the ordinal-encoded salary.\n",
        "\n",
        "#### 3.1. Set the y and X variables. This time using `le_salary`.\n",
        "\n",
        "> Hint: X should have a total of 19 features, namely: 'satisfaction_level', 'last_evaluation',            'number_project', 'average_monthly_hours',           'time_spent_company',         'work_accident',       'promotion_last_5years',                 ('IT',),                   ('RandD',),         ('accounting',), ('hr',),         ('management',),  ('marketing',), ('product_mng',), ('sales',),            ('support',), ('technical',), 'le_salary', 'eval_spent'."
      ]
    },
    {
      "cell_type": "code",
      "metadata": {
        "colab": {
          "base_uri": "https://localhost:8080/",
          "height": 101
        },
        "id": "9299fcT1sKsh",
        "outputId": "eecadb78-d5eb-4437-f366-a81496aee7a6"
      },
      "source": [
        "# your code here\n",
        "y=data.left\n",
        "X=data.drop(['oe_salary', 'department', 'salary', 'left'], axis=1)\n",
        "X.head(1)"
      ],
      "execution_count": 172,
      "outputs": [
        {
          "output_type": "execute_result",
          "data": {
            "text/html": [
              "<div>\n",
              "<style scoped>\n",
              "    .dataframe tbody tr th:only-of-type {\n",
              "        vertical-align: middle;\n",
              "    }\n",
              "\n",
              "    .dataframe tbody tr th {\n",
              "        vertical-align: top;\n",
              "    }\n",
              "\n",
              "    .dataframe thead th {\n",
              "        text-align: right;\n",
              "    }\n",
              "</style>\n",
              "<table border=\"1\" class=\"dataframe\">\n",
              "  <thead>\n",
              "    <tr style=\"text-align: right;\">\n",
              "      <th></th>\n",
              "      <th>satisfaction_level</th>\n",
              "      <th>last_evaluation</th>\n",
              "      <th>number_project</th>\n",
              "      <th>average_monthly_hours</th>\n",
              "      <th>time_spent_company</th>\n",
              "      <th>work_accident</th>\n",
              "      <th>promotion_last_5years</th>\n",
              "      <th>IT</th>\n",
              "      <th>RandD</th>\n",
              "      <th>accounting</th>\n",
              "      <th>hr</th>\n",
              "      <th>management</th>\n",
              "      <th>marketing</th>\n",
              "      <th>product_mng</th>\n",
              "      <th>sales</th>\n",
              "      <th>support</th>\n",
              "      <th>technical</th>\n",
              "      <th>le_salary</th>\n",
              "      <th>eval_spent</th>\n",
              "    </tr>\n",
              "  </thead>\n",
              "  <tbody>\n",
              "    <tr>\n",
              "      <th>0</th>\n",
              "      <td>0.38</td>\n",
              "      <td>0.53</td>\n",
              "      <td>2</td>\n",
              "      <td>157</td>\n",
              "      <td>3</td>\n",
              "      <td>0</td>\n",
              "      <td>0</td>\n",
              "      <td>0.0</td>\n",
              "      <td>0.0</td>\n",
              "      <td>0.0</td>\n",
              "      <td>0.0</td>\n",
              "      <td>0.0</td>\n",
              "      <td>0.0</td>\n",
              "      <td>0.0</td>\n",
              "      <td>1.0</td>\n",
              "      <td>0.0</td>\n",
              "      <td>0.0</td>\n",
              "      <td>1</td>\n",
              "      <td>1.59</td>\n",
              "    </tr>\n",
              "  </tbody>\n",
              "</table>\n",
              "</div>"
            ],
            "text/plain": [
              "   satisfaction_level  last_evaluation  ...  le_salary  eval_spent\n",
              "0                0.38             0.53  ...          1        1.59\n",
              "\n",
              "[1 rows x 19 columns]"
            ]
          },
          "metadata": {},
          "execution_count": 172
        }
      ]
    },
    {
      "cell_type": "code",
      "metadata": {
        "colab": {
          "base_uri": "https://localhost:8080/"
        },
        "id": "mJFBAyB5m5U9",
        "outputId": "4891429f-64e4-466b-924d-98aea218de1e"
      },
      "source": [
        "X.shape"
      ],
      "execution_count": 173,
      "outputs": [
        {
          "output_type": "execute_result",
          "data": {
            "text/plain": [
              "(14999, 19)"
            ]
          },
          "metadata": {},
          "execution_count": 173
        }
      ]
    },
    {
      "cell_type": "code",
      "metadata": {
        "id": "EEl1CnaAGKSZ",
        "outputId": "35d34fb1-53b8-4fda-80fd-1c16031a403f",
        "colab": {
          "base_uri": "https://localhost:8080/"
        }
      },
      "source": [
        "X.columns"
      ],
      "execution_count": 174,
      "outputs": [
        {
          "output_type": "execute_result",
          "data": {
            "text/plain": [
              "Index(['satisfaction_level', 'last_evaluation', 'number_project',\n",
              "       'average_monthly_hours', 'time_spent_company', 'work_accident',\n",
              "       'promotion_last_5years', 'IT', 'RandD', 'accounting', 'hr',\n",
              "       'management', 'marketing', 'product_mng', 'sales', 'support',\n",
              "       'technical', 'le_salary', 'eval_spent'],\n",
              "      dtype='object')"
            ]
          },
          "metadata": {},
          "execution_count": 174
        }
      ]
    },
    {
      "cell_type": "markdown",
      "metadata": {
        "id": "btHb7-IHsnys"
      },
      "source": [
        "#### 3.2. Train/test splitting: Now split the data into 80% training and 20% test set. Remember to set the random seed to 72.\n"
      ]
    },
    {
      "cell_type": "code",
      "metadata": {
        "id": "nCgAYgX5s0QZ"
      },
      "source": [
        "# your code here\n",
        "X_train, X_test, y_train, y_test = train_test_split(X, y, test_size=0.2, random_state=72)"
      ],
      "execution_count": 175,
      "outputs": []
    },
    {
      "cell_type": "markdown",
      "metadata": {
        "id": "k6TBBmk_jsgy"
      },
      "source": [
        "#### 3.3. What is the base rate of the classification problem (whether an employee stays or leaves) ?\n",
        "> Hint: calculate the frequency of the most common class on the test set for y"
      ]
    },
    {
      "cell_type": "code",
      "metadata": {
        "colab": {
          "base_uri": "https://localhost:8080/"
        },
        "id": "5Vk3Hbjsj4Ow",
        "outputId": "05eed022-e904-4355-cf32-c49da1af3741"
      },
      "source": [
        "# your code here\n",
        "np.max(y_test.value_counts()/y_test.shape[0])"
      ],
      "execution_count": 176,
      "outputs": [
        {
          "output_type": "execute_result",
          "data": {
            "text/plain": [
              "0.7626666666666667"
            ]
          },
          "metadata": {},
          "execution_count": 176
        }
      ]
    },
    {
      "cell_type": "code",
      "metadata": {
        "id": "W-2Z6Bc-wdyZ"
      },
      "source": [
        "# store for later\n",
        "base_rate= np.max(y_test.value_counts()/y_test.shape[0])"
      ],
      "execution_count": 177,
      "outputs": []
    },
    {
      "cell_type": "markdown",
      "metadata": {
        "id": "T1Aw_gFHGytq"
      },
      "source": [
        "<font color=\"blue\">Additional explanation</font>\n",
        "\n",
        "Alternative with Dummy Classifier from Baptiste Loutan just below."
      ]
    },
    {
      "cell_type": "code",
      "metadata": {
        "id": "tVXidSe9G6Vw",
        "outputId": "4de79108-2abf-47be-a2c4-8cd502cb667d",
        "colab": {
          "base_uri": "https://localhost:8080/"
        }
      },
      "source": [
        "# your code here\n",
        "from sklearn.dummy import DummyClassifier\n",
        "\n",
        "# instantiate with the \"most frequent\" parameter\n",
        "dummy = DummyClassifier(strategy='most_frequent')\n",
        "\n",
        "# fit it as if we had no X features to train it on\n",
        "dummy.fit(None, y_train)\n",
        "\n",
        "#compute test baseline and store it for later\n",
        "base_rate = dummy.score(None, y_test)\n",
        "print(f\"Baseline = {base_rate:.6f}\")"
      ],
      "execution_count": 178,
      "outputs": [
        {
          "output_type": "stream",
          "name": "stdout",
          "text": [
            "Baseline = 0.762667\n"
          ]
        }
      ]
    },
    {
      "cell_type": "markdown",
      "metadata": {
        "id": "Iq1oQXsKHWqH"
      },
      "source": [
        "Or from Melinda Femminins. Pls note that the result is the same."
      ]
    },
    {
      "cell_type": "code",
      "metadata": {
        "id": "4HxqDXrsHb53",
        "outputId": "80731ba8-ba50-41c4-a39b-42b22cf414e6",
        "colab": {
          "base_uri": "https://localhost:8080/"
        }
      },
      "source": [
        "br_train = y_train.value_counts(normalize = True)\n",
        "br_test = y_test.value_counts(normalize = True)\n",
        "print(\"Train: \\n\" + str(br_train))\n",
        "print(\"Test: \\n\" + str(br_test))\n",
        "print(f\"Base rate is {max(br_test)}\")"
      ],
      "execution_count": 179,
      "outputs": [
        {
          "output_type": "stream",
          "name": "stdout",
          "text": [
            "Train: \n",
            "0    0.76173\n",
            "1    0.23827\n",
            "Name: left, dtype: float64\n",
            "Test: \n",
            "0    0.762667\n",
            "1    0.237333\n",
            "Name: left, dtype: float64\n",
            "Base rate is 0.7626666666666667\n"
          ]
        }
      ]
    },
    {
      "cell_type": "markdown",
      "metadata": {
        "id": "6kp7Bth_tAzZ"
      },
      "source": [
        "#### 3.4. Finally, train a Logistic Regression model with cross validation. Use the following parameters for Logistic Regression.\n",
        "\n",
        "`LogisticRegressionCV(solver='lbfgs', cv=5, max_iter=1000, random_state=72)`"
      ]
    },
    {
      "cell_type": "code",
      "metadata": {
        "id": "v6rjMI9Ps0D7"
      },
      "source": [
        "# your code here\n",
        "log_reg = LogisticRegressionCV(solver='lbfgs',cv=5, max_iter=1000, random_state=72)\n",
        "log_reg.fit(X_train, y_train)\n",
        "y_pred = log_reg.predict(X_test)"
      ],
      "execution_count": 180,
      "outputs": []
    },
    {
      "cell_type": "markdown",
      "metadata": {
        "id": "ueQMjfHku1yt"
      },
      "source": [
        "#### 3.5. What is the test accuracy? What is the train accuracy?"
      ]
    },
    {
      "cell_type": "code",
      "metadata": {
        "colab": {
          "base_uri": "https://localhost:8080/"
        },
        "id": "yX73g379u4q4",
        "outputId": "3759d07a-a692-40ea-b190-a8ac3a894d8f"
      },
      "source": [
        "# your code here\n",
        "print(f\"TEST ACCURACY SCORE:\\n{accuracy_score(y_test, y_pred):.4f}\")"
      ],
      "execution_count": 181,
      "outputs": [
        {
          "output_type": "stream",
          "name": "stdout",
          "text": [
            "TEST ACCURACY SCORE:\n",
            "0.8020\n"
          ]
        }
      ]
    },
    {
      "cell_type": "code",
      "metadata": {
        "id": "gMv0zPKGp9Ir"
      },
      "source": [
        "# storing the first accuracy score for comparing it later\n",
        "a1=accuracy_score(y_test, y_pred)"
      ],
      "execution_count": 182,
      "outputs": []
    },
    {
      "cell_type": "code",
      "metadata": {
        "colab": {
          "base_uri": "https://localhost:8080/"
        },
        "id": "b9Xqoiw8vH1b",
        "outputId": "adbf88a1-cd6c-45ad-9a43-61b173d51b1b"
      },
      "source": [
        "# your code here\n",
        "y_pred_t = log_reg.predict(X_train)\n",
        "print(f\"TRAIN ACCURACY SCORE:\\n{accuracy_score(y_train, y_pred_t):.4f}\")"
      ],
      "execution_count": 183,
      "outputs": [
        {
          "output_type": "stream",
          "name": "stdout",
          "text": [
            "TRAIN ACCURACY SCORE:\n",
            "0.7930\n"
          ]
        }
      ]
    },
    {
      "cell_type": "markdown",
      "metadata": {
        "id": "cAKLieirvIfm"
      },
      "source": [
        "#### 3.6. Calculate the precision and recall on the test set."
      ]
    },
    {
      "cell_type": "code",
      "metadata": {
        "colab": {
          "base_uri": "https://localhost:8080/"
        },
        "id": "-smGt5mXvJFR",
        "outputId": "561d9e44-7eb8-4b46-8c28-a41754dc957c"
      },
      "source": [
        "# your code here\n",
        "precision_score(y_test, y_pred)"
      ],
      "execution_count": 184,
      "outputs": [
        {
          "output_type": "execute_result",
          "data": {
            "text/plain": [
              "0.6334841628959276"
            ]
          },
          "metadata": {},
          "execution_count": 184
        }
      ]
    },
    {
      "cell_type": "code",
      "metadata": {
        "colab": {
          "base_uri": "https://localhost:8080/"
        },
        "id": "O8GQIyRaxghc",
        "outputId": "78a9e155-0178-4dfc-ac21-ab52f22265dd"
      },
      "source": [
        "# your code here\n",
        "recall_score(y_test, y_pred)"
      ],
      "execution_count": 185,
      "outputs": [
        {
          "output_type": "execute_result",
          "data": {
            "text/plain": [
              "0.39325842696629215"
            ]
          },
          "metadata": {},
          "execution_count": 185
        }
      ]
    },
    {
      "cell_type": "markdown",
      "metadata": {
        "id": "wKXpzetYxxaJ"
      },
      "source": [
        "#### 3.7. Plot the confusion matrix"
      ]
    },
    {
      "cell_type": "code",
      "metadata": {
        "colab": {
          "base_uri": "https://localhost:8080/",
          "height": 265
        },
        "id": "rSZyi_Y3sz2Q",
        "outputId": "7f51fc9c-f9a4-4eb7-b8b8-a2e0efa672d4"
      },
      "source": [
        "# your code here\n",
        "sns.heatmap(pd.DataFrame(confusion_matrix(y_test, y_pred)), annot=True, cmap='Blues', fmt='.4g');"
      ],
      "execution_count": 186,
      "outputs": [
        {
          "output_type": "display_data",
          "data": {
            "image/png": "[encoded data removed]",
            "text/plain": [
              "<Figure size 432x288 with 2 Axes>"
            ]
          },
          "metadata": {}
        }
      ]
    },
    {
      "cell_type": "markdown",
      "metadata": {
        "id": "qDnvzyZTxANW"
      },
      "source": [
        "<font color=\"blue\">Additional explanation</font>\n",
        "\n",
        "Or with explanatory labels as in the solution submitted by Baptiste Loutan."
      ]
    },
    {
      "cell_type": "code",
      "metadata": {
        "id": "JxSe48V6wr-v",
        "outputId": "b4e12c1c-eb6f-4057-ad26-3dac64881306",
        "colab": {
          "base_uri": "https://localhost:8080/",
          "height": 295
        }
      },
      "source": [
        "cf = confusion_matrix(y_test, y_pred)\n",
        "plt.figure()\n",
        "ax = plt.subplot()\n",
        "r = sns.heatmap(cf, annot=True, fmt='g', ax=ax, cmap='Blues')\n",
        "ax.set_xlabel('Predicted label')\n",
        "ax.set_ylabel('True label')\n",
        "ax.set_title('Confusion Matrix');"
      ],
      "execution_count": 187,
      "outputs": [
        {
          "output_type": "display_data",
          "data": {
            "image/png": "[encoded data removed]",
            "text/plain": [
              "<Figure size 432x288 with 2 Axes>"
            ]
          },
          "metadata": {}
        }
      ]
    },
    {
      "cell_type": "markdown",
      "metadata": {
        "id": "sC_GAUVZyVvP"
      },
      "source": [
        "### 4. Logistic Regression with Cross Validation (with Ordinal-Encoded Salary)\n",
        "#### 4.1. One more time, set the y and X variables, this time using `oe_salary` instead of `le_salary`.\n",
        "\n",
        "> Hint: X shoud contain the following 19 features 'satisfaction_level', 'last_evaluation', 'number_project',\n",
        "       'average_monthly_hours', 'time_spent_company', 'eval_spent','work_accident',\n",
        "       'promotion_last_5years', ('IT',), ('RandD',), ('accounting',),\n",
        "       ('hr',), ('management',), ('marketing',), ('product_mng',),\n",
        "       ('sales',), ('support',), ('technical',), 'oe_salary'."
      ]
    },
    {
      "cell_type": "code",
      "metadata": {
        "colab": {
          "base_uri": "https://localhost:8080/",
          "height": 101
        },
        "id": "Z8KeZ4Y0c_Vq",
        "outputId": "1777351f-9105-4638-8120-4ab5317e7172"
      },
      "source": [
        "# your code here\n",
        "y=data.left\n",
        "X=data[['satisfaction_level', 'last_evaluation', 'number_project',\n",
        "       'average_monthly_hours', 'time_spent_company', 'eval_spent','work_accident',\n",
        "       'promotion_last_5years', 'IT', 'RandD', 'accounting',\n",
        "       'hr', 'management', 'marketing', 'product_mng',\n",
        "       'sales', 'support', 'technical', 'oe_salary']]\n",
        "X.head(1)"
      ],
      "execution_count": 188,
      "outputs": [
        {
          "output_type": "execute_result",
          "data": {
            "text/html": [
              "<div>\n",
              "<style scoped>\n",
              "    .dataframe tbody tr th:only-of-type {\n",
              "        vertical-align: middle;\n",
              "    }\n",
              "\n",
              "    .dataframe tbody tr th {\n",
              "        vertical-align: top;\n",
              "    }\n",
              "\n",
              "    .dataframe thead th {\n",
              "        text-align: right;\n",
              "    }\n",
              "</style>\n",
              "<table border=\"1\" class=\"dataframe\">\n",
              "  <thead>\n",
              "    <tr style=\"text-align: right;\">\n",
              "      <th></th>\n",
              "      <th>satisfaction_level</th>\n",
              "      <th>last_evaluation</th>\n",
              "      <th>number_project</th>\n",
              "      <th>average_monthly_hours</th>\n",
              "      <th>time_spent_company</th>\n",
              "      <th>eval_spent</th>\n",
              "      <th>work_accident</th>\n",
              "      <th>promotion_last_5years</th>\n",
              "      <th>IT</th>\n",
              "      <th>RandD</th>\n",
              "      <th>accounting</th>\n",
              "      <th>hr</th>\n",
              "      <th>management</th>\n",
              "      <th>marketing</th>\n",
              "      <th>product_mng</th>\n",
              "      <th>sales</th>\n",
              "      <th>support</th>\n",
              "      <th>technical</th>\n",
              "      <th>oe_salary</th>\n",
              "    </tr>\n",
              "  </thead>\n",
              "  <tbody>\n",
              "    <tr>\n",
              "      <th>0</th>\n",
              "      <td>0.38</td>\n",
              "      <td>0.53</td>\n",
              "      <td>2</td>\n",
              "      <td>157</td>\n",
              "      <td>3</td>\n",
              "      <td>1.59</td>\n",
              "      <td>0</td>\n",
              "      <td>0</td>\n",
              "      <td>0.0</td>\n",
              "      <td>0.0</td>\n",
              "      <td>0.0</td>\n",
              "      <td>0.0</td>\n",
              "      <td>0.0</td>\n",
              "      <td>0.0</td>\n",
              "      <td>0.0</td>\n",
              "      <td>1.0</td>\n",
              "      <td>0.0</td>\n",
              "      <td>0.0</td>\n",
              "      <td>0</td>\n",
              "    </tr>\n",
              "  </tbody>\n",
              "</table>\n",
              "</div>"
            ],
            "text/plain": [
              "   satisfaction_level  last_evaluation  ...  technical  oe_salary\n",
              "0                0.38             0.53  ...        0.0          0\n",
              "\n",
              "[1 rows x 19 columns]"
            ]
          },
          "metadata": {},
          "execution_count": 188
        }
      ]
    },
    {
      "cell_type": "code",
      "metadata": {
        "colab": {
          "base_uri": "https://localhost:8080/"
        },
        "id": "80AN9D9pqf3P",
        "outputId": "2b25f77a-533a-463d-aec3-44b2322a9b3e"
      },
      "source": [
        "X.shape"
      ],
      "execution_count": 189,
      "outputs": [
        {
          "output_type": "execute_result",
          "data": {
            "text/plain": [
              "(14999, 19)"
            ]
          },
          "metadata": {},
          "execution_count": 189
        }
      ]
    },
    {
      "cell_type": "markdown",
      "metadata": {
        "id": "hpiThHMOcu4g"
      },
      "source": [
        "\n",
        "#### 4.2. Train/test splitting¶: Now split the data into 80% training and 20% test set. Remember to set the random seed to 72.\n"
      ]
    },
    {
      "cell_type": "code",
      "metadata": {
        "id": "yQBUxCExeFiW"
      },
      "source": [
        "# your code here\n",
        "X_train, X_test, y_train, y_test = train_test_split(X, y, test_size=0.2, random_state=72)"
      ],
      "execution_count": 190,
      "outputs": []
    },
    {
      "cell_type": "markdown",
      "metadata": {
        "id": "FI07dGPezBcp"
      },
      "source": [
        "#### 4.3. Finally, train a Logistic Regression model with cross validation. Use the same parameters as before for Logistic RegressionCV. These are copied again below.\n",
        "\n",
        "`LogisticRegressionCV(solver='lbfgs', cv=5, max_iter=1000, random_state=72)`"
      ]
    },
    {
      "cell_type": "code",
      "metadata": {
        "id": "fkWs6d6HzAhQ"
      },
      "source": [
        "# your code here\n",
        "log_reg = LogisticRegressionCV(solver='lbfgs',cv=5, max_iter=1000, random_state=72)\n",
        "log_reg.fit(X_train, y_train)\n",
        "y_pred = log_reg.predict(X_test)"
      ],
      "execution_count": 191,
      "outputs": []
    },
    {
      "cell_type": "markdown",
      "metadata": {
        "id": "Jc4D3VyVzVYf"
      },
      "source": [
        "#### 4.4 What are accuracy, precision and recall on the test set?"
      ]
    },
    {
      "cell_type": "code",
      "metadata": {
        "colab": {
          "base_uri": "https://localhost:8080/"
        },
        "id": "YVVDLcVhzhwS",
        "outputId": "8be4649a-b5da-41a8-daec-52db2c30ab88"
      },
      "source": [
        "# your code here\n",
        "print(f\"TEST ACCURACY SCORE:\\n{accuracy_score(y_test, y_pred):.4f}\")"
      ],
      "execution_count": 192,
      "outputs": [
        {
          "output_type": "stream",
          "name": "stdout",
          "text": [
            "TEST ACCURACY SCORE:\n",
            "0.8207\n"
          ]
        }
      ]
    },
    {
      "cell_type": "code",
      "metadata": {
        "id": "s3KA5KYhwvSx"
      },
      "source": [
        "# store for later\n",
        "a2=accuracy_score(y_test, y_pred)"
      ],
      "execution_count": 193,
      "outputs": []
    },
    {
      "cell_type": "code",
      "metadata": {
        "colab": {
          "base_uri": "https://localhost:8080/"
        },
        "id": "b5bYD2HrzAU6",
        "outputId": "1ad0a2ab-4290-4a8d-91b3-6d0faf8dc38f"
      },
      "source": [
        "# your code here\n",
        "precision_score(y_test, y_pred)"
      ],
      "execution_count": 194,
      "outputs": [
        {
          "output_type": "execute_result",
          "data": {
            "text/plain": [
              "0.6641509433962264"
            ]
          },
          "metadata": {},
          "execution_count": 194
        }
      ]
    },
    {
      "cell_type": "code",
      "metadata": {
        "colab": {
          "base_uri": "https://localhost:8080/"
        },
        "id": "IrsBPDPOzubJ",
        "outputId": "223245bf-ec70-4719-fffb-510d5a529bef"
      },
      "source": [
        "# your code here\n",
        "recall_score(y_test, y_pred)"
      ],
      "execution_count": 195,
      "outputs": [
        {
          "output_type": "execute_result",
          "data": {
            "text/plain": [
              "0.4943820224719101"
            ]
          },
          "metadata": {},
          "execution_count": 195
        }
      ]
    },
    {
      "cell_type": "markdown",
      "metadata": {
        "id": "2GOmCRGsrp2M"
      },
      "source": [
        "#### 4.5. Plot the confusion matrix."
      ]
    },
    {
      "cell_type": "code",
      "metadata": {
        "colab": {
          "base_uri": "https://localhost:8080/",
          "height": 265
        },
        "id": "UPRF8EVazuMZ",
        "outputId": "5b7cb675-b34d-4528-83e9-2c5b09c38fb7"
      },
      "source": [
        "# your code here\n",
        "sns.heatmap(pd.DataFrame(confusion_matrix(y_test, y_pred)), annot=True, cmap='Oranges', fmt='.4g');"
      ],
      "execution_count": 196,
      "outputs": [
        {
          "output_type": "display_data",
          "data": {
            "image/png": "[encoded data removed]",
            "text/plain": [
              "<Figure size 432x288 with 2 Axes>"
            ]
          },
          "metadata": {}
        }
      ]
    },
    {
      "cell_type": "markdown",
      "metadata": {
        "id": "iOmMrPwzeYpR"
      },
      "source": [
        "### 5. Logistic Regression with Standardisation and Cross Validation\n",
        "\n",
        "Try to improve the previous model under point 4 (with `oe_salary`) using standardisation. \n",
        "\n",
        "#### 5.1. Standardize only these numerical features: `satisfaction_level`, `last_evaluation`, `number_project`, `average_monthly_hours`, `time_spent_company`, `eval_spent`, so that each have a mean of zero and a standard deviation of 1. You can use the Scikit-learn `StandardScaler` function.\n",
        "> Hint: remember to use only the training set for fiting the StandardScaler, then apply the scaler (transform) to both the train and test sets.\n",
        ">\n",
        "> Hint 2: X shoud contain the following 19 features 'satisfaction_level', 'last_evaluation', 'number_project',\n",
        "       'average_monthly_hours', 'time_spent_company', 'eval_spent','work_accident',\n",
        "       'promotion_last_5years', ('IT',), ('RandD',), ('accounting',),\n",
        "       ('hr',), ('management',), ('marketing',), ('product_mng',),\n",
        "       ('sales',), ('support',), ('technical',), 'oe_salary'.\n"
      ]
    },
    {
      "cell_type": "code",
      "metadata": {
        "id": "0XZg1gJdy2CT",
        "outputId": "fbbcc694-aa0e-4b67-d4c6-2c33766899da",
        "colab": {
          "base_uri": "https://localhost:8080/",
          "height": 101
        }
      },
      "source": [
        "X_train.head(1)"
      ],
      "execution_count": 197,
      "outputs": [
        {
          "output_type": "execute_result",
          "data": {
            "text/html": [
              "<div>\n",
              "<style scoped>\n",
              "    .dataframe tbody tr th:only-of-type {\n",
              "        vertical-align: middle;\n",
              "    }\n",
              "\n",
              "    .dataframe tbody tr th {\n",
              "        vertical-align: top;\n",
              "    }\n",
              "\n",
              "    .dataframe thead th {\n",
              "        text-align: right;\n",
              "    }\n",
              "</style>\n",
              "<table border=\"1\" class=\"dataframe\">\n",
              "  <thead>\n",
              "    <tr style=\"text-align: right;\">\n",
              "      <th></th>\n",
              "      <th>satisfaction_level</th>\n",
              "      <th>last_evaluation</th>\n",
              "      <th>number_project</th>\n",
              "      <th>average_monthly_hours</th>\n",
              "      <th>time_spent_company</th>\n",
              "      <th>eval_spent</th>\n",
              "      <th>work_accident</th>\n",
              "      <th>promotion_last_5years</th>\n",
              "      <th>IT</th>\n",
              "      <th>RandD</th>\n",
              "      <th>accounting</th>\n",
              "      <th>hr</th>\n",
              "      <th>management</th>\n",
              "      <th>marketing</th>\n",
              "      <th>product_mng</th>\n",
              "      <th>sales</th>\n",
              "      <th>support</th>\n",
              "      <th>technical</th>\n",
              "      <th>oe_salary</th>\n",
              "    </tr>\n",
              "  </thead>\n",
              "  <tbody>\n",
              "    <tr>\n",
              "      <th>5052</th>\n",
              "      <td>0.7</td>\n",
              "      <td>0.76</td>\n",
              "      <td>5</td>\n",
              "      <td>165</td>\n",
              "      <td>3</td>\n",
              "      <td>2.28</td>\n",
              "      <td>0</td>\n",
              "      <td>0</td>\n",
              "      <td>0.0</td>\n",
              "      <td>0.0</td>\n",
              "      <td>0.0</td>\n",
              "      <td>0.0</td>\n",
              "      <td>0.0</td>\n",
              "      <td>0.0</td>\n",
              "      <td>0.0</td>\n",
              "      <td>1.0</td>\n",
              "      <td>0.0</td>\n",
              "      <td>0.0</td>\n",
              "      <td>1</td>\n",
              "    </tr>\n",
              "  </tbody>\n",
              "</table>\n",
              "</div>"
            ],
            "text/plain": [
              "      satisfaction_level  last_evaluation  ...  technical  oe_salary\n",
              "5052                 0.7             0.76  ...        0.0          1\n",
              "\n",
              "[1 rows x 19 columns]"
            ]
          },
          "metadata": {},
          "execution_count": 197
        }
      ]
    },
    {
      "cell_type": "code",
      "metadata": {
        "colab": {
          "base_uri": "https://localhost:8080/",
          "height": 101
        },
        "id": "--3fuA6ge1sW",
        "outputId": "7de306f4-0e2b-44c4-b4dd-f1e48ec43605"
      },
      "source": [
        "# your code here\n",
        "from sklearn.compose import ColumnTransformer\n",
        "\n",
        "num_cols=['satisfaction_level', 'last_evaluation', 'number_project', 'average_monthly_hours', 'time_spent_company', 'eval_spent']\n",
        "num_stand=StandardScaler()\n",
        "\n",
        "preprocessor = ColumnTransformer([('standardization', num_stand, num_cols)], remainder='passthrough')\n",
        "encodedX_train = preprocessor.fit_transform(X_train)\n",
        "encodedX_train = pd.DataFrame(encodedX_train, columns=X_train.columns)\n",
        "encodedX_train.head(1)"
      ],
      "execution_count": 198,
      "outputs": [
        {
          "output_type": "execute_result",
          "data": {
            "text/html": [
              "<div>\n",
              "<style scoped>\n",
              "    .dataframe tbody tr th:only-of-type {\n",
              "        vertical-align: middle;\n",
              "    }\n",
              "\n",
              "    .dataframe tbody tr th {\n",
              "        vertical-align: top;\n",
              "    }\n",
              "\n",
              "    .dataframe thead th {\n",
              "        text-align: right;\n",
              "    }\n",
              "</style>\n",
              "<table border=\"1\" class=\"dataframe\">\n",
              "  <thead>\n",
              "    <tr style=\"text-align: right;\">\n",
              "      <th></th>\n",
              "      <th>satisfaction_level</th>\n",
              "      <th>last_evaluation</th>\n",
              "      <th>number_project</th>\n",
              "      <th>average_monthly_hours</th>\n",
              "      <th>time_spent_company</th>\n",
              "      <th>eval_spent</th>\n",
              "      <th>work_accident</th>\n",
              "      <th>promotion_last_5years</th>\n",
              "      <th>IT</th>\n",
              "      <th>RandD</th>\n",
              "      <th>accounting</th>\n",
              "      <th>hr</th>\n",
              "      <th>management</th>\n",
              "      <th>marketing</th>\n",
              "      <th>product_mng</th>\n",
              "      <th>sales</th>\n",
              "      <th>support</th>\n",
              "      <th>technical</th>\n",
              "      <th>oe_salary</th>\n",
              "    </tr>\n",
              "  </thead>\n",
              "  <tbody>\n",
              "    <tr>\n",
              "      <th>0</th>\n",
              "      <td>0.350743</td>\n",
              "      <td>0.248421</td>\n",
              "      <td>0.96691</td>\n",
              "      <td>-0.725107</td>\n",
              "      <td>-0.346169</td>\n",
              "      <td>-0.201754</td>\n",
              "      <td>0.0</td>\n",
              "      <td>0.0</td>\n",
              "      <td>0.0</td>\n",
              "      <td>0.0</td>\n",
              "      <td>0.0</td>\n",
              "      <td>0.0</td>\n",
              "      <td>0.0</td>\n",
              "      <td>0.0</td>\n",
              "      <td>0.0</td>\n",
              "      <td>1.0</td>\n",
              "      <td>0.0</td>\n",
              "      <td>0.0</td>\n",
              "      <td>1.0</td>\n",
              "    </tr>\n",
              "  </tbody>\n",
              "</table>\n",
              "</div>"
            ],
            "text/plain": [
              "   satisfaction_level  last_evaluation  ...  technical  oe_salary\n",
              "0            0.350743         0.248421  ...        0.0        1.0\n",
              "\n",
              "[1 rows x 19 columns]"
            ]
          },
          "metadata": {},
          "execution_count": 198
        }
      ]
    },
    {
      "cell_type": "code",
      "metadata": {
        "colab": {
          "base_uri": "https://localhost:8080/",
          "height": 101
        },
        "id": "-9P4gAHNkd52",
        "outputId": "c71edda7-1870-462b-bb4a-e6c31d2e4836"
      },
      "source": [
        "encodedX_test = preprocessor.transform(X_test)\n",
        "encodedX_test = pd.DataFrame(encodedX_test, columns=X_test.columns)\n",
        "encodedX_test.head(1)"
      ],
      "execution_count": 199,
      "outputs": [
        {
          "output_type": "execute_result",
          "data": {
            "text/html": [
              "<div>\n",
              "<style scoped>\n",
              "    .dataframe tbody tr th:only-of-type {\n",
              "        vertical-align: middle;\n",
              "    }\n",
              "\n",
              "    .dataframe tbody tr th {\n",
              "        vertical-align: top;\n",
              "    }\n",
              "\n",
              "    .dataframe thead th {\n",
              "        text-align: right;\n",
              "    }\n",
              "</style>\n",
              "<table border=\"1\" class=\"dataframe\">\n",
              "  <thead>\n",
              "    <tr style=\"text-align: right;\">\n",
              "      <th></th>\n",
              "      <th>satisfaction_level</th>\n",
              "      <th>last_evaluation</th>\n",
              "      <th>number_project</th>\n",
              "      <th>average_monthly_hours</th>\n",
              "      <th>time_spent_company</th>\n",
              "      <th>eval_spent</th>\n",
              "      <th>work_accident</th>\n",
              "      <th>promotion_last_5years</th>\n",
              "      <th>IT</th>\n",
              "      <th>RandD</th>\n",
              "      <th>accounting</th>\n",
              "      <th>hr</th>\n",
              "      <th>management</th>\n",
              "      <th>marketing</th>\n",
              "      <th>product_mng</th>\n",
              "      <th>sales</th>\n",
              "      <th>support</th>\n",
              "      <th>technical</th>\n",
              "      <th>oe_salary</th>\n",
              "    </tr>\n",
              "  </thead>\n",
              "  <tbody>\n",
              "    <tr>\n",
              "      <th>0</th>\n",
              "      <td>-0.492753</td>\n",
              "      <td>0.715165</td>\n",
              "      <td>0.96691</td>\n",
              "      <td>-0.165045</td>\n",
              "      <td>-0.346169</td>\n",
              "      <td>-0.019648</td>\n",
              "      <td>0.0</td>\n",
              "      <td>0.0</td>\n",
              "      <td>0.0</td>\n",
              "      <td>0.0</td>\n",
              "      <td>0.0</td>\n",
              "      <td>0.0</td>\n",
              "      <td>0.0</td>\n",
              "      <td>0.0</td>\n",
              "      <td>1.0</td>\n",
              "      <td>0.0</td>\n",
              "      <td>0.0</td>\n",
              "      <td>0.0</td>\n",
              "      <td>1.0</td>\n",
              "    </tr>\n",
              "  </tbody>\n",
              "</table>\n",
              "</div>"
            ],
            "text/plain": [
              "   satisfaction_level  last_evaluation  ...  technical  oe_salary\n",
              "0           -0.492753         0.715165  ...        0.0        1.0\n",
              "\n",
              "[1 rows x 19 columns]"
            ]
          },
          "metadata": {},
          "execution_count": 199
        }
      ]
    },
    {
      "cell_type": "markdown",
      "metadata": {
        "id": "Jxuz3ooZkxm5"
      },
      "source": [
        "#### 5.2. Training\n",
        "\n",
        "Train a Logistic Regression model with Cross Validation on the pre-processed dataset to which you applied standardisation. Use the same parameters for LogisticRegressionCV as before. These are copied below.\n",
        "\n",
        "`LogisticRegressionCV(solver='lbfgs', cv=5, max_iter=1000, random_state=72)`\n",
        "\n"
      ]
    },
    {
      "cell_type": "code",
      "metadata": {
        "id": "MW--o0sHk-2-"
      },
      "source": [
        "# your code here\n",
        "log_reg = LogisticRegressionCV(solver='lbfgs', cv=5, max_iter=1000, random_state=72)\n",
        "log_reg.fit(encodedX_train, y_train)\n",
        "y_pred = log_reg.predict(encodedX_test)"
      ],
      "execution_count": 200,
      "outputs": []
    },
    {
      "cell_type": "code",
      "metadata": {
        "colab": {
          "base_uri": "https://localhost:8080/"
        },
        "id": "cC4nCjOwu6cu",
        "outputId": "93fa0f65-5fdb-455b-9228-e56d40f7f83e"
      },
      "source": [
        "log_reg.coef_"
      ],
      "execution_count": 201,
      "outputs": [
        {
          "output_type": "execute_result",
          "data": {
            "text/plain": [
              "array([[-1.10090893, -2.31402683, -0.34350518,  0.23526039, -3.92402839,\n",
              "         5.20358217, -1.56132177, -2.11052273, -0.05388112, -0.34993374,\n",
              "         0.12719226,  0.4028779 , -0.62946027,  0.08807818, -0.12175909,\n",
              "         0.08448018,  0.16279673,  0.2129471 , -0.69024382]])"
            ]
          },
          "metadata": {},
          "execution_count": 201
        }
      ]
    },
    {
      "cell_type": "markdown",
      "metadata": {
        "id": "G8e1k-cTld4s"
      },
      "source": [
        "#### 5.3. What is the test accuracy? What is the train accuracy?"
      ]
    },
    {
      "cell_type": "code",
      "metadata": {
        "colab": {
          "base_uri": "https://localhost:8080/"
        },
        "id": "oRM8iaRslddX",
        "outputId": "b90eb1c8-0a65-454e-8fda-b6853e41ff26"
      },
      "source": [
        "# your code here\n",
        "print(f\"TEST ACCURACY SCORE:\\n{accuracy_score(y_test, y_pred):.4f}\")"
      ],
      "execution_count": 202,
      "outputs": [
        {
          "output_type": "stream",
          "name": "stdout",
          "text": [
            "TEST ACCURACY SCORE:\n",
            "0.8227\n"
          ]
        }
      ]
    },
    {
      "cell_type": "code",
      "metadata": {
        "id": "xoepEdpLw4lA"
      },
      "source": [
        "# store for later\n",
        "a3=accuracy_score(y_test, y_pred)"
      ],
      "execution_count": 203,
      "outputs": []
    },
    {
      "cell_type": "code",
      "metadata": {
        "colab": {
          "base_uri": "https://localhost:8080/"
        },
        "id": "jxNl5625mely",
        "outputId": "ed0d830d-2725-4855-9db0-8bc5d5226679"
      },
      "source": [
        "# your code here\n",
        "y_pred_t = log_reg.predict(encodedX_train)\n",
        "print(f\"TRAIN ACCURACY SCORE:\\n{accuracy_score(y_train, y_pred_t):.4f}\")"
      ],
      "execution_count": 204,
      "outputs": [
        {
          "output_type": "stream",
          "name": "stdout",
          "text": [
            "TRAIN ACCURACY SCORE:\n",
            "0.8231\n"
          ]
        }
      ]
    },
    {
      "cell_type": "markdown",
      "metadata": {
        "id": "TwqF0NopnNcv"
      },
      "source": [
        "#### 5.4. Calculate the precision and recall on the test set."
      ]
    },
    {
      "cell_type": "code",
      "metadata": {
        "colab": {
          "base_uri": "https://localhost:8080/"
        },
        "id": "gRY2UFNNnZub",
        "outputId": "49f84b3c-5a31-4fcb-e5fd-eaa4c5da2a68"
      },
      "source": [
        "# your code here\n",
        "precision_score(y_test, y_pred)"
      ],
      "execution_count": 205,
      "outputs": [
        {
          "output_type": "execute_result",
          "data": {
            "text/plain": [
              "0.6642335766423357"
            ]
          },
          "metadata": {},
          "execution_count": 205
        }
      ]
    },
    {
      "cell_type": "code",
      "metadata": {
        "colab": {
          "base_uri": "https://localhost:8080/"
        },
        "id": "kOZhoSCbnfuo",
        "outputId": "f8999730-34ff-43bc-82ef-b746cd94604b"
      },
      "source": [
        "# your code here\n",
        "recall_score(y_test, y_pred)"
      ],
      "execution_count": 206,
      "outputs": [
        {
          "output_type": "execute_result",
          "data": {
            "text/plain": [
              "0.5112359550561798"
            ]
          },
          "metadata": {},
          "execution_count": 206
        }
      ]
    },
    {
      "cell_type": "markdown",
      "metadata": {
        "id": "KiE8eSDNnpMj"
      },
      "source": [
        "#### 5.5. Show the confusion matrix for the test set"
      ]
    },
    {
      "cell_type": "code",
      "metadata": {
        "colab": {
          "base_uri": "https://localhost:8080/"
        },
        "id": "oFblg98AntID",
        "outputId": "b6f2b4ae-c48d-4a79-9591-9ed5001aea79"
      },
      "source": [
        "# your code here\n",
        "confusion_matrix(y_test, y_pred)"
      ],
      "execution_count": 207,
      "outputs": [
        {
          "output_type": "execute_result",
          "data": {
            "text/plain": [
              "array([[2104,  184],\n",
              "       [ 348,  364]])"
            ]
          },
          "metadata": {},
          "execution_count": 207
        }
      ]
    },
    {
      "cell_type": "markdown",
      "metadata": {
        "id": "gP60c3W1gger"
      },
      "source": [
        "#### 5.6. Plot the confusion matrix"
      ]
    },
    {
      "cell_type": "code",
      "metadata": {
        "colab": {
          "base_uri": "https://localhost:8080/",
          "height": 265
        },
        "id": "agoL8LZWguFt",
        "outputId": "f73b826c-ec55-468b-d88b-c995deca922d"
      },
      "source": [
        "# your code here\n",
        "sns.heatmap(pd.DataFrame(confusion_matrix(y_test, y_pred)), annot=True, cmap='Purples', fmt='.4g');"
      ],
      "execution_count": 208,
      "outputs": [
        {
          "output_type": "display_data",
          "data": {
            "image/png": "[encoded data removed]",
            "text/plain": [
              "<Figure size 432x288 with 2 Axes>"
            ]
          },
          "metadata": {}
        }
      ]
    },
    {
      "cell_type": "markdown",
      "metadata": {
        "id": "IugsRC-jXOOF"
      },
      "source": [
        "#### 5.7. Use the logistic regression model with standardisation and cross validation to predict whether a employee with the following characteristics will stay on the job or leave:\n",
        "\n",
        "> An employee from the sales department, low salary, satisfaction 0.43, last evaluation 0.97, involved in 6 projects, working 284 monthly hours, 4 years spent with the company, 0 work accident and 0 promotions in the last 5 years."
      ]
    },
    {
      "cell_type": "code",
      "metadata": {
        "colab": {
          "base_uri": "https://localhost:8080/"
        },
        "id": "3dN2Vl0vIYOU",
        "outputId": "a38e4364-b05b-44ae-d38c-ae357c5e7825"
      },
      "source": [
        "X_train.columns"
      ],
      "execution_count": 209,
      "outputs": [
        {
          "output_type": "execute_result",
          "data": {
            "text/plain": [
              "Index(['satisfaction_level', 'last_evaluation', 'number_project',\n",
              "       'average_monthly_hours', 'time_spent_company', 'eval_spent',\n",
              "       'work_accident', 'promotion_last_5years', 'IT', 'RandD', 'accounting',\n",
              "       'hr', 'management', 'marketing', 'product_mng', 'sales', 'support',\n",
              "       'technical', 'oe_salary'],\n",
              "      dtype='object')"
            ]
          },
          "metadata": {},
          "execution_count": 209
        }
      ]
    },
    {
      "cell_type": "code",
      "metadata": {
        "colab": {
          "base_uri": "https://localhost:8080/",
          "height": 101
        },
        "id": "aFbXuh8dXVqz",
        "outputId": "a7b8658f-30eb-41a3-cd0b-341f29330e62"
      },
      "source": [
        "# these are the X-values for which you should make the prediction\n",
        "X_new = pd.DataFrame({'satisfaction_level': 0.43, 'last_evaluation': 0.97, 'number_project': 6,\n",
        "       'average_monthly_hours': 284, 'time_spent_company': 4, 'eval_spent': 3.88, \n",
        "       'work_accident': 0, 'promotion_last_5years': 0, 'IT': 0, 'RandD': 0, 'accounting': 0,\n",
        "       'hr': 0, 'management': 0, 'marketing': 0, 'product_mng': 0,\n",
        "       'sales': 1, 'support': 0, 'technical': 0, 'oe_salary': 0}, index=[0])\n",
        "X_new"
      ],
      "execution_count": 210,
      "outputs": [
        {
          "output_type": "execute_result",
          "data": {
            "text/html": [
              "<div>\n",
              "<style scoped>\n",
              "    .dataframe tbody tr th:only-of-type {\n",
              "        vertical-align: middle;\n",
              "    }\n",
              "\n",
              "    .dataframe tbody tr th {\n",
              "        vertical-align: top;\n",
              "    }\n",
              "\n",
              "    .dataframe thead th {\n",
              "        text-align: right;\n",
              "    }\n",
              "</style>\n",
              "<table border=\"1\" class=\"dataframe\">\n",
              "  <thead>\n",
              "    <tr style=\"text-align: right;\">\n",
              "      <th></th>\n",
              "      <th>satisfaction_level</th>\n",
              "      <th>last_evaluation</th>\n",
              "      <th>number_project</th>\n",
              "      <th>average_monthly_hours</th>\n",
              "      <th>time_spent_company</th>\n",
              "      <th>eval_spent</th>\n",
              "      <th>work_accident</th>\n",
              "      <th>promotion_last_5years</th>\n",
              "      <th>IT</th>\n",
              "      <th>RandD</th>\n",
              "      <th>accounting</th>\n",
              "      <th>hr</th>\n",
              "      <th>management</th>\n",
              "      <th>marketing</th>\n",
              "      <th>product_mng</th>\n",
              "      <th>sales</th>\n",
              "      <th>support</th>\n",
              "      <th>technical</th>\n",
              "      <th>oe_salary</th>\n",
              "    </tr>\n",
              "  </thead>\n",
              "  <tbody>\n",
              "    <tr>\n",
              "      <th>0</th>\n",
              "      <td>0.43</td>\n",
              "      <td>0.97</td>\n",
              "      <td>6</td>\n",
              "      <td>284</td>\n",
              "      <td>4</td>\n",
              "      <td>3.88</td>\n",
              "      <td>0</td>\n",
              "      <td>0</td>\n",
              "      <td>0</td>\n",
              "      <td>0</td>\n",
              "      <td>0</td>\n",
              "      <td>0</td>\n",
              "      <td>0</td>\n",
              "      <td>0</td>\n",
              "      <td>0</td>\n",
              "      <td>1</td>\n",
              "      <td>0</td>\n",
              "      <td>0</td>\n",
              "      <td>0</td>\n",
              "    </tr>\n",
              "  </tbody>\n",
              "</table>\n",
              "</div>"
            ],
            "text/plain": [
              "   satisfaction_level  last_evaluation  ...  technical  oe_salary\n",
              "0                0.43             0.97  ...          0          0\n",
              "\n",
              "[1 rows x 19 columns]"
            ]
          },
          "metadata": {},
          "execution_count": 210
        }
      ]
    },
    {
      "cell_type": "code",
      "metadata": {
        "colab": {
          "base_uri": "https://localhost:8080/"
        },
        "id": "olpC0nfWSPXj",
        "outputId": "ceb2521a-4c4e-4129-d851-25dec1c5ce3c"
      },
      "source": [
        "y_new_pred_probabilities = log_reg.predict_proba(preprocessor.transform(X_new))\n",
        "y_new_pred_probabilities"
      ],
      "execution_count": 211,
      "outputs": [
        {
          "output_type": "stream",
          "name": "stderr",
          "text": [
            "/usr/local/lib/python3.7/dist-packages/sklearn/base.py:446: UserWarning: X does not have valid feature names, but LogisticRegressionCV was fitted with feature names\n",
            "  \"X does not have valid feature names, but\"\n"
          ]
        },
        {
          "output_type": "execute_result",
          "data": {
            "text/plain": [
              "array([[0.4917876, 0.5082124]])"
            ]
          },
          "metadata": {},
          "execution_count": 211
        }
      ]
    },
    {
      "cell_type": "code",
      "metadata": {
        "colab": {
          "base_uri": "https://localhost:8080/"
        },
        "id": "X6lnBXFxS_ik",
        "outputId": "9341ee82-fbd4-4534-8645-65ca33ed457f"
      },
      "source": [
        "y_new_pred = log_reg.predict(preprocessor.transform(X_new))\n",
        "y_new_pred"
      ],
      "execution_count": 212,
      "outputs": [
        {
          "output_type": "stream",
          "name": "stderr",
          "text": [
            "/usr/local/lib/python3.7/dist-packages/sklearn/base.py:446: UserWarning: X does not have valid feature names, but LogisticRegressionCV was fitted with feature names\n",
            "  \"X does not have valid feature names, but\"\n"
          ]
        },
        {
          "output_type": "execute_result",
          "data": {
            "text/plain": [
              "array([1])"
            ]
          },
          "metadata": {},
          "execution_count": 212
        }
      ]
    },
    {
      "cell_type": "markdown",
      "metadata": {
        "id": "ZZ4x4uoIieJe"
      },
      "source": [
        "### 6. KNN with standardisation\n",
        "\n",
        "#### 6.1. Train a model using a K-Nearest Neighbours (KNN) algorithm, setting `knn = KNeighborsClassifier(n_neighbors=2)`. Use the same features as in the previous model (`oe_salary`) and standardisation.\n",
        "\n",
        "> Hint: X shoud contain the following 19 features 'satisfaction_level', 'last_evaluation', 'number_project',\n",
        "       'average_monthly_hours', 'time_spent_company', 'eval_spent','work_accident',\n",
        "       'promotion_last_5years', ('IT',), ('RandD',), ('accounting',),\n",
        "       ('hr',), ('management',), ('marketing',), ('product_mng',),\n",
        "       ('sales',), ('support',), ('technical',), 'oe_salary'."
      ]
    },
    {
      "cell_type": "code",
      "metadata": {
        "id": "9FHx6ToXkXdH"
      },
      "source": [
        "# your code here\n",
        "from sklearn.neighbors import KNeighborsClassifier\n",
        "knn = KNeighborsClassifier(n_neighbors=2)\n",
        "knn.fit(encodedX_train, y_train)\n",
        "y_pred=knn.predict(encodedX_test)"
      ],
      "execution_count": 213,
      "outputs": []
    },
    {
      "cell_type": "markdown",
      "metadata": {
        "id": "_D_OMunOmjrt"
      },
      "source": [
        "#### 6.2. What is the train and test accuracy?"
      ]
    },
    {
      "cell_type": "code",
      "metadata": {
        "colab": {
          "base_uri": "https://localhost:8080/"
        },
        "id": "41or1EWqDFn3",
        "outputId": "a4a1cb9a-8545-4a04-edef-c6f29f00c218"
      },
      "source": [
        "# your code here\n",
        "print(f\"TEST ACCURACY SCORE:\\n{accuracy_score(y_test, y_pred):.4f}\")"
      ],
      "execution_count": 214,
      "outputs": [
        {
          "output_type": "stream",
          "name": "stdout",
          "text": [
            "TEST ACCURACY SCORE:\n",
            "0.9703\n"
          ]
        }
      ]
    },
    {
      "cell_type": "code",
      "metadata": {
        "id": "I7Qf7nJixb6W"
      },
      "source": [
        "# store for later\n",
        "a4=accuracy_score(y_test, y_pred)"
      ],
      "execution_count": 215,
      "outputs": []
    },
    {
      "cell_type": "code",
      "metadata": {
        "colab": {
          "base_uri": "https://localhost:8080/"
        },
        "id": "-qiQqZs-k5zi",
        "outputId": "c59d87bd-1436-4346-f983-9e1f687cb840"
      },
      "source": [
        "# This is calculates the same test-accuracy as above\n",
        "print(knn.score(encodedX_test, y_test))"
      ],
      "execution_count": 216,
      "outputs": [
        {
          "output_type": "stream",
          "name": "stdout",
          "text": [
            "0.9703333333333334\n"
          ]
        }
      ]
    },
    {
      "cell_type": "code",
      "metadata": {
        "colab": {
          "base_uri": "https://localhost:8080/"
        },
        "id": "rIvkTBbt8CPV",
        "outputId": "0674b8fd-61c7-4689-b69a-c6fbec6835db"
      },
      "source": [
        "# your code here\n",
        "print(knn.score(encodedX_train, y_train)) # train accuracy score"
      ],
      "execution_count": 217,
      "outputs": [
        {
          "output_type": "stream",
          "name": "stdout",
          "text": [
            "0.9924993749479123\n"
          ]
        }
      ]
    },
    {
      "cell_type": "markdown",
      "metadata": {
        "id": "FL2KCnrXm8RD"
      },
      "source": [
        "#### 6.3. What is the precision and recall?"
      ]
    },
    {
      "cell_type": "code",
      "metadata": {
        "colab": {
          "base_uri": "https://localhost:8080/"
        },
        "id": "6B3B9MKmm_My",
        "outputId": "ede5a266-906c-45b4-df1e-52fadabcf404"
      },
      "source": [
        "# your code here\n",
        "precision_score(y_test, y_pred)"
      ],
      "execution_count": 218,
      "outputs": [
        {
          "output_type": "execute_result",
          "data": {
            "text/plain": [
              "0.9431009957325747"
            ]
          },
          "metadata": {},
          "execution_count": 218
        }
      ]
    },
    {
      "cell_type": "code",
      "metadata": {
        "colab": {
          "base_uri": "https://localhost:8080/"
        },
        "id": "RJat4gPhnIwV",
        "outputId": "89a327a7-c78e-4705-df5b-6edc55d5997c"
      },
      "source": [
        "# your code here\n",
        "recall_score(y_test, y_pred)"
      ],
      "execution_count": 219,
      "outputs": [
        {
          "output_type": "execute_result",
          "data": {
            "text/plain": [
              "0.9311797752808989"
            ]
          },
          "metadata": {},
          "execution_count": 219
        }
      ]
    },
    {
      "cell_type": "markdown",
      "metadata": {
        "id": "kd1N5wMlmn8J"
      },
      "source": [
        "#### 6.4. Print and plot the confusion matrix"
      ]
    },
    {
      "cell_type": "code",
      "metadata": {
        "colab": {
          "base_uri": "https://localhost:8080/"
        },
        "id": "b5QSYum1lqRN",
        "outputId": "48a6f047-d60d-419c-df97-d74c2d6fe6ca"
      },
      "source": [
        "# your code here\n",
        "confusion_matrix(y_test, y_pred)"
      ],
      "execution_count": 220,
      "outputs": [
        {
          "output_type": "execute_result",
          "data": {
            "text/plain": [
              "array([[2248,   40],\n",
              "       [  49,  663]])"
            ]
          },
          "metadata": {},
          "execution_count": 220
        }
      ]
    },
    {
      "cell_type": "code",
      "metadata": {
        "colab": {
          "base_uri": "https://localhost:8080/",
          "height": 265
        },
        "id": "TKVluo7_mtAJ",
        "outputId": "af879807-fc93-4a33-db85-a83cba7351b5"
      },
      "source": [
        "# your code here\n",
        "sns.heatmap(pd.DataFrame(confusion_matrix(y_test, y_pred)), annot=True, cmap='Greens', fmt='.4g');"
      ],
      "execution_count": 221,
      "outputs": [
        {
          "output_type": "display_data",
          "data": {
            "image/png": "[encoded data removed]",
            "text/plain": [
              "<Figure size 432x288 with 2 Axes>"
            ]
          },
          "metadata": {}
        }
      ]
    },
    {
      "cell_type": "markdown",
      "metadata": {
        "id": "fP7_tWfc3gik"
      },
      "source": [
        "<font color=\"blue\">Additional explanation</font>\n",
        "\n",
        "Code from Melinda Femminis for identifying false positives (cases when model predicts 1 but the true label is 0."
      ]
    },
    {
      "cell_type": "code",
      "metadata": {
        "id": "WNwKJ8c43kxo",
        "outputId": "ef980f83-8ae0-41c6-afdb-d80294b840ab",
        "colab": {
          "base_uri": "https://localhost:8080/"
        }
      },
      "source": [
        "tn, fp, fn, tp = confusion_matrix(y_test, y_pred).ravel()\n",
        "fp"
      ],
      "execution_count": 222,
      "outputs": [
        {
          "output_type": "execute_result",
          "data": {
            "text/plain": [
              "40"
            ]
          },
          "metadata": {},
          "execution_count": 222
        }
      ]
    },
    {
      "cell_type": "markdown",
      "metadata": {
        "id": "kWMZOW63GtSZ"
      },
      "source": [
        "#### 6.5. Use the K-Nearest Neighbours (KNN) model trained above to predict whether a employee with the characteristics outilined below will stay on the job. This is the same employee as before under point 5.7.\n",
        "\n",
        "> An employee from the sales department, low salary, satisfaction 0.43, last evaluation 0.97, involved in 6 projects, working 284 monthly hours, 4 years spent with the company, 0 work accident and 0 promotions in the last 5 years. (same as before)\n",
        ">\n",
        "> Hint: do not forget to apply standardisation to the data for the new employee for which you want to make the prediction."
      ]
    },
    {
      "cell_type": "code",
      "metadata": {
        "id": "TeMJ-3nbymnQ",
        "colab": {
          "base_uri": "https://localhost:8080/",
          "height": 101
        },
        "outputId": "bcee431e-143e-4e87-b86f-1aee3d40c294"
      },
      "source": [
        "# these are the X-values for which you should make the prediction\n",
        "X_new = pd.DataFrame({'satisfaction_level': 0.43, 'last_evaluation': 0.97, 'number_project': 6,\n",
        "       'average_monthly_hours': 284, 'time_spent_company': 4, 'eval_spent': 3.88, \n",
        "       'work_accident': 0, 'promotion_last_5years': 0, 'IT': 0, 'RandD': 0, 'accounting': 0,\n",
        "       'hr': 0, 'management': 0, 'marketing': 0, 'product_mng': 0,\n",
        "       'sales': 1, 'support': 0, 'technical': 0, 'oe_salary': 0}, index=[0])\n",
        "X_new"
      ],
      "execution_count": 223,
      "outputs": [
        {
          "output_type": "execute_result",
          "data": {
            "text/html": [
              "<div>\n",
              "<style scoped>\n",
              "    .dataframe tbody tr th:only-of-type {\n",
              "        vertical-align: middle;\n",
              "    }\n",
              "\n",
              "    .dataframe tbody tr th {\n",
              "        vertical-align: top;\n",
              "    }\n",
              "\n",
              "    .dataframe thead th {\n",
              "        text-align: right;\n",
              "    }\n",
              "</style>\n",
              "<table border=\"1\" class=\"dataframe\">\n",
              "  <thead>\n",
              "    <tr style=\"text-align: right;\">\n",
              "      <th></th>\n",
              "      <th>satisfaction_level</th>\n",
              "      <th>last_evaluation</th>\n",
              "      <th>number_project</th>\n",
              "      <th>average_monthly_hours</th>\n",
              "      <th>time_spent_company</th>\n",
              "      <th>eval_spent</th>\n",
              "      <th>work_accident</th>\n",
              "      <th>promotion_last_5years</th>\n",
              "      <th>IT</th>\n",
              "      <th>RandD</th>\n",
              "      <th>accounting</th>\n",
              "      <th>hr</th>\n",
              "      <th>management</th>\n",
              "      <th>marketing</th>\n",
              "      <th>product_mng</th>\n",
              "      <th>sales</th>\n",
              "      <th>support</th>\n",
              "      <th>technical</th>\n",
              "      <th>oe_salary</th>\n",
              "    </tr>\n",
              "  </thead>\n",
              "  <tbody>\n",
              "    <tr>\n",
              "      <th>0</th>\n",
              "      <td>0.43</td>\n",
              "      <td>0.97</td>\n",
              "      <td>6</td>\n",
              "      <td>284</td>\n",
              "      <td>4</td>\n",
              "      <td>3.88</td>\n",
              "      <td>0</td>\n",
              "      <td>0</td>\n",
              "      <td>0</td>\n",
              "      <td>0</td>\n",
              "      <td>0</td>\n",
              "      <td>0</td>\n",
              "      <td>0</td>\n",
              "      <td>0</td>\n",
              "      <td>0</td>\n",
              "      <td>1</td>\n",
              "      <td>0</td>\n",
              "      <td>0</td>\n",
              "      <td>0</td>\n",
              "    </tr>\n",
              "  </tbody>\n",
              "</table>\n",
              "</div>"
            ],
            "text/plain": [
              "   satisfaction_level  last_evaluation  ...  technical  oe_salary\n",
              "0                0.43             0.97  ...          0          0\n",
              "\n",
              "[1 rows x 19 columns]"
            ]
          },
          "metadata": {},
          "execution_count": 223
        }
      ]
    },
    {
      "cell_type": "code",
      "metadata": {
        "colab": {
          "base_uri": "https://localhost:8080/"
        },
        "id": "o0qdDuAjMU_G",
        "outputId": "25b215f1-aba8-48ff-8ea8-47f1c5d57ccf"
      },
      "source": [
        "# your code here\n",
        "preprocessor.transform(X_new)"
      ],
      "execution_count": 224,
      "outputs": [
        {
          "output_type": "execute_result",
          "data": {
            "text/plain": [
              "array([[-0.73375148,  1.47362339,  1.77540856,  1.6551549 ,  0.34050343,\n",
              "         1.01228422,  0.        ,  0.        ,  0.        ,  0.        ,\n",
              "         0.        ,  0.        ,  0.        ,  0.        ,  0.        ,\n",
              "         1.        ,  0.        ,  0.        ,  0.        ]])"
            ]
          },
          "metadata": {},
          "execution_count": 224
        }
      ]
    },
    {
      "cell_type": "code",
      "metadata": {
        "colab": {
          "base_uri": "https://localhost:8080/"
        },
        "id": "2F7QcB7VK0u-",
        "outputId": "5b504c83-2fc8-4c62-b154-ded6a0381b84"
      },
      "source": [
        "y_new=knn.predict(preprocessor.transform(X_new))\n",
        "y_new"
      ],
      "execution_count": 225,
      "outputs": [
        {
          "output_type": "stream",
          "name": "stderr",
          "text": [
            "/usr/local/lib/python3.7/dist-packages/sklearn/base.py:446: UserWarning: X does not have valid feature names, but KNeighborsClassifier was fitted with feature names\n",
            "  \"X does not have valid feature names, but\"\n"
          ]
        },
        {
          "output_type": "execute_result",
          "data": {
            "text/plain": [
              "array([0])"
            ]
          },
          "metadata": {},
          "execution_count": 225
        }
      ]
    },
    {
      "cell_type": "code",
      "metadata": {
        "colab": {
          "base_uri": "https://localhost:8080/"
        },
        "id": "ZAFPpybQLlki",
        "outputId": "3d02c0d8-cf10-4919-b707-b9e69a9a8978"
      },
      "source": [
        "knn.predict_proba(preprocessor.transform(X_new))"
      ],
      "execution_count": 226,
      "outputs": [
        {
          "output_type": "stream",
          "name": "stderr",
          "text": [
            "/usr/local/lib/python3.7/dist-packages/sklearn/base.py:446: UserWarning: X does not have valid feature names, but KNeighborsClassifier was fitted with feature names\n",
            "  \"X does not have valid feature names, but\"\n"
          ]
        },
        {
          "output_type": "execute_result",
          "data": {
            "text/plain": [
              "array([[1., 0.]])"
            ]
          },
          "metadata": {},
          "execution_count": 226
        }
      ]
    },
    {
      "cell_type": "markdown",
      "metadata": {
        "id": "bsnPOjTLIAb5"
      },
      "source": [
        "### 7. Decision Tree Classifier and Standardisation\n",
        "\n",
        "#### 7.1. Use the same features as before (with `oe_salary`) and standardisation to train your model of emloyee retention. Use the following parameters for your decision tree: `DecisionTreeClassifier(max_depth=7, random_state=72)`\n",
        "\n",
        "> Hint: X should have a total of 19 features, namely: 'satisfaction_level', 'last_evaluation',            'number_project', 'average_monthly_hours',           'time_spent_company',         'work_accident',       'promotion_last_5years',                 ('IT',),                   ('RandD',),         ('accounting',), ('hr',),         ('management',),  ('marketing',), ('product_mng',), ('sales',),            ('support',), ('technical',), 'le_salary', 'eval_spent'.\n"
      ]
    },
    {
      "cell_type": "code",
      "metadata": {
        "id": "xlDAUBkcH_iq"
      },
      "source": [
        "from sklearn.tree import DecisionTreeClassifier, plot_tree\n",
        "tree=DecisionTreeClassifier(max_depth=7, random_state=72)"
      ],
      "execution_count": 227,
      "outputs": []
    },
    {
      "cell_type": "code",
      "metadata": {
        "colab": {
          "base_uri": "https://localhost:8080/"
        },
        "id": "1_uupNg6H_Us",
        "outputId": "370cdfd8-7126-41b8-c17a-20e9c9294e51"
      },
      "source": [
        "# your code here\n",
        "tree.fit(encodedX_train, y_train)"
      ],
      "execution_count": 228,
      "outputs": [
        {
          "output_type": "execute_result",
          "data": {
            "text/plain": [
              "DecisionTreeClassifier(max_depth=7, random_state=72)"
            ]
          },
          "metadata": {},
          "execution_count": 228
        }
      ]
    },
    {
      "cell_type": "markdown",
      "metadata": {
        "id": "G2FpmqNjJ66g"
      },
      "source": [
        "#### 7.2. Calculate the test and train accuracy."
      ]
    },
    {
      "cell_type": "code",
      "metadata": {
        "colab": {
          "base_uri": "https://localhost:8080/"
        },
        "id": "mQULc9q6H_LX",
        "outputId": "431637a2-ecd7-44e5-9f20-247160d42e81"
      },
      "source": [
        "# your code here\n",
        "tree.score(encodedX_test, y_test)"
      ],
      "execution_count": 229,
      "outputs": [
        {
          "output_type": "execute_result",
          "data": {
            "text/plain": [
              "0.9826666666666667"
            ]
          },
          "metadata": {},
          "execution_count": 229
        }
      ]
    },
    {
      "cell_type": "code",
      "metadata": {
        "id": "-XSqSItkxj9h"
      },
      "source": [
        "# store for later\n",
        "a5=tree.score(encodedX_test, y_test)"
      ],
      "execution_count": 230,
      "outputs": []
    },
    {
      "cell_type": "code",
      "metadata": {
        "colab": {
          "base_uri": "https://localhost:8080/"
        },
        "id": "mw0LYew-KaQo",
        "outputId": "197745fc-25d4-4991-d44c-35595e21236c"
      },
      "source": [
        "# your code here\n",
        "tree.score(encodedX_train, y_train)"
      ],
      "execution_count": 231,
      "outputs": [
        {
          "output_type": "execute_result",
          "data": {
            "text/plain": [
              "0.9809984165347112"
            ]
          },
          "metadata": {},
          "execution_count": 231
        }
      ]
    },
    {
      "cell_type": "markdown",
      "metadata": {
        "id": "Q5RqEnqtOp4i"
      },
      "source": [
        "#### 7.3. Calculate precision and recall on the test set"
      ]
    },
    {
      "cell_type": "code",
      "metadata": {
        "id": "e23opOpVMooY"
      },
      "source": [
        "y_pred=tree.predict(encodedX_test)"
      ],
      "execution_count": 232,
      "outputs": []
    },
    {
      "cell_type": "code",
      "metadata": {
        "colab": {
          "base_uri": "https://localhost:8080/"
        },
        "id": "toVqjFO9O27Y",
        "outputId": "ebd615e3-3706-407e-a206-f9021abc5039"
      },
      "source": [
        "# your code here\n",
        "precision_score(y_test, y_pred)"
      ],
      "execution_count": 233,
      "outputs": [
        {
          "output_type": "execute_result",
          "data": {
            "text/plain": [
              "0.9925373134328358"
            ]
          },
          "metadata": {},
          "execution_count": 233
        }
      ]
    },
    {
      "cell_type": "code",
      "metadata": {
        "colab": {
          "base_uri": "https://localhost:8080/"
        },
        "id": "ioO42LXJO6dn",
        "outputId": "974935b2-1482-4238-91f4-9ed8d58fd503"
      },
      "source": [
        "# your code here\n",
        "recall_score(y_test, y_pred)"
      ],
      "execution_count": 234,
      "outputs": [
        {
          "output_type": "execute_result",
          "data": {
            "text/plain": [
              "0.9339887640449438"
            ]
          },
          "metadata": {},
          "execution_count": 234
        }
      ]
    },
    {
      "cell_type": "markdown",
      "metadata": {
        "id": "BwZd3GFTPa62"
      },
      "source": [
        "#### 7.4. Plot the confusion matrix"
      ]
    },
    {
      "cell_type": "code",
      "metadata": {
        "colab": {
          "base_uri": "https://localhost:8080/",
          "height": 265
        },
        "id": "Dc5v4veLMThI",
        "outputId": "69f1dcdd-648e-4977-caf7-225ad772d420"
      },
      "source": [
        "# your code here\n",
        "sns.heatmap(pd.DataFrame(confusion_matrix(y_test, y_pred)), annot=True, cmap='Oranges', fmt='.4g');"
      ],
      "execution_count": 235,
      "outputs": [
        {
          "output_type": "display_data",
          "data": {
            "image/png": "[encoded data removed]",
            "text/plain": [
              "<Figure size 432x288 with 2 Axes>"
            ]
          },
          "metadata": {}
        }
      ]
    },
    {
      "cell_type": "markdown",
      "metadata": {
        "id": "TI36pgVHv3Dy"
      },
      "source": [
        "### 7. Accuracy improvement\n",
        "\n",
        "Generate a plot with the different accuracy scores obtained for the different models trained."
      ]
    },
    {
      "cell_type": "code",
      "metadata": {
        "colab": {
          "base_uri": "https://localhost:8080/",
          "height": 81
        },
        "id": "qGN0jmaMv1fP",
        "outputId": "381ded28-960d-41e6-fb9e-5ebdf2d27bf8"
      },
      "source": [
        "# your code here\n",
        "results = pd.DataFrame({'base_rate': base_rate, 'logreg le': a1, \n",
        "                        'logreg oe': a2, 'logreg s': a3,\n",
        "                        'KNN': a4, 'decision tree': a5}, index=[0])\n",
        "results"
      ],
      "execution_count": 236,
      "outputs": [
        {
          "output_type": "execute_result",
          "data": {
            "text/html": [
              "<div>\n",
              "<style scoped>\n",
              "    .dataframe tbody tr th:only-of-type {\n",
              "        vertical-align: middle;\n",
              "    }\n",
              "\n",
              "    .dataframe tbody tr th {\n",
              "        vertical-align: top;\n",
              "    }\n",
              "\n",
              "    .dataframe thead th {\n",
              "        text-align: right;\n",
              "    }\n",
              "</style>\n",
              "<table border=\"1\" class=\"dataframe\">\n",
              "  <thead>\n",
              "    <tr style=\"text-align: right;\">\n",
              "      <th></th>\n",
              "      <th>base_rate</th>\n",
              "      <th>logreg le</th>\n",
              "      <th>logreg oe</th>\n",
              "      <th>logreg s</th>\n",
              "      <th>KNN</th>\n",
              "      <th>decision tree</th>\n",
              "    </tr>\n",
              "  </thead>\n",
              "  <tbody>\n",
              "    <tr>\n",
              "      <th>0</th>\n",
              "      <td>0.762667</td>\n",
              "      <td>0.802</td>\n",
              "      <td>0.820667</td>\n",
              "      <td>0.822667</td>\n",
              "      <td>0.970333</td>\n",
              "      <td>0.982667</td>\n",
              "    </tr>\n",
              "  </tbody>\n",
              "</table>\n",
              "</div>"
            ],
            "text/plain": [
              "   base_rate  logreg le  logreg oe  logreg s       KNN  decision tree\n",
              "0   0.762667      0.802   0.820667  0.822667  0.970333       0.982667"
            ]
          },
          "metadata": {},
          "execution_count": 236
        }
      ]
    },
    {
      "cell_type": "code",
      "metadata": {
        "colab": {
          "base_uri": "https://localhost:8080/",
          "height": 285
        },
        "id": "jCwxUYC51NS6",
        "outputId": "39887760-201b-48ce-f401-f38826fdc20d"
      },
      "source": [
        "plt.plot(results.iloc[0], marker='o')"
      ],
      "execution_count": 237,
      "outputs": [
        {
          "output_type": "execute_result",
          "data": {
            "text/plain": [
              "[<matplotlib.lines.Line2D at 0x7fdd9bf9a650>]"
            ]
          },
          "metadata": {},
          "execution_count": 237
        },
        {
          "output_type": "display_data",
          "data": {
            "image/png": "[encoded data removed]",
            "text/plain": [
              "<Figure size 432x288 with 1 Axes>"
            ]
          },
          "metadata": {}
        }
      ]
    },
    {
      "cell_type": "markdown",
      "metadata": {
        "id": "E8r5mG_07egd"
      },
      "source": [
        "<font color=\"blue\">Additional explanation</font>\n",
        "\n",
        "Here we had a variety of final tables for the code, which is very nice. For inspiration, below you have the solution from Melinda Femminis."
      ]
    },
    {
      "cell_type": "code",
      "metadata": {
        "id": "D8wcMoGD8IS5",
        "outputId": "b116cd33-8604-4d44-d662-3847c29d8a7a",
        "colab": {
          "base_uri": "https://localhost:8080/",
          "height": 527
        }
      },
      "source": [
        "# Create df with accuracy results\n",
        "accuracy_results = pd.DataFrame({'Model':  ['Baseline', 'Linear_LE', 'Linear_EO', 'Linea_EO STD', 'KNN', 'Random Tree'],\n",
        "        'Accuracy': [base_rate, a1, a2, a3, a4, a5]\n",
        "        })\n",
        "\n",
        "# Set style and figure size\n",
        "sns.set(rc = {'figure.figsize':(12,8)},)\n",
        "sns.set_style('darkgrid')\n",
        "\n",
        "# Create plot \n",
        "g = sns.barplot(x = 'Model', y = 'Accuracy',\n",
        "            data = accuracy_results)\n",
        "plt.ylim(0, 1)\n",
        "\n",
        "# Add test\n",
        "for index, row in accuracy_results.iterrows():\n",
        "    g.text(row.name,row.Accuracy, round(row.Accuracy,2), color='black', ha=\"center\")\n",
        "g.set_title(\"Baseline and models accuracy results (test set)\", fontsize = 23)\n",
        "plt.show()"
      ],
      "execution_count": 241,
      "outputs": [
        {
          "output_type": "display_data",
          "data": {
            "image/png": "[encoded data removed]",
            "text/plain": [
              "<Figure size 864x576 with 1 Axes>"
            ]
          },
          "metadata": {}
        }
      ]
    }
  ]
}