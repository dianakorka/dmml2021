{
  "nbformat": 4,
  "nbformat_minor": 0,
  "metadata": {
    "kernel_info": {
      "name": "python3"
    },
    "language_info": {
      "name": "python",
      "version": "3.7.3",
      "mimetype": "text/x-python",
      "codemirror_mode": {
        "name": "ipython",
        "version": 3
      },
      "pygments_lexer": "ipython3",
      "nbconvert_exporter": "python",
      "file_extension": ".py"
    },
    "kernelspec": {
      "name": "python3",
      "language": "python",
      "display_name": "Python 3"
    },
    "nteract": {
      "version": "0.15.0"
    },
    "colab": {
      "name": "regression_students.ipynb",
      "provenance": [],
      "collapsed_sections": [],
      "toc_visible": true,
      "include_colab_link": true
    }
  },
  "cells": [
    {
      "cell_type": "markdown",
      "metadata": {
        "id": "view-in-github",
        "colab_type": "text"
      },
      "source": [
        "<a href=\"https://colab.research.google.com/github/michalis0/DataMining_and_MachineLearning/blob/master/week4/regression_students.ipynb\" target=\"_parent\"><img src=\"https://colab.research.google.com/assets/colab-badge.svg\" alt=\"Open In Colab\"/></a>"
      ]
    },
    {
      "cell_type": "markdown",
      "metadata": {
        "id": "tWZQ5fIJ0gvd"
      },
      "source": [
        "# Linear Regression\n",
        "\n",
        "Here we will examine if we can predict the price of a houses in Iowa given some of the house features."
      ]
    },
    {
      "cell_type": "markdown",
      "metadata": {
        "id": "USw7EH4N0gvf"
      },
      "source": [
        "## Loading the data\n",
        "\n",
        "Read the data file into a Pandas DataFrame called `home_data`."
      ]
    },
    {
      "cell_type": "code",
      "metadata": {
        "outputHidden": false,
        "inputHidden": false,
        "id": "Q-1OapV90gvg"
      },
      "source": [
        "import pandas as pd\n",
        "\n",
        "# Path of the file to read\n",
        "data_path = \"https://raw.githubusercontent.com/michalis0/DataMining_and_MachineLearning/master/week4/data/housing-prices-dataset/train.csv\"\n",
        "home_data = pd.read_csv(data_path)\n",
        "\n",
        "print(\"Setup Complete\")\n",
        "home_data.head()"
      ],
      "execution_count": null,
      "outputs": []
    },
    {
      "cell_type": "markdown",
      "metadata": {
        "id": "T2avSs0w0gvk"
      },
      "source": [
        "We will select the **features** which by convention are called **X**. We will also choose the target variable which we typically call `y`."
      ]
    },
    {
      "cell_type": "code",
      "metadata": {
        "outputHidden": false,
        "inputHidden": false,
        "id": "vAj52MbN0gvl"
      },
      "source": [
        "feature_names = ['1stFlrSF']\n",
        "X = home_data[feature_names]\n",
        "y = home_data[\"SalePrice\"]"
      ],
      "execution_count": null,
      "outputs": []
    },
    {
      "cell_type": "code",
      "metadata": {
        "id": "TbHl7gEYpHRu"
      },
      "source": [
        "X.head()"
      ],
      "execution_count": null,
      "outputs": []
    },
    {
      "cell_type": "code",
      "metadata": {
        "id": "fu8TNrx4pMyc"
      },
      "source": [
        "y.head()"
      ],
      "execution_count": null,
      "outputs": []
    },
    {
      "cell_type": "markdown",
      "metadata": {
        "id": "HHyZ30yt0gvn"
      },
      "source": [
        "We create the linear model. "
      ]
    },
    {
      "cell_type": "code",
      "metadata": {
        "outputHidden": false,
        "inputHidden": false,
        "id": "JWI57URE0gvo"
      },
      "source": [
        "# do the right imports\n",
        "from sklearn.linear_model import LinearRegression\n",
        "\n",
        "# create the model\n",
        "model = LinearRegression()\n",
        "\n",
        "# Fit the model\n",
        "model.fit(X,y)"
      ],
      "execution_count": null,
      "outputs": []
    },
    {
      "cell_type": "markdown",
      "metadata": {
        "id": "zp6B_q9f0gvq"
      },
      "source": [
        "and we do the predictions:"
      ]
    },
    {
      "cell_type": "code",
      "metadata": {
        "outputHidden": false,
        "inputHidden": false,
        "id": "RkBQG78c0gvr"
      },
      "source": [
        "predictions = model.predict(X)\n",
        "print(predictions)"
      ],
      "execution_count": null,
      "outputs": []
    },
    {
      "cell_type": "markdown",
      "metadata": {
        "id": "7Mk6jDWo0gvu"
      },
      "source": [
        "and we can plot the data and the regression."
      ]
    },
    {
      "cell_type": "code",
      "metadata": {
        "outputHidden": false,
        "inputHidden": false,
        "id": "CqDb9Yw40gvv"
      },
      "source": [
        "%matplotlib inline\n",
        "import matplotlib.pyplot as plt\n",
        "\n",
        "plt.scatter(X.iloc[:,0], y)\n",
        "plt.plot(X.iloc[:,0], predictions, 'r')\n",
        "plt.xlabel(X.columns[0])\n",
        "plt.ylabel('SalePrice')\n",
        "plt.show()"
      ],
      "execution_count": null,
      "outputs": []
    },
    {
      "cell_type": "markdown",
      "metadata": {
        "id": "XUaw3jWX0gvx"
      },
      "source": [
        "How much is the model's $MAE$ and $R^2$ ?"
      ]
    },
    {
      "cell_type": "code",
      "metadata": {
        "outputHidden": false,
        "inputHidden": false,
        "id": "rh4LcAci0gvy"
      },
      "source": [
        "from sklearn.metrics import mean_absolute_error, r2_score\n",
        "\n",
        "predicted_home_prices = model.predict(X)\n",
        "mae = mean_absolute_error(y, predicted_home_prices)\n",
        "r2 = r2_score(y, predicted_home_prices)\n",
        "\n",
        "print(\"MAE %.2f\" % mae)\n",
        "print(\"R^2 %.2f\" % r2)"
      ],
      "execution_count": null,
      "outputs": []
    },
    {
      "cell_type": "code",
      "metadata": {
        "outputHidden": false,
        "inputHidden": false,
        "id": "DJUhPjUS0gvz"
      },
      "source": [
        "%reset"
      ],
      "execution_count": null,
      "outputs": []
    },
    {
      "cell_type": "markdown",
      "metadata": {
        "id": "RQFzrh3Z0gv1"
      },
      "source": [
        "# Exercises\n",
        "\n",
        "Now it's your turn! Make 2 linear regressions:\n",
        "\n",
        "    A. Between on the columns `OverallQual` and  the `SalePrice`.\n",
        "    B. Between `FullBath` and  the `SalePrice`.\n",
        "    \n",
        "<br>\n",
        "**Which has the lowest MAE and $R^2$?**\n"
      ]
    },
    {
      "cell_type": "markdown",
      "metadata": {
        "id": "sP_taCJE0gv1"
      },
      "source": [
        "## Step 0: We load the dataset and the necessary files"
      ]
    },
    {
      "cell_type": "code",
      "metadata": {
        "outputHidden": false,
        "inputHidden": false,
        "id": "-_AYqZvT0gv2"
      },
      "source": [
        "# import pandas\n",
        "import \n",
        "\n",
        "# change to GET THE RAW FILE FROM GITHUB. WILL PROVIDE...\n",
        "data_path = \"train.csv\"\n",
        "\n",
        "# read the file using pandas\n",
        "home_data = "
      ],
      "execution_count": null,
      "outputs": []
    },
    {
      "cell_type": "code",
      "metadata": {
        "outputHidden": false,
        "inputHidden": false,
        "id": "TaTOkalO0gv3"
      },
      "source": [
        "# how many observations we have? Hint: use the `shape` attribute\n",
        "# how many columns are there?\n",
        "\n",
        "print(\"Number of observations\", ---)\n",
        "print(\"Number of dimensions\", ---)\n"
      ],
      "execution_count": null,
      "outputs": []
    },
    {
      "cell_type": "markdown",
      "metadata": {
        "id": "7z4K_n_30gv5"
      },
      "source": [
        "\n",
        "\n",
        "## Step 1: Specify Prediction Target\n",
        "Select the target variable (what we want to predict), which corresponds to the **sales price**. Save this to a new variable called `y`. You'll need to print a list of the columns to find the name of the column you need."
      ]
    },
    {
      "cell_type": "code",
      "metadata": {
        "outputHidden": false,
        "inputHidden": false,
        "id": "9_AM3oO60gv6"
      },
      "source": [
        "# print the list of columns in the dataset to find the name of the prediction target\n"
      ],
      "execution_count": null,
      "outputs": []
    },
    {
      "cell_type": "code",
      "metadata": {
        "outputHidden": false,
        "inputHidden": false,
        "id": "1Qt7CIoN0gv7"
      },
      "source": [
        "# store in y the column with the target variable \n",
        "# y = "
      ],
      "execution_count": null,
      "outputs": []
    },
    {
      "cell_type": "markdown",
      "metadata": {
        "id": "IwOvE4200gv8"
      },
      "source": [
        "## Step 2: Create X\n",
        "Now you will create a DataFrame called **`X`** holding the predictive features.\n",
        "\n",
        "Since you want only some columns from the original data, you'll first create a list with the names of the columns you want in `X`.\n",
        "\n",
        "There are a number of numerical columns that you can use:\n",
        " * LotArea\n",
        "  * YearBuilt\n",
        "  * 1stFlrSF\n",
        "  * 2ndFlrSF\n",
        "  * FullBath\n",
        "  * BedroomAbvGr\n",
        "  * TotRmsAbvGrd\n",
        "  * OverallQual\n",
        "\n",
        "However, for now just use either `FullBath` or `OverallQual`.\n",
        "\n",
        "After you've created that list of features, use it to create the DataFrame that you'll use to fit the model."
      ]
    },
    {
      "cell_type": "code",
      "metadata": {
        "outputHidden": false,
        "inputHidden": false,
        "id": "go3R3scU0gv8"
      },
      "source": [
        "# Create the list of features below\n",
        "feature_names = \n",
        "\n",
        "# select data corresponding to features in feature_names\n",
        "X = "
      ],
      "execution_count": null,
      "outputs": []
    },
    {
      "cell_type": "markdown",
      "metadata": {
        "id": "5eSxBMOX0gv9"
      },
      "source": [
        "## Review Data\n",
        "Before building a model, take a quick look at **X** to verify it looks sensible"
      ]
    },
    {
      "cell_type": "code",
      "metadata": {
        "outputHidden": false,
        "inputHidden": false,
        "id": "ROGfQZaZ0gv9"
      },
      "source": [
        "# Review data\n",
        "# print description or statistics from X\n",
        "\n",
        "\n",
        "# print the top few lines of X\n"
      ],
      "execution_count": null,
      "outputs": []
    },
    {
      "cell_type": "markdown",
      "metadata": {
        "id": "V8iHCJBn0gv-"
      },
      "source": [
        "## Step 3: Specify and Fit Model\n",
        "Create a `LinearRegression` model and save it as `iowa_model`. Ensure you've done the relevant import from sklearn to run this command.\n",
        "\n",
        "Then fit the model you just created using the data in `X` and `y` that you saved above."
      ]
    },
    {
      "cell_type": "code",
      "metadata": {
        "outputHidden": false,
        "inputHidden": false,
        "id": "alF5ArUO0gv_"
      },
      "source": [
        "# do the right imports\n",
        "from sklearn.linear_model import LinearRegression\n",
        "\n",
        "# create the model\n",
        "iowa_model = LinearRegression()\n",
        "\n",
        "# Fit the model\n",
        "iowa_model.fit(X,y)\n"
      ],
      "execution_count": null,
      "outputs": []
    },
    {
      "cell_type": "markdown",
      "metadata": {
        "id": "OJ7J1EmZ0gwA"
      },
      "source": [
        "Which are the **parameters** of the model?"
      ]
    },
    {
      "cell_type": "code",
      "metadata": {
        "outputHidden": false,
        "inputHidden": false,
        "id": "Y7yKT-AE0gwA"
      },
      "source": [
        "print(f'intercept = {iowa_model.intercept_}')\n",
        "print(f'coefficients = {iowa_model.coef_}')"
      ],
      "execution_count": null,
      "outputs": []
    },
    {
      "cell_type": "markdown",
      "metadata": {
        "id": "hkmog9cK0gwB"
      },
      "source": [
        "## Step 4: Make Predictions\n",
        "\n",
        "Make predictions with the model's `predict` command using `X` as the data. Save the results to a variable called `predictions`."
      ]
    },
    {
      "cell_type": "code",
      "metadata": {
        "outputHidden": false,
        "inputHidden": false,
        "id": "LKVRdiTa0gwB"
      },
      "source": [
        "predictions = _\n",
        "print(predictions)"
      ],
      "execution_count": null,
      "outputs": []
    },
    {
      "cell_type": "markdown",
      "metadata": {
        "id": "5Y908j6b0gwC"
      },
      "source": [
        "## Show the regression\n",
        "\n",
        "Now show the regression."
      ]
    },
    {
      "cell_type": "code",
      "metadata": {
        "outputHidden": false,
        "inputHidden": false,
        "id": "1zjjamAe0gwC"
      },
      "source": [
        "%matplotlib inline\n",
        "import matplotlib.pyplot as plt\n",
        "\n",
        "plt.scatter(--, --)\n",
        "plt.plot(---, predictions, 'r')\n",
        "plt.xlabel(X.columns[0])\n",
        "plt.ylabel('SalePrice')\n",
        "plt.show()"
      ],
      "execution_count": null,
      "outputs": []
    },
    {
      "cell_type": "markdown",
      "metadata": {
        "id": "TnzX0Ri00gwD"
      },
      "source": [
        "## Model Validation\n",
        "\n",
        "You've built a model. But how good is it?\n",
        "\n",
        "The prediction error for each house is:  `error=|actual−predicted|`\n",
        "\n",
        "So, if a house cost CHF 150'000 and you predicted it would cost CHF 100'000 the error is  CHF 50'000.\n",
        "\n",
        "We call this **MAE** (Mean Average Error) and to get a single number we can average the errors for all the houses.\n",
        "\n",
        "### Compute the MAE and the $R^2$ of the two models. \n",
        "\n",
        "For which feature\n",
        "   - FullBath\n",
        "   - OverQual\n",
        " \n",
        "do we have the lowest MAE?"
      ]
    },
    {
      "cell_type": "code",
      "metadata": {
        "outputHidden": false,
        "inputHidden": false,
        "id": "bVjDIfqw0gwD"
      },
      "source": [
        "from sklearn.metrics import mean_absolute_error, r2_score\n",
        "\n",
        "predicted_home_prices = \n",
        "mae = \n",
        "r2 = \n",
        "\n",
        "print(\"MAE %.2f\" % mae)\n",
        "print(\"R^2 %.2f\" % r2)"
      ],
      "execution_count": null,
      "outputs": []
    },
    {
      "cell_type": "markdown",
      "metadata": {
        "id": "FrFJP6fz0gwE"
      },
      "source": [
        "So, on average we are off by some CHF 30k-46k on the predicted price. But this is for the \"in-sample\" points. \n",
        "\n",
        "However, in practice **should always** evaluate the quality of our model on datapoints that were not used to create the model. \n",
        "\n",
        "Try to load the test data from the following link:\n",
        "\n",
        "`https://raw.githubusercontent.com/michalis0/DataMining_and_MachineLearning/master/week4/data/housing-prices-dataset/test.csv`\n",
        "\n",
        "Using the models you just trained, try to predict the sales prices for the test data. Then compute the MAE and $R^2$ score of each model for the test data. Which model preforms better on the (unseen) test data?"
      ]
    },
    {
      "cell_type": "code",
      "metadata": {
        "id": "7FfP2LnEvxFE"
      },
      "source": [
        ""
      ],
      "execution_count": null,
      "outputs": []
    }
  ]
}