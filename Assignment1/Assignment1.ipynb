{
  "nbformat": 4,
  "nbformat_minor": 0,
  "metadata": {
    "colab": {
      "name": "Assignment1.ipynb",
      "provenance": [],
      "collapsed_sections": []
    },
    "kernelspec": {
      "name": "python3",
      "display_name": "Python 3"
    },
    "language_info": {
      "name": "python"
    }
  },
  "cells": [
    {
      "cell_type": "markdown",
      "metadata": {
        "id": "s6wyGzMGMAZl"
      },
      "source": [
        "\n",
        "<a href=\"https://colab.research.google.com/github/michalis0/DataMining_and_MachineLearning/blob/master/Assignment1/Assignment1.ipynb\" target=\"_parent\"><img src=\"https://colab.research.google.com/assets/colab-badge.svg\" alt=\"Open In Colab\"/></a>\n",
        "\n"
      ]
    },
    {
      "cell_type": "markdown",
      "metadata": {
        "id": "iwAXDYpDDSB5"
      },
      "source": [
        "# Data Mining and Machine Learning - Assignment 1\n",
        "\n",
        "> Topics Covered: Data Cleaning, Exploratory Data Analysis, Visualization and Regression 1 and 2 (up to and including week 5)\n",
        "\n",
        "**Due: Sunday November 7, 23.59pm**\n",
        "\n",
        "\n",
        "This assignment is the opportunity to apply the different concepts seen in class so far to a new dataset on the sales of a store.\n",
        "\n",
        "Run the first few cells to load the dataset and then get started with the questions! \n",
        "\n",
        "To complete the assignment you have to do ***both***:\n",
        "\n",
        "1. Complete the exercises and submit [your Python notebook](https://moodle.unil.ch/mod/assign/view.php?id=841447)\n",
        "2. Answer the questions to [the quiz on Moodle](https://moodle.unil.ch/mod/quiz/view.php?id=1172387) \n",
        ">Note: You can only complete the quiz one time. Have your notebook with the asnwers ready for answering the quiz. \n",
        "\n",
        "The answers to the quiz should be supported by your code in the notebook. If they are not, you will not receive points for them.\n",
        "\n",
        "**IMPORTANT!** You can discuss the questions with other students but **do not exchange code!** This is individual work. We will run your code and check for similarities.\n",
        "\n",
        "You can post your questions in slack [channel #assignments](https://app.slack.com/client/T02C4KVGVMX/C02BBA2TFQF).\n",
        "\n",
        "\n",
        "If there is need for further clarifications on the questions, after the assignment is released, we will update the file on GitHub, so make sure you check the git repo of the class for updates.\n",
        "\n",
        "Good luck!"
      ]
    },
    {
      "cell_type": "code",
      "metadata": {
        "id": "zWUCxcA6TKAI"
      },
      "source": [
        "# Import required packages\n",
        "\n",
        "import pandas as pd\n",
        "import numpy as np\n",
        "import matplotlib.pyplot as plt\n",
        "import seaborn as sns\n",
        "%matplotlib inline\n",
        "sns.set_style(\"whitegrid\")"
      ],
      "execution_count": null,
      "outputs": []
    },
    {
      "cell_type": "code",
      "metadata": {
        "id": "bksyZc4p0hVZ"
      },
      "source": [
        "# Load the data\n",
        "df=pd.read_csv('https://raw.githubusercontent.com/michalis0/DataMining_and_MachineLearning/master/data/sales.csv')"
      ],
      "execution_count": null,
      "outputs": []
    },
    {
      "cell_type": "markdown",
      "metadata": {
        "id": "3RQLjcgCBwVt"
      },
      "source": [
        "For the first part we use data on the retail sales of a store over several years. The dataset includes information on items purchased from this store, including for each item or article:\n",
        "* order ID (a unique identifyier of the order through which this item was purchased)\n",
        "* date of the order\n",
        "* date the shipment was made\n",
        "* mode of shipment used (first class, second class, etc.)\n",
        "* customer ID (unique identifyier of the client)\n",
        "* customer name\n",
        "* client segment (consumer, corporate, etc.)\n",
        "* country, city, state, postal code, region of the client\n",
        "* product ID, product category, sub-category, and product name\n",
        "* sales value for purchased items in USD."
      ]
    },
    {
      "cell_type": "markdown",
      "metadata": {
        "id": "xKdL7SxJH7Nw"
      },
      "source": [
        "## 1. Understand and Clean the Dataset\n",
        "\n",
        ">1.1 Show the first 5 or 10 rows to get an idea of the data. "
      ]
    },
    {
      "cell_type": "code",
      "metadata": {
        "id": "bJQn3lz313aL"
      },
      "source": [
        "# YOUR CODE HERE\n"
      ],
      "execution_count": null,
      "outputs": []
    },
    {
      "cell_type": "markdown",
      "metadata": {
        "id": "NLm9VhY2Iovy"
      },
      "source": [
        "\n",
        "### 1.2 Describe the dataset.\n",
        "\n",
        ">1.2.1. How many observations(rows) and columns are in the dataset?"
      ]
    },
    {
      "cell_type": "code",
      "metadata": {
        "id": "kN08N8Ya2aSi"
      },
      "source": [
        "# YOUR CODE HERE\n"
      ],
      "execution_count": null,
      "outputs": []
    },
    {
      "cell_type": "markdown",
      "metadata": {
        "id": "W5tB44hXN1_y"
      },
      "source": [
        "> 1.2.2. For which variable(s), if any, are there missing/null values?"
      ]
    },
    {
      "cell_type": "code",
      "metadata": {
        "id": "7QPMt2TP6WVO"
      },
      "source": [
        "# YOUR CODE HERE\n"
      ],
      "execution_count": null,
      "outputs": []
    },
    {
      "cell_type": "markdown",
      "metadata": {
        "id": "0mgVMc3wMsD6"
      },
      "source": [
        ">1.2.3. Which state generated the highest demand by *number* of items ordered over the entire period?"
      ]
    },
    {
      "cell_type": "code",
      "metadata": {
        "id": "b2rw5EHkMfWR"
      },
      "source": [
        "# YOUR CODE HERE\n"
      ],
      "execution_count": null,
      "outputs": []
    },
    {
      "cell_type": "markdown",
      "metadata": {
        "id": "og7Oq593QMu-"
      },
      "source": [
        ">... and which state generated the highest demand by total (aggregated) sales over the entire period?"
      ]
    },
    {
      "cell_type": "code",
      "metadata": {
        "id": "86In9TV1OeyM"
      },
      "source": [
        "# YOUR CODE HERE\n"
      ],
      "execution_count": null,
      "outputs": []
    },
    {
      "cell_type": "markdown",
      "metadata": {
        "id": "fv-MIcT9Pc54"
      },
      "source": [
        ">1.2.4. What percentage of technology items (Hint: look at Category) were shipped first class (Hint: look at Ship Mode)?"
      ]
    },
    {
      "cell_type": "code",
      "metadata": {
        "id": "qzGiVprdQakd"
      },
      "source": [
        "# YOUR CODE HERE\n"
      ],
      "execution_count": null,
      "outputs": []
    },
    {
      "cell_type": "markdown",
      "metadata": {
        "id": "sfpjod4BRykk"
      },
      "source": [
        "### 1.3. Data types and handling missing values\n",
        "\n",
        ">1.3.1. List the different features and their data type. ¶\n"
      ]
    },
    {
      "cell_type": "code",
      "metadata": {
        "id": "fE5mx0PvV_3q"
      },
      "source": [
        "# YOUR CODE HERE\n"
      ],
      "execution_count": null,
      "outputs": []
    },
    {
      "cell_type": "markdown",
      "metadata": {
        "id": "AfrXUll-dhki"
      },
      "source": [
        ">1.3.2. Are there any duplicated entries?"
      ]
    },
    {
      "cell_type": "code",
      "metadata": {
        "id": "khexK-jZdTqq"
      },
      "source": [
        "# YOUR CODE HERE\n"
      ],
      "execution_count": null,
      "outputs": []
    },
    {
      "cell_type": "markdown",
      "metadata": {
        "id": "IepEsmf4JFZz"
      },
      "source": [
        ">1.3.3. Change the data type for the following columns: Order Date, Ship Date (from string to datetime), Ship Mode and Segment, from string to category. "
      ]
    },
    {
      "cell_type": "code",
      "metadata": {
        "id": "6MHWijlkeCfy"
      },
      "source": [
        "# YOUR CODE HERE\n"
      ],
      "execution_count": null,
      "outputs": []
    },
    {
      "cell_type": "markdown",
      "metadata": {
        "id": "H_X2BzEOVH_Q"
      },
      "source": [
        ">1.3.4. For which order period have these data samples been collected? (i.e, the oldest and the most recent order dates in the dataset)"
      ]
    },
    {
      "cell_type": "code",
      "metadata": {
        "id": "aPBLyrx9MGqz"
      },
      "source": [
        "# YOUR CODE HERE\n"
      ],
      "execution_count": null,
      "outputs": []
    },
    {
      "cell_type": "markdown",
      "metadata": {
        "id": "C1s2NgO3Unv8"
      },
      "source": [
        ">1.3.5. For the postal code column, drop the missing values and set the data type to an integer and then to a string (make sure the final format of the ZIP code is of this kind: 42420 and not 42420.0).\n"
      ]
    },
    {
      "cell_type": "code",
      "metadata": {
        "id": "QbnduUdgU7Ss"
      },
      "source": [
        "# YOUR CODE HERE\n"
      ],
      "execution_count": null,
      "outputs": []
    },
    {
      "cell_type": "markdown",
      "metadata": {
        "id": "H-NvGlwviKQ_"
      },
      "source": [
        "\n",
        "## 2. Exploratory Data Analysis and Visualization"
      ]
    },
    {
      "cell_type": "markdown",
      "metadata": {
        "id": "Bdwn8aIoggyt"
      },
      "source": [
        ">2.1 Which are the top 5 dates on which the store reached the highest *value* of sales over the entire period included in the dataset?"
      ]
    },
    {
      "cell_type": "code",
      "metadata": {
        "id": "FlVkgZUKfuPe"
      },
      "source": [
        "# YOUR CODE HERE\n"
      ],
      "execution_count": null,
      "outputs": []
    },
    {
      "cell_type": "markdown",
      "metadata": {
        "id": "AeyF9LSpidyP"
      },
      "source": [
        ">2.2 How many unique customers did the shop have over this period?"
      ]
    },
    {
      "cell_type": "code",
      "metadata": {
        "id": "35gdkeJfkj59"
      },
      "source": [
        "# YOUR CODE HERE\n"
      ],
      "execution_count": null,
      "outputs": []
    },
    {
      "cell_type": "markdown",
      "metadata": {
        "id": "xTKAqb33QHYP"
      },
      "source": [
        ">...Plot the top ten customers by total value of their orders in a horizontal bar chart."
      ]
    },
    {
      "cell_type": "code",
      "metadata": {
        "id": "7fwCxScMi8Bm"
      },
      "source": [
        "# YOUR CODE HERE\n"
      ],
      "execution_count": null,
      "outputs": []
    },
    {
      "cell_type": "markdown",
      "metadata": {
        "id": "9xJh796GqhJ-"
      },
      "source": [
        ">2.3. What are the most frequently bought product sub-categories ? \n",
        ">\n",
        "> Hint: look at sub-category and count the times they appear in the dataset."
      ]
    },
    {
      "cell_type": "code",
      "metadata": {
        "id": "pd5YfUGDqllc"
      },
      "source": [
        "# YOUR CODE HERE\n"
      ],
      "execution_count": null,
      "outputs": []
    },
    {
      "cell_type": "markdown",
      "metadata": {
        "id": "jrNQ6Gq4Qiv2"
      },
      "source": [
        ">...What are the product sub-categories that generated the highest value of sales over the entire period?\n",
        ">\n",
        "> Hint: aggregate sales by sub-category."
      ]
    },
    {
      "cell_type": "code",
      "metadata": {
        "id": "0GPqlCLxVDBH"
      },
      "source": [
        "# YOUR CODE HERE\n"
      ],
      "execution_count": null,
      "outputs": []
    },
    {
      "cell_type": "markdown",
      "metadata": {
        "id": "0ZzouGeaRZ7z"
      },
      "source": [
        ">...What was the average purchase price of a phone sold by the store?"
      ]
    },
    {
      "cell_type": "code",
      "metadata": {
        "id": "76tjDZlzTfMe"
      },
      "source": [
        "# YOUR CODE HERE\n"
      ],
      "execution_count": null,
      "outputs": []
    },
    {
      "cell_type": "markdown",
      "metadata": {
        "id": "lEnKlgjJZwRN"
      },
      "source": [
        ">2.4 Create a new column storing the time difference between Ship Date and Order Date. What was the longest, shortest and the average delivery time difference?"
      ]
    },
    {
      "cell_type": "code",
      "metadata": {
        "id": "A1ye8bE_Zkvq"
      },
      "source": [
        "# YOUR CODE HERE\n"
      ],
      "execution_count": null,
      "outputs": []
    },
    {
      "cell_type": "markdown",
      "metadata": {
        "id": "tEOwefHvSsbZ"
      },
      "source": [
        "> 2.5. How many orders (not items) had a delivery time of 6 or more days? \n",
        ">\n",
        "> Hint: you may want to use [`pd.Timedelta()`](https://pandas.pydata.org/docs/reference/api/pandas.Timedelta.html)."
      ]
    },
    {
      "cell_type": "code",
      "metadata": {
        "id": "9BoxdiOObUWs"
      },
      "source": [
        "# YOUR CODE HERE\n"
      ],
      "execution_count": null,
      "outputs": []
    },
    {
      "cell_type": "markdown",
      "metadata": {
        "id": "wOm_zWbzmU_n"
      },
      "source": [
        ">2.6. What are the average delivery times for each mode of shipment? Take the average over the total number of items ordered (not over the total number of orders)."
      ]
    },
    {
      "cell_type": "code",
      "metadata": {
        "id": "AnueJAYAmq-K"
      },
      "source": [
        "# YOUR CODE HERE\n"
      ],
      "execution_count": null,
      "outputs": []
    },
    {
      "cell_type": "markdown",
      "metadata": {
        "id": "N9E6QMd-rUwn"
      },
      "source": [
        ">2.7. Create a new column containing the year each order was placed (using Order Date). The plot the number of unique customers per year in a horizontal bar chart."
      ]
    },
    {
      "cell_type": "code",
      "metadata": {
        "id": "OKcMYezGqd-m"
      },
      "source": [
        "# YOUR CODE HERE\n"
      ],
      "execution_count": null,
      "outputs": []
    },
    {
      "cell_type": "markdown",
      "metadata": {
        "id": "7VrpFnfA5g14"
      },
      "source": [
        ">2.8. Churn in 2018 as compared to 2017. Were there any customers in 2017 that the store lost in 2018? If so, how many?"
      ]
    },
    {
      "cell_type": "code",
      "metadata": {
        "id": "nufM8bG-5le9"
      },
      "source": [
        "# YOUR CODE HERE\n"
      ],
      "execution_count": null,
      "outputs": []
    },
    {
      "cell_type": "markdown",
      "metadata": {
        "id": "k_MA0nCqmWk7"
      },
      "source": [
        ">2.9. Generate a table with the average sales by customer segment and by year (take the simple average over the number of items sold). Plot in a line chart the average sales by customer segement over time, with the years on x-axis, the average sales on the y-axis, and a line for each segment."
      ]
    },
    {
      "cell_type": "code",
      "metadata": {
        "id": "xti_5tRwgITF"
      },
      "source": [
        "# YOUR CODE HERE\n"
      ],
      "execution_count": null,
      "outputs": []
    },
    {
      "cell_type": "markdown",
      "metadata": {
        "id": "HlMfHtssI7d8"
      },
      "source": [
        ">2.10. Using `folium`, plot on a map the location of a subset of customers defined below, using circle markers proportionate to the value of their aggregate purchases.\n",
        ">\n",
        "> Only include 2018 data for corporate customers with per item purchases above USD 100. \n",
        ">\n",
        ">A separate database with latitude and longitude measures for US zip codes is provided below. Merge the latitude and longitude with your transactions dataset. Make sure to drop any missing values before plotting your map."
      ]
    },
    {
      "cell_type": "code",
      "metadata": {
        "id": "jgl8TDOTNffd"
      },
      "source": [
        "# import required packages\n",
        "import folium"
      ],
      "execution_count": null,
      "outputs": []
    },
    {
      "cell_type": "code",
      "metadata": {
        "id": "zK_CETAiNmKD"
      },
      "source": [
        "# import latitude and longitude data\n",
        "latlong=pd.read_csv('https://gist.githubusercontent.com/erichurst/7882666/raw/5bdc46db47d9515269ab12ed6fb2850377fd869e/US%2520Zip%2520Codes%2520from%25202013%2520Government%2520Data', \n",
        "                    dtype={'ZIP': 'str'})\n",
        "latlong.head()"
      ],
      "execution_count": null,
      "outputs": []
    },
    {
      "cell_type": "code",
      "metadata": {
        "id": "wckhNfH0QcC6"
      },
      "source": [
        "# YOUR CODE HERE FOR SELECTING THE SUBSET\n"
      ],
      "execution_count": null,
      "outputs": []
    },
    {
      "cell_type": "code",
      "metadata": {
        "id": "k2xJfDJwOxTN"
      },
      "source": [
        "# YOUR CODE HERE FOR MERGING THE SUBSET WITH THE LATITUDE AND LONGITUDE DATA\n"
      ],
      "execution_count": null,
      "outputs": []
    },
    {
      "cell_type": "code",
      "metadata": {
        "id": "iLie4FgVPrgu"
      },
      "source": [
        "# YOUR CODE HERE FOR GENERATING THE MAP\n"
      ],
      "execution_count": null,
      "outputs": []
    },
    {
      "cell_type": "markdown",
      "metadata": {
        "id": "t-0sesaUf_RL"
      },
      "source": [
        "## 3. Regression Analysis"
      ]
    },
    {
      "cell_type": "markdown",
      "metadata": {
        "id": "FFibkCBasHtX"
      },
      "source": [
        "For this section please work on data aggregated by daily sales in USD. Here we are providing the dataframe for you. The regression dataset contains observations on sales aggregated by day, including:\n",
        "* the date of the orders\n",
        "* the number of orders received on that day\n",
        "* the number of items ordered on that day\n",
        "* the number of customer segments represented in the orders for that day\n",
        "* the number of product sub-categories included\n",
        "* the aggregated value of daily sales in USD\n",
        "* the year, the month, and the day of the transactions stored separately."
      ]
    },
    {
      "cell_type": "markdown",
      "metadata": {
        "id": "C7DWGp1QRJWF"
      },
      "source": [
        ">Load the data."
      ]
    },
    {
      "cell_type": "code",
      "metadata": {
        "id": "SJ6VGI7_B9dY"
      },
      "source": [
        "#Upload the data\n",
        "new_data=pd.read_csv('https://raw.githubusercontent.com/michalis0/DataMining_and_MachineLearning/master/data/regression_sales.csv')"
      ],
      "execution_count": null,
      "outputs": []
    },
    {
      "cell_type": "markdown",
      "metadata": {
        "id": "Uo47uxUJS9S0"
      },
      "source": [
        ">3.1.1. Generate descriptive statistics"
      ]
    },
    {
      "cell_type": "code",
      "metadata": {
        "id": "V4yFDfS_SoHz"
      },
      "source": [
        "# YOUR CODE HERE\n"
      ],
      "execution_count": null,
      "outputs": []
    },
    {
      "cell_type": "markdown",
      "metadata": {
        "id": "UH-b8Rg8lcqA"
      },
      "source": [
        ">3.1.2. Plot the distribution of sales per day, using bins=50. Then create a new column equal to the natural logarithm of sales per day and plot its histogram as well."
      ]
    },
    {
      "cell_type": "code",
      "metadata": {
        "id": "0DNwPUQKlAxv"
      },
      "source": [
        "# YOUR CODE HERE\n"
      ],
      "execution_count": null,
      "outputs": []
    },
    {
      "cell_type": "markdown",
      "metadata": {
        "id": "rxaRIn6dPaJB"
      },
      "source": [
        ">3.1.3. Create a pairplot with the log of sales per day on the horizontal axis and on the vertical axis the number of items ordered and number of orders."
      ]
    },
    {
      "cell_type": "code",
      "metadata": {
        "id": "DRlpC5RKjhWD"
      },
      "source": [
        "# YOUR CODE HERE\n"
      ],
      "execution_count": null,
      "outputs": []
    },
    {
      "cell_type": "markdown",
      "metadata": {
        "id": "82bShao5Fznv"
      },
      "source": [
        "## Simple Linear Regression"
      ]
    },
    {
      "cell_type": "markdown",
      "metadata": {
        "id": "9ggDe8YUV2Q1"
      },
      "source": [
        ">3.2 Regress log of sales on number of orders, number of items, number of segments, year, month and day.\n",
        ">\n",
        ">3.2.1. Select the dependent (y) and the independent variables (X)."
      ]
    },
    {
      "cell_type": "code",
      "metadata": {
        "id": "raGHDpTGABHR"
      },
      "source": [
        "# YOUR CODE HERE\n",
        "y = \n",
        "X = "
      ],
      "execution_count": null,
      "outputs": []
    },
    {
      "cell_type": "markdown",
      "metadata": {
        "id": "G6539viLWhTb"
      },
      "source": [
        ">3.2.2 Split your dataset into a training set (80%) and a test set (20%). Use sklearn.model_selection.train_test_split() and set the **random_state to 77.**"
      ]
    },
    {
      "cell_type": "code",
      "metadata": {
        "id": "GjpqtBa_CFmo"
      },
      "source": [
        "# YOUR CODE HERE\n"
      ],
      "execution_count": null,
      "outputs": []
    },
    {
      "cell_type": "markdown",
      "metadata": {
        "id": "I7bUXy-BWzsZ"
      },
      "source": [
        ">3.2.3 Train a linear regression model on the training data. What is the R^2 score for the test data?"
      ]
    },
    {
      "cell_type": "code",
      "metadata": {
        "id": "RqdPe2awCJ1r"
      },
      "source": [
        "# YOUR CODE HERE\n"
      ],
      "execution_count": null,
      "outputs": []
    },
    {
      "cell_type": "markdown",
      "metadata": {
        "id": "OMwWUxiQXMg1"
      },
      "source": [
        ">3.2.4. Predict what would be the total value of sales in USD on 15 January 2019 assuming there were 3 orders received on that day, including 9 items, from 3 segments."
      ]
    },
    {
      "cell_type": "code",
      "metadata": {
        "id": "kAJcWSR7rSpG"
      },
      "source": [
        "# YOUR CODE HERE\n"
      ],
      "execution_count": null,
      "outputs": []
    },
    {
      "cell_type": "markdown",
      "metadata": {
        "id": "LxDaG_fkgi27"
      },
      "source": [
        "## Linear Regression with Standardization"
      ]
    },
    {
      "cell_type": "markdown",
      "metadata": {
        "id": "NHdx7ZB-k1zg"
      },
      "source": [
        "> 3.2.5. Apply a standard scaler to the following columns: number_orders, number_items, number_segments. \n",
        "> \n",
        "> Hint: use the scaler on the already split data. Fit-transform the scaler on X_train and apply transform on X_test."
      ]
    },
    {
      "cell_type": "code",
      "metadata": {
        "id": "0oOsS4aXlKlJ"
      },
      "source": [
        "# YOUR CODE HERE\n"
      ],
      "execution_count": null,
      "outputs": []
    },
    {
      "cell_type": "markdown",
      "metadata": {
        "id": "FP_JknHfm8Q1"
      },
      "source": [
        "> 3.2.6. Train a linear regression model with the standardised data. What is the R^2 score for the test data?"
      ]
    },
    {
      "cell_type": "code",
      "metadata": {
        "id": "YTuVpyJ3mz9l"
      },
      "source": [
        "# YOUR CODE HERE\n"
      ],
      "execution_count": null,
      "outputs": []
    },
    {
      "cell_type": "markdown",
      "metadata": {
        "id": "DLMX97zuoDUI"
      },
      "source": [
        "> 3.2.7. Predict what would be the total number of sales in USD on 15 January 2019 assuming 3 orders received on that day, including 9 items, from 3 segments"
      ]
    },
    {
      "cell_type": "code",
      "metadata": {
        "id": "GqBE6AAIoCht"
      },
      "source": [
        "# YOUR CODE HERE\n"
      ],
      "execution_count": null,
      "outputs": []
    },
    {
      "cell_type": "markdown",
      "metadata": {
        "id": "_-A89FoxGLs7"
      },
      "source": [
        ">3.2.8. Looking at the coefficients from the linear regression with standardization, identify which variable is the most significant in this model. "
      ]
    },
    {
      "cell_type": "code",
      "metadata": {
        "id": "CZDd1zbMHT2d"
      },
      "source": [
        "# YOUR CODE HERE"
      ],
      "execution_count": null,
      "outputs": []
    },
    {
      "cell_type": "markdown",
      "metadata": {
        "id": "W3wd9q3MU6Vw"
      },
      "source": [
        "> 3.2.9. Calculate the adjusted R-squared and identify the optimum regression coefficients using linear regression with standardisation. \n",
        ">\n",
        "> Hint: calculate the adjusted R-squared for the full model with linear regression and standardisation (as above). The try dropping either one of the columns: 'number_orders', 'number_items', 'number_segments' and recalculate adjusted R-squared for every new model. Identify which combination of features gives the highest adjusted R-squared. \n",
        ">\n",
        ">Check out this documentation file on the [adjusted R-squared](https://www.statology.org/adjusted-r-squared-in-python/)."
      ]
    },
    {
      "cell_type": "code",
      "metadata": {
        "id": "dEC1IdtvYDpX"
      },
      "source": [
        "# YOUR CODE HERE\n"
      ],
      "execution_count": null,
      "outputs": []
    },
    {
      "cell_type": "markdown",
      "metadata": {
        "id": "EXV4bXP2bw9d"
      },
      "source": [
        "Train the model when you drop `number_segments` and calculate the adjusted R-squared."
      ]
    },
    {
      "cell_type": "code",
      "metadata": {
        "id": "VqvTgUV3a5_7"
      },
      "source": [
        "# YOUR CODE HERE\n"
      ],
      "execution_count": null,
      "outputs": []
    },
    {
      "cell_type": "markdown",
      "metadata": {
        "id": "GV5vh6Leb655"
      },
      "source": [
        "Train the model when you drop `number_items` and calculate the adjusted R-squared."
      ]
    },
    {
      "cell_type": "code",
      "metadata": {
        "id": "cGRbZ-EJcBBv"
      },
      "source": [
        "# YOUR CODE HERE\n"
      ],
      "execution_count": null,
      "outputs": []
    },
    {
      "cell_type": "markdown",
      "metadata": {
        "id": "8KautFYzcUN4"
      },
      "source": [
        "Train the model when you drop `number_orders` and calculate the adjusted R-squared."
      ]
    },
    {
      "cell_type": "code",
      "metadata": {
        "id": "t2pDrzyLcaq9"
      },
      "source": [
        "# YOUR CODE HERE\n"
      ],
      "execution_count": null,
      "outputs": []
    }
  ]
}