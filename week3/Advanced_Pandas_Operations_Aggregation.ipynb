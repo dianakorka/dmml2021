{
  "nbformat": 4,
  "nbformat_minor": 0,
  "metadata": {
    "colab": {
      "name": "Advanced_Pandas.ipynb",
      "provenance": []
    },
    "kernelspec": {
      "name": "python3",
      "display_name": "Python 3"
    }
  },
  "cells": [
    {
      "cell_type": "markdown",
      "metadata": {
        "id": "UbZkio8GdvZi"
      },
      "source": [
        "<a href=\"https://colab.research.google.com/github/michalis0/DataMining_and_MachineLearning/blob/master/week3/Advanced_Pandas_Operations_Aggregation.ipynb\" target=\"_parent\"><img src=\"https://colab.research.google.com/assets/colab-badge.svg\" alt=\"Open In Colab\"/></a>"
      ]
    },
    {
      "cell_type": "markdown",
      "metadata": {
        "id": "cWvWQIFUSY3G"
      },
      "source": [
        "# Data Mining and Machine Learning - Week 3\n",
        "# Advanced Pandas Operations - Aggregation\n",
        "\n",
        "### Table of Contents\n",
        "###### 1. Simple Aggregation\n",
        "###### 2. Advanced aggregation topics and chaining\n",
        "###### 3. Selecting using an aggregating dimension\n",
        "\n",
        "Note: This notebook follows the sildes of the pdf file <a href='https://github.com/michalis0/DataMining_and_MachineLearning/blob/master/week3/Walk-Through-Tutorial/3.%20Pandas_Aggregate.pdf'>3. Pandas_Aggregate.pdf</a> provided in the github repository."
      ]
    },
    {
      "cell_type": "code",
      "metadata": {
        "id": "lTzbL01dUvCw"
      },
      "source": [
        "# Import required packages\n",
        "import pandas as pd"
      ],
      "execution_count": 91,
      "outputs": []
    },
    {
      "cell_type": "code",
      "metadata": {
        "id": "Y7Z78PDqUiON",
        "colab": {
          "base_uri": "https://localhost:8080/",
          "height": 142
        },
        "outputId": "0a11e5ba-7e3c-41ce-bbd8-6f99b237e132"
      },
      "source": [
        "# Read in data\n",
        "myData = pd.read_csv(\"https://raw.githubusercontent.com/michalis0/DataMining_and_MachineLearning/master/week3/data/transactions_students.csv\", sep=\",\")\n",
        "myData.head(3)"
      ],
      "execution_count": 92,
      "outputs": [
        {
          "output_type": "execute_result",
          "data": {
            "text/html": [
              "<div>\n",
              "<style scoped>\n",
              "    .dataframe tbody tr th:only-of-type {\n",
              "        vertical-align: middle;\n",
              "    }\n",
              "\n",
              "    .dataframe tbody tr th {\n",
              "        vertical-align: top;\n",
              "    }\n",
              "\n",
              "    .dataframe thead th {\n",
              "        text-align: right;\n",
              "    }\n",
              "</style>\n",
              "<table border=\"1\" class=\"dataframe\">\n",
              "  <thead>\n",
              "    <tr style=\"text-align: right;\">\n",
              "      <th></th>\n",
              "      <th>Customer</th>\n",
              "      <th>TransDate</th>\n",
              "      <th>Quantity</th>\n",
              "      <th>PurchAmount</th>\n",
              "      <th>Cost</th>\n",
              "      <th>TransID</th>\n",
              "    </tr>\n",
              "  </thead>\n",
              "  <tbody>\n",
              "    <tr>\n",
              "      <th>0</th>\n",
              "      <td>149332</td>\n",
              "      <td>15.11.2005</td>\n",
              "      <td>1</td>\n",
              "      <td>199.95</td>\n",
              "      <td>107.0</td>\n",
              "      <td>127998739</td>\n",
              "    </tr>\n",
              "    <tr>\n",
              "      <th>1</th>\n",
              "      <td>172951</td>\n",
              "      <td>29.08.2008</td>\n",
              "      <td>1</td>\n",
              "      <td>199.95</td>\n",
              "      <td>108.0</td>\n",
              "      <td>128888288</td>\n",
              "    </tr>\n",
              "    <tr>\n",
              "      <th>2</th>\n",
              "      <td>120621</td>\n",
              "      <td>19.10.2007</td>\n",
              "      <td>1</td>\n",
              "      <td>99.95</td>\n",
              "      <td>49.0</td>\n",
              "      <td>125375247</td>\n",
              "    </tr>\n",
              "  </tbody>\n",
              "</table>\n",
              "</div>"
            ],
            "text/plain": [
              "   Customer   TransDate  Quantity  PurchAmount   Cost    TransID\n",
              "0    149332  15.11.2005         1       199.95  107.0  127998739\n",
              "1    172951  29.08.2008         1       199.95  108.0  128888288\n",
              "2    120621  19.10.2007         1        99.95   49.0  125375247"
            ]
          },
          "metadata": {},
          "execution_count": 92
        }
      ]
    },
    {
      "cell_type": "code",
      "metadata": {
        "id": "f2RN-Ha7UqPz",
        "colab": {
          "base_uri": "https://localhost:8080/"
        },
        "outputId": "ff2e7af8-a586-41e3-f04a-b6edb74eca1d"
      },
      "source": [
        "# Get basic info on the dataset\n",
        "myData.info()"
      ],
      "execution_count": 93,
      "outputs": [
        {
          "output_type": "stream",
          "name": "stdout",
          "text": [
            "<class 'pandas.core.frame.DataFrame'>\n",
            "RangeIndex: 223191 entries, 0 to 223190\n",
            "Data columns (total 6 columns):\n",
            " #   Column       Non-Null Count   Dtype  \n",
            "---  ------       --------------   -----  \n",
            " 0   Customer     223191 non-null  int64  \n",
            " 1   TransDate    223191 non-null  object \n",
            " 2   Quantity     223191 non-null  int64  \n",
            " 3   PurchAmount  223191 non-null  float64\n",
            " 4   Cost         223191 non-null  float64\n",
            " 5   TransID      223191 non-null  int64  \n",
            "dtypes: float64(2), int64(3), object(1)\n",
            "memory usage: 10.2+ MB\n"
          ]
        }
      ]
    },
    {
      "cell_type": "code",
      "metadata": {
        "id": "No3JvI4LWeL3"
      },
      "source": [
        "# Adjust the format of column \"TransDate\" to datetime.\n",
        "myData[\"TransDate\"]  = pd.to_datetime(myData[\"TransDate\"], dayfirst=True)\n",
        "\n",
        "# Alternative conversion: Convert date from string to date times\n",
        "# import dateutil\n",
        "# myData[\"TransDate\"] = myData[\"TransDate\"].apply(dateutil.parser.parse, dayfirst=True)\n",
        "\n",
        "myData.info()"
      ],
      "execution_count": null,
      "outputs": []
    },
    {
      "cell_type": "code",
      "metadata": {
        "id": "dEoAgQSnT85I"
      },
      "source": [
        "myData[\"TransDate\"].head()"
      ],
      "execution_count": null,
      "outputs": []
    },
    {
      "cell_type": "code",
      "metadata": {
        "id": "IYSonPn7bWIN"
      },
      "source": [
        "pd.options.display.max_rows = 10 # from this row on, show 10 rows for Pandas Data Frames"
      ],
      "execution_count": null,
      "outputs": []
    },
    {
      "cell_type": "markdown",
      "metadata": {
        "id": "oyj10nBqW9cj"
      },
      "source": [
        "### 1. Simple Aggregations\n",
        "\n",
        "#### 1.0 Apply an aggregating function to an entire series\n",
        "###### Sum all `PurchAmount` across all observations."
      ]
    },
    {
      "cell_type": "code",
      "metadata": {
        "id": "OmiqmZr9cYtk"
      },
      "source": [
        "total = myData[\"PurchAmount\"].sum()\n",
        "print(f\"{total:,.3f}\")"
      ],
      "execution_count": null,
      "outputs": []
    },
    {
      "cell_type": "markdown",
      "metadata": {
        "id": "J_CNVu3rIEty"
      },
      "source": [
        "#### 1.1 Apply an aggregating function to a variable by an aggregating dimension \n",
        "\n",
        "Typical problem: the dataset includes several rows (transactions) for each customer. But we would like to sum up certain variable(s) by customer (one row per customer).\n",
        "\n",
        "###### Sum up the `PurchAmount` by `Customer` for every different customer"
      ]
    },
    {
      "cell_type": "code",
      "metadata": {
        "id": "yyIuvc48XHR-"
      },
      "source": [
        "myData.groupby(\"Customer\", as_index=False)[\"PurchAmount\"].sum()"
      ],
      "execution_count": null,
      "outputs": []
    },
    {
      "cell_type": "code",
      "metadata": {
        "id": "DdLb9jXhXSWW"
      },
      "source": [
        "# alternative option: using agg and then renaming the aggregation column to AggPurch\n",
        "myData.groupby(\"Customer\")[\"PurchAmount\"].agg({\"sum\"}).rename(columns={\"sum\":\"AggPurch\"}).reset_index()"
      ],
      "execution_count": null,
      "outputs": []
    },
    {
      "cell_type": "markdown",
      "metadata": {
        "id": "EHoolBSDbsRj"
      },
      "source": [
        "#### 1.2 Apply multiple aggregation functions to a variable by an aggregating dimension\n",
        "###### Sum and select max of `PurchAmount` by `Customer`"
      ]
    },
    {
      "cell_type": "code",
      "metadata": {
        "id": "NbjtSqOMcVJb"
      },
      "source": [
        "myData.groupby(\"Customer\", as_index=False)[\"PurchAmount\"].agg({\"AggPurch\": \"sum\", \"Purch_max\": \"max\"})"
      ],
      "execution_count": null,
      "outputs": []
    },
    {
      "cell_type": "markdown",
      "metadata": {
        "id": "q4eed2OgcfD6"
      },
      "source": [
        "#### 1.3 Create new columns in your existing data frame with the `transform()`-function\n",
        "Here we add a new column `AggPurch` which holds for every customer the total of her purchases."
      ]
    },
    {
      "cell_type": "code",
      "metadata": {
        "id": "iCnpe1OpcseK"
      },
      "source": [
        "myData[\"AggPurch\"] = myData.groupby(\"Customer\")[\"PurchAmount\"].transform(sum)\n",
        "myData.head()"
      ],
      "execution_count": null,
      "outputs": []
    },
    {
      "cell_type": "markdown",
      "metadata": {
        "id": "9KRDaX-Tcs1P"
      },
      "source": [
        "#### 1.4 Apply a/ multiple aggregating function(s) to multiple variables by an aggregating dimension\n",
        "###### Apply various aggregation functions to `PurchAmount` and `Quantity` grouped by `Customer`"
      ]
    },
    {
      "cell_type": "code",
      "metadata": {
        "id": "dJnXZ0hEeaur"
      },
      "source": [
        "myData.groupby(\"Customer\", as_index=False).agg({\"PurchAmount\":[\"max\",\"sum\"], \"Quantity\":\"sum\"})"
      ],
      "execution_count": null,
      "outputs": []
    },
    {
      "cell_type": "markdown",
      "metadata": {
        "id": "7s8-FFbZfvP1"
      },
      "source": [
        "#### 1.5 Apply an aggregating function to multiple variables by multiple aggregating dimensions\n",
        "###### Sum `PurchAmount` and sum `Quantity` aggregated by `Customer` and `TransDate`"
      ]
    },
    {
      "cell_type": "code",
      "metadata": {
        "id": "VYDNXRDNetKN"
      },
      "source": [
        "myData.groupby([\"Customer\",\"TransDate\"])[[\"PurchAmount\",\"Quantity\"]].sum()"
      ],
      "execution_count": null,
      "outputs": []
    },
    {
      "cell_type": "markdown",
      "metadata": {
        "id": "gAdU5Sg2g4mj"
      },
      "source": [
        "#### 1.6 Apply an aggregating function to a variable by an aggregating dimension to a selection of rows\n",
        "###### Select rows 2 to 5 and sum `PurchAmount` by `Customer`"
      ]
    },
    {
      "cell_type": "code",
      "metadata": {
        "id": "riNhyLHGgbly"
      },
      "source": [
        "myData.iloc[1:6].groupby(\"Customer\", as_index=False)[\"PurchAmount\"].sum()"
      ],
      "execution_count": null,
      "outputs": []
    },
    {
      "cell_type": "markdown",
      "metadata": {
        "id": "LZGPMZTOhh5t"
      },
      "source": [
        "#### 1.7 Exercises\n",
        "###### 1. Sum `PurchAmount` by `Customer` and `TransDate` (hint: group by both `Customer` and `TransDate`).\n",
        "###### 2. Count the number of transactions by `Customer` (hint: use the `count()` function)"
      ]
    },
    {
      "cell_type": "code",
      "metadata": {
        "id": "lhLd_ihtiIsk"
      },
      "source": [
        "# 1. [your code here]\n",
        "myData.groupby([\"Customer\", \"TransDate\"])[\"PurchAmount\"].sum().reset_index()"
      ],
      "execution_count": null,
      "outputs": []
    },
    {
      "cell_type": "code",
      "metadata": {
        "id": "r0Nizi5ag8v-"
      },
      "source": [
        "# 2. [your code here]\n",
        "myData.groupby(\"Customer\", as_index=False)[\"TransID\"].count()"
      ],
      "execution_count": null,
      "outputs": []
    },
    {
      "cell_type": "markdown",
      "metadata": {
        "id": "jSAyP589hhsN"
      },
      "source": [
        "### 2. Advanced aggregation topics and chaining\n",
        "#### 2.1 Aggregate a variable by a transformed aggregating dimension\n",
        "###### Sum `PurchAmount` by month of each year"
      ]
    },
    {
      "cell_type": "code",
      "metadata": {
        "id": "txjLD8RahjyA"
      },
      "source": [
        "myData.groupby(myData[\"TransDate\"].dt.to_period(\"M\"))[[\"PurchAmount\"]].sum()"
      ],
      "execution_count": null,
      "outputs": []
    },
    {
      "cell_type": "markdown",
      "metadata": {
        "id": "ZShkH9Ahjf0w"
      },
      "source": [
        "#### Sidenote: Chaining saves memory and is faster\n",
        "Sum `PurchAmount` by `Customer` and select Customers with aggregated sums greater than 100."
      ]
    },
    {
      "cell_type": "code",
      "metadata": {
        "id": "tnc0CAs3jVLs"
      },
      "source": [
        "myData.groupby(\"Customer\")[[\"PurchAmount\"]].sum()[lambda x: x >= 100].dropna(axis=0)"
      ],
      "execution_count": null,
      "outputs": []
    },
    {
      "cell_type": "code",
      "metadata": {
        "id": "96ZSdLpDkB0t"
      },
      "source": [
        "# alternative\n",
        "myData2 = myData.groupby(\"Customer\", as_index=False)[\"PurchAmount\"].agg({\"AggPurch\": \"sum\"})\n",
        "myData2.loc[myData2[\"AggPurch\"]>=100]"
      ],
      "execution_count": null,
      "outputs": []
    },
    {
      "cell_type": "markdown",
      "metadata": {
        "id": "RKByhV-WkULe"
      },
      "source": [
        "#### 2.2 Exercises\n",
        "###### 1. Aggregate the purchase amount (sum) of all transactions per customer on a yearly basis for year 2007 and 2008.\n",
        "###### 2. How many customers purchased more than 50$ in total between 2008 and 2009?"
      ]
    },
    {
      "cell_type": "code",
      "metadata": {
        "id": "_L794q3CkO5b"
      },
      "source": [
        "# Question 1.\n",
        "# Part1 use the loc function and select the year 2007 OR 2008 using: dt.year=200X to select years \n",
        "# use the | to select 2007 or 2008\n",
        "# part2: groupby([myData[\"TransDate\"].dt.year, \"Customer\"])\n",
        "# part 3: take the sum() on the PurchAmount\n",
        "#.groupby(['Customer'])[\"PurchAmount\"].sum()"
      ],
      "execution_count": null,
      "outputs": []
    },
    {
      "cell_type": "code",
      "metadata": {
        "id": "XM80mTc7kpLQ"
      },
      "source": [
        "myData[\"TransDate\"].dt.year==2007"
      ],
      "execution_count": null,
      "outputs": []
    },
    {
      "cell_type": "code",
      "metadata": {
        "id": "ShQtqpfZkmk5"
      },
      "source": [
        "# Question 2. How many customers purchased for more than 50$ in total between 2008 and 2009\n",
        "\n",
        "# part 1: select rows with year 2008 or 2009 using the loc function\n",
        "\n",
        "# part 2: groupby(\"Customer\")\n",
        "\n",
        "# part 3: take the sum() on the PurchAmount\n",
        "\n",
        "# take the count() on those aggregations that have sum more than 50$, hint [lambda x:x >50]\n"
      ],
      "execution_count": null,
      "outputs": []
    },
    {
      "cell_type": "markdown",
      "metadata": {
        "id": "TmhCVOy8lAOU"
      },
      "source": [
        "### 3. Selecting using an aggregating dimension\n",
        "#### 3.1 Select the first 2 purchases of each customer"
      ]
    },
    {
      "cell_type": "code",
      "metadata": {
        "id": "Tc0p5TztliJt"
      },
      "source": [
        "# sort by ascending order of \"Customer\"\n",
        "myData.groupby(\"Customer\").head(2).sort_values(\"Customer\")"
      ],
      "execution_count": null,
      "outputs": []
    },
    {
      "cell_type": "markdown",
      "metadata": {
        "id": "pdSOw2pfvgJL"
      },
      "source": [
        "> Note: use `tail(1)` instead of `head(3)` to select the last purchase of each customer."
      ]
    },
    {
      "cell_type": "markdown",
      "metadata": {
        "id": "AB0bL-uIu16Q"
      },
      "source": [
        "#### 3.2 Adding new columns using an aggregating dimension\n",
        "###### Add a column counting the total quantities purchased by each customer using `pd.transform()`"
      ]
    },
    {
      "cell_type": "code",
      "metadata": {
        "id": "cjRv_C9tmfsg"
      },
      "source": [
        "# save the total number of occurences per customer in the count column\n",
        "myData[\"Count\"] = myData.groupby(\"Customer\")[\"Customer\"].transform(\"size\")\n",
        "myData\n",
        "\n",
        "#myData.groupby(\"Customer\")[\"Customer\"].transform(\"count\")"
      ],
      "execution_count": null,
      "outputs": []
    },
    {
      "cell_type": "markdown",
      "metadata": {
        "id": "ysZehZ0mwirW"
      },
      "source": [
        "###### Add a column counting the cumulative transactions per customer to date"
      ]
    },
    {
      "cell_type": "code",
      "metadata": {
        "id": "AnsamcAQkqe3"
      },
      "source": [
        "# counts the cumulative number of transactions per customer\n",
        "myData[\"RelDate\"] = myData.sort_values('TransDate').groupby(\"Customer\").cumcount() + 1\n",
        "myData.sort_values(['Customer', 'TransDate'])"
      ],
      "execution_count": null,
      "outputs": []
    },
    {
      "cell_type": "markdown",
      "metadata": {
        "id": "1ct1hwyEwtk-"
      },
      "source": [
        "#### 3.3 Exercises\n",
        "###### 1. Add a column to myData with the total number of purchases per customer   \n",
        "> Hint: Use the `transform()` function."
      ]
    },
    {
      "cell_type": "code",
      "metadata": {
        "id": "ExI8K573wAoq"
      },
      "source": [
        "# your solution\n",
        "myData[\"CountPurch\"]= myData.groupby(\"Customer\")[\"Quantity\"].transform(\"sum\")\n",
        "myData.sample(5)"
      ],
      "execution_count": null,
      "outputs": []
    },
    {
      "cell_type": "markdown",
      "metadata": {
        "id": "5V5X_5yuAbT9"
      },
      "source": [
        "### Quick intro to Pivot Tables\n",
        "\n",
        "You can use `pd.pivot_table()` to obtain the same simple aggregation of purchased amount by customer."
      ]
    },
    {
      "cell_type": "code",
      "metadata": {
        "id": "em6GzrRUAHFT"
      },
      "source": [
        "myData.head()"
      ],
      "execution_count": null,
      "outputs": []
    },
    {
      "cell_type": "code",
      "metadata": {
        "id": "vHkoZv0tAn2r"
      },
      "source": [
        "myData.pivot_table(index='Customer', values='PurchAmount', aggfunc='sum')"
      ],
      "execution_count": null,
      "outputs": []
    },
    {
      "cell_type": "markdown",
      "metadata": {
        "id": "Wbda51eQCOkk"
      },
      "source": [
        "But you can also organise your aggregations differently using the `columns` parameter of `pd.pivot_table()`."
      ]
    },
    {
      "cell_type": "code",
      "metadata": {
        "id": "rZpoLW32Cf5B"
      },
      "source": [
        "myData.pivot_table(index='Customer', columns=myData.TransDate.dt.year, values='Quantity', aggfunc={'sum'})"
      ],
      "execution_count": null,
      "outputs": []
    }
  ]
}