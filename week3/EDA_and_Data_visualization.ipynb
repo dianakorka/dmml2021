{
  "nbformat": 4,
  "nbformat_minor": 0,
  "metadata": {
    "kernel_info": {
      "name": "python3"
    },
    "kernelspec": {
      "name": "python3",
      "language": "python",
      "display_name": "Python 3"
    },
    "language_info": {
      "name": "python",
      "version": "3.7.3",
      "mimetype": "text/x-python",
      "codemirror_mode": {
        "name": "ipython",
        "version": 3
      },
      "pygments_lexer": "ipython3",
      "nbconvert_exporter": "python",
      "file_extension": ".py"
    },
    "nteract": {
      "version": "0.15.0"
    },
    "colab": {
      "name": "EDA and Data visualization.ipynb",
      "provenance": [],
      "include_colab_link": true
    }
  },
  "cells": [
    {
      "cell_type": "markdown",
      "metadata": {
        "id": "view-in-github",
        "colab_type": "text"
      },
      "source": [
        "<a href=\"https://colab.research.google.com/github/dianakorka/dmml2021/blob/main/week3/EDA_and_Data_visualization.ipynb\" target=\"_parent\"><img src=\"https://colab.research.google.com/assets/colab-badge.svg\" alt=\"Open In Colab\"/></a>"
      ]
    },
    {
      "cell_type": "markdown",
      "metadata": {
        "id": "uiZk0zaywk60"
      },
      "source": [
        "# Data Mining and Machine Learning - Week 3\n",
        "# EDA and Data visualization\n",
        "\n",
        "This notebooks introduces to Exploratory Data Analysis and visualization, mainly using the pandas library.\n",
        "\n",
        "### Table of Contents\n",
        "#### 1. Basic Example: Creating a DataFrame from Scratch\n",
        "#### 2. Restaurant inspection results in NYC\n",
        "* 2.1 Reading a CSV file\n",
        "* 2.2 Descriptive statistics\n",
        "* 2.3 Descriptive Statistics for Numeric Variables\n",
        "* 2.4 Converting Dates\n",
        "* 2.5 Categorical Variables\n",
        "* 2.6 Analyzing the content of the columns\n",
        "* 2.7 Selecting a subset of the columns\n",
        "* 2.8 Selecting rows\n",
        "* 2.9 Pivot Tables\n",
        "* 2.10 (Optional, FYI) Advanced Pivot Tables\n",
        "* 2.11 Exercises\n",
        "\n",
        "#### 3. NYPD Vehicle Collisions\n",
        "* 3.1 Introduction to the dataset\n",
        "* 3.2 Plots, graphs and pivot tables\n",
        "* 3.3 2d histograms, density plots, and contour plots\n",
        "* 3.4 Combining plots\n",
        "* 3.5 Bonus plots"
      ]
    },
    {
      "cell_type": "markdown",
      "metadata": {
        "id": "Tt2TiGTLwk62"
      },
      "source": [
        "## Setup and preliminaries"
      ]
    },
    {
      "cell_type": "code",
      "metadata": {
        "id": "UO9Q_uZBwk63"
      },
      "source": [
        "# Render our plots inline\n",
        "%matplotlib inline\n",
        "# %config InlineBackend.figure_format = 'retina'"
      ],
      "execution_count": 1,
      "outputs": []
    },
    {
      "cell_type": "code",
      "metadata": {
        "id": "vk4xTsmUwk69"
      },
      "source": [
        "# Import requiered packages\n",
        "import pandas as pd\n",
        "import numpy as np\n",
        "import matplotlib\n",
        "import matplotlib.pyplot as plt\n",
        "import seaborn as sns"
      ],
      "execution_count": 2,
      "outputs": []
    },
    {
      "cell_type": "markdown",
      "metadata": {
        "id": "SyOUJNyGwk7B"
      },
      "source": [
        "We type some code to simply change the visual style of the plots. (The code below is optional and not necessary, and for now you do not need to understand what exactly is happening.)"
      ]
    },
    {
      "cell_type": "code",
      "metadata": {
        "id": "aPCtvOSNwk7B"
      },
      "source": [
        "# Modifying the style of the graphs\n",
        "matplotlib.style.use(['seaborn-talk', 'seaborn-ticks', 'seaborn-whitegrid'])"
      ],
      "execution_count": null,
      "outputs": []
    },
    {
      "cell_type": "markdown",
      "metadata": {
        "id": "3RpjEshUwk7E"
      },
      "source": [
        "## 1. Basic Example: Creating a DataFrame from Scratch\n",
        "\n",
        "This is an example of creating a dataframe by passing a list of dictionaries."
      ]
    },
    {
      "cell_type": "code",
      "metadata": {
        "id": "qPHBt6p2wk7F",
        "outputId": "0145cf84-fe92-4859-d342-4fa110da32bb",
        "colab": {
          "base_uri": "https://localhost:8080/",
          "height": 142
        }
      },
      "source": [
        "df = pd.DataFrame([\n",
        "    {\"First Name\": \"Michalis\", \"Last Name\":\" Vlachos\"},\n",
        "    {\"First Name\": \"John\", \"Last Name\":\" Doe\"},\n",
        "    {\"Last Name\":\"Trump\"}\n",
        "])\n",
        "df"
      ],
      "execution_count": 3,
      "outputs": [
        {
          "output_type": "execute_result",
          "data": {
            "text/plain": [
              "  First Name Last Name\n",
              "0   Michalis   Vlachos\n",
              "1       John       Doe\n",
              "2        NaN     Trump"
            ],
            "text/html": [
              "\n",
              "  <div id=\"df-15906d92-bfeb-44be-b59f-fb77d85926ec\" class=\"colab-df-container\">\n",
              "    <div>\n",
              "<style scoped>\n",
              "    .dataframe tbody tr th:only-of-type {\n",
              "        vertical-align: middle;\n",
              "    }\n",
              "\n",
              "    .dataframe tbody tr th {\n",
              "        vertical-align: top;\n",
              "    }\n",
              "\n",
              "    .dataframe thead th {\n",
              "        text-align: right;\n",
              "    }\n",
              "</style>\n",
              "<table border=\"1\" class=\"dataframe\">\n",
              "  <thead>\n",
              "    <tr style=\"text-align: right;\">\n",
              "      <th></th>\n",
              "      <th>First Name</th>\n",
              "      <th>Last Name</th>\n",
              "    </tr>\n",
              "  </thead>\n",
              "  <tbody>\n",
              "    <tr>\n",
              "      <th>0</th>\n",
              "      <td>Michalis</td>\n",
              "      <td>Vlachos</td>\n",
              "    </tr>\n",
              "    <tr>\n",
              "      <th>1</th>\n",
              "      <td>John</td>\n",
              "      <td>Doe</td>\n",
              "    </tr>\n",
              "    <tr>\n",
              "      <th>2</th>\n",
              "      <td>NaN</td>\n",
              "      <td>Trump</td>\n",
              "    </tr>\n",
              "  </tbody>\n",
              "</table>\n",
              "</div>\n",
              "    <div class=\"colab-df-buttons\">\n",
              "\n",
              "  <div class=\"colab-df-container\">\n",
              "    <button class=\"colab-df-convert\" onclick=\"convertToInteractive('df-15906d92-bfeb-44be-b59f-fb77d85926ec')\"\n",
              "            title=\"Convert this dataframe to an interactive table.\"\n",
              "            style=\"display:none;\">\n",
              "\n",
              "  <svg xmlns=\"http://www.w3.org/2000/svg\" height=\"24px\" viewBox=\"0 -960 960 960\">\n",
              "    <path d=\"M120-120v-720h720v720H120Zm60-500h600v-160H180v160Zm220 220h160v-160H400v160Zm0 220h160v-160H400v160ZM180-400h160v-160H180v160Zm440 0h160v-160H620v160ZM180-180h160v-160H180v160Zm440 0h160v-160H620v160Z\"/>\n",
              "  </svg>\n",
              "    </button>\n",
              "\n",
              "  <style>\n",
              "    .colab-df-container {\n",
              "      display:flex;\n",
              "      gap: 12px;\n",
              "    }\n",
              "\n",
              "    .colab-df-convert {\n",
              "      background-color: #E8F0FE;\n",
              "      border: none;\n",
              "      border-radius: 50%;\n",
              "      cursor: pointer;\n",
              "      display: none;\n",
              "      fill: #1967D2;\n",
              "      height: 32px;\n",
              "      padding: 0 0 0 0;\n",
              "      width: 32px;\n",
              "    }\n",
              "\n",
              "    .colab-df-convert:hover {\n",
              "      background-color: #E2EBFA;\n",
              "      box-shadow: 0px 1px 2px rgba(60, 64, 67, 0.3), 0px 1px 3px 1px rgba(60, 64, 67, 0.15);\n",
              "      fill: #174EA6;\n",
              "    }\n",
              "\n",
              "    .colab-df-buttons div {\n",
              "      margin-bottom: 4px;\n",
              "    }\n",
              "\n",
              "    [theme=dark] .colab-df-convert {\n",
              "      background-color: #3B4455;\n",
              "      fill: #D2E3FC;\n",
              "    }\n",
              "\n",
              "    [theme=dark] .colab-df-convert:hover {\n",
              "      background-color: #434B5C;\n",
              "      box-shadow: 0px 1px 3px 1px rgba(0, 0, 0, 0.15);\n",
              "      filter: drop-shadow(0px 1px 2px rgba(0, 0, 0, 0.3));\n",
              "      fill: #FFFFFF;\n",
              "    }\n",
              "  </style>\n",
              "\n",
              "    <script>\n",
              "      const buttonEl =\n",
              "        document.querySelector('#df-15906d92-bfeb-44be-b59f-fb77d85926ec button.colab-df-convert');\n",
              "      buttonEl.style.display =\n",
              "        google.colab.kernel.accessAllowed ? 'block' : 'none';\n",
              "\n",
              "      async function convertToInteractive(key) {\n",
              "        const element = document.querySelector('#df-15906d92-bfeb-44be-b59f-fb77d85926ec');\n",
              "        const dataTable =\n",
              "          await google.colab.kernel.invokeFunction('convertToInteractive',\n",
              "                                                    [key], {});\n",
              "        if (!dataTable) return;\n",
              "\n",
              "        const docLinkHtml = 'Like what you see? Visit the ' +\n",
              "          '<a target=\"_blank\" href=https://colab.research.google.com/notebooks/data_table.ipynb>data table notebook</a>'\n",
              "          + ' to learn more about interactive tables.';\n",
              "        element.innerHTML = '';\n",
              "        dataTable['output_type'] = 'display_data';\n",
              "        await google.colab.output.renderOutput(dataTable, element);\n",
              "        const docLink = document.createElement('div');\n",
              "        docLink.innerHTML = docLinkHtml;\n",
              "        element.appendChild(docLink);\n",
              "      }\n",
              "    </script>\n",
              "  </div>\n",
              "\n",
              "\n",
              "<div id=\"df-5b99b3a7-f278-4f06-9a00-a8106476a853\">\n",
              "  <button class=\"colab-df-quickchart\" onclick=\"quickchart('df-5b99b3a7-f278-4f06-9a00-a8106476a853')\"\n",
              "            title=\"Suggest charts\"\n",
              "            style=\"display:none;\">\n",
              "\n",
              "<svg xmlns=\"http://www.w3.org/2000/svg\" height=\"24px\"viewBox=\"0 0 24 24\"\n",
              "     width=\"24px\">\n",
              "    <g>\n",
              "        <path d=\"M19 3H5c-1.1 0-2 .9-2 2v14c0 1.1.9 2 2 2h14c1.1 0 2-.9 2-2V5c0-1.1-.9-2-2-2zM9 17H7v-7h2v7zm4 0h-2V7h2v10zm4 0h-2v-4h2v4z\"/>\n",
              "    </g>\n",
              "</svg>\n",
              "  </button>\n",
              "\n",
              "<style>\n",
              "  .colab-df-quickchart {\n",
              "      --bg-color: #E8F0FE;\n",
              "      --fill-color: #1967D2;\n",
              "      --hover-bg-color: #E2EBFA;\n",
              "      --hover-fill-color: #174EA6;\n",
              "      --disabled-fill-color: #AAA;\n",
              "      --disabled-bg-color: #DDD;\n",
              "  }\n",
              "\n",
              "  [theme=dark] .colab-df-quickchart {\n",
              "      --bg-color: #3B4455;\n",
              "      --fill-color: #D2E3FC;\n",
              "      --hover-bg-color: #434B5C;\n",
              "      --hover-fill-color: #FFFFFF;\n",
              "      --disabled-bg-color: #3B4455;\n",
              "      --disabled-fill-color: #666;\n",
              "  }\n",
              "\n",
              "  .colab-df-quickchart {\n",
              "    background-color: var(--bg-color);\n",
              "    border: none;\n",
              "    border-radius: 50%;\n",
              "    cursor: pointer;\n",
              "    display: none;\n",
              "    fill: var(--fill-color);\n",
              "    height: 32px;\n",
              "    padding: 0;\n",
              "    width: 32px;\n",
              "  }\n",
              "\n",
              "  .colab-df-quickchart:hover {\n",
              "    background-color: var(--hover-bg-color);\n",
              "    box-shadow: 0 1px 2px rgba(60, 64, 67, 0.3), 0 1px 3px 1px rgba(60, 64, 67, 0.15);\n",
              "    fill: var(--button-hover-fill-color);\n",
              "  }\n",
              "\n",
              "  .colab-df-quickchart-complete:disabled,\n",
              "  .colab-df-quickchart-complete:disabled:hover {\n",
              "    background-color: var(--disabled-bg-color);\n",
              "    fill: var(--disabled-fill-color);\n",
              "    box-shadow: none;\n",
              "  }\n",
              "\n",
              "  .colab-df-spinner {\n",
              "    border: 2px solid var(--fill-color);\n",
              "    border-color: transparent;\n",
              "    border-bottom-color: var(--fill-color);\n",
              "    animation:\n",
              "      spin 1s steps(1) infinite;\n",
              "  }\n",
              "\n",
              "  @keyframes spin {\n",
              "    0% {\n",
              "      border-color: transparent;\n",
              "      border-bottom-color: var(--fill-color);\n",
              "      border-left-color: var(--fill-color);\n",
              "    }\n",
              "    20% {\n",
              "      border-color: transparent;\n",
              "      border-left-color: var(--fill-color);\n",
              "      border-top-color: var(--fill-color);\n",
              "    }\n",
              "    30% {\n",
              "      border-color: transparent;\n",
              "      border-left-color: var(--fill-color);\n",
              "      border-top-color: var(--fill-color);\n",
              "      border-right-color: var(--fill-color);\n",
              "    }\n",
              "    40% {\n",
              "      border-color: transparent;\n",
              "      border-right-color: var(--fill-color);\n",
              "      border-top-color: var(--fill-color);\n",
              "    }\n",
              "    60% {\n",
              "      border-color: transparent;\n",
              "      border-right-color: var(--fill-color);\n",
              "    }\n",
              "    80% {\n",
              "      border-color: transparent;\n",
              "      border-right-color: var(--fill-color);\n",
              "      border-bottom-color: var(--fill-color);\n",
              "    }\n",
              "    90% {\n",
              "      border-color: transparent;\n",
              "      border-bottom-color: var(--fill-color);\n",
              "    }\n",
              "  }\n",
              "</style>\n",
              "\n",
              "  <script>\n",
              "    async function quickchart(key) {\n",
              "      const quickchartButtonEl =\n",
              "        document.querySelector('#' + key + ' button');\n",
              "      quickchartButtonEl.disabled = true;  // To prevent multiple clicks.\n",
              "      quickchartButtonEl.classList.add('colab-df-spinner');\n",
              "      try {\n",
              "        const charts = await google.colab.kernel.invokeFunction(\n",
              "            'suggestCharts', [key], {});\n",
              "      } catch (error) {\n",
              "        console.error('Error during call to suggestCharts:', error);\n",
              "      }\n",
              "      quickchartButtonEl.classList.remove('colab-df-spinner');\n",
              "      quickchartButtonEl.classList.add('colab-df-quickchart-complete');\n",
              "    }\n",
              "    (() => {\n",
              "      let quickchartButtonEl =\n",
              "        document.querySelector('#df-5b99b3a7-f278-4f06-9a00-a8106476a853 button');\n",
              "      quickchartButtonEl.style.display =\n",
              "        google.colab.kernel.accessAllowed ? 'block' : 'none';\n",
              "    })();\n",
              "  </script>\n",
              "</div>\n",
              "\n",
              "  <div id=\"id_50c02ef3-062f-433d-9bf5-eff3ce9ac051\">\n",
              "    <style>\n",
              "      .colab-df-generate {\n",
              "        background-color: #E8F0FE;\n",
              "        border: none;\n",
              "        border-radius: 50%;\n",
              "        cursor: pointer;\n",
              "        display: none;\n",
              "        fill: #1967D2;\n",
              "        height: 32px;\n",
              "        padding: 0 0 0 0;\n",
              "        width: 32px;\n",
              "      }\n",
              "\n",
              "      .colab-df-generate:hover {\n",
              "        background-color: #E2EBFA;\n",
              "        box-shadow: 0px 1px 2px rgba(60, 64, 67, 0.3), 0px 1px 3px 1px rgba(60, 64, 67, 0.15);\n",
              "        fill: #174EA6;\n",
              "      }\n",
              "\n",
              "      [theme=dark] .colab-df-generate {\n",
              "        background-color: #3B4455;\n",
              "        fill: #D2E3FC;\n",
              "      }\n",
              "\n",
              "      [theme=dark] .colab-df-generate:hover {\n",
              "        background-color: #434B5C;\n",
              "        box-shadow: 0px 1px 3px 1px rgba(0, 0, 0, 0.15);\n",
              "        filter: drop-shadow(0px 1px 2px rgba(0, 0, 0, 0.3));\n",
              "        fill: #FFFFFF;\n",
              "      }\n",
              "    </style>\n",
              "    <button class=\"colab-df-generate\" onclick=\"generateWithVariable('df')\"\n",
              "            title=\"Generate code using this dataframe.\"\n",
              "            style=\"display:none;\">\n",
              "\n",
              "  <svg xmlns=\"http://www.w3.org/2000/svg\" height=\"24px\"viewBox=\"0 0 24 24\"\n",
              "       width=\"24px\">\n",
              "    <path d=\"M7,19H8.4L18.45,9,17,7.55,7,17.6ZM5,21V16.75L18.45,3.32a2,2,0,0,1,2.83,0l1.4,1.43a1.91,1.91,0,0,1,.58,1.4,1.91,1.91,0,0,1-.58,1.4L9.25,21ZM18.45,9,17,7.55Zm-12,3A5.31,5.31,0,0,0,4.9,8.1,5.31,5.31,0,0,0,1,6.5,5.31,5.31,0,0,0,4.9,4.9,5.31,5.31,0,0,0,6.5,1,5.31,5.31,0,0,0,8.1,4.9,5.31,5.31,0,0,0,12,6.5,5.46,5.46,0,0,0,6.5,12Z\"/>\n",
              "  </svg>\n",
              "    </button>\n",
              "    <script>\n",
              "      (() => {\n",
              "      const buttonEl =\n",
              "        document.querySelector('#id_50c02ef3-062f-433d-9bf5-eff3ce9ac051 button.colab-df-generate');\n",
              "      buttonEl.style.display =\n",
              "        google.colab.kernel.accessAllowed ? 'block' : 'none';\n",
              "\n",
              "      buttonEl.onclick = () => {\n",
              "        google.colab.notebook.generateWithVariable('df');\n",
              "      }\n",
              "      })();\n",
              "    </script>\n",
              "  </div>\n",
              "\n",
              "    </div>\n",
              "  </div>\n"
            ],
            "application/vnd.google.colaboratory.intrinsic+json": {
              "type": "dataframe",
              "variable_name": "df",
              "summary": "{\n  \"name\": \"df\",\n  \"rows\": 3,\n  \"fields\": [\n    {\n      \"column\": \"First Name\",\n      \"properties\": {\n        \"dtype\": \"string\",\n        \"num_unique_values\": 2,\n        \"samples\": [\n          \"John\",\n          \"Michalis\"\n        ],\n        \"semantic_type\": \"\",\n        \"description\": \"\"\n      }\n    },\n    {\n      \"column\": \"Last Name\",\n      \"properties\": {\n        \"dtype\": \"string\",\n        \"num_unique_values\": 3,\n        \"samples\": [\n          \" Vlachos\",\n          \" Doe\"\n        ],\n        \"semantic_type\": \"\",\n        \"description\": \"\"\n      }\n    }\n  ]\n}"
            }
          },
          "metadata": {},
          "execution_count": 3
        }
      ]
    },
    {
      "cell_type": "markdown",
      "metadata": {
        "id": "ySsfQQRcwk7M"
      },
      "source": [
        "## 2. Restaurant inspection results in NYC"
      ]
    },
    {
      "cell_type": "markdown",
      "metadata": {
        "id": "S72XqgQ4wk7O"
      },
      "source": [
        "### 2.1 Reading a CSV file\n",
        "We can directly load a csv file from a url address with pandas read_csv function."
      ]
    },
    {
      "cell_type": "code",
      "metadata": {
        "id": "my8IXs96wk7O",
        "outputId": "a77e661d-9f06-4ed2-a048-aed049eabe63",
        "colab": {
          "base_uri": "https://localhost:8080/",
          "height": 423
        }
      },
      "source": [
        "url = 'https://data.cityofnewyork.us/api/views/43nn-pn8j/rows.csv?accessType=DOWNLOAD'\n",
        "restaurants = pd.read_csv(url,\n",
        "                          encoding='utf_8',\n",
        "                          dtype = 'unicode',\n",
        "                          parse_dates = True,\n",
        "                          #infer_datetime_format = True, deprecated use pd.to_datetime instead\n",
        "                          low_memory=False)\n",
        "\n",
        "# Let's take a look at the first 5 rows of the dataframe\n",
        "restaurants.head(5)"
      ],
      "execution_count": 5,
      "outputs": [
        {
          "output_type": "execute_result",
          "data": {
            "text/plain": [
              "      CAMIS                             DBA       BORO BUILDING  \\\n",
              "0  50088330           Seafood From The Soul   Brooklyn      444   \n",
              "1  50109569                  SIMPLY JUICING  Manhattan     1469   \n",
              "2  50148883                       MOLLY TEA     Queens    3711C   \n",
              "3  50150982                             NaN     Queens     2531   \n",
              "4  50109520  RESORT WORLD CASINO- GRAB & GO     Queens    11000   \n",
              "\n",
              "          STREET ZIPCODE       PHONE CUISINE DESCRIPTION INSPECTION DATE  \\\n",
              "0   RALPH AVENUE   11233  9292894144                 NaN      01/01/1900   \n",
              "1       5 AVENUE   10035  9176596537                 NaN      01/01/1900   \n",
              "2      PRINCE ST   11354  9172387551                 NaN      01/01/1900   \n",
              "3    31ST STREET   11102  9177456582                 NaN      01/01/1900   \n",
              "4  ROCKAWAY BLVD   11420  7182153308                 NaN      01/01/1900   \n",
              "\n",
              "  ACTION  ... INSPECTION TYPE         Latitude         Longitude  \\\n",
              "0    NaN  ...             NaN  40.674019405731  -73.922109308154   \n",
              "1    NaN  ...             NaN  40.802298344378  -73.945252566097   \n",
              "2    NaN  ...             NaN  40.760455566436  -73.832760411901   \n",
              "3    NaN  ...             NaN  40.769641900094   -73.91854203387   \n",
              "4    NaN  ...             NaN  40.677664571164  -73.828757893149   \n",
              "\n",
              "  Community Board Council District Census Tract      BIN         BBL   NTA  \\\n",
              "0             308               41       030700  3035972  3013570055  BK61   \n",
              "1             111               09       018400  1053965  1017450071  MN34   \n",
              "2             407               20       087100  4112279  4049740005  QN22   \n",
              "3             401               22       006501  4008677  4006200028  QN70   \n",
              "4             410               32       086400  4457718  4115430002  QN55   \n",
              "\n",
              "  Location Point1  \n",
              "0             NaN  \n",
              "1             NaN  \n",
              "2             NaN  \n",
              "3             NaN  \n",
              "4             NaN  \n",
              "\n",
              "[5 rows x 27 columns]"
            ],
            "text/html": [
              "\n",
              "  <div id=\"df-550f951a-d157-41b9-a4b9-625330217d52\" class=\"colab-df-container\">\n",
              "    <div>\n",
              "<style scoped>\n",
              "    .dataframe tbody tr th:only-of-type {\n",
              "        vertical-align: middle;\n",
              "    }\n",
              "\n",
              "    .dataframe tbody tr th {\n",
              "        vertical-align: top;\n",
              "    }\n",
              "\n",
              "    .dataframe thead th {\n",
              "        text-align: right;\n",
              "    }\n",
              "</style>\n",
              "<table border=\"1\" class=\"dataframe\">\n",
              "  <thead>\n",
              "    <tr style=\"text-align: right;\">\n",
              "      <th></th>\n",
              "      <th>CAMIS</th>\n",
              "      <th>DBA</th>\n",
              "      <th>BORO</th>\n",
              "      <th>BUILDING</th>\n",
              "      <th>STREET</th>\n",
              "      <th>ZIPCODE</th>\n",
              "      <th>PHONE</th>\n",
              "      <th>CUISINE DESCRIPTION</th>\n",
              "      <th>INSPECTION DATE</th>\n",
              "      <th>ACTION</th>\n",
              "      <th>...</th>\n",
              "      <th>INSPECTION TYPE</th>\n",
              "      <th>Latitude</th>\n",
              "      <th>Longitude</th>\n",
              "      <th>Community Board</th>\n",
              "      <th>Council District</th>\n",
              "      <th>Census Tract</th>\n",
              "      <th>BIN</th>\n",
              "      <th>BBL</th>\n",
              "      <th>NTA</th>\n",
              "      <th>Location Point1</th>\n",
              "    </tr>\n",
              "  </thead>\n",
              "  <tbody>\n",
              "    <tr>\n",
              "      <th>0</th>\n",
              "      <td>50088330</td>\n",
              "      <td>Seafood From The Soul</td>\n",
              "      <td>Brooklyn</td>\n",
              "      <td>444</td>\n",
              "      <td>RALPH AVENUE</td>\n",
              "      <td>11233</td>\n",
              "      <td>9292894144</td>\n",
              "      <td>NaN</td>\n",
              "      <td>01/01/1900</td>\n",
              "      <td>NaN</td>\n",
              "      <td>...</td>\n",
              "      <td>NaN</td>\n",
              "      <td>40.674019405731</td>\n",
              "      <td>-73.922109308154</td>\n",
              "      <td>308</td>\n",
              "      <td>41</td>\n",
              "      <td>030700</td>\n",
              "      <td>3035972</td>\n",
              "      <td>3013570055</td>\n",
              "      <td>BK61</td>\n",
              "      <td>NaN</td>\n",
              "    </tr>\n",
              "    <tr>\n",
              "      <th>1</th>\n",
              "      <td>50109569</td>\n",
              "      <td>SIMPLY JUICING</td>\n",
              "      <td>Manhattan</td>\n",
              "      <td>1469</td>\n",
              "      <td>5 AVENUE</td>\n",
              "      <td>10035</td>\n",
              "      <td>9176596537</td>\n",
              "      <td>NaN</td>\n",
              "      <td>01/01/1900</td>\n",
              "      <td>NaN</td>\n",
              "      <td>...</td>\n",
              "      <td>NaN</td>\n",
              "      <td>40.802298344378</td>\n",
              "      <td>-73.945252566097</td>\n",
              "      <td>111</td>\n",
              "      <td>09</td>\n",
              "      <td>018400</td>\n",
              "      <td>1053965</td>\n",
              "      <td>1017450071</td>\n",
              "      <td>MN34</td>\n",
              "      <td>NaN</td>\n",
              "    </tr>\n",
              "    <tr>\n",
              "      <th>2</th>\n",
              "      <td>50148883</td>\n",
              "      <td>MOLLY TEA</td>\n",
              "      <td>Queens</td>\n",
              "      <td>3711C</td>\n",
              "      <td>PRINCE ST</td>\n",
              "      <td>11354</td>\n",
              "      <td>9172387551</td>\n",
              "      <td>NaN</td>\n",
              "      <td>01/01/1900</td>\n",
              "      <td>NaN</td>\n",
              "      <td>...</td>\n",
              "      <td>NaN</td>\n",
              "      <td>40.760455566436</td>\n",
              "      <td>-73.832760411901</td>\n",
              "      <td>407</td>\n",
              "      <td>20</td>\n",
              "      <td>087100</td>\n",
              "      <td>4112279</td>\n",
              "      <td>4049740005</td>\n",
              "      <td>QN22</td>\n",
              "      <td>NaN</td>\n",
              "    </tr>\n",
              "    <tr>\n",
              "      <th>3</th>\n",
              "      <td>50150982</td>\n",
              "      <td>NaN</td>\n",
              "      <td>Queens</td>\n",
              "      <td>2531</td>\n",
              "      <td>31ST STREET</td>\n",
              "      <td>11102</td>\n",
              "      <td>9177456582</td>\n",
              "      <td>NaN</td>\n",
              "      <td>01/01/1900</td>\n",
              "      <td>NaN</td>\n",
              "      <td>...</td>\n",
              "      <td>NaN</td>\n",
              "      <td>40.769641900094</td>\n",
              "      <td>-73.91854203387</td>\n",
              "      <td>401</td>\n",
              "      <td>22</td>\n",
              "      <td>006501</td>\n",
              "      <td>4008677</td>\n",
              "      <td>4006200028</td>\n",
              "      <td>QN70</td>\n",
              "      <td>NaN</td>\n",
              "    </tr>\n",
              "    <tr>\n",
              "      <th>4</th>\n",
              "      <td>50109520</td>\n",
              "      <td>RESORT WORLD CASINO- GRAB &amp; GO</td>\n",
              "      <td>Queens</td>\n",
              "      <td>11000</td>\n",
              "      <td>ROCKAWAY BLVD</td>\n",
              "      <td>11420</td>\n",
              "      <td>7182153308</td>\n",
              "      <td>NaN</td>\n",
              "      <td>01/01/1900</td>\n",
              "      <td>NaN</td>\n",
              "      <td>...</td>\n",
              "      <td>NaN</td>\n",
              "      <td>40.677664571164</td>\n",
              "      <td>-73.828757893149</td>\n",
              "      <td>410</td>\n",
              "      <td>32</td>\n",
              "      <td>086400</td>\n",
              "      <td>4457718</td>\n",
              "      <td>4115430002</td>\n",
              "      <td>QN55</td>\n",
              "      <td>NaN</td>\n",
              "    </tr>\n",
              "  </tbody>\n",
              "</table>\n",
              "<p>5 rows × 27 columns</p>\n",
              "</div>\n",
              "    <div class=\"colab-df-buttons\">\n",
              "\n",
              "  <div class=\"colab-df-container\">\n",
              "    <button class=\"colab-df-convert\" onclick=\"convertToInteractive('df-550f951a-d157-41b9-a4b9-625330217d52')\"\n",
              "            title=\"Convert this dataframe to an interactive table.\"\n",
              "            style=\"display:none;\">\n",
              "\n",
              "  <svg xmlns=\"http://www.w3.org/2000/svg\" height=\"24px\" viewBox=\"0 -960 960 960\">\n",
              "    <path d=\"M120-120v-720h720v720H120Zm60-500h600v-160H180v160Zm220 220h160v-160H400v160Zm0 220h160v-160H400v160ZM180-400h160v-160H180v160Zm440 0h160v-160H620v160ZM180-180h160v-160H180v160Zm440 0h160v-160H620v160Z\"/>\n",
              "  </svg>\n",
              "    </button>\n",
              "\n",
              "  <style>\n",
              "    .colab-df-container {\n",
              "      display:flex;\n",
              "      gap: 12px;\n",
              "    }\n",
              "\n",
              "    .colab-df-convert {\n",
              "      background-color: #E8F0FE;\n",
              "      border: none;\n",
              "      border-radius: 50%;\n",
              "      cursor: pointer;\n",
              "      display: none;\n",
              "      fill: #1967D2;\n",
              "      height: 32px;\n",
              "      padding: 0 0 0 0;\n",
              "      width: 32px;\n",
              "    }\n",
              "\n",
              "    .colab-df-convert:hover {\n",
              "      background-color: #E2EBFA;\n",
              "      box-shadow: 0px 1px 2px rgba(60, 64, 67, 0.3), 0px 1px 3px 1px rgba(60, 64, 67, 0.15);\n",
              "      fill: #174EA6;\n",
              "    }\n",
              "\n",
              "    .colab-df-buttons div {\n",
              "      margin-bottom: 4px;\n",
              "    }\n",
              "\n",
              "    [theme=dark] .colab-df-convert {\n",
              "      background-color: #3B4455;\n",
              "      fill: #D2E3FC;\n",
              "    }\n",
              "\n",
              "    [theme=dark] .colab-df-convert:hover {\n",
              "      background-color: #434B5C;\n",
              "      box-shadow: 0px 1px 3px 1px rgba(0, 0, 0, 0.15);\n",
              "      filter: drop-shadow(0px 1px 2px rgba(0, 0, 0, 0.3));\n",
              "      fill: #FFFFFF;\n",
              "    }\n",
              "  </style>\n",
              "\n",
              "    <script>\n",
              "      const buttonEl =\n",
              "        document.querySelector('#df-550f951a-d157-41b9-a4b9-625330217d52 button.colab-df-convert');\n",
              "      buttonEl.style.display =\n",
              "        google.colab.kernel.accessAllowed ? 'block' : 'none';\n",
              "\n",
              "      async function convertToInteractive(key) {\n",
              "        const element = document.querySelector('#df-550f951a-d157-41b9-a4b9-625330217d52');\n",
              "        const dataTable =\n",
              "          await google.colab.kernel.invokeFunction('convertToInteractive',\n",
              "                                                    [key], {});\n",
              "        if (!dataTable) return;\n",
              "\n",
              "        const docLinkHtml = 'Like what you see? Visit the ' +\n",
              "          '<a target=\"_blank\" href=https://colab.research.google.com/notebooks/data_table.ipynb>data table notebook</a>'\n",
              "          + ' to learn more about interactive tables.';\n",
              "        element.innerHTML = '';\n",
              "        dataTable['output_type'] = 'display_data';\n",
              "        await google.colab.output.renderOutput(dataTable, element);\n",
              "        const docLink = document.createElement('div');\n",
              "        docLink.innerHTML = docLinkHtml;\n",
              "        element.appendChild(docLink);\n",
              "      }\n",
              "    </script>\n",
              "  </div>\n",
              "\n",
              "\n",
              "<div id=\"df-6b755e4b-bfff-40b8-8f14-62666e937f68\">\n",
              "  <button class=\"colab-df-quickchart\" onclick=\"quickchart('df-6b755e4b-bfff-40b8-8f14-62666e937f68')\"\n",
              "            title=\"Suggest charts\"\n",
              "            style=\"display:none;\">\n",
              "\n",
              "<svg xmlns=\"http://www.w3.org/2000/svg\" height=\"24px\"viewBox=\"0 0 24 24\"\n",
              "     width=\"24px\">\n",
              "    <g>\n",
              "        <path d=\"M19 3H5c-1.1 0-2 .9-2 2v14c0 1.1.9 2 2 2h14c1.1 0 2-.9 2-2V5c0-1.1-.9-2-2-2zM9 17H7v-7h2v7zm4 0h-2V7h2v10zm4 0h-2v-4h2v4z\"/>\n",
              "    </g>\n",
              "</svg>\n",
              "  </button>\n",
              "\n",
              "<style>\n",
              "  .colab-df-quickchart {\n",
              "      --bg-color: #E8F0FE;\n",
              "      --fill-color: #1967D2;\n",
              "      --hover-bg-color: #E2EBFA;\n",
              "      --hover-fill-color: #174EA6;\n",
              "      --disabled-fill-color: #AAA;\n",
              "      --disabled-bg-color: #DDD;\n",
              "  }\n",
              "\n",
              "  [theme=dark] .colab-df-quickchart {\n",
              "      --bg-color: #3B4455;\n",
              "      --fill-color: #D2E3FC;\n",
              "      --hover-bg-color: #434B5C;\n",
              "      --hover-fill-color: #FFFFFF;\n",
              "      --disabled-bg-color: #3B4455;\n",
              "      --disabled-fill-color: #666;\n",
              "  }\n",
              "\n",
              "  .colab-df-quickchart {\n",
              "    background-color: var(--bg-color);\n",
              "    border: none;\n",
              "    border-radius: 50%;\n",
              "    cursor: pointer;\n",
              "    display: none;\n",
              "    fill: var(--fill-color);\n",
              "    height: 32px;\n",
              "    padding: 0;\n",
              "    width: 32px;\n",
              "  }\n",
              "\n",
              "  .colab-df-quickchart:hover {\n",
              "    background-color: var(--hover-bg-color);\n",
              "    box-shadow: 0 1px 2px rgba(60, 64, 67, 0.3), 0 1px 3px 1px rgba(60, 64, 67, 0.15);\n",
              "    fill: var(--button-hover-fill-color);\n",
              "  }\n",
              "\n",
              "  .colab-df-quickchart-complete:disabled,\n",
              "  .colab-df-quickchart-complete:disabled:hover {\n",
              "    background-color: var(--disabled-bg-color);\n",
              "    fill: var(--disabled-fill-color);\n",
              "    box-shadow: none;\n",
              "  }\n",
              "\n",
              "  .colab-df-spinner {\n",
              "    border: 2px solid var(--fill-color);\n",
              "    border-color: transparent;\n",
              "    border-bottom-color: var(--fill-color);\n",
              "    animation:\n",
              "      spin 1s steps(1) infinite;\n",
              "  }\n",
              "\n",
              "  @keyframes spin {\n",
              "    0% {\n",
              "      border-color: transparent;\n",
              "      border-bottom-color: var(--fill-color);\n",
              "      border-left-color: var(--fill-color);\n",
              "    }\n",
              "    20% {\n",
              "      border-color: transparent;\n",
              "      border-left-color: var(--fill-color);\n",
              "      border-top-color: var(--fill-color);\n",
              "    }\n",
              "    30% {\n",
              "      border-color: transparent;\n",
              "      border-left-color: var(--fill-color);\n",
              "      border-top-color: var(--fill-color);\n",
              "      border-right-color: var(--fill-color);\n",
              "    }\n",
              "    40% {\n",
              "      border-color: transparent;\n",
              "      border-right-color: var(--fill-color);\n",
              "      border-top-color: var(--fill-color);\n",
              "    }\n",
              "    60% {\n",
              "      border-color: transparent;\n",
              "      border-right-color: var(--fill-color);\n",
              "    }\n",
              "    80% {\n",
              "      border-color: transparent;\n",
              "      border-right-color: var(--fill-color);\n",
              "      border-bottom-color: var(--fill-color);\n",
              "    }\n",
              "    90% {\n",
              "      border-color: transparent;\n",
              "      border-bottom-color: var(--fill-color);\n",
              "    }\n",
              "  }\n",
              "</style>\n",
              "\n",
              "  <script>\n",
              "    async function quickchart(key) {\n",
              "      const quickchartButtonEl =\n",
              "        document.querySelector('#' + key + ' button');\n",
              "      quickchartButtonEl.disabled = true;  // To prevent multiple clicks.\n",
              "      quickchartButtonEl.classList.add('colab-df-spinner');\n",
              "      try {\n",
              "        const charts = await google.colab.kernel.invokeFunction(\n",
              "            'suggestCharts', [key], {});\n",
              "      } catch (error) {\n",
              "        console.error('Error during call to suggestCharts:', error);\n",
              "      }\n",
              "      quickchartButtonEl.classList.remove('colab-df-spinner');\n",
              "      quickchartButtonEl.classList.add('colab-df-quickchart-complete');\n",
              "    }\n",
              "    (() => {\n",
              "      let quickchartButtonEl =\n",
              "        document.querySelector('#df-6b755e4b-bfff-40b8-8f14-62666e937f68 button');\n",
              "      quickchartButtonEl.style.display =\n",
              "        google.colab.kernel.accessAllowed ? 'block' : 'none';\n",
              "    })();\n",
              "  </script>\n",
              "</div>\n",
              "\n",
              "    </div>\n",
              "  </div>\n"
            ],
            "application/vnd.google.colaboratory.intrinsic+json": {
              "type": "dataframe",
              "variable_name": "restaurants"
            }
          },
          "metadata": {},
          "execution_count": 5
        }
      ]
    },
    {
      "cell_type": "markdown",
      "metadata": {
        "id": "Hx5nCWJTwk7T"
      },
      "source": [
        "Alternatively, we can first download it and then load it from a local directory in our computer (in case we are not using colab). The `pd.read_csv` method has many options, and you can further read in the [online documentation](http://pandas.pydata.org/pandas-docs/stable/generated/pandas.io.parsers.read_csv.html)."
      ]
    },
    {
      "cell_type": "markdown",
      "metadata": {
        "id": "cZa_rUO9wk7d"
      },
      "source": [
        "### 2.2 Descriptive statistics\n",
        "\n",
        "We can use the method `describe()` to get a quick overview of the data in the DataFrame."
      ]
    },
    {
      "cell_type": "code",
      "metadata": {
        "id": "ML7hpRWIwk7d",
        "outputId": "c14d4a27-28a5-45d7-e05e-9402db6fdb84",
        "colab": {
          "base_uri": "https://localhost:8080/",
          "height": 324
        }
      },
      "source": [
        "restaurants.describe()"
      ],
      "execution_count": 6,
      "outputs": [
        {
          "output_type": "execute_result",
          "data": {
            "text/plain": [
              "           CAMIS     DBA       BORO BUILDING    STREET ZIPCODE       PHONE  \\\n",
              "count     236004  235246     236004   235532    235990  233190      236001   \n",
              "unique     28902   22418          6     7608      2403     226       26053   \n",
              "top     40365904  DUNKIN  Manhattan        1  BROADWAY   10013  7185958100   \n",
              "freq          65    2981      86961     1306      8811    5446         274   \n",
              "\n",
              "       CUISINE DESCRIPTION INSPECTION DATE  \\\n",
              "count               233447          236004   \n",
              "unique                  89            1729   \n",
              "top               American      01/01/1900   \n",
              "freq                 38416            2557   \n",
              "\n",
              "                                                 ACTION  ...  \\\n",
              "count                                            233447  ...   \n",
              "unique                                                5  ...   \n",
              "top     Violations were cited in the following area(s).  ...   \n",
              "freq                                             221983  ...   \n",
              "\n",
              "                              INSPECTION TYPE Latitude Longitude  \\\n",
              "count                                  233447   235654    235654   \n",
              "unique                                     32    23464     23464   \n",
              "top     Cycle Inspection / Initial Inspection        0         0   \n",
              "freq                                   128870     2800      2800   \n",
              "\n",
              "       Community Board Council District Census Tract      BIN     BBL     NTA  \\\n",
              "count           232470           232474       232474   231290  235270  232470   \n",
              "unique              69               51         1179    20279   19986     193   \n",
              "top                105               03       087100  4000000       1    MN17   \n",
              "freq             17430            18936         2105      959    1787   13031   \n",
              "\n",
              "       Location Point1  \n",
              "count                0  \n",
              "unique               0  \n",
              "top                NaN  \n",
              "freq               NaN  \n",
              "\n",
              "[4 rows x 27 columns]"
            ],
            "text/html": [
              "\n",
              "  <div id=\"df-f6b6f58f-9d41-487f-a0c2-fc3bd4d180b0\" class=\"colab-df-container\">\n",
              "    <div>\n",
              "<style scoped>\n",
              "    .dataframe tbody tr th:only-of-type {\n",
              "        vertical-align: middle;\n",
              "    }\n",
              "\n",
              "    .dataframe tbody tr th {\n",
              "        vertical-align: top;\n",
              "    }\n",
              "\n",
              "    .dataframe thead th {\n",
              "        text-align: right;\n",
              "    }\n",
              "</style>\n",
              "<table border=\"1\" class=\"dataframe\">\n",
              "  <thead>\n",
              "    <tr style=\"text-align: right;\">\n",
              "      <th></th>\n",
              "      <th>CAMIS</th>\n",
              "      <th>DBA</th>\n",
              "      <th>BORO</th>\n",
              "      <th>BUILDING</th>\n",
              "      <th>STREET</th>\n",
              "      <th>ZIPCODE</th>\n",
              "      <th>PHONE</th>\n",
              "      <th>CUISINE DESCRIPTION</th>\n",
              "      <th>INSPECTION DATE</th>\n",
              "      <th>ACTION</th>\n",
              "      <th>...</th>\n",
              "      <th>INSPECTION TYPE</th>\n",
              "      <th>Latitude</th>\n",
              "      <th>Longitude</th>\n",
              "      <th>Community Board</th>\n",
              "      <th>Council District</th>\n",
              "      <th>Census Tract</th>\n",
              "      <th>BIN</th>\n",
              "      <th>BBL</th>\n",
              "      <th>NTA</th>\n",
              "      <th>Location Point1</th>\n",
              "    </tr>\n",
              "  </thead>\n",
              "  <tbody>\n",
              "    <tr>\n",
              "      <th>count</th>\n",
              "      <td>236004</td>\n",
              "      <td>235246</td>\n",
              "      <td>236004</td>\n",
              "      <td>235532</td>\n",
              "      <td>235990</td>\n",
              "      <td>233190</td>\n",
              "      <td>236001</td>\n",
              "      <td>233447</td>\n",
              "      <td>236004</td>\n",
              "      <td>233447</td>\n",
              "      <td>...</td>\n",
              "      <td>233447</td>\n",
              "      <td>235654</td>\n",
              "      <td>235654</td>\n",
              "      <td>232470</td>\n",
              "      <td>232474</td>\n",
              "      <td>232474</td>\n",
              "      <td>231290</td>\n",
              "      <td>235270</td>\n",
              "      <td>232470</td>\n",
              "      <td>0</td>\n",
              "    </tr>\n",
              "    <tr>\n",
              "      <th>unique</th>\n",
              "      <td>28902</td>\n",
              "      <td>22418</td>\n",
              "      <td>6</td>\n",
              "      <td>7608</td>\n",
              "      <td>2403</td>\n",
              "      <td>226</td>\n",
              "      <td>26053</td>\n",
              "      <td>89</td>\n",
              "      <td>1729</td>\n",
              "      <td>5</td>\n",
              "      <td>...</td>\n",
              "      <td>32</td>\n",
              "      <td>23464</td>\n",
              "      <td>23464</td>\n",
              "      <td>69</td>\n",
              "      <td>51</td>\n",
              "      <td>1179</td>\n",
              "      <td>20279</td>\n",
              "      <td>19986</td>\n",
              "      <td>193</td>\n",
              "      <td>0</td>\n",
              "    </tr>\n",
              "    <tr>\n",
              "      <th>top</th>\n",
              "      <td>40365904</td>\n",
              "      <td>DUNKIN</td>\n",
              "      <td>Manhattan</td>\n",
              "      <td>1</td>\n",
              "      <td>BROADWAY</td>\n",
              "      <td>10013</td>\n",
              "      <td>7185958100</td>\n",
              "      <td>American</td>\n",
              "      <td>01/01/1900</td>\n",
              "      <td>Violations were cited in the following area(s).</td>\n",
              "      <td>...</td>\n",
              "      <td>Cycle Inspection / Initial Inspection</td>\n",
              "      <td>0</td>\n",
              "      <td>0</td>\n",
              "      <td>105</td>\n",
              "      <td>03</td>\n",
              "      <td>087100</td>\n",
              "      <td>4000000</td>\n",
              "      <td>1</td>\n",
              "      <td>MN17</td>\n",
              "      <td>NaN</td>\n",
              "    </tr>\n",
              "    <tr>\n",
              "      <th>freq</th>\n",
              "      <td>65</td>\n",
              "      <td>2981</td>\n",
              "      <td>86961</td>\n",
              "      <td>1306</td>\n",
              "      <td>8811</td>\n",
              "      <td>5446</td>\n",
              "      <td>274</td>\n",
              "      <td>38416</td>\n",
              "      <td>2557</td>\n",
              "      <td>221983</td>\n",
              "      <td>...</td>\n",
              "      <td>128870</td>\n",
              "      <td>2800</td>\n",
              "      <td>2800</td>\n",
              "      <td>17430</td>\n",
              "      <td>18936</td>\n",
              "      <td>2105</td>\n",
              "      <td>959</td>\n",
              "      <td>1787</td>\n",
              "      <td>13031</td>\n",
              "      <td>NaN</td>\n",
              "    </tr>\n",
              "  </tbody>\n",
              "</table>\n",
              "<p>4 rows × 27 columns</p>\n",
              "</div>\n",
              "    <div class=\"colab-df-buttons\">\n",
              "\n",
              "  <div class=\"colab-df-container\">\n",
              "    <button class=\"colab-df-convert\" onclick=\"convertToInteractive('df-f6b6f58f-9d41-487f-a0c2-fc3bd4d180b0')\"\n",
              "            title=\"Convert this dataframe to an interactive table.\"\n",
              "            style=\"display:none;\">\n",
              "\n",
              "  <svg xmlns=\"http://www.w3.org/2000/svg\" height=\"24px\" viewBox=\"0 -960 960 960\">\n",
              "    <path d=\"M120-120v-720h720v720H120Zm60-500h600v-160H180v160Zm220 220h160v-160H400v160Zm0 220h160v-160H400v160ZM180-400h160v-160H180v160Zm440 0h160v-160H620v160ZM180-180h160v-160H180v160Zm440 0h160v-160H620v160Z\"/>\n",
              "  </svg>\n",
              "    </button>\n",
              "\n",
              "  <style>\n",
              "    .colab-df-container {\n",
              "      display:flex;\n",
              "      gap: 12px;\n",
              "    }\n",
              "\n",
              "    .colab-df-convert {\n",
              "      background-color: #E8F0FE;\n",
              "      border: none;\n",
              "      border-radius: 50%;\n",
              "      cursor: pointer;\n",
              "      display: none;\n",
              "      fill: #1967D2;\n",
              "      height: 32px;\n",
              "      padding: 0 0 0 0;\n",
              "      width: 32px;\n",
              "    }\n",
              "\n",
              "    .colab-df-convert:hover {\n",
              "      background-color: #E2EBFA;\n",
              "      box-shadow: 0px 1px 2px rgba(60, 64, 67, 0.3), 0px 1px 3px 1px rgba(60, 64, 67, 0.15);\n",
              "      fill: #174EA6;\n",
              "    }\n",
              "\n",
              "    .colab-df-buttons div {\n",
              "      margin-bottom: 4px;\n",
              "    }\n",
              "\n",
              "    [theme=dark] .colab-df-convert {\n",
              "      background-color: #3B4455;\n",
              "      fill: #D2E3FC;\n",
              "    }\n",
              "\n",
              "    [theme=dark] .colab-df-convert:hover {\n",
              "      background-color: #434B5C;\n",
              "      box-shadow: 0px 1px 3px 1px rgba(0, 0, 0, 0.15);\n",
              "      filter: drop-shadow(0px 1px 2px rgba(0, 0, 0, 0.3));\n",
              "      fill: #FFFFFF;\n",
              "    }\n",
              "  </style>\n",
              "\n",
              "    <script>\n",
              "      const buttonEl =\n",
              "        document.querySelector('#df-f6b6f58f-9d41-487f-a0c2-fc3bd4d180b0 button.colab-df-convert');\n",
              "      buttonEl.style.display =\n",
              "        google.colab.kernel.accessAllowed ? 'block' : 'none';\n",
              "\n",
              "      async function convertToInteractive(key) {\n",
              "        const element = document.querySelector('#df-f6b6f58f-9d41-487f-a0c2-fc3bd4d180b0');\n",
              "        const dataTable =\n",
              "          await google.colab.kernel.invokeFunction('convertToInteractive',\n",
              "                                                    [key], {});\n",
              "        if (!dataTable) return;\n",
              "\n",
              "        const docLinkHtml = 'Like what you see? Visit the ' +\n",
              "          '<a target=\"_blank\" href=https://colab.research.google.com/notebooks/data_table.ipynb>data table notebook</a>'\n",
              "          + ' to learn more about interactive tables.';\n",
              "        element.innerHTML = '';\n",
              "        dataTable['output_type'] = 'display_data';\n",
              "        await google.colab.output.renderOutput(dataTable, element);\n",
              "        const docLink = document.createElement('div');\n",
              "        docLink.innerHTML = docLinkHtml;\n",
              "        element.appendChild(docLink);\n",
              "      }\n",
              "    </script>\n",
              "  </div>\n",
              "\n",
              "\n",
              "<div id=\"df-6e9c99a2-de25-4e30-97c8-2ddf9b0b4594\">\n",
              "  <button class=\"colab-df-quickchart\" onclick=\"quickchart('df-6e9c99a2-de25-4e30-97c8-2ddf9b0b4594')\"\n",
              "            title=\"Suggest charts\"\n",
              "            style=\"display:none;\">\n",
              "\n",
              "<svg xmlns=\"http://www.w3.org/2000/svg\" height=\"24px\"viewBox=\"0 0 24 24\"\n",
              "     width=\"24px\">\n",
              "    <g>\n",
              "        <path d=\"M19 3H5c-1.1 0-2 .9-2 2v14c0 1.1.9 2 2 2h14c1.1 0 2-.9 2-2V5c0-1.1-.9-2-2-2zM9 17H7v-7h2v7zm4 0h-2V7h2v10zm4 0h-2v-4h2v4z\"/>\n",
              "    </g>\n",
              "</svg>\n",
              "  </button>\n",
              "\n",
              "<style>\n",
              "  .colab-df-quickchart {\n",
              "      --bg-color: #E8F0FE;\n",
              "      --fill-color: #1967D2;\n",
              "      --hover-bg-color: #E2EBFA;\n",
              "      --hover-fill-color: #174EA6;\n",
              "      --disabled-fill-color: #AAA;\n",
              "      --disabled-bg-color: #DDD;\n",
              "  }\n",
              "\n",
              "  [theme=dark] .colab-df-quickchart {\n",
              "      --bg-color: #3B4455;\n",
              "      --fill-color: #D2E3FC;\n",
              "      --hover-bg-color: #434B5C;\n",
              "      --hover-fill-color: #FFFFFF;\n",
              "      --disabled-bg-color: #3B4455;\n",
              "      --disabled-fill-color: #666;\n",
              "  }\n",
              "\n",
              "  .colab-df-quickchart {\n",
              "    background-color: var(--bg-color);\n",
              "    border: none;\n",
              "    border-radius: 50%;\n",
              "    cursor: pointer;\n",
              "    display: none;\n",
              "    fill: var(--fill-color);\n",
              "    height: 32px;\n",
              "    padding: 0;\n",
              "    width: 32px;\n",
              "  }\n",
              "\n",
              "  .colab-df-quickchart:hover {\n",
              "    background-color: var(--hover-bg-color);\n",
              "    box-shadow: 0 1px 2px rgba(60, 64, 67, 0.3), 0 1px 3px 1px rgba(60, 64, 67, 0.15);\n",
              "    fill: var(--button-hover-fill-color);\n",
              "  }\n",
              "\n",
              "  .colab-df-quickchart-complete:disabled,\n",
              "  .colab-df-quickchart-complete:disabled:hover {\n",
              "    background-color: var(--disabled-bg-color);\n",
              "    fill: var(--disabled-fill-color);\n",
              "    box-shadow: none;\n",
              "  }\n",
              "\n",
              "  .colab-df-spinner {\n",
              "    border: 2px solid var(--fill-color);\n",
              "    border-color: transparent;\n",
              "    border-bottom-color: var(--fill-color);\n",
              "    animation:\n",
              "      spin 1s steps(1) infinite;\n",
              "  }\n",
              "\n",
              "  @keyframes spin {\n",
              "    0% {\n",
              "      border-color: transparent;\n",
              "      border-bottom-color: var(--fill-color);\n",
              "      border-left-color: var(--fill-color);\n",
              "    }\n",
              "    20% {\n",
              "      border-color: transparent;\n",
              "      border-left-color: var(--fill-color);\n",
              "      border-top-color: var(--fill-color);\n",
              "    }\n",
              "    30% {\n",
              "      border-color: transparent;\n",
              "      border-left-color: var(--fill-color);\n",
              "      border-top-color: var(--fill-color);\n",
              "      border-right-color: var(--fill-color);\n",
              "    }\n",
              "    40% {\n",
              "      border-color: transparent;\n",
              "      border-right-color: var(--fill-color);\n",
              "      border-top-color: var(--fill-color);\n",
              "    }\n",
              "    60% {\n",
              "      border-color: transparent;\n",
              "      border-right-color: var(--fill-color);\n",
              "    }\n",
              "    80% {\n",
              "      border-color: transparent;\n",
              "      border-right-color: var(--fill-color);\n",
              "      border-bottom-color: var(--fill-color);\n",
              "    }\n",
              "    90% {\n",
              "      border-color: transparent;\n",
              "      border-bottom-color: var(--fill-color);\n",
              "    }\n",
              "  }\n",
              "</style>\n",
              "\n",
              "  <script>\n",
              "    async function quickchart(key) {\n",
              "      const quickchartButtonEl =\n",
              "        document.querySelector('#' + key + ' button');\n",
              "      quickchartButtonEl.disabled = true;  // To prevent multiple clicks.\n",
              "      quickchartButtonEl.classList.add('colab-df-spinner');\n",
              "      try {\n",
              "        const charts = await google.colab.kernel.invokeFunction(\n",
              "            'suggestCharts', [key], {});\n",
              "      } catch (error) {\n",
              "        console.error('Error during call to suggestCharts:', error);\n",
              "      }\n",
              "      quickchartButtonEl.classList.remove('colab-df-spinner');\n",
              "      quickchartButtonEl.classList.add('colab-df-quickchart-complete');\n",
              "    }\n",
              "    (() => {\n",
              "      let quickchartButtonEl =\n",
              "        document.querySelector('#df-6e9c99a2-de25-4e30-97c8-2ddf9b0b4594 button');\n",
              "      quickchartButtonEl.style.display =\n",
              "        google.colab.kernel.accessAllowed ? 'block' : 'none';\n",
              "    })();\n",
              "  </script>\n",
              "</div>\n",
              "\n",
              "    </div>\n",
              "  </div>\n"
            ],
            "application/vnd.google.colaboratory.intrinsic+json": {
              "type": "dataframe"
            }
          },
          "metadata": {},
          "execution_count": 6
        }
      ]
    },
    {
      "cell_type": "markdown",
      "metadata": {
        "id": "WUAHKFrhwk7i"
      },
      "source": [
        "We can also check the data types for each column using `dtypes`."
      ]
    },
    {
      "cell_type": "code",
      "metadata": {
        "id": "u1gvSdQxwk7j",
        "outputId": "ae93c16a-b616-4b67-acda-d9fc4b628f5b",
        "colab": {
          "base_uri": "https://localhost:8080/"
        }
      },
      "source": [
        "restaurants.dtypes\n",
        "# also try: restaurants.info()"
      ],
      "execution_count": 7,
      "outputs": [
        {
          "output_type": "execute_result",
          "data": {
            "text/plain": [
              "CAMIS                    object\n",
              "DBA                      object\n",
              "BORO                     object\n",
              "BUILDING                 object\n",
              "STREET                   object\n",
              "ZIPCODE                  object\n",
              "PHONE                    object\n",
              "CUISINE DESCRIPTION      object\n",
              "INSPECTION DATE          object\n",
              "ACTION                   object\n",
              "VIOLATION CODE           object\n",
              "VIOLATION DESCRIPTION    object\n",
              "CRITICAL FLAG            object\n",
              "SCORE                    object\n",
              "GRADE                    object\n",
              "GRADE DATE               object\n",
              "RECORD DATE              object\n",
              "INSPECTION TYPE          object\n",
              "Latitude                 object\n",
              "Longitude                object\n",
              "Community Board          object\n",
              "Council District         object\n",
              "Census Tract             object\n",
              "BIN                      object\n",
              "BBL                      object\n",
              "NTA                      object\n",
              "Location Point1          object\n",
              "dtype: object"
            ]
          },
          "metadata": {},
          "execution_count": 7
        }
      ]
    },
    {
      "cell_type": "code",
      "source": [
        "restaurants.info()"
      ],
      "metadata": {
        "id": "38YRcbXsiYfb",
        "outputId": "aed39945-828e-47ef-911a-979a56009bd7",
        "colab": {
          "base_uri": "https://localhost:8080/"
        }
      },
      "execution_count": 8,
      "outputs": [
        {
          "output_type": "stream",
          "name": "stdout",
          "text": [
            "<class 'pandas.core.frame.DataFrame'>\n",
            "RangeIndex: 236004 entries, 0 to 236003\n",
            "Data columns (total 27 columns):\n",
            " #   Column                 Non-Null Count   Dtype \n",
            "---  ------                 --------------   ----- \n",
            " 0   CAMIS                  236004 non-null  object\n",
            " 1   DBA                    235246 non-null  object\n",
            " 2   BORO                   236004 non-null  object\n",
            " 3   BUILDING               235532 non-null  object\n",
            " 4   STREET                 235990 non-null  object\n",
            " 5   ZIPCODE                233190 non-null  object\n",
            " 6   PHONE                  236001 non-null  object\n",
            " 7   CUISINE DESCRIPTION    233447 non-null  object\n",
            " 8   INSPECTION DATE        236004 non-null  object\n",
            " 9   ACTION                 233447 non-null  object\n",
            " 10  VIOLATION CODE         232162 non-null  object\n",
            " 11  VIOLATION DESCRIPTION  232162 non-null  object\n",
            " 12  CRITICAL FLAG          236004 non-null  object\n",
            " 13  SCORE                  224505 non-null  object\n",
            " 14  GRADE                  114488 non-null  object\n",
            " 15  GRADE DATE             105942 non-null  object\n",
            " 16  RECORD DATE            236004 non-null  object\n",
            " 17  INSPECTION TYPE        233447 non-null  object\n",
            " 18  Latitude               235654 non-null  object\n",
            " 19  Longitude              235654 non-null  object\n",
            " 20  Community Board        232470 non-null  object\n",
            " 21  Council District       232474 non-null  object\n",
            " 22  Census Tract           232474 non-null  object\n",
            " 23  BIN                    231290 non-null  object\n",
            " 24  BBL                    235270 non-null  object\n",
            " 25  NTA                    232470 non-null  object\n",
            " 26  Location Point1        0 non-null       object\n",
            "dtypes: object(27)\n",
            "memory usage: 48.6+ MB\n"
          ]
        }
      ]
    },
    {
      "cell_type": "markdown",
      "metadata": {
        "id": "ja1miMrNwk7n"
      },
      "source": [
        "The `object` type is a string. For some of them, we would like to change the data types using the `pd.to_numeric` and `pd.to_datetime` functions. We examine how to convert data types in the next subsection."
      ]
    },
    {
      "cell_type": "markdown",
      "metadata": {
        "id": "4ZOcE6Mawk7o"
      },
      "source": [
        "### 2.3 Descriptive Statistics for Numeric Variables\n"
      ]
    },
    {
      "cell_type": "markdown",
      "metadata": {
        "id": "-tip1FFSwk7o"
      },
      "source": [
        "#### 2.3.1 Converting Data Types to Numeric"
      ]
    },
    {
      "cell_type": "markdown",
      "metadata": {
        "id": "-nIG-reRwk7p"
      },
      "source": [
        "The `object` type is a string. When we want to convert an object to numeric, we can use the `pd.to_numeric` function, as shown below:"
      ]
    },
    {
      "cell_type": "code",
      "metadata": {
        "id": "RRVUsDWcwk7p",
        "outputId": "c349acce-80c4-41e1-8b75-720c8274a061",
        "colab": {
          "base_uri": "https://localhost:8080/",
          "height": 204
        }
      },
      "source": [
        "restaurants[[\"SCORE\"]].head()"
      ],
      "execution_count": 9,
      "outputs": [
        {
          "output_type": "execute_result",
          "data": {
            "text/plain": [
              "  SCORE\n",
              "0   NaN\n",
              "1   NaN\n",
              "2   NaN\n",
              "3   NaN\n",
              "4   NaN"
            ],
            "text/html": [
              "\n",
              "  <div id=\"df-76fc9194-692b-45d3-ab25-a9b7874a4e99\" class=\"colab-df-container\">\n",
              "    <div>\n",
              "<style scoped>\n",
              "    .dataframe tbody tr th:only-of-type {\n",
              "        vertical-align: middle;\n",
              "    }\n",
              "\n",
              "    .dataframe tbody tr th {\n",
              "        vertical-align: top;\n",
              "    }\n",
              "\n",
              "    .dataframe thead th {\n",
              "        text-align: right;\n",
              "    }\n",
              "</style>\n",
              "<table border=\"1\" class=\"dataframe\">\n",
              "  <thead>\n",
              "    <tr style=\"text-align: right;\">\n",
              "      <th></th>\n",
              "      <th>SCORE</th>\n",
              "    </tr>\n",
              "  </thead>\n",
              "  <tbody>\n",
              "    <tr>\n",
              "      <th>0</th>\n",
              "      <td>NaN</td>\n",
              "    </tr>\n",
              "    <tr>\n",
              "      <th>1</th>\n",
              "      <td>NaN</td>\n",
              "    </tr>\n",
              "    <tr>\n",
              "      <th>2</th>\n",
              "      <td>NaN</td>\n",
              "    </tr>\n",
              "    <tr>\n",
              "      <th>3</th>\n",
              "      <td>NaN</td>\n",
              "    </tr>\n",
              "    <tr>\n",
              "      <th>4</th>\n",
              "      <td>NaN</td>\n",
              "    </tr>\n",
              "  </tbody>\n",
              "</table>\n",
              "</div>\n",
              "    <div class=\"colab-df-buttons\">\n",
              "\n",
              "  <div class=\"colab-df-container\">\n",
              "    <button class=\"colab-df-convert\" onclick=\"convertToInteractive('df-76fc9194-692b-45d3-ab25-a9b7874a4e99')\"\n",
              "            title=\"Convert this dataframe to an interactive table.\"\n",
              "            style=\"display:none;\">\n",
              "\n",
              "  <svg xmlns=\"http://www.w3.org/2000/svg\" height=\"24px\" viewBox=\"0 -960 960 960\">\n",
              "    <path d=\"M120-120v-720h720v720H120Zm60-500h600v-160H180v160Zm220 220h160v-160H400v160Zm0 220h160v-160H400v160ZM180-400h160v-160H180v160Zm440 0h160v-160H620v160ZM180-180h160v-160H180v160Zm440 0h160v-160H620v160Z\"/>\n",
              "  </svg>\n",
              "    </button>\n",
              "\n",
              "  <style>\n",
              "    .colab-df-container {\n",
              "      display:flex;\n",
              "      gap: 12px;\n",
              "    }\n",
              "\n",
              "    .colab-df-convert {\n",
              "      background-color: #E8F0FE;\n",
              "      border: none;\n",
              "      border-radius: 50%;\n",
              "      cursor: pointer;\n",
              "      display: none;\n",
              "      fill: #1967D2;\n",
              "      height: 32px;\n",
              "      padding: 0 0 0 0;\n",
              "      width: 32px;\n",
              "    }\n",
              "\n",
              "    .colab-df-convert:hover {\n",
              "      background-color: #E2EBFA;\n",
              "      box-shadow: 0px 1px 2px rgba(60, 64, 67, 0.3), 0px 1px 3px 1px rgba(60, 64, 67, 0.15);\n",
              "      fill: #174EA6;\n",
              "    }\n",
              "\n",
              "    .colab-df-buttons div {\n",
              "      margin-bottom: 4px;\n",
              "    }\n",
              "\n",
              "    [theme=dark] .colab-df-convert {\n",
              "      background-color: #3B4455;\n",
              "      fill: #D2E3FC;\n",
              "    }\n",
              "\n",
              "    [theme=dark] .colab-df-convert:hover {\n",
              "      background-color: #434B5C;\n",
              "      box-shadow: 0px 1px 3px 1px rgba(0, 0, 0, 0.15);\n",
              "      filter: drop-shadow(0px 1px 2px rgba(0, 0, 0, 0.3));\n",
              "      fill: #FFFFFF;\n",
              "    }\n",
              "  </style>\n",
              "\n",
              "    <script>\n",
              "      const buttonEl =\n",
              "        document.querySelector('#df-76fc9194-692b-45d3-ab25-a9b7874a4e99 button.colab-df-convert');\n",
              "      buttonEl.style.display =\n",
              "        google.colab.kernel.accessAllowed ? 'block' : 'none';\n",
              "\n",
              "      async function convertToInteractive(key) {\n",
              "        const element = document.querySelector('#df-76fc9194-692b-45d3-ab25-a9b7874a4e99');\n",
              "        const dataTable =\n",
              "          await google.colab.kernel.invokeFunction('convertToInteractive',\n",
              "                                                    [key], {});\n",
              "        if (!dataTable) return;\n",
              "\n",
              "        const docLinkHtml = 'Like what you see? Visit the ' +\n",
              "          '<a target=\"_blank\" href=https://colab.research.google.com/notebooks/data_table.ipynb>data table notebook</a>'\n",
              "          + ' to learn more about interactive tables.';\n",
              "        element.innerHTML = '';\n",
              "        dataTable['output_type'] = 'display_data';\n",
              "        await google.colab.output.renderOutput(dataTable, element);\n",
              "        const docLink = document.createElement('div');\n",
              "        docLink.innerHTML = docLinkHtml;\n",
              "        element.appendChild(docLink);\n",
              "      }\n",
              "    </script>\n",
              "  </div>\n",
              "\n",
              "\n",
              "<div id=\"df-8ad92fe5-5006-43cb-bad6-0fa7128c7520\">\n",
              "  <button class=\"colab-df-quickchart\" onclick=\"quickchart('df-8ad92fe5-5006-43cb-bad6-0fa7128c7520')\"\n",
              "            title=\"Suggest charts\"\n",
              "            style=\"display:none;\">\n",
              "\n",
              "<svg xmlns=\"http://www.w3.org/2000/svg\" height=\"24px\"viewBox=\"0 0 24 24\"\n",
              "     width=\"24px\">\n",
              "    <g>\n",
              "        <path d=\"M19 3H5c-1.1 0-2 .9-2 2v14c0 1.1.9 2 2 2h14c1.1 0 2-.9 2-2V5c0-1.1-.9-2-2-2zM9 17H7v-7h2v7zm4 0h-2V7h2v10zm4 0h-2v-4h2v4z\"/>\n",
              "    </g>\n",
              "</svg>\n",
              "  </button>\n",
              "\n",
              "<style>\n",
              "  .colab-df-quickchart {\n",
              "      --bg-color: #E8F0FE;\n",
              "      --fill-color: #1967D2;\n",
              "      --hover-bg-color: #E2EBFA;\n",
              "      --hover-fill-color: #174EA6;\n",
              "      --disabled-fill-color: #AAA;\n",
              "      --disabled-bg-color: #DDD;\n",
              "  }\n",
              "\n",
              "  [theme=dark] .colab-df-quickchart {\n",
              "      --bg-color: #3B4455;\n",
              "      --fill-color: #D2E3FC;\n",
              "      --hover-bg-color: #434B5C;\n",
              "      --hover-fill-color: #FFFFFF;\n",
              "      --disabled-bg-color: #3B4455;\n",
              "      --disabled-fill-color: #666;\n",
              "  }\n",
              "\n",
              "  .colab-df-quickchart {\n",
              "    background-color: var(--bg-color);\n",
              "    border: none;\n",
              "    border-radius: 50%;\n",
              "    cursor: pointer;\n",
              "    display: none;\n",
              "    fill: var(--fill-color);\n",
              "    height: 32px;\n",
              "    padding: 0;\n",
              "    width: 32px;\n",
              "  }\n",
              "\n",
              "  .colab-df-quickchart:hover {\n",
              "    background-color: var(--hover-bg-color);\n",
              "    box-shadow: 0 1px 2px rgba(60, 64, 67, 0.3), 0 1px 3px 1px rgba(60, 64, 67, 0.15);\n",
              "    fill: var(--button-hover-fill-color);\n",
              "  }\n",
              "\n",
              "  .colab-df-quickchart-complete:disabled,\n",
              "  .colab-df-quickchart-complete:disabled:hover {\n",
              "    background-color: var(--disabled-bg-color);\n",
              "    fill: var(--disabled-fill-color);\n",
              "    box-shadow: none;\n",
              "  }\n",
              "\n",
              "  .colab-df-spinner {\n",
              "    border: 2px solid var(--fill-color);\n",
              "    border-color: transparent;\n",
              "    border-bottom-color: var(--fill-color);\n",
              "    animation:\n",
              "      spin 1s steps(1) infinite;\n",
              "  }\n",
              "\n",
              "  @keyframes spin {\n",
              "    0% {\n",
              "      border-color: transparent;\n",
              "      border-bottom-color: var(--fill-color);\n",
              "      border-left-color: var(--fill-color);\n",
              "    }\n",
              "    20% {\n",
              "      border-color: transparent;\n",
              "      border-left-color: var(--fill-color);\n",
              "      border-top-color: var(--fill-color);\n",
              "    }\n",
              "    30% {\n",
              "      border-color: transparent;\n",
              "      border-left-color: var(--fill-color);\n",
              "      border-top-color: var(--fill-color);\n",
              "      border-right-color: var(--fill-color);\n",
              "    }\n",
              "    40% {\n",
              "      border-color: transparent;\n",
              "      border-right-color: var(--fill-color);\n",
              "      border-top-color: var(--fill-color);\n",
              "    }\n",
              "    60% {\n",
              "      border-color: transparent;\n",
              "      border-right-color: var(--fill-color);\n",
              "    }\n",
              "    80% {\n",
              "      border-color: transparent;\n",
              "      border-right-color: var(--fill-color);\n",
              "      border-bottom-color: var(--fill-color);\n",
              "    }\n",
              "    90% {\n",
              "      border-color: transparent;\n",
              "      border-bottom-color: var(--fill-color);\n",
              "    }\n",
              "  }\n",
              "</style>\n",
              "\n",
              "  <script>\n",
              "    async function quickchart(key) {\n",
              "      const quickchartButtonEl =\n",
              "        document.querySelector('#' + key + ' button');\n",
              "      quickchartButtonEl.disabled = true;  // To prevent multiple clicks.\n",
              "      quickchartButtonEl.classList.add('colab-df-spinner');\n",
              "      try {\n",
              "        const charts = await google.colab.kernel.invokeFunction(\n",
              "            'suggestCharts', [key], {});\n",
              "      } catch (error) {\n",
              "        console.error('Error during call to suggestCharts:', error);\n",
              "      }\n",
              "      quickchartButtonEl.classList.remove('colab-df-spinner');\n",
              "      quickchartButtonEl.classList.add('colab-df-quickchart-complete');\n",
              "    }\n",
              "    (() => {\n",
              "      let quickchartButtonEl =\n",
              "        document.querySelector('#df-8ad92fe5-5006-43cb-bad6-0fa7128c7520 button');\n",
              "      quickchartButtonEl.style.display =\n",
              "        google.colab.kernel.accessAllowed ? 'block' : 'none';\n",
              "    })();\n",
              "  </script>\n",
              "</div>\n",
              "\n",
              "    </div>\n",
              "  </div>\n"
            ],
            "application/vnd.google.colaboratory.intrinsic+json": {
              "type": "dataframe",
              "repr_error": "Out of range float values are not JSON compliant: nan"
            }
          },
          "metadata": {},
          "execution_count": 9
        }
      ]
    },
    {
      "cell_type": "code",
      "source": [
        "restaurants[[\"SCORE\"]].dtypes"
      ],
      "metadata": {
        "id": "7VfUHlfuiwA5",
        "outputId": "9dbb0da6-a96b-4fca-e000-569bc97c437a",
        "colab": {
          "base_uri": "https://localhost:8080/"
        }
      },
      "execution_count": 10,
      "outputs": [
        {
          "output_type": "execute_result",
          "data": {
            "text/plain": [
              "SCORE    object\n",
              "dtype: object"
            ]
          },
          "metadata": {},
          "execution_count": 10
        }
      ]
    },
    {
      "cell_type": "code",
      "metadata": {
        "id": "4NY0_wqNwk7t",
        "outputId": "f88d2276-d00a-40d3-f07d-f8421c4b53a1",
        "colab": {
          "base_uri": "https://localhost:8080/"
        }
      },
      "source": [
        "# convert score to numeric\n",
        "restaurants[\"SCORE\"] = pd.to_numeric(restaurants[\"SCORE\"])\n",
        "restaurants.dtypes"
      ],
      "execution_count": 11,
      "outputs": [
        {
          "output_type": "execute_result",
          "data": {
            "text/plain": [
              "CAMIS                     object\n",
              "DBA                       object\n",
              "BORO                      object\n",
              "BUILDING                  object\n",
              "STREET                    object\n",
              "ZIPCODE                   object\n",
              "PHONE                     object\n",
              "CUISINE DESCRIPTION       object\n",
              "INSPECTION DATE           object\n",
              "ACTION                    object\n",
              "VIOLATION CODE            object\n",
              "VIOLATION DESCRIPTION     object\n",
              "CRITICAL FLAG             object\n",
              "SCORE                    float64\n",
              "GRADE                     object\n",
              "GRADE DATE                object\n",
              "RECORD DATE               object\n",
              "INSPECTION TYPE           object\n",
              "Latitude                  object\n",
              "Longitude                 object\n",
              "Community Board           object\n",
              "Council District          object\n",
              "Census Tract              object\n",
              "BIN                       object\n",
              "BBL                       object\n",
              "NTA                       object\n",
              "Location Point1           object\n",
              "dtype: object"
            ]
          },
          "metadata": {},
          "execution_count": 11
        }
      ]
    },
    {
      "cell_type": "markdown",
      "metadata": {
        "id": "yfbetS3Owk7v"
      },
      "source": [
        "#### 2.3.2 Basic descriptive statistics for numeric variables\n",
        "\n",
        "And now that SCORE is a numeric variable, we can get more detailed descriptive statistics for the variable using the `.describe()` command:"
      ]
    },
    {
      "cell_type": "code",
      "metadata": {
        "id": "7FhWZr6Lwk7v",
        "outputId": "2ce13d5f-1b83-49b8-93f5-09c2f9c59f89",
        "colab": {
          "base_uri": "https://localhost:8080/"
        }
      },
      "source": [
        "# For column names without a space, we can also access directly the column as follows:\n",
        "restaurants.SCORE.describe()"
      ],
      "execution_count": 12,
      "outputs": [
        {
          "output_type": "execute_result",
          "data": {
            "text/plain": [
              "count    224505.000000\n",
              "mean         23.430360\n",
              "std          17.751009\n",
              "min           0.000000\n",
              "25%          11.000000\n",
              "50%          20.000000\n",
              "75%          31.000000\n",
              "max         168.000000\n",
              "Name: SCORE, dtype: float64"
            ]
          },
          "metadata": {},
          "execution_count": 12
        }
      ]
    },
    {
      "cell_type": "markdown",
      "metadata": {
        "id": "zGGgbb6twk71"
      },
      "source": [
        "#### 2.3.3 A first histogram\n",
        "And now that SCORE is a numeric variable, we can examine its distribution by using the `hist` command of Pandas, which creates a histogram. (The histogram is also available as `plot.hist()`, or `plot(kind='hist')`)."
      ]
    },
    {
      "cell_type": "code",
      "metadata": {
        "id": "pCjhKEfZwk73",
        "outputId": "ae680658-7745-42d2-c18a-1a12e9d70146",
        "colab": {
          "base_uri": "https://localhost:8080/",
          "height": 447
        }
      },
      "source": [
        "restaurants[\"SCORE\"].hist()\n",
        "# restaurants[\"SCORE\"].plot(kind='hist')"
      ],
      "execution_count": 13,
      "outputs": [
        {
          "output_type": "execute_result",
          "data": {
            "text/plain": [
              "<Axes: >"
            ]
          },
          "metadata": {},
          "execution_count": 13
        },
        {
          "output_type": "display_data",
          "data": {
            "text/plain": [
              "<Figure size 640x480 with 1 Axes>"
            ],
            "image/png": "[encoded data removed]"
          },
          "metadata": {}
        }
      ]
    },
    {
      "cell_type": "markdown",
      "metadata": {
        "id": "o1VQZyK2wk76"
      },
      "source": [
        "By default, the histogram has ~10 bars. We can change the resolution of the histogram using the `bins` attribute. Larger numbers of `bins` allow for higher resolution, but if we increase the number too much, many bins end up having very few, or no data points. For example, experiment with changing the number of bins below, and change the value from 50 to something greater."
      ]
    },
    {
      "cell_type": "code",
      "metadata": {
        "id": "2c-_QIA7wk76",
        "outputId": "91786a49-d41d-4aed-d3ba-bdb19b3407ad",
        "colab": {
          "base_uri": "https://localhost:8080/",
          "height": 447
        }
      },
      "source": [
        "restaurants[\"SCORE\"].hist(bins=50) # try with e.g. bins=200"
      ],
      "execution_count": 14,
      "outputs": [
        {
          "output_type": "execute_result",
          "data": {
            "text/plain": [
              "<Axes: >"
            ]
          },
          "metadata": {},
          "execution_count": 14
        },
        {
          "output_type": "display_data",
          "data": {
            "text/plain": [
              "<Figure size 640x480 with 1 Axes>"
            ],
            "image/png": "[encoded data removed]"
          },
          "metadata": {}
        }
      ]
    },
    {
      "cell_type": "code",
      "metadata": {
        "id": "O7NBTKkhwk79",
        "outputId": "d99fdcfd-aeba-4e84-ad35-6fda26be51ff",
        "colab": {
          "base_uri": "https://localhost:8080/",
          "height": 462
        }
      },
      "source": [
        "# A quick exposure to various options of the \"hist\" command\n",
        "restaurants.SCORE.hist(bins=50, # use 50 bars\n",
        "                          range=(0,50), # x-axis from 0 to 50\n",
        "                          density=False,  # show normalized count (density=True), or raw counts (density= False)\n",
        "                          figsize=(15,5), # controls the size of the plot\n",
        "                          alpha=0.8, # make the plot 20% transparent\n",
        "                          color='green' # change color\n",
        "                         )"
      ],
      "execution_count": 15,
      "outputs": [
        {
          "output_type": "execute_result",
          "data": {
            "text/plain": [
              "<Axes: >"
            ]
          },
          "metadata": {},
          "execution_count": 15
        },
        {
          "output_type": "display_data",
          "data": {
            "text/plain": [
              "<Figure size 1500x500 with 1 Axes>"
            ],
            "image/png": "[encoded data removed]"
          },
          "metadata": {}
        }
      ]
    },
    {
      "cell_type": "code",
      "source": [
        "restaurants.SCORE.hist(bins=50, # use 50 bars\n",
        "                          range=(0,50), # x-axis from 0 to 50\n",
        "                          density=True,  # show normalized count (density=True), or raw counts (density= False)\n",
        "                          figsize=(15,5), # controls the size of the plot\n",
        "                          alpha=0.8, # make the plot 20% transparent\n",
        "                          color='blue' # change color\n",
        "                         )"
      ],
      "metadata": {
        "id": "4_5ZfNzFjrY-",
        "outputId": "c64ded8e-0df5-441e-a8d5-d465cc9b6551",
        "colab": {
          "base_uri": "https://localhost:8080/",
          "height": 462
        }
      },
      "execution_count": 18,
      "outputs": [
        {
          "output_type": "execute_result",
          "data": {
            "text/plain": [
              "<Axes: >"
            ]
          },
          "metadata": {},
          "execution_count": 18
        },
        {
          "output_type": "display_data",
          "data": {
            "text/plain": [
              "<Figure size 1500x500 with 1 Axes>"
            ],
            "image/png": "[encoded data removed]"
          },
          "metadata": {}
        }
      ]
    },
    {
      "cell_type": "markdown",
      "metadata": {
        "id": "_OvrysBMwk7_"
      },
      "source": [
        "#### 2.3.4 Kernel Density Estimation (KDE)\n",
        "\n",
        "An alternative to histograms is to use the **kernel density**, which estimates a continuous function, instead of the bucketized counts, which tends to be discontinuous and bumpy. We can access this usind the `.plot(kind='kde')` command:"
      ]
    },
    {
      "cell_type": "code",
      "metadata": {
        "id": "a7X1ZClcwk7_",
        "outputId": "738bb7b8-5d89-4491-cf3d-943c7a30d99e",
        "colab": {
          "base_uri": "https://localhost:8080/",
          "height": 462
        }
      },
      "source": [
        "# This plots the density of a numeric attribute\n",
        "# kde = kernel density estimation\n",
        "restaurants.SCORE.plot(\n",
        "    kind='kde',\n",
        "    color='Black',\n",
        "    xlim=(0,50),\n",
        "    figsize=(15,5)\n",
        ")"
      ],
      "execution_count": 21,
      "outputs": [
        {
          "output_type": "execute_result",
          "data": {
            "text/plain": [
              "<Axes: ylabel='Density'>"
            ]
          },
          "metadata": {},
          "execution_count": 21
        },
        {
          "output_type": "display_data",
          "data": {
            "text/plain": [
              "<Figure size 1500x500 with 1 Axes>"
            ],
            "image/png": "[encoded data removed]"
          },
          "metadata": {}
        }
      ]
    },
    {
      "cell_type": "markdown",
      "metadata": {
        "id": "VW3liOt3wk8C"
      },
      "source": [
        "### 2.4 Converting Dates"
      ]
    },
    {
      "cell_type": "markdown",
      "metadata": {
        "id": "lE7Yujjxwk8C"
      },
      "source": [
        "Now let's convert the dates columns into the appropriate data types. Let's take a look at a few dates."
      ]
    },
    {
      "cell_type": "code",
      "metadata": {
        "id": "lot8FYyDwk8D",
        "outputId": "3c7ee9fe-fb51-46c7-e38a-7ff25f2117fe",
        "colab": {
          "base_uri": "https://localhost:8080/"
        }
      },
      "source": [
        "restaurants[\"GRADE DATE\"].sample(10) # 10 random dates"
      ],
      "execution_count": 22,
      "outputs": [
        {
          "output_type": "execute_result",
          "data": {
            "text/plain": [
              "45393     06/05/2019\n",
              "38497            NaN\n",
              "124137    05/20/2024\n",
              "23067            NaN\n",
              "3029      03/13/2019\n",
              "190388           NaN\n",
              "48987     06/22/2022\n",
              "475       10/05/2023\n",
              "13754     03/05/2024\n",
              "193837           NaN\n",
              "Name: GRADE DATE, dtype: object"
            ]
          },
          "metadata": {},
          "execution_count": 22
        }
      ]
    },
    {
      "cell_type": "markdown",
      "metadata": {
        "id": "W-w5wIqQwk8G"
      },
      "source": [
        "To this end, we first need to understand how to [parse dates using the Python conventions](https://docs.python.org/3/library/datetime.html#strftime-and-strptime-behavior).\n",
        "\n",
        "The relevant entries from the table are:\n",
        "* `%m` Month as a zero-padded decimal number.\n",
        "* `%d` \tDay of the month as a zero-padded decimal number.\n",
        "* `%Y` Year with century as a decimal number.\n",
        "\n",
        "Now, we can specify how to parse the dates. (In principle, we can let Pandas do this automatically, but it is _much_ faster if we specify it ourselves. It is also much less error-prone)."
      ]
    },
    {
      "cell_type": "code",
      "metadata": {
        "id": "wELAwKOdwk8H"
      },
      "source": [
        "restaurants[\"GRADE DATE\"] = pd.to_datetime(restaurants[\"GRADE DATE\"], format=\"%m/%d/%Y\")\n",
        "restaurants[\"RECORD DATE\"] = pd.to_datetime(restaurants[\"RECORD DATE\"], format=\"%m/%d/%Y\")\n",
        "restaurants[\"INSPECTION DATE\"] = pd.to_datetime(restaurants[\"INSPECTION DATE\"], format=\"%m/%d/%Y\")"
      ],
      "execution_count": 23,
      "outputs": []
    },
    {
      "cell_type": "code",
      "metadata": {
        "id": "EqF-GmWgwk8J",
        "outputId": "d4481da1-96a8-41c1-901f-7b152d65d72e",
        "colab": {
          "base_uri": "https://localhost:8080/"
        }
      },
      "source": [
        "restaurants.dtypes"
      ],
      "execution_count": 24,
      "outputs": [
        {
          "output_type": "execute_result",
          "data": {
            "text/plain": [
              "CAMIS                            object\n",
              "DBA                              object\n",
              "BORO                             object\n",
              "BUILDING                         object\n",
              "STREET                           object\n",
              "ZIPCODE                          object\n",
              "PHONE                            object\n",
              "CUISINE DESCRIPTION              object\n",
              "INSPECTION DATE          datetime64[ns]\n",
              "ACTION                           object\n",
              "VIOLATION CODE                   object\n",
              "VIOLATION DESCRIPTION            object\n",
              "CRITICAL FLAG                    object\n",
              "SCORE                           float64\n",
              "GRADE                            object\n",
              "GRADE DATE               datetime64[ns]\n",
              "RECORD DATE              datetime64[ns]\n",
              "INSPECTION TYPE                  object\n",
              "Latitude                         object\n",
              "Longitude                        object\n",
              "Community Board                  object\n",
              "Council District                 object\n",
              "Census Tract                     object\n",
              "BIN                              object\n",
              "BBL                              object\n",
              "NTA                              object\n",
              "Location Point1                  object\n",
              "dtype: object"
            ]
          },
          "metadata": {},
          "execution_count": 24
        }
      ]
    },
    {
      "cell_type": "code",
      "metadata": {
        "id": "pvbOh4u9wk8N",
        "outputId": "8b00160a-fac5-40cb-bdd9-7bed082abf2a",
        "colab": {
          "base_uri": "https://localhost:8080/",
          "height": 266
        }
      },
      "source": [
        "restaurants[[\"INSPECTION DATE\", \"GRADE DATE\", \"RECORD DATE\"]].describe()"
      ],
      "execution_count": 25,
      "outputs": [
        {
          "output_type": "execute_result",
          "data": {
            "text/plain": [
              "                     INSPECTION DATE                     GRADE DATE  \\\n",
              "count                         236004                         105942   \n",
              "mean   2021-09-03 20:51:00.924390656  2022-12-29 19:21:18.155972096   \n",
              "min              1900-01-01 00:00:00            2015-09-24 00:00:00   \n",
              "25%              2022-05-18 00:00:00            2022-06-01 00:00:00   \n",
              "50%              2023-02-09 00:00:00            2023-02-14 00:00:00   \n",
              "75%              2023-10-24 00:00:00            2023-10-26 00:00:00   \n",
              "max              2024-06-27 00:00:00            2024-06-27 00:00:00   \n",
              "\n",
              "               RECORD DATE  \n",
              "count               236004  \n",
              "mean   2024-06-29 00:00:00  \n",
              "min    2024-06-29 00:00:00  \n",
              "25%    2024-06-29 00:00:00  \n",
              "50%    2024-06-29 00:00:00  \n",
              "75%    2024-06-29 00:00:00  \n",
              "max    2024-06-29 00:00:00  "
            ],
            "text/html": [
              "\n",
              "  <div id=\"df-2ca7a797-8477-4a7a-a628-5627279687e5\" class=\"colab-df-container\">\n",
              "    <div>\n",
              "<style scoped>\n",
              "    .dataframe tbody tr th:only-of-type {\n",
              "        vertical-align: middle;\n",
              "    }\n",
              "\n",
              "    .dataframe tbody tr th {\n",
              "        vertical-align: top;\n",
              "    }\n",
              "\n",
              "    .dataframe thead th {\n",
              "        text-align: right;\n",
              "    }\n",
              "</style>\n",
              "<table border=\"1\" class=\"dataframe\">\n",
              "  <thead>\n",
              "    <tr style=\"text-align: right;\">\n",
              "      <th></th>\n",
              "      <th>INSPECTION DATE</th>\n",
              "      <th>GRADE DATE</th>\n",
              "      <th>RECORD DATE</th>\n",
              "    </tr>\n",
              "  </thead>\n",
              "  <tbody>\n",
              "    <tr>\n",
              "      <th>count</th>\n",
              "      <td>236004</td>\n",
              "      <td>105942</td>\n",
              "      <td>236004</td>\n",
              "    </tr>\n",
              "    <tr>\n",
              "      <th>mean</th>\n",
              "      <td>2021-09-03 20:51:00.924390656</td>\n",
              "      <td>2022-12-29 19:21:18.155972096</td>\n",
              "      <td>2024-06-29 00:00:00</td>\n",
              "    </tr>\n",
              "    <tr>\n",
              "      <th>min</th>\n",
              "      <td>1900-01-01 00:00:00</td>\n",
              "      <td>2015-09-24 00:00:00</td>\n",
              "      <td>2024-06-29 00:00:00</td>\n",
              "    </tr>\n",
              "    <tr>\n",
              "      <th>25%</th>\n",
              "      <td>2022-05-18 00:00:00</td>\n",
              "      <td>2022-06-01 00:00:00</td>\n",
              "      <td>2024-06-29 00:00:00</td>\n",
              "    </tr>\n",
              "    <tr>\n",
              "      <th>50%</th>\n",
              "      <td>2023-02-09 00:00:00</td>\n",
              "      <td>2023-02-14 00:00:00</td>\n",
              "      <td>2024-06-29 00:00:00</td>\n",
              "    </tr>\n",
              "    <tr>\n",
              "      <th>75%</th>\n",
              "      <td>2023-10-24 00:00:00</td>\n",
              "      <td>2023-10-26 00:00:00</td>\n",
              "      <td>2024-06-29 00:00:00</td>\n",
              "    </tr>\n",
              "    <tr>\n",
              "      <th>max</th>\n",
              "      <td>2024-06-27 00:00:00</td>\n",
              "      <td>2024-06-27 00:00:00</td>\n",
              "      <td>2024-06-29 00:00:00</td>\n",
              "    </tr>\n",
              "  </tbody>\n",
              "</table>\n",
              "</div>\n",
              "    <div class=\"colab-df-buttons\">\n",
              "\n",
              "  <div class=\"colab-df-container\">\n",
              "    <button class=\"colab-df-convert\" onclick=\"convertToInteractive('df-2ca7a797-8477-4a7a-a628-5627279687e5')\"\n",
              "            title=\"Convert this dataframe to an interactive table.\"\n",
              "            style=\"display:none;\">\n",
              "\n",
              "  <svg xmlns=\"http://www.w3.org/2000/svg\" height=\"24px\" viewBox=\"0 -960 960 960\">\n",
              "    <path d=\"M120-120v-720h720v720H120Zm60-500h600v-160H180v160Zm220 220h160v-160H400v160Zm0 220h160v-160H400v160ZM180-400h160v-160H180v160Zm440 0h160v-160H620v160ZM180-180h160v-160H180v160Zm440 0h160v-160H620v160Z\"/>\n",
              "  </svg>\n",
              "    </button>\n",
              "\n",
              "  <style>\n",
              "    .colab-df-container {\n",
              "      display:flex;\n",
              "      gap: 12px;\n",
              "    }\n",
              "\n",
              "    .colab-df-convert {\n",
              "      background-color: #E8F0FE;\n",
              "      border: none;\n",
              "      border-radius: 50%;\n",
              "      cursor: pointer;\n",
              "      display: none;\n",
              "      fill: #1967D2;\n",
              "      height: 32px;\n",
              "      padding: 0 0 0 0;\n",
              "      width: 32px;\n",
              "    }\n",
              "\n",
              "    .colab-df-convert:hover {\n",
              "      background-color: #E2EBFA;\n",
              "      box-shadow: 0px 1px 2px rgba(60, 64, 67, 0.3), 0px 1px 3px 1px rgba(60, 64, 67, 0.15);\n",
              "      fill: #174EA6;\n",
              "    }\n",
              "\n",
              "    .colab-df-buttons div {\n",
              "      margin-bottom: 4px;\n",
              "    }\n",
              "\n",
              "    [theme=dark] .colab-df-convert {\n",
              "      background-color: #3B4455;\n",
              "      fill: #D2E3FC;\n",
              "    }\n",
              "\n",
              "    [theme=dark] .colab-df-convert:hover {\n",
              "      background-color: #434B5C;\n",
              "      box-shadow: 0px 1px 3px 1px rgba(0, 0, 0, 0.15);\n",
              "      filter: drop-shadow(0px 1px 2px rgba(0, 0, 0, 0.3));\n",
              "      fill: #FFFFFF;\n",
              "    }\n",
              "  </style>\n",
              "\n",
              "    <script>\n",
              "      const buttonEl =\n",
              "        document.querySelector('#df-2ca7a797-8477-4a7a-a628-5627279687e5 button.colab-df-convert');\n",
              "      buttonEl.style.display =\n",
              "        google.colab.kernel.accessAllowed ? 'block' : 'none';\n",
              "\n",
              "      async function convertToInteractive(key) {\n",
              "        const element = document.querySelector('#df-2ca7a797-8477-4a7a-a628-5627279687e5');\n",
              "        const dataTable =\n",
              "          await google.colab.kernel.invokeFunction('convertToInteractive',\n",
              "                                                    [key], {});\n",
              "        if (!dataTable) return;\n",
              "\n",
              "        const docLinkHtml = 'Like what you see? Visit the ' +\n",
              "          '<a target=\"_blank\" href=https://colab.research.google.com/notebooks/data_table.ipynb>data table notebook</a>'\n",
              "          + ' to learn more about interactive tables.';\n",
              "        element.innerHTML = '';\n",
              "        dataTable['output_type'] = 'display_data';\n",
              "        await google.colab.output.renderOutput(dataTable, element);\n",
              "        const docLink = document.createElement('div');\n",
              "        docLink.innerHTML = docLinkHtml;\n",
              "        element.appendChild(docLink);\n",
              "      }\n",
              "    </script>\n",
              "  </div>\n",
              "\n",
              "\n",
              "<div id=\"df-235692a5-9471-4ab4-85b2-22fd6b875b98\">\n",
              "  <button class=\"colab-df-quickchart\" onclick=\"quickchart('df-235692a5-9471-4ab4-85b2-22fd6b875b98')\"\n",
              "            title=\"Suggest charts\"\n",
              "            style=\"display:none;\">\n",
              "\n",
              "<svg xmlns=\"http://www.w3.org/2000/svg\" height=\"24px\"viewBox=\"0 0 24 24\"\n",
              "     width=\"24px\">\n",
              "    <g>\n",
              "        <path d=\"M19 3H5c-1.1 0-2 .9-2 2v14c0 1.1.9 2 2 2h14c1.1 0 2-.9 2-2V5c0-1.1-.9-2-2-2zM9 17H7v-7h2v7zm4 0h-2V7h2v10zm4 0h-2v-4h2v4z\"/>\n",
              "    </g>\n",
              "</svg>\n",
              "  </button>\n",
              "\n",
              "<style>\n",
              "  .colab-df-quickchart {\n",
              "      --bg-color: #E8F0FE;\n",
              "      --fill-color: #1967D2;\n",
              "      --hover-bg-color: #E2EBFA;\n",
              "      --hover-fill-color: #174EA6;\n",
              "      --disabled-fill-color: #AAA;\n",
              "      --disabled-bg-color: #DDD;\n",
              "  }\n",
              "\n",
              "  [theme=dark] .colab-df-quickchart {\n",
              "      --bg-color: #3B4455;\n",
              "      --fill-color: #D2E3FC;\n",
              "      --hover-bg-color: #434B5C;\n",
              "      --hover-fill-color: #FFFFFF;\n",
              "      --disabled-bg-color: #3B4455;\n",
              "      --disabled-fill-color: #666;\n",
              "  }\n",
              "\n",
              "  .colab-df-quickchart {\n",
              "    background-color: var(--bg-color);\n",
              "    border: none;\n",
              "    border-radius: 50%;\n",
              "    cursor: pointer;\n",
              "    display: none;\n",
              "    fill: var(--fill-color);\n",
              "    height: 32px;\n",
              "    padding: 0;\n",
              "    width: 32px;\n",
              "  }\n",
              "\n",
              "  .colab-df-quickchart:hover {\n",
              "    background-color: var(--hover-bg-color);\n",
              "    box-shadow: 0 1px 2px rgba(60, 64, 67, 0.3), 0 1px 3px 1px rgba(60, 64, 67, 0.15);\n",
              "    fill: var(--button-hover-fill-color);\n",
              "  }\n",
              "\n",
              "  .colab-df-quickchart-complete:disabled,\n",
              "  .colab-df-quickchart-complete:disabled:hover {\n",
              "    background-color: var(--disabled-bg-color);\n",
              "    fill: var(--disabled-fill-color);\n",
              "    box-shadow: none;\n",
              "  }\n",
              "\n",
              "  .colab-df-spinner {\n",
              "    border: 2px solid var(--fill-color);\n",
              "    border-color: transparent;\n",
              "    border-bottom-color: var(--fill-color);\n",
              "    animation:\n",
              "      spin 1s steps(1) infinite;\n",
              "  }\n",
              "\n",
              "  @keyframes spin {\n",
              "    0% {\n",
              "      border-color: transparent;\n",
              "      border-bottom-color: var(--fill-color);\n",
              "      border-left-color: var(--fill-color);\n",
              "    }\n",
              "    20% {\n",
              "      border-color: transparent;\n",
              "      border-left-color: var(--fill-color);\n",
              "      border-top-color: var(--fill-color);\n",
              "    }\n",
              "    30% {\n",
              "      border-color: transparent;\n",
              "      border-left-color: var(--fill-color);\n",
              "      border-top-color: var(--fill-color);\n",
              "      border-right-color: var(--fill-color);\n",
              "    }\n",
              "    40% {\n",
              "      border-color: transparent;\n",
              "      border-right-color: var(--fill-color);\n",
              "      border-top-color: var(--fill-color);\n",
              "    }\n",
              "    60% {\n",
              "      border-color: transparent;\n",
              "      border-right-color: var(--fill-color);\n",
              "    }\n",
              "    80% {\n",
              "      border-color: transparent;\n",
              "      border-right-color: var(--fill-color);\n",
              "      border-bottom-color: var(--fill-color);\n",
              "    }\n",
              "    90% {\n",
              "      border-color: transparent;\n",
              "      border-bottom-color: var(--fill-color);\n",
              "    }\n",
              "  }\n",
              "</style>\n",
              "\n",
              "  <script>\n",
              "    async function quickchart(key) {\n",
              "      const quickchartButtonEl =\n",
              "        document.querySelector('#' + key + ' button');\n",
              "      quickchartButtonEl.disabled = true;  // To prevent multiple clicks.\n",
              "      quickchartButtonEl.classList.add('colab-df-spinner');\n",
              "      try {\n",
              "        const charts = await google.colab.kernel.invokeFunction(\n",
              "            'suggestCharts', [key], {});\n",
              "      } catch (error) {\n",
              "        console.error('Error during call to suggestCharts:', error);\n",
              "      }\n",
              "      quickchartButtonEl.classList.remove('colab-df-spinner');\n",
              "      quickchartButtonEl.classList.add('colab-df-quickchart-complete');\n",
              "    }\n",
              "    (() => {\n",
              "      let quickchartButtonEl =\n",
              "        document.querySelector('#df-235692a5-9471-4ab4-85b2-22fd6b875b98 button');\n",
              "      quickchartButtonEl.style.display =\n",
              "        google.colab.kernel.accessAllowed ? 'block' : 'none';\n",
              "    })();\n",
              "  </script>\n",
              "</div>\n",
              "\n",
              "    </div>\n",
              "  </div>\n"
            ],
            "application/vnd.google.colaboratory.intrinsic+json": {
              "type": "dataframe",
              "summary": "{\n  \"name\": \"restaurants[[\\\"INSPECTION DATE\\\", \\\"GRADE DATE\\\", \\\"RECORD DATE\\\"]]\",\n  \"rows\": 7,\n  \"fields\": [\n    {\n      \"column\": \"INSPECTION DATE\",\n      \"properties\": {\n        \"dtype\": \"date\",\n        \"min\": \"1900-01-01 00:00:00\",\n        \"max\": \"2024-06-27 00:00:00\",\n        \"num_unique_values\": 7,\n        \"samples\": [\n          \"236004\",\n          \"2021-09-03 20:51:00.924390656\",\n          \"2023-10-24 00:00:00\"\n        ],\n        \"semantic_type\": \"\",\n        \"description\": \"\"\n      }\n    },\n    {\n      \"column\": \"GRADE DATE\",\n      \"properties\": {\n        \"dtype\": \"date\",\n        \"min\": \"1970-01-01 00:00:00.000105942\",\n        \"max\": \"2024-06-27 00:00:00\",\n        \"num_unique_values\": 7,\n        \"samples\": [\n          \"105942\",\n          \"2022-12-29 19:21:18.155972096\",\n          \"2023-10-26 00:00:00\"\n        ],\n        \"semantic_type\": \"\",\n        \"description\": \"\"\n      }\n    },\n    {\n      \"column\": \"RECORD DATE\",\n      \"properties\": {\n        \"dtype\": \"date\",\n        \"min\": \"1970-01-01 00:00:00.000236004\",\n        \"max\": \"2024-06-29 00:00:00\",\n        \"num_unique_values\": 2,\n        \"samples\": [\n          \"2024-06-29 00:00:00\",\n          \"236004\"\n        ],\n        \"semantic_type\": \"\",\n        \"description\": \"\"\n      }\n    }\n  ]\n}"
            }
          },
          "metadata": {},
          "execution_count": 25
        }
      ]
    },
    {
      "cell_type": "markdown",
      "metadata": {
        "id": "pdZ_rH_uwk8Q"
      },
      "source": [
        "#### Dates: exercise\n",
        "\n",
        "* Plot a histogram for `INSPECTION DATE`, `GRADE DATE`, `RECORD DATE`. What do you see?\n",
        "* Try modifying the `bins` parameter. What are the results?\n",
        "* The `range=(start, finish)` command is often useful, when we want to focus on a particular part of the dataset. Try using that for  `INSPECTION DATE` to limit the dates to be between 1/1/2014 and 05/31/2018."
      ]
    },
    {
      "cell_type": "code",
      "metadata": {
        "solution2": "hidden",
        "id": "Ov1pLR51wk8R",
        "outputId": "e513d178-d81d-4e69-a18b-da94b9359412",
        "colab": {
          "base_uri": "https://localhost:8080/",
          "height": 447
        }
      },
      "source": [
        "# Not very appealing\n",
        "restaurants['INSPECTION DATE'].hist()"
      ],
      "execution_count": 26,
      "outputs": [
        {
          "output_type": "execute_result",
          "data": {
            "text/plain": [
              "<Axes: >"
            ]
          },
          "metadata": {},
          "execution_count": 26
        },
        {
          "output_type": "display_data",
          "data": {
            "text/plain": [
              "<Figure size 640x480 with 1 Axes>"
            ],
            "image/png": "[encoded data removed]"
          },
          "metadata": {}
        }
      ]
    },
    {
      "cell_type": "code",
      "metadata": {
        "solution2": "hidden",
        "id": "8mcbag4Ywk8U",
        "outputId": "e4b22057-10bf-4e57-f9e4-920f8037df97",
        "colab": {
          "base_uri": "https://localhost:8080/",
          "height": 447
        }
      },
      "source": [
        "restaurants['GRADE DATE'].hist()"
      ],
      "execution_count": 27,
      "outputs": [
        {
          "output_type": "execute_result",
          "data": {
            "text/plain": [
              "<Axes: >"
            ]
          },
          "metadata": {},
          "execution_count": 27
        },
        {
          "output_type": "display_data",
          "data": {
            "text/plain": [
              "<Figure size 640x480 with 1 Axes>"
            ],
            "image/png": "[encoded data removed]"
          },
          "metadata": {}
        }
      ]
    },
    {
      "cell_type": "code",
      "metadata": {
        "solution2": "hidden",
        "id": "Po--NIBcwk8Y",
        "outputId": "3ca0edd1-a332-4410-d536-2af3a9016eea",
        "colab": {
          "base_uri": "https://localhost:8080/",
          "height": 462
        }
      },
      "source": [
        "restaurants['INSPECTION DATE'].hist(\n",
        "    range = (pd.to_datetime('1-1-2019'),pd.to_datetime('6-30-2024')), # limit the range of dates, ignore the 1/1/1990 faulty valye\n",
        "    bins = 57, # number of months in the range -- computed manually\n",
        "    figsize = (15,5) # resize 15-width, 5-height\n",
        ")"
      ],
      "execution_count": 28,
      "outputs": [
        {
          "output_type": "execute_result",
          "data": {
            "text/plain": [
              "<Axes: >"
            ]
          },
          "metadata": {},
          "execution_count": 28
        },
        {
          "output_type": "display_data",
          "data": {
            "text/plain": [
              "<Figure size 1500x500 with 1 Axes>"
            ],
            "image/png": "[encoded data removed]"
          },
          "metadata": {}
        }
      ]
    },
    {
      "cell_type": "code",
      "metadata": {
        "solution2": "hidden",
        "id": "5yxaPemYwk8c",
        "outputId": "74393a43-a158-44ea-ad5f-71bb437ed06b",
        "colab": {
          "base_uri": "https://localhost:8080/",
          "height": 462
        }
      },
      "source": [
        "restaurants['GRADE DATE'].hist(\n",
        "    range = (pd.to_datetime('1-1-2019'),pd.to_datetime('6-30-2024')), # limit the range of dates, ignore the 1/1/1990 faulty valye\n",
        "    bins = 57, # number of months in the range -- computed manually\n",
        "    figsize = (15,5) # resize 15-width, 5-height\n",
        ")"
      ],
      "execution_count": 29,
      "outputs": [
        {
          "output_type": "execute_result",
          "data": {
            "text/plain": [
              "<Axes: >"
            ]
          },
          "metadata": {},
          "execution_count": 29
        },
        {
          "output_type": "display_data",
          "data": {
            "text/plain": [
              "<Figure size 1500x500 with 1 Axes>"
            ],
            "image/png": "[encoded data removed]"
          },
          "metadata": {}
        }
      ]
    },
    {
      "cell_type": "markdown",
      "metadata": {
        "id": "LGQEuXrAwk8g"
      },
      "source": [
        "### 2.5 Categorical Variables\n",
        "\n",
        "This is less important, but sometimes we want to specify variables to be \"Categorical\". This is most commonly useful when we have variables that have an implicit order (e.g., the A/B/C grade of the restaurant)."
      ]
    },
    {
      "cell_type": "code",
      "metadata": {
        "id": "vNtbtAHkwk8g"
      },
      "source": [
        "restaurants[\"BORO\"] =  pd.Categorical(restaurants[\"BORO\"], ordered=False)\n",
        "restaurants[\"GRADE\"] =  pd.Categorical(restaurants[\"GRADE\"], categories = ['A', 'B', 'C'], ordered=True)\n",
        "restaurants[\"VIOLATION CODE\"] =  pd.Categorical(restaurants[\"VIOLATION CODE\"], ordered=False)\n",
        "restaurants[\"CRITICAL FLAG\"] =  pd.Categorical(restaurants[\"CRITICAL FLAG\"], ordered=False)\n",
        "restaurants[\"ACTION\"] =  pd.Categorical(restaurants[\"ACTION\"], ordered=False)\n",
        "restaurants[\"CUISINE DESCRIPTION\"] =  pd.Categorical(restaurants[\"CUISINE DESCRIPTION\"], ordered=False)\n",
        "restaurants.dtypes"
      ],
      "execution_count": null,
      "outputs": []
    },
    {
      "cell_type": "markdown",
      "metadata": {
        "id": "xNGvJYWMwk8k"
      },
      "source": [
        "### 2.6 Analyzing the content of the columns"
      ]
    },
    {
      "cell_type": "markdown",
      "metadata": {
        "id": "hik9O-0Rwk8k"
      },
      "source": [
        "We can also get quick statistics about the common values that appear in each column:"
      ]
    },
    {
      "cell_type": "code",
      "metadata": {
        "id": "8sdaD0Aswk8l"
      },
      "source": [
        "restaurants[\"DBA\"].value_counts()[:10]"
      ],
      "execution_count": null,
      "outputs": []
    },
    {
      "cell_type": "code",
      "metadata": {
        "id": "zn0vAE_swk8n"
      },
      "source": [
        "restaurants[\"CUISINE DESCRIPTION\"].value_counts()[:5]"
      ],
      "execution_count": null,
      "outputs": []
    },
    {
      "cell_type": "markdown",
      "metadata": {
        "id": "eMroOATYwk8q"
      },
      "source": [
        "And we can use the \"plot\" command to plot the resulting histogram (more detail at http://pandas.pydata.org/pandas-docs/stable/visualization.html)."
      ]
    },
    {
      "cell_type": "code",
      "metadata": {
        "id": "UB5r-v28wk8q"
      },
      "source": [
        "restaurants[\"CUISINE DESCRIPTION\"].value_counts()[:5].plot(kind='bar')"
      ],
      "execution_count": null,
      "outputs": []
    },
    {
      "cell_type": "code",
      "metadata": {
        "id": "eAATOXFmwk8s"
      },
      "source": [
        "popular = restaurants[\"CUISINE DESCRIPTION\"].value_counts()\n",
        "popular"
      ],
      "execution_count": null,
      "outputs": []
    },
    {
      "cell_type": "markdown",
      "metadata": {
        "id": "PGbYsWOIwk8v"
      },
      "source": [
        "Hm, that does not look nice. Let's shorten the name of the cuisine for the _\"Latin (Cuban, Dominican, Puerto Rican, South & Central American)\"_ and replace it with _\"Latin American\"_. We will use the `replace` command in Pandas:"
      ]
    },
    {
      "cell_type": "code",
      "metadata": {
        "id": "sr7_DNMtwk8v"
      },
      "source": [
        "restaurants[\"CUISINE DESCRIPTION\"].replace(\n",
        "    to_replace='Latin (Cuban, Dominican, Puerto Rican, South & Central American)',\n",
        "    value = 'Latin American',\n",
        "    inplace=True\n",
        ")"
      ],
      "execution_count": null,
      "outputs": []
    },
    {
      "cell_type": "code",
      "metadata": {
        "id": "MrjE8i2rwk8x"
      },
      "source": [
        "restaurants[\"CUISINE DESCRIPTION\"].replace(\n",
        "    to_replace='CafÃ©/Coffee/Tea',\n",
        "    value = 'Cafe/Coffee/Tea',\n",
        "    inplace=True\n",
        ")"
      ],
      "execution_count": null,
      "outputs": []
    },
    {
      "cell_type": "code",
      "metadata": {
        "id": "RkKNAON2wk82"
      },
      "source": [
        "popular = restaurants[\"CUISINE DESCRIPTION\"].value_counts()\n",
        "popular[:5].plot(kind='bar')"
      ],
      "execution_count": null,
      "outputs": []
    },
    {
      "cell_type": "markdown",
      "metadata": {
        "id": "P1DpuojAwk84"
      },
      "source": [
        "Let's do the similar histogram for the violation codes."
      ]
    },
    {
      "cell_type": "code",
      "metadata": {
        "id": "URdZdjmUwk84"
      },
      "source": [
        "restaurants[\"VIOLATION CODE\"].head(5)"
      ],
      "execution_count": null,
      "outputs": []
    },
    {
      "cell_type": "code",
      "metadata": {
        "id": "0eFYof-owk89"
      },
      "source": [
        "violation_counts = restaurants[\"VIOLATION CODE\"].value_counts();\n",
        "violation_counts[0:10]"
      ],
      "execution_count": null,
      "outputs": []
    },
    {
      "cell_type": "code",
      "metadata": {
        "id": "gBUsWB8Rwk9C"
      },
      "source": [
        "violation_counts[0:20].plot(kind='bar')"
      ],
      "execution_count": null,
      "outputs": []
    },
    {
      "cell_type": "markdown",
      "metadata": {
        "id": "00AeH-W1wk9F"
      },
      "source": [
        "#### Plot: Exercise\n",
        "\n",
        "* Create a plot showing the number of inspections that happen across **boroughs**. Use the `BORO` column and the `value_counts()` function."
      ]
    },
    {
      "cell_type": "code",
      "metadata": {
        "solution2": "hidden",
        "id": "PISzAddHwk9I"
      },
      "source": [
        "restaurants['BORO'].value_counts()"
      ],
      "execution_count": null,
      "outputs": []
    },
    {
      "cell_type": "code",
      "metadata": {
        "solution2": "hidden",
        "id": "FaYyV1i8wk9K"
      },
      "source": [
        "# Same as above; works only for attribute names without spaces\n",
        "restaurants.BORO.value_counts()"
      ],
      "execution_count": null,
      "outputs": []
    },
    {
      "cell_type": "code",
      "metadata": {
        "solution2": "hidden",
        "id": "eJDsdmXmwk9O"
      },
      "source": [
        "restaurants['BORO'].value_counts().plot(kind='bar')"
      ],
      "execution_count": null,
      "outputs": []
    },
    {
      "cell_type": "code",
      "metadata": {
        "solution2": "hidden",
        "id": "pfjMWSclwk9R"
      },
      "source": [
        "restaurants['BORO'].value_counts().plot(kind='barh')"
      ],
      "execution_count": null,
      "outputs": []
    },
    {
      "cell_type": "markdown",
      "metadata": {
        "id": "hhe5c0YJwk9U"
      },
      "source": [
        "### 2.7 Selecting a subset of the columns\n",
        "\n",
        "In a dataframe, we can specify the column(s) that we want to keep, and get back another dataframe with just the subset of the columns that we want to keep."
      ]
    },
    {
      "cell_type": "code",
      "metadata": {
        "id": "DsKwH7lawk9V"
      },
      "source": [
        "restaurants[ [\"DBA\", \"GRADE\", \"GRADE DATE\"] ].head()"
      ],
      "execution_count": null,
      "outputs": []
    },
    {
      "cell_type": "code",
      "metadata": {
        "id": "5m65qOxzwk9Y"
      },
      "source": [
        "columns = [\"GRADE DATE\", \"VIOLATION CODE\", \"DBA\", \"SCORE\"]\n",
        "restaurants[ columns ].head()"
      ],
      "execution_count": null,
      "outputs": []
    },
    {
      "cell_type": "markdown",
      "metadata": {
        "id": "nUWPDjdSwk9b"
      },
      "source": [
        "### 2.8 Selecting rows\n",
        "\n",
        "To select rows, we can use the following approach, where we generate a list of boolean values, one for each row of the dataframe, and then we use the list to select which of the rows of the dataframe we want to keep."
      ]
    },
    {
      "cell_type": "code",
      "metadata": {
        "id": "qvMguNeIwk9c"
      },
      "source": [
        "# Create the condition \"has mice\" for code 04L\n",
        "mice = (restaurants[\"VIOLATION CODE\"] == \"04L\")\n",
        "mice.head()"
      ],
      "execution_count": null,
      "outputs": []
    },
    {
      "cell_type": "code",
      "metadata": {
        "id": "GHE4q-aiwk9e"
      },
      "source": [
        "# Apply the condition to the dataframe \"restaurants\" and store the result\n",
        "# in a dataframe called has_mice\n",
        "has_mice = restaurants[mice]\n",
        "has_mice.head()"
      ],
      "execution_count": null,
      "outputs": []
    },
    {
      "cell_type": "code",
      "metadata": {
        "id": "Uv1yARhFwk9i"
      },
      "source": [
        "# List the most frequent DBA values in the data of restaurants that have mice\n",
        "has_mice[\"DBA\"].value_counts()[:20]"
      ],
      "execution_count": null,
      "outputs": []
    },
    {
      "cell_type": "code",
      "metadata": {
        "id": "WbHNUCidwk9l"
      },
      "source": [
        "has_mice[\"CAMIS\"].value_counts()[:5]"
      ],
      "execution_count": null,
      "outputs": []
    },
    {
      "cell_type": "code",
      "metadata": {
        "id": "xIEC-CfQwk9s"
      },
      "source": [
        "condition = (has_mice[\"CAMIS\"] == '41259444')\n",
        "has_mice[condition].head()"
      ],
      "execution_count": null,
      "outputs": []
    },
    {
      "cell_type": "markdown",
      "metadata": {
        "id": "eA5M4O2awk9v"
      },
      "source": [
        "And we can use more complex conditions."
      ]
    },
    {
      "cell_type": "code",
      "metadata": {
        "id": "hScUFwCbwk9v"
      },
      "source": [
        "mice_Brooklyn =  ( (restaurants[\"VIOLATION CODE\"] == \"04L\")\n",
        "                    & (restaurants[\"BORO\"] == \"Brooklyn\") )"
      ],
      "execution_count": null,
      "outputs": []
    },
    {
      "cell_type": "code",
      "metadata": {
        "id": "EoEAoeBfwk9x"
      },
      "source": [
        "has_mice_brooklyn = restaurants[mice_Brooklyn]\n",
        "has_mice_brooklyn.head()"
      ],
      "execution_count": null,
      "outputs": []
    },
    {
      "cell_type": "code",
      "metadata": {
        "id": "6rUIz1g5wk92"
      },
      "source": [
        "has_mice_brooklyn[\"DBA\"].value_counts()[:20]"
      ],
      "execution_count": null,
      "outputs": []
    },
    {
      "cell_type": "markdown",
      "metadata": {
        "id": "E9-1jyK7wk96"
      },
      "source": [
        "### 2.9 Pivot Tables\n",
        "\n",
        "[Pivot tables](http://pandas.pydata.org/pandas-docs/stable/generated/pandas.pivot_table.html) is one of the most commonly used exploratory tools, and in Pandas they are extremely flexible.\n",
        "\n",
        "For example, let's try to count the number of restaurants that are inspected every day."
      ]
    },
    {
      "cell_type": "code",
      "metadata": {
        "id": "6Y1GtSBlwk96"
      },
      "source": [
        "pivot = pd.pivot_table(\n",
        "    data = restaurants,\n",
        "    index = 'INSPECTION DATE', # specifies the rows\n",
        "    values = 'CAMIS',  # specifies the content of the cells\n",
        "    aggfunc = 'count' # we ask to count how many different CAMIS values we see\n",
        ")"
      ],
      "execution_count": null,
      "outputs": []
    },
    {
      "cell_type": "code",
      "metadata": {
        "id": "7j-3HZ1-wk99"
      },
      "source": [
        "pivot.head(20)"
      ],
      "execution_count": null,
      "outputs": []
    },
    {
      "cell_type": "markdown",
      "metadata": {
        "id": "tIWryOgewk-B"
      },
      "source": [
        "Now, let's plot this. By default, Pandas considers the \"index\" column to be the x-axis, and plots the rest."
      ]
    },
    {
      "cell_type": "code",
      "metadata": {
        "id": "Wq1HEsXswk-C"
      },
      "source": [
        "pivot.plot()"
      ],
      "execution_count": null,
      "outputs": []
    },
    {
      "cell_type": "markdown",
      "metadata": {
        "id": "gg0RD9BPwk-E"
      },
      "source": [
        "#### 2.9.1 Deleting rows from a table\n",
        "\n",
        "Hm, that '1900-01-01' line is messing things up. Let's delete it, using the `drop` command. Notice a few things:\n",
        "* We use the `pd.to_datetime` command to convert the '1900-01-01' string into a datetime data type.\n",
        "* We use the `axis='index'` parameter means that we delete a **row** with that index value. (The `axis='columns'` means that we delete a column.). Often you will see `axis=0` (equivalent to `axis='index'`) and `axis=1` (equivalent to `axis='columns'`).\n",
        "* The `inplace=True` means that we change directly the dataframe, instead of returning a new dataframe that does not have the deleted value."
      ]
    },
    {
      "cell_type": "code",
      "metadata": {
        "id": "AEO1VtM1wk-E"
      },
      "source": [
        "pivot.drop(pd.to_datetime('1900-01-01'), axis='index', inplace=True)"
      ],
      "execution_count": null,
      "outputs": []
    },
    {
      "cell_type": "code",
      "metadata": {
        "id": "9kRrpCN-wk-I"
      },
      "source": [
        "pivot.head(5)"
      ],
      "execution_count": null,
      "outputs": []
    },
    {
      "cell_type": "markdown",
      "metadata": {
        "id": "po0qXUTowk-L"
      },
      "source": [
        "And let's plot again."
      ]
    },
    {
      "cell_type": "code",
      "metadata": {
        "id": "17iqbdqwwk-M"
      },
      "source": [
        "pivot.plot(figsize=(10,5))"
      ],
      "execution_count": null,
      "outputs": []
    },
    {
      "cell_type": "code",
      "metadata": {
        "id": "tWgHjXJDwk-O"
      },
      "source": [
        "pivot.tail(50).plot()"
      ],
      "execution_count": null,
      "outputs": []
    },
    {
      "cell_type": "markdown",
      "metadata": {
        "id": "TzoMFLoSwk-R"
      },
      "source": [
        "#### 2.9.2 Changing date granularity\n",
        "\n",
        "We can also use the [resample](http://pandas.pydata.org/pandas-docs/stable/generated/pandas.DataFrame.resample.html) command to change the frequency from one day, to, say, 7 days. Then we can compute, say, the average (`mean()`) for these days, or the total number (`sum()`) of inspections."
      ]
    },
    {
      "cell_type": "code",
      "metadata": {
        "id": "-s9j6HTqwk-R"
      },
      "source": [
        "pivot.resample('1W').mean().tail(10)"
      ],
      "execution_count": null,
      "outputs": []
    },
    {
      "cell_type": "markdown",
      "metadata": {
        "id": "sSdzs1C7wk-V"
      },
      "source": [
        "Now, let's plot this. By default, Pandas considers the \"index\" column to be the x-axis, and plots the rest."
      ]
    },
    {
      "cell_type": "code",
      "metadata": {
        "id": "BAp_0-m1wk-V"
      },
      "source": [
        "# Plot the average number of inspections, over 7-day periods\n",
        "pivot.resample('7D').mean().plot()"
      ],
      "execution_count": null,
      "outputs": []
    },
    {
      "cell_type": "code",
      "metadata": {
        "id": "mdk7pPOuwk-X"
      },
      "source": [
        "# Plot the total number of inspections, over 1-month periods\n",
        "pivot.resample('1M').sum().plot()"
      ],
      "execution_count": null,
      "outputs": []
    },
    {
      "cell_type": "code",
      "metadata": {
        "id": "_0ZSh9jpwk-a"
      },
      "source": [
        "plot = pivot.resample('7D').mean().plot()\n",
        "plot.set_xlabel(\"Date of Inspection\")\n",
        "plot.set_ylabel(\"Average Number of Inspections (7-day average)\")\n",
        "plot.set_title(\"Analysis of Number of Inspections over Time\")"
      ],
      "execution_count": null,
      "outputs": []
    },
    {
      "cell_type": "markdown",
      "metadata": {
        "id": "9okSlSYHwk-c"
      },
      "source": [
        "#### 2.9.3 Pivot Table with two (or more) variables)\n",
        "\n",
        "We would like to break down the results by **borough**, so we add the `column` parameter."
      ]
    },
    {
      "cell_type": "code",
      "metadata": {
        "id": "fYkpKohiwk-c"
      },
      "source": [
        "pivot2 = pd.pivot_table(\n",
        "    data = restaurants,\n",
        "    index = 'INSPECTION DATE',\n",
        "    columns = 'BORO',\n",
        "    values = 'CAMIS',\n",
        "    aggfunc = 'count'\n",
        ")\n",
        "pivot2.head(10)"
      ],
      "execution_count": null,
      "outputs": []
    },
    {
      "cell_type": "markdown",
      "metadata": {
        "id": "5uJKKcvnwk-g"
      },
      "source": [
        "###### Deleting rows and columns\n",
        "\n",
        "Now, you will notice that there are a few columns and rows that are just noise. The first row with date *'1900-01-01'* is clearly noise. We can use the `drop` command of Pandas to drop these."
      ]
    },
    {
      "cell_type": "code",
      "metadata": {
        "id": "_bJwxZgLwk-h"
      },
      "source": [
        "# The axis='index' (or axis=0) means that we delete a row with that index value\n",
        "pivot2 = pivot2.drop(pd.to_datetime('1900-01-01'), axis='index')"
      ],
      "execution_count": null,
      "outputs": []
    },
    {
      "cell_type": "code",
      "metadata": {
        "id": "1MwDTXrQwk-j"
      },
      "source": [
        "pivot2.tail(5)"
      ],
      "execution_count": null,
      "outputs": []
    },
    {
      "cell_type": "code",
      "metadata": {
        "id": "sOXmFAvtwk-k"
      },
      "source": [
        "# We resample the index, to keep only dates every one month\n",
        "# For that one month period, we compute the average value\n",
        "pivot2.resample('1M').mean().tail(10)"
      ],
      "execution_count": null,
      "outputs": []
    },
    {
      "cell_type": "markdown",
      "metadata": {
        "id": "XMqjuc_DSqVK"
      },
      "source": [
        "If we plot a dataframe then by default the index column in our case the INSPECTION DATE becomes the x-asis and all the columns become separate lines in the plot."
      ]
    },
    {
      "cell_type": "code",
      "metadata": {
        "id": "nDFJlW-Wwk-o"
      },
      "source": [
        "pivot2.resample('1M').mean().plot(figsize=(10,5))\n",
        "\n",
        "# Potential Exercise, if we have time:\n",
        "# Drop the last date, which corresponds to an incomplete month"
      ],
      "execution_count": null,
      "outputs": []
    },
    {
      "cell_type": "markdown",
      "metadata": {
        "id": "jv3Gmt0fwk-r"
      },
      "source": [
        "### 2.10 (Optional, FYI) Advanced Pivot Tables\n",
        "\n",
        "We can also add multiple attributes in the index and columns. It is also possible to have multiple aggregation functions, and we can even define our own aggregation functions."
      ]
    },
    {
      "cell_type": "code",
      "metadata": {
        "id": "Tg1vNNu4wk-s"
      },
      "source": [
        "# We write a function that returns the\n",
        "# number of unique items in a list x\n",
        "def count_unique(x):\n",
        "    return len(set(x))\n",
        "\n",
        "# We break down by BORO and GRADE, and also calculate\n",
        "# inspections in unique (unique restaurants)\n",
        "# and non-unique entries (effectuvely, violations)\n",
        "pivot_advanced = pd.pivot_table(\n",
        "    data = restaurants,\n",
        "    index = 'GRADE DATE',\n",
        "    columns = ['BORO', 'GRADE'],\n",
        "    values = 'CAMIS',\n",
        "    aggfunc = ['count', count_unique]\n",
        ")\n",
        "\n",
        "# Take the total number of inspections (unique and non-unique)\n",
        "agg = pivot_advanced.resample('1M').sum()\n",
        "\n",
        "# Show the last 5 entries and show the transpose (.T)\n",
        "agg.tail().T"
      ],
      "execution_count": null,
      "outputs": []
    },
    {
      "cell_type": "markdown",
      "metadata": {
        "id": "KkhVHlADTDoQ"
      },
      "source": [
        "### 2.11 Exercises"
      ]
    },
    {
      "cell_type": "markdown",
      "metadata": {
        "id": "9vczTft0wk-t"
      },
      "source": [
        "#### Exercise 1\n",
        "\n",
        "Now let's do the same exercise, but instead of counting the number of inspections, we want to compute the average score assigned by the inspectors. Hint: We will need to change the `values` and the `aggfunc` parameters in the `pivot_table` function above."
      ]
    },
    {
      "cell_type": "code",
      "metadata": {
        "id": "5gbdVFkqwk-t"
      },
      "source": [
        "pivot = pd.pivot_table(\n",
        "    data = restaurants,\n",
        "    index = 'INSPECTION DATE', # specifies the rows\n",
        "    values = 'SCORE',  # specifies the content of the cells\n",
        "    aggfunc = 'mean' # compute the average SCORE\n",
        ")"
      ],
      "execution_count": null,
      "outputs": []
    },
    {
      "cell_type": "code",
      "metadata": {
        "id": "bqmrzuMkwk-v"
      },
      "source": [
        "pivot.plot(figsize=(10,4))"
      ],
      "execution_count": null,
      "outputs": []
    },
    {
      "cell_type": "code",
      "metadata": {
        "id": "RaW0JEEiwk-y"
      },
      "source": [
        "pivot.resample('1M').mean().tail(10)"
      ],
      "execution_count": null,
      "outputs": []
    },
    {
      "cell_type": "markdown",
      "metadata": {
        "id": "BTJDTxoNwk-0"
      },
      "source": [
        "#### Exercise 2\n",
        "\n",
        "We now want to examine if different cuisines have different inspection scores. Compute the average inspection score by cuisine. Use the `sort_values()` command ([documentation](https://pandas.pydata.org/pandas-docs/stable/generated/pandas.DataFrame.sort_values.html)) to order cuisines by their inspection scores."
      ]
    },
    {
      "cell_type": "code",
      "metadata": {
        "id": "VhBbnlQDwk-1"
      },
      "source": [
        "pivot = pd.pivot_table(\n",
        "    data = restaurants,\n",
        "    index = 'INSPECTION DATE', # dates are the rows\n",
        "    columns = 'CUISINE DESCRIPTION', # cuisines are the columns\n",
        "    values = 'SCORE',  # we analyze the SCORE\n",
        "    aggfunc = 'mean' # compute the average SCORE\n",
        ")\n",
        "# Select 3 columns (american, frenchn, chinese), compute the average score for a month\n",
        "# and plot the results\n",
        "pivot[ [\"American\", \"French\", \"Chinese\"] ].resample('1M').mean().plot(figsize=(10,4))\n",
        "plt.ylabel(\"score\");"
      ],
      "execution_count": null,
      "outputs": []
    },
    {
      "cell_type": "markdown",
      "metadata": {
        "id": "LqMOvblbwk-3"
      },
      "source": [
        "## 3. NYPD Vehicle Collisions\n",
        "\n",
        "So farm we interacted with the NYC Restaurant Inspection Data. Now, let's download another dataset, and do some analysis. We will focus on the [NYPD Vehicle Collisions](https://data.cityofnewyork.us/Public-Safety/NYPD-Motor-Vehicle-Collisions/h9gi-nx95/data) data set.\n"
      ]
    },
    {
      "cell_type": "markdown",
      "metadata": {
        "id": "uOWBR-6jwk-7"
      },
      "source": [
        "### 3.1 Introduction to the dataset\n",
        "Load the accidents dataset from url\n"
      ]
    },
    {
      "cell_type": "code",
      "metadata": {
        "id": "Vw6aElQ9wk-7"
      },
      "source": [
        "df = pd.read_csv('https://data.cityofnewyork.us/api/views/h9gi-nx95/rows.csv?accessType=DOWNLOAD', low_memory=False)"
      ],
      "execution_count": null,
      "outputs": []
    },
    {
      "cell_type": "code",
      "metadata": {
        "id": "_Eu4nr9P4e3D"
      },
      "source": [
        "df.head()"
      ],
      "execution_count": null,
      "outputs": []
    },
    {
      "cell_type": "markdown",
      "metadata": {
        "id": "aaPumUgYwk-_"
      },
      "source": [
        "Or we can first download it and then load it with pandas"
      ]
    },
    {
      "cell_type": "code",
      "metadata": {
        "id": "yZyztn6-wk_B"
      },
      "source": [
        "# !curl 'https://data.cityofnewyork.us/api/views/h9gi-nx95/rows.csv?accessType=DOWNLOAD' -o data/accidents.csv"
      ],
      "execution_count": null,
      "outputs": []
    },
    {
      "cell_type": "code",
      "metadata": {
        "id": "C4Ygksw5wk_E"
      },
      "source": [
        "# df = pd.read_csv(\"data/accidents.csv\", low_memory=False)"
      ],
      "execution_count": null,
      "outputs": []
    },
    {
      "cell_type": "code",
      "metadata": {
        "id": "61lceS7cwk_H"
      },
      "source": [
        "len(df)"
      ],
      "execution_count": null,
      "outputs": []
    },
    {
      "cell_type": "markdown",
      "metadata": {
        "id": "NXMoU2tgUpST"
      },
      "source": [
        "### 3.2 Plots, graphs and pivot tables"
      ]
    },
    {
      "cell_type": "markdown",
      "metadata": {
        "id": "UqGlRMz2wk_J"
      },
      "source": [
        "Find out the most common contributing factors to the collisions.\n",
        ""
      ]
    },
    {
      "cell_type": "code",
      "metadata": {
        "id": "coGEV_ZTwk_K"
      },
      "source": [
        "df['CONTRIBUTING FACTOR VEHICLE 1'].value_counts().head(11)"
      ],
      "execution_count": null,
      "outputs": []
    },
    {
      "cell_type": "markdown",
      "metadata": {
        "id": "hC16MAZ3wk_N"
      },
      "source": [
        "Now let's plot a histogram of the above list. Note that we skip the first element."
      ]
    },
    {
      "cell_type": "code",
      "metadata": {
        "id": "QNWjM8Viwk_N"
      },
      "source": [
        "df['CONTRIBUTING FACTOR VEHICLE 1'].value_counts()[1:11].plot(kind='barh')"
      ],
      "execution_count": null,
      "outputs": []
    },
    {
      "cell_type": "markdown",
      "metadata": {
        "id": "dS4Wb_pcwk_P"
      },
      "source": [
        "Break down the number of collisions by borough."
      ]
    },
    {
      "cell_type": "code",
      "metadata": {
        "id": "xwfGExyUwk_P"
      },
      "source": [
        "df.BOROUGH.value_counts().plot(kind='barh')"
      ],
      "execution_count": null,
      "outputs": []
    },
    {
      "cell_type": "markdown",
      "metadata": {
        "id": "1dCgpcHewk_Q"
      },
      "source": [
        "Find out how many collisions had 0 person injured, 1 person injured, etc. persons injured in each accident. Use the `value_counts()` approach. You may also find the `.plot(logy=True)` option useful when you create the plot to make the y-axis logarigthmic.\n",
        ""
      ]
    },
    {
      "cell_type": "code",
      "metadata": {
        "id": "uMSpmACuwk_R"
      },
      "source": [
        "plot = (\n",
        "    df['NUMBER OF PERSONS INJURED'] # take the num of injuries column\n",
        "    .value_counts() # compure the freuquency of each value\n",
        "    .sort_index() # sort the results based on the index value instead of the frequency,\n",
        "                  # which is the default for value_counts\n",
        "    .plot( # and plot the results\n",
        "        kind='line', # we use a line plot because the x-axis is numeric/continuous\n",
        "        marker='o',  # we use a marker to mark where we have data points\n",
        "        logy=True # make the y-axis logarithmic\n",
        "    )\n",
        ")\n",
        "plot.set_xlabel(\"Number of injuries\")\n",
        "plot.set_ylabel(\"Number of collisions\");"
      ],
      "execution_count": null,
      "outputs": []
    },
    {
      "cell_type": "markdown",
      "metadata": {
        "id": "edXOZ109wk_S"
      },
      "source": [
        "Break down the accidents by borough and contributing factor. Use the `pivot_table` function of Pandas\n",
        ""
      ]
    },
    {
      "cell_type": "code",
      "metadata": {
        "id": "fdsmzkZUwk_S"
      },
      "source": [
        "pivot = pd.pivot_table(\n",
        "    data = df,\n",
        "    index = 'CONTRIBUTING FACTOR VEHICLE 1',\n",
        "    columns = 'BOROUGH',\n",
        "    aggfunc = 'count',\n",
        "    values = 'COLLISION_ID'\n",
        ")\n",
        "pivot.head(10)"
      ],
      "execution_count": null,
      "outputs": []
    },
    {
      "cell_type": "markdown",
      "metadata": {
        "id": "ImuhF-Evwk_T"
      },
      "source": [
        "Find the dates with the most accidents. Can you figure out what happened on these days?\n"
      ]
    },
    {
      "cell_type": "code",
      "metadata": {
        "id": "VRjpidDSwk_T"
      },
      "source": [
        "df[\"CRASH DATE\"].value_counts().head(10)"
      ],
      "execution_count": null,
      "outputs": []
    },
    {
      "cell_type": "markdown",
      "metadata": {
        "id": "2X-81qUGwk_W"
      },
      "source": [
        "Plot the number of accidents per day. (Hint: Ensure that your date column is in the right datatype and that it is properly sorted, before plotting)\n"
      ]
    },
    {
      "cell_type": "code",
      "metadata": {
        "id": "pQU3ghozwk_W"
      },
      "source": [
        "df[\"CRASH DATE\"] = pd.to_datetime(df[\"CRASH DATE\"], format=\"%m/%d/%Y\")"
      ],
      "execution_count": null,
      "outputs": []
    },
    {
      "cell_type": "code",
      "metadata": {
        "solution2": "hidden",
        "id": "1tb4v7QFwk_Y"
      },
      "source": [
        "(\n",
        "    df[\"CRASH DATE\"].value_counts() # count the number of accidents per day\n",
        "    .sort_index() # sort the dates\n",
        "    .resample('1M') # take periods of 1 month\n",
        "    .sum() # sum the number of accidents per month\n",
        "    .drop(pd.to_datetime('2019-04-30'), axis='index') # drop the current month\n",
        "    .plot() # plot the result\n",
        ");"
      ],
      "execution_count": null,
      "outputs": []
    },
    {
      "cell_type": "markdown",
      "metadata": {
        "id": "Y22n-5VJwk_Z"
      },
      "source": [
        "Plot the accidents in map. Use a scatter plot using the `plot(kind='scatter', x=..., y=....)` command, and use the `LATITUDE` and `LONGITUDE` parameters. (Hint: **You will have to remove bad data points before getting into the right visual result**. To do this, specify a selection condition to limit the lat/long values to be values that are proper for the NYC region.)"
      ]
    },
    {
      "cell_type": "code",
      "metadata": {
        "id": "-8BgKbdQwk_a"
      },
      "source": [
        "cleandf = df[(df.LONGITUDE<-50) & (df.LONGITUDE>-74.5) & (df.LATITUDE< 41)]\n",
        "\n",
        "cleandf[ (df.LATITUDE>40) & (df.LATITUDE<41) & (df.LONGITUDE> -74.6) & (df.LONGITUDE<-50) ].plot(\n",
        "    figsize = (20,15),\n",
        "    kind = 'scatter',\n",
        "    x = 'LONGITUDE',\n",
        "    y = 'LATITUDE',\n",
        "    s = 1, # make each dot to be very small\n",
        "    alpha = 0.05 # makes each point 95% transparent\n",
        ")\n"
      ],
      "execution_count": null,
      "outputs": []
    },
    {
      "cell_type": "markdown",
      "metadata": {
        "id": "LBAhTwLrwk_h"
      },
      "source": [
        "Plot the accidents in map as above, but limit the data only to accidents with at least one injury."
      ]
    },
    {
      "cell_type": "code",
      "metadata": {
        "solution2": "hidden",
        "id": "FhpBeeY-wk_i"
      },
      "source": [
        "mask_injured = cleandf['NUMBER OF PERSONS INJURED']>=1\n",
        "injured_df = cleandf[mask_injured]\n",
        "\n",
        "injured_df.plot(\n",
        "    kind = 'scatter',\n",
        "    x = 'LONGITUDE',\n",
        "    y = 'LATITUDE',\n",
        "    s = 1, # make the size of the marker 1 pixel\n",
        "    figsize = (20,15), # increase the size of the figure\n",
        "    alpha = 0.05 # make each dot to be 95% transparent\n",
        ")"
      ],
      "execution_count": null,
      "outputs": []
    },
    {
      "cell_type": "markdown",
      "metadata": {
        "id": "nAOhFrcmwk_n"
      },
      "source": [
        "### 3.3 2d histograms, density plots, and contour plots\n",
        "In the picture above, we can visually see that Manhattan, especially eastern midtown, and the area downtown near the entrance to the bridges, has a higher density. We can also derive histograms and density plots on 2-dimensions."
      ]
    },
    {
      "cell_type": "markdown",
      "metadata": {
        "id": "ReZjGc3Gwk_n"
      },
      "source": [
        "#### 3.3.1 Hexagonal bin plot\n",
        "The hexbin plot created a 2-d histogram, where the color signals the number of points within a particular area. The `gridsize` parameter indicates the number of hexagones in the x direction. Higher values offer higher granularity, but very high values tend to create sparsity, when we do not have enough data points."
      ]
    },
    {
      "cell_type": "code",
      "metadata": {
        "id": "L6VvnKkhwk_n"
      },
      "source": [
        "# Hexbin plot\n",
        "cleandf.plot(\n",
        "    kind='hexbin',\n",
        "    x='LONGITUDE',\n",
        "    y='LATITUDE',\n",
        "    gridsize=100,\n",
        "    cmap=plt.cm.Blues,\n",
        "    figsize=(10, 7))"
      ],
      "execution_count": null,
      "outputs": []
    },
    {
      "cell_type": "markdown",
      "metadata": {
        "id": "VUFYZc6nwk_q"
      },
      "source": [
        "#### 3.3.2 2d density  and contour plots\n",
        "An alternative to the hexbin plots is to use density plots in two dimensions."
      ]
    },
    {
      "cell_type": "code",
      "metadata": {
        "id": "nfq8xEMAwk_r"
      },
      "source": [
        "# Basic 2D density plot\n",
        "plt.subplots(figsize=(20, 15))\n",
        "\n",
        "# We take a sample, because density plots take a long time to compute\n",
        "# and a sample is typically as good as the full dataset\n",
        "sample = cleandf.sample(10000)\n",
        "\n",
        "sns.kdeplot(\n",
        "    sample.LONGITUDE,\n",
        "    sample.LATITUDE,\n",
        "    gridsize=100,  # controls the resolution\n",
        "    cmap=plt.cm.rainbow,  # color scheme\n",
        "    shade= True, # whether to have a density plot (True), or just the contours (False)\n",
        "    alpha=0.5,\n",
        "    shade_lowest=False,\n",
        "    n_levels=50  # How many contours/levels to have\n",
        ")"
      ],
      "execution_count": null,
      "outputs": []
    },
    {
      "cell_type": "code",
      "metadata": {
        "id": "5bArlRc1wk_v"
      },
      "source": [
        "# Basic 2D contour plot\n",
        "plt.subplots(figsize=(20, 15))\n",
        "\n",
        "# We take a sample, because density plots take a long time to compute\n",
        "# and a sample is typically as good as the full dataset\n",
        "sample = cleandf.sample(10000)\n",
        "\n",
        "sns.kdeplot(\n",
        "    sample.LONGITUDE,\n",
        "    sample.LATITUDE,\n",
        "    gridsize=100,\n",
        "    cmap=plt.cm.rainbow,\n",
        "    shade=False,\n",
        "    shade_lowest=False,\n",
        "    n_levels=25)"
      ],
      "execution_count": null,
      "outputs": []
    },
    {
      "cell_type": "markdown",
      "metadata": {
        "id": "Ww-z3flPwk_y"
      },
      "source": [
        "### 3.4 Combining plots\n",
        "So far, we examined how to create individual plots. We can even combine multiple plots together, using the ax parameter. So, let's say that we want to combine the scatter plots with the contour plot above:"
      ]
    },
    {
      "cell_type": "code",
      "metadata": {
        "id": "H81Nnlbhwk_y"
      },
      "source": [
        "sample = cleandf.sample(10000)\n",
        "\n",
        "scatterplot = cleandf.plot(\n",
        "    kind='scatter',\n",
        "    x='LONGITUDE',\n",
        "    y='LATITUDE',\n",
        "    figsize=(20, 15),\n",
        "    s=0.5,\n",
        "    alpha=0.1)\n",
        "\n",
        "sns.kdeplot(\n",
        "    sample.LONGITUDE,\n",
        "    sample.LATITUDE,\n",
        "    gridsize=100,\n",
        "    cmap=plt.cm.rainbow,\n",
        "    shade=False,\n",
        "    shade_lowest=False,\n",
        "    n_levels=20,\n",
        "    alpha=1,\n",
        "    ax=scatterplot)"
      ],
      "execution_count": null,
      "outputs": []
    },
    {
      "cell_type": "markdown",
      "metadata": {
        "id": "5dt7a8sdwk_z"
      },
      "source": [
        "### 3.5 Bonus plots"
      ]
    },
    {
      "cell_type": "code",
      "metadata": {
        "id": "Tt2wKdd_wk_z"
      },
      "source": [
        "# In the code below, we create three plots\n",
        "# One with all the accidents (in black)\n",
        "# One with all accidents that resulted in an injury (with orange)\n",
        "# One with all the accidents with deaths (with red dots)\n",
        "# Then wen combine the  plots using the \"ax\" parameter\n",
        "\n",
        "# We put conditions to keep only rows that\n",
        "# have reasonable values for LONGITUDE and LATITUDE\n",
        "# The & character is the \"AND\" in Pandas\n",
        "# the df.LATITUDE is equivalent to df['LATITUDE']\n",
        "cleandf = df[ (df.LATITUDE > 40) & (df.LATITUDE < 41) & (df.LONGITUDE < -72) & (df.LONGITUDE > -74.5) ]\n",
        "\n",
        "\n",
        "all_accidents_plot = cleandf.plot (\n",
        "    kind='scatter',\n",
        "    x = 'LONGITUDE',\n",
        "    y = 'LATITUDE',\n",
        "    figsize = (20, 18), # changes the size of the plot to be bigger and square\n",
        "    color = 'black',\n",
        "    alpha = 0.05, # makes the data points transparent (1 = opaque, 0 fully transparent)\n",
        "    s = 0.5 # make the size of the market just 0.5 pixel\n",
        ")\n",
        "\n",
        "# We will keep only entries with at least one injury\n",
        "# note that we cannot use the df.NUMBER OF PERSON INJURED notation\n",
        "# because the attribute contains spaces.\n",
        "mask_injured = cleandf['NUMBER OF PERSONS INJURED']>=1\n",
        "injured_plot = cleandf[mask_injured].plot (\n",
        "    kind='scatter',\n",
        "    x = 'LONGITUDE',\n",
        "    y = 'LATITUDE',\n",
        "    figsize = (20, 18), # changes the size of the plot to be bigger and square\n",
        "    alpha = 0.1, # makes the data points transparent (1 = opaque, 0 fully transparent)\n",
        "    color = 'orange',\n",
        "    ax = all_accidents_plot, # the ax parameter allows us to combine plots\n",
        "    s = 1 # make the size of the market just 1 pixel\n",
        ")\n",
        "\n",
        "# we want only accidents with at least one death\n",
        "mask_killed = cleandf['NUMBER OF PERSONS KILLED']>=1\n",
        "cleandf[mask_killed].plot (\n",
        "    kind='scatter',\n",
        "    x = 'LONGITUDE',\n",
        "    y = 'LATITUDE',\n",
        "    figsize = (20, 18), # changes the size of the plot to be bigger and square\n",
        "    alpha = 0.85, # makes the data points transparent (1 = opaque, 0 fully transparent)\n",
        "    s = 5, # make the size of the market 5 pixels, to be more visible\n",
        "    color = 'red',\n",
        "    ax = injured_plot # the ax parameter allows us to combine plots\n",
        ")"
      ],
      "execution_count": null,
      "outputs": []
    },
    {
      "cell_type": "code",
      "metadata": {
        "id": "i_HRc9-Vwk_0"
      },
      "source": [
        "# Same as above, but with a 2-d density estimation for the location of\n",
        "# accidents that resulted in at least one death\n",
        "\n",
        "cleandf = df[ (df.LATITUDE > 40) & (df.LATITUDE < 41) & (df.LONGITUDE < -72) & (df.LONGITUDE > -74.5) ]\n",
        "\n",
        "\n",
        "all_accidents_plot = cleandf.plot (\n",
        "    kind='scatter',\n",
        "    x = 'LONGITUDE',\n",
        "    y = 'LATITUDE',\n",
        "    figsize = (20, 18), # changes the size of the plot to be bigger and square\n",
        "    color = 'black',\n",
        "    alpha = 0.05, # makes the data points transparent (1 = opaque, 0 fully transparent)\n",
        "    s = 0.5 # make the size of the market just 0.5 pixel\n",
        ")\n",
        "\n",
        "# We will keep only entries with at least one injury\n",
        "# note that we cannot use the df.NUMBER OF PERSON INJURED notation\n",
        "# because the attribute contains spaces.\n",
        "mask_injured = cleandf['NUMBER OF PERSONS INJURED']>=1\n",
        "injured_plot = cleandf[mask_injured].plot (\n",
        "    kind='scatter',\n",
        "    x = 'LONGITUDE',\n",
        "    y = 'LATITUDE',\n",
        "    figsize = (20, 18), # changes the size of the plot to be bigger and square\n",
        "    alpha = 0.1, # makes the data points transparent (1 = opaque, 0 fully transparent)\n",
        "    color = 'orange',\n",
        "    ax = all_accidents_plot, # the ax parameter allows us to combine plots\n",
        "    s = 1 # make the size of the market just 1 pixel\n",
        ")\n",
        "\n",
        "# we want only accidents with at least one death\n",
        "mask_killed = cleandf['NUMBER OF PERSONS KILLED']>=1\n",
        "killed_plot = cleandf[mask_killed].plot (\n",
        "    kind='scatter',\n",
        "    x = 'LONGITUDE',\n",
        "    y = 'LATITUDE',\n",
        "    figsize = (20, 18), # changes the size of the plot to be bigger and square\n",
        "    alpha = 0.85, # makes the data points transparent (1 = opaque, 0 fully transparent)\n",
        "    s = 5, # make the size of the market 5 pixels, to be more visible\n",
        "    color = 'red',\n",
        "    ax = injured_plot # the ax parameter allows us to combine plots\n",
        ")\n",
        "\n",
        "sns.set_style(\"white\")\n",
        "mask = cleandf['NUMBER OF PERSONS KILLED']>=1\n",
        "sample = cleandf[mask] # .sample(10000)\n",
        "\n",
        "sns.kdeplot(sample.LONGITUDE, sample.LATITUDE, gridsize=100,\n",
        "            cmap=plt.cm.BuGn, shade=False, shade_lowest=True, n_levels=20, alpha=0.75, ax = killed_plot)"
      ],
      "execution_count": null,
      "outputs": []
    },
    {
      "cell_type": "code",
      "metadata": {
        "id": "qx7eMUsx6AuY"
      },
      "source": [],
      "execution_count": null,
      "outputs": []
    }
  ]
}