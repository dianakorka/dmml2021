{
  "nbformat": 4,
  "nbformat_minor": 0,
  "metadata": {
    "colab": {
      "name": "Exercises.ipynb",
      "provenance": [],
      "collapsed_sections": [],
      "authorship_tag": "ABX9TyP38CK+pUSRL6zUkigQGAGf",
      "include_colab_link": true
    },
    "kernelspec": {
      "name": "python3",
      "display_name": "Python 3"
    }
  },
  "cells": [
    {
      "cell_type": "markdown",
      "metadata": {
        "id": "view-in-github",
        "colab_type": "text"
      },
      "source": [
        "<a href=\"https://colab.research.google.com/github/michalis0/DataMining_and_MachineLearning/blob/master/week3/Exercises/Exercises.ipynb\" target=\"_parent\"><img src=\"https://colab.research.google.com/assets/colab-badge.svg\" alt=\"Open In Colab\"/></a>"
      ]
    },
    {
      "cell_type": "markdown",
      "metadata": {
        "id": "snDDm7Nwby6w"
      },
      "source": [
        "# Data Mining and Machine Learning - Week 3\n",
        "# Exercises\n",
        "\n",
        "### Table of Contents\n",
        "#### Exercise 1: Advanced Pandas Operations\n",
        "#### Exercise 2: EDA and Visualization"
      ]
    },
    {
      "cell_type": "markdown",
      "metadata": {
        "id": "dfjRPxKIcE-n"
      },
      "source": [
        "## Exercise 1: Advanced Pandas Operations\n"
      ]
    },
    {
      "cell_type": "code",
      "metadata": {
        "id": "VFxE6lmZkyWW"
      },
      "source": [
        "# Import requiered packages\n",
        "import pandas as pd\n",
        "import matplotlib.pyplot as plt"
      ],
      "execution_count": 1,
      "outputs": []
    },
    {
      "cell_type": "markdown",
      "metadata": {
        "id": "yjMYrYEwdd6h"
      },
      "source": [
        "### A. Merge\n",
        "In this simple exercise, we illustrate the concepts of inner, outer, left and right joins."
      ]
    },
    {
      "cell_type": "code",
      "metadata": {
        "id": "r7V1YB9VcECQ",
        "outputId": "5e083f85-d97c-482b-c21c-b9f83630cd83",
        "colab": {
          "base_uri": "https://localhost:8080/",
          "height": 173
        }
      },
      "source": [
        "# Create a first DataFrame\n",
        "data_1 = {'ID':  ['12345678', '11223344', '87654321', '44332211'],\n",
        "        'First Name': ['George', 'Abraham', 'Harry S.', 'Richard'],\n",
        "         'Last Name': ['Washington', 'Lincoln', 'Truman', 'Nixon'],\n",
        "          'Party': ['Unaffiliated', 'Republican', 'Democratic', 'Republican'],\n",
        "        }\n",
        "\n",
        "df_1 = pd.DataFrame(data_1)\n",
        "\n",
        "df_1"
      ],
      "execution_count": 2,
      "outputs": [
        {
          "output_type": "execute_result",
          "data": {
            "text/html": [
              "<div>\n",
              "<style scoped>\n",
              "    .dataframe tbody tr th:only-of-type {\n",
              "        vertical-align: middle;\n",
              "    }\n",
              "\n",
              "    .dataframe tbody tr th {\n",
              "        vertical-align: top;\n",
              "    }\n",
              "\n",
              "    .dataframe thead th {\n",
              "        text-align: right;\n",
              "    }\n",
              "</style>\n",
              "<table border=\"1\" class=\"dataframe\">\n",
              "  <thead>\n",
              "    <tr style=\"text-align: right;\">\n",
              "      <th></th>\n",
              "      <th>ID</th>\n",
              "      <th>First Name</th>\n",
              "      <th>Last Name</th>\n",
              "      <th>Party</th>\n",
              "    </tr>\n",
              "  </thead>\n",
              "  <tbody>\n",
              "    <tr>\n",
              "      <th>0</th>\n",
              "      <td>12345678</td>\n",
              "      <td>George</td>\n",
              "      <td>Washington</td>\n",
              "      <td>Unaffiliated</td>\n",
              "    </tr>\n",
              "    <tr>\n",
              "      <th>1</th>\n",
              "      <td>11223344</td>\n",
              "      <td>Abraham</td>\n",
              "      <td>Lincoln</td>\n",
              "      <td>Republican</td>\n",
              "    </tr>\n",
              "    <tr>\n",
              "      <th>2</th>\n",
              "      <td>87654321</td>\n",
              "      <td>Harry S.</td>\n",
              "      <td>Truman</td>\n",
              "      <td>Democratic</td>\n",
              "    </tr>\n",
              "    <tr>\n",
              "      <th>3</th>\n",
              "      <td>44332211</td>\n",
              "      <td>Richard</td>\n",
              "      <td>Nixon</td>\n",
              "      <td>Republican</td>\n",
              "    </tr>\n",
              "  </tbody>\n",
              "</table>\n",
              "</div>"
            ],
            "text/plain": [
              "         ID First Name   Last Name         Party\n",
              "0  12345678     George  Washington  Unaffiliated\n",
              "1  11223344    Abraham     Lincoln    Republican\n",
              "2  87654321   Harry S.      Truman    Democratic\n",
              "3  44332211    Richard       Nixon    Republican"
            ]
          },
          "metadata": {
            "tags": []
          },
          "execution_count": 2
        }
      ]
    },
    {
      "cell_type": "code",
      "metadata": {
        "id": "fKdDNeZFgwCH",
        "outputId": "20593769-320f-4e7a-f25c-02a322b1c7fe",
        "colab": {
          "base_uri": "https://localhost:8080/",
          "height": 266
        }
      },
      "source": [
        "# Create a second DataFrame\n",
        "data_2 = {'ID':  ['12345678', '11223344', '88888888', '44332211', '11111111', '22222222', '33333333'],\n",
        "        'Grade': [4, 2.5, 5.5, 6, 3.5, 4, 4]\n",
        "        }\n",
        "\n",
        "df_2 = pd.DataFrame(data_2)\n",
        "\n",
        "df_2"
      ],
      "execution_count": 3,
      "outputs": [
        {
          "output_type": "execute_result",
          "data": {
            "text/html": [
              "<div>\n",
              "<style scoped>\n",
              "    .dataframe tbody tr th:only-of-type {\n",
              "        vertical-align: middle;\n",
              "    }\n",
              "\n",
              "    .dataframe tbody tr th {\n",
              "        vertical-align: top;\n",
              "    }\n",
              "\n",
              "    .dataframe thead th {\n",
              "        text-align: right;\n",
              "    }\n",
              "</style>\n",
              "<table border=\"1\" class=\"dataframe\">\n",
              "  <thead>\n",
              "    <tr style=\"text-align: right;\">\n",
              "      <th></th>\n",
              "      <th>ID</th>\n",
              "      <th>Grade</th>\n",
              "    </tr>\n",
              "  </thead>\n",
              "  <tbody>\n",
              "    <tr>\n",
              "      <th>0</th>\n",
              "      <td>12345678</td>\n",
              "      <td>4.0</td>\n",
              "    </tr>\n",
              "    <tr>\n",
              "      <th>1</th>\n",
              "      <td>11223344</td>\n",
              "      <td>2.5</td>\n",
              "    </tr>\n",
              "    <tr>\n",
              "      <th>2</th>\n",
              "      <td>88888888</td>\n",
              "      <td>5.5</td>\n",
              "    </tr>\n",
              "    <tr>\n",
              "      <th>3</th>\n",
              "      <td>44332211</td>\n",
              "      <td>6.0</td>\n",
              "    </tr>\n",
              "    <tr>\n",
              "      <th>4</th>\n",
              "      <td>11111111</td>\n",
              "      <td>3.5</td>\n",
              "    </tr>\n",
              "    <tr>\n",
              "      <th>5</th>\n",
              "      <td>22222222</td>\n",
              "      <td>4.0</td>\n",
              "    </tr>\n",
              "    <tr>\n",
              "      <th>6</th>\n",
              "      <td>33333333</td>\n",
              "      <td>4.0</td>\n",
              "    </tr>\n",
              "  </tbody>\n",
              "</table>\n",
              "</div>"
            ],
            "text/plain": [
              "         ID  Grade\n",
              "0  12345678    4.0\n",
              "1  11223344    2.5\n",
              "2  88888888    5.5\n",
              "3  44332211    6.0\n",
              "4  11111111    3.5\n",
              "5  22222222    4.0\n",
              "6  33333333    4.0"
            ]
          },
          "metadata": {
            "tags": []
          },
          "execution_count": 3
        }
      ]
    },
    {
      "cell_type": "markdown",
      "metadata": {
        "id": "cTOMxi0shkvo"
      },
      "source": [
        "###### A.1 Merge the two DataFrames using an inner join. How many columns and rows has the resulting DataFrame?"
      ]
    },
    {
      "cell_type": "code",
      "metadata": {
        "id": "8Amt_DVshciH"
      },
      "source": [
        "# [YOUR SOLUTION]"
      ],
      "execution_count": 4,
      "outputs": []
    },
    {
      "cell_type": "markdown",
      "metadata": {
        "id": "2DMJfW4TiS3P"
      },
      "source": [
        "###### A.2 Merge the two DataFrames using an outer join. How many columns and rows has the resulting DataFrame?"
      ]
    },
    {
      "cell_type": "code",
      "metadata": {
        "id": "_3sLZTg2iIac"
      },
      "source": [
        "# [YOUR SOLUTION]"
      ],
      "execution_count": 5,
      "outputs": []
    },
    {
      "cell_type": "markdown",
      "metadata": {
        "id": "CRd7AcLAidMH"
      },
      "source": [
        "###### A.3 Merge the two DataFrames using a left join, where `df_1` is on the left and `df_2` on the right. How many columns and rows has the resulting DataFrame?"
      ]
    },
    {
      "cell_type": "code",
      "metadata": {
        "id": "SVwgcEiSiZLk"
      },
      "source": [
        "# [YOUR SOLUTION]"
      ],
      "execution_count": 6,
      "outputs": []
    },
    {
      "cell_type": "markdown",
      "metadata": {
        "id": "XIfhyG3VjHKp"
      },
      "source": [
        "### B. Aggregation\n",
        "We use the car data available on the github repository."
      ]
    },
    {
      "cell_type": "code",
      "metadata": {
        "id": "4qzxJVKejMax",
        "outputId": "31853c33-9c85-4474-b6d8-a181a476915a",
        "colab": {
          "base_uri": "https://localhost:8080/",
          "height": 204
        }
      },
      "source": [
        "# Import data\n",
        "cars = pd.read_csv(\"https://raw.githubusercontent.com/michalis0/DataMining_and_MachineLearning/master/week3/data/cars.csv\", sep=\",\")\n",
        "\n",
        "cars.head()"
      ],
      "execution_count": 7,
      "outputs": [
        {
          "output_type": "execute_result",
          "data": {
            "text/html": [
              "<div>\n",
              "<style scoped>\n",
              "    .dataframe tbody tr th:only-of-type {\n",
              "        vertical-align: middle;\n",
              "    }\n",
              "\n",
              "    .dataframe tbody tr th {\n",
              "        vertical-align: top;\n",
              "    }\n",
              "\n",
              "    .dataframe thead th {\n",
              "        text-align: right;\n",
              "    }\n",
              "</style>\n",
              "<table border=\"1\" class=\"dataframe\">\n",
              "  <thead>\n",
              "    <tr style=\"text-align: right;\">\n",
              "      <th></th>\n",
              "      <th>YEAR</th>\n",
              "      <th>Make</th>\n",
              "      <th>Model</th>\n",
              "      <th>Size</th>\n",
              "      <th>(kW)</th>\n",
              "      <th>Unnamed: 5</th>\n",
              "      <th>TYPE</th>\n",
              "      <th>CITY (kWh/100 km)</th>\n",
              "      <th>HWY (kWh/100 km)</th>\n",
              "      <th>COMB (kWh/100 km)</th>\n",
              "      <th>CITY (Le/100 km)</th>\n",
              "      <th>HWY (Le/100 km)</th>\n",
              "      <th>COMB (Le/100 km)</th>\n",
              "      <th>(g/km)</th>\n",
              "      <th>RATING</th>\n",
              "      <th>(km)</th>\n",
              "      <th>TIME (h)</th>\n",
              "    </tr>\n",
              "  </thead>\n",
              "  <tbody>\n",
              "    <tr>\n",
              "      <th>0</th>\n",
              "      <td>2012</td>\n",
              "      <td>MITSUBISHI</td>\n",
              "      <td>i-MiEV</td>\n",
              "      <td>SUBCOMPACT</td>\n",
              "      <td>49</td>\n",
              "      <td>A1</td>\n",
              "      <td>B</td>\n",
              "      <td>16.9</td>\n",
              "      <td>21.4</td>\n",
              "      <td>18.7</td>\n",
              "      <td>1.9</td>\n",
              "      <td>2.4</td>\n",
              "      <td>2.1</td>\n",
              "      <td>0</td>\n",
              "      <td>NaN</td>\n",
              "      <td>100</td>\n",
              "      <td>7</td>\n",
              "    </tr>\n",
              "    <tr>\n",
              "      <th>1</th>\n",
              "      <td>2012</td>\n",
              "      <td>NISSAN</td>\n",
              "      <td>LEAF</td>\n",
              "      <td>MID-SIZE</td>\n",
              "      <td>80</td>\n",
              "      <td>A1</td>\n",
              "      <td>B</td>\n",
              "      <td>19.3</td>\n",
              "      <td>23.0</td>\n",
              "      <td>21.1</td>\n",
              "      <td>2.2</td>\n",
              "      <td>2.6</td>\n",
              "      <td>2.4</td>\n",
              "      <td>0</td>\n",
              "      <td>NaN</td>\n",
              "      <td>117</td>\n",
              "      <td>7</td>\n",
              "    </tr>\n",
              "    <tr>\n",
              "      <th>2</th>\n",
              "      <td>2013</td>\n",
              "      <td>FORD</td>\n",
              "      <td>FOCUS ELECTRIC</td>\n",
              "      <td>COMPACT</td>\n",
              "      <td>107</td>\n",
              "      <td>A1</td>\n",
              "      <td>B</td>\n",
              "      <td>19.0</td>\n",
              "      <td>21.1</td>\n",
              "      <td>20.0</td>\n",
              "      <td>2.1</td>\n",
              "      <td>2.4</td>\n",
              "      <td>2.2</td>\n",
              "      <td>0</td>\n",
              "      <td>NaN</td>\n",
              "      <td>122</td>\n",
              "      <td>4</td>\n",
              "    </tr>\n",
              "    <tr>\n",
              "      <th>3</th>\n",
              "      <td>2013</td>\n",
              "      <td>MITSUBISHI</td>\n",
              "      <td>i-MiEV</td>\n",
              "      <td>SUBCOMPACT</td>\n",
              "      <td>49</td>\n",
              "      <td>A1</td>\n",
              "      <td>B</td>\n",
              "      <td>16.9</td>\n",
              "      <td>21.4</td>\n",
              "      <td>18.7</td>\n",
              "      <td>1.9</td>\n",
              "      <td>2.4</td>\n",
              "      <td>2.1</td>\n",
              "      <td>0</td>\n",
              "      <td>NaN</td>\n",
              "      <td>100</td>\n",
              "      <td>7</td>\n",
              "    </tr>\n",
              "    <tr>\n",
              "      <th>4</th>\n",
              "      <td>2013</td>\n",
              "      <td>NISSAN</td>\n",
              "      <td>LEAF</td>\n",
              "      <td>MID-SIZE</td>\n",
              "      <td>80</td>\n",
              "      <td>A1</td>\n",
              "      <td>B</td>\n",
              "      <td>19.3</td>\n",
              "      <td>23.0</td>\n",
              "      <td>21.1</td>\n",
              "      <td>2.2</td>\n",
              "      <td>2.6</td>\n",
              "      <td>2.4</td>\n",
              "      <td>0</td>\n",
              "      <td>NaN</td>\n",
              "      <td>117</td>\n",
              "      <td>7</td>\n",
              "    </tr>\n",
              "  </tbody>\n",
              "</table>\n",
              "</div>"
            ],
            "text/plain": [
              "   YEAR        Make           Model        Size  ...  (g/km) RATING (km)  TIME (h)\n",
              "0  2012  MITSUBISHI          i-MiEV  SUBCOMPACT  ...       0    NaN  100         7\n",
              "1  2012      NISSAN            LEAF    MID-SIZE  ...       0    NaN  117         7\n",
              "2  2013        FORD  FOCUS ELECTRIC     COMPACT  ...       0    NaN  122         4\n",
              "3  2013  MITSUBISHI          i-MiEV  SUBCOMPACT  ...       0    NaN  100         7\n",
              "4  2013      NISSAN            LEAF    MID-SIZE  ...       0    NaN  117         7\n",
              "\n",
              "[5 rows x 17 columns]"
            ]
          },
          "metadata": {
            "tags": []
          },
          "execution_count": 7
        }
      ]
    },
    {
      "cell_type": "code",
      "metadata": {
        "id": "YHKnNzmjs-IS",
        "outputId": "e38b22dd-5174-42a1-a977-5d1fa2b3c7ce",
        "colab": {
          "base_uri": "https://localhost:8080/",
          "height": 425
        }
      },
      "source": [
        "cars.info()"
      ],
      "execution_count": 8,
      "outputs": [
        {
          "output_type": "stream",
          "text": [
            "<class 'pandas.core.frame.DataFrame'>\n",
            "RangeIndex: 53 entries, 0 to 52\n",
            "Data columns (total 17 columns):\n",
            " #   Column             Non-Null Count  Dtype  \n",
            "---  ------             --------------  -----  \n",
            " 0   YEAR               53 non-null     int64  \n",
            " 1   Make               53 non-null     object \n",
            " 2   Model              53 non-null     object \n",
            " 3   Size               53 non-null     object \n",
            " 4   (kW)               53 non-null     int64  \n",
            " 5   Unnamed: 5         53 non-null     object \n",
            " 6   TYPE               53 non-null     object \n",
            " 7   CITY (kWh/100 km)  53 non-null     float64\n",
            " 8   HWY (kWh/100 km)   53 non-null     float64\n",
            " 9   COMB (kWh/100 km)  53 non-null     float64\n",
            " 10  CITY (Le/100 km)   53 non-null     float64\n",
            " 11  HWY (Le/100 km)    53 non-null     float64\n",
            " 12  COMB (Le/100 km)   53 non-null     float64\n",
            " 13  (g/km)             53 non-null     int64  \n",
            " 14  RATING             19 non-null     float64\n",
            " 15  (km)               53 non-null     int64  \n",
            " 16  TIME (h)           53 non-null     int64  \n",
            "dtypes: float64(7), int64(5), object(5)\n",
            "memory usage: 7.2+ KB\n"
          ],
          "name": "stdout"
        }
      ]
    },
    {
      "cell_type": "markdown",
      "metadata": {
        "id": "KSTneG4AkGPj"
      },
      "source": [
        "###### B.1 Find the average `(kW)` per `Make`. Plot the result using a bar plot."
      ]
    },
    {
      "cell_type": "code",
      "metadata": {
        "id": "iBVgU3Yijqqq"
      },
      "source": [
        "# [YOUR SOLUTION]"
      ],
      "execution_count": 9,
      "outputs": []
    },
    {
      "cell_type": "markdown",
      "metadata": {
        "id": "8ZPWZII_ugnh"
      },
      "source": [
        "###### B.2 Select the two most powerful vehicules per year"
      ]
    },
    {
      "cell_type": "code",
      "metadata": {
        "id": "_43LURSAuEEF"
      },
      "source": [
        "# [YOUR SOLUTION]"
      ],
      "execution_count": 10,
      "outputs": []
    },
    {
      "cell_type": "markdown",
      "metadata": {
        "id": "FPeX3Twn1DmF"
      },
      "source": [
        "## Exercise 2: EDA and Visualization\n",
        "For this exercise, we use NBA data available on the github repository."
      ]
    },
    {
      "cell_type": "code",
      "metadata": {
        "id": "LKsGSWw31GGf",
        "outputId": "c24f25be-12e0-4098-cb94-af2f21fe6c2b",
        "colab": {
          "base_uri": "https://localhost:8080/",
          "height": 204
        }
      },
      "source": [
        "# Import data\n",
        "nba = pd.read_csv(\"https://raw.githubusercontent.com/michalis0/DataMining_and_MachineLearning/master/week3/data/nba_stats.csv\", sep=\",\")\n",
        "\n",
        "nba.head()"
      ],
      "execution_count": 11,
      "outputs": [
        {
          "output_type": "execute_result",
          "data": {
            "text/html": [
              "<div>\n",
              "<style scoped>\n",
              "    .dataframe tbody tr th:only-of-type {\n",
              "        vertical-align: middle;\n",
              "    }\n",
              "\n",
              "    .dataframe tbody tr th {\n",
              "        vertical-align: top;\n",
              "    }\n",
              "\n",
              "    .dataframe thead th {\n",
              "        text-align: right;\n",
              "    }\n",
              "</style>\n",
              "<table border=\"1\" class=\"dataframe\">\n",
              "  <thead>\n",
              "    <tr style=\"text-align: right;\">\n",
              "      <th></th>\n",
              "      <th>Year</th>\n",
              "      <th>Player</th>\n",
              "      <th>Pos</th>\n",
              "      <th>Age</th>\n",
              "      <th>Tm</th>\n",
              "      <th>MP</th>\n",
              "      <th>FT</th>\n",
              "      <th>TRB</th>\n",
              "      <th>AST</th>\n",
              "      <th>STL</th>\n",
              "      <th>BLK</th>\n",
              "      <th>TOV</th>\n",
              "      <th>PF</th>\n",
              "      <th>PTS</th>\n",
              "    </tr>\n",
              "  </thead>\n",
              "  <tbody>\n",
              "    <tr>\n",
              "      <th>0</th>\n",
              "      <td>2017</td>\n",
              "      <td>Ivica Zubac</td>\n",
              "      <td>C</td>\n",
              "      <td>19</td>\n",
              "      <td>LAL</td>\n",
              "      <td>609</td>\n",
              "      <td>32</td>\n",
              "      <td>159</td>\n",
              "      <td>30</td>\n",
              "      <td>14</td>\n",
              "      <td>33</td>\n",
              "      <td>30</td>\n",
              "      <td>66</td>\n",
              "      <td>284</td>\n",
              "    </tr>\n",
              "    <tr>\n",
              "      <th>1</th>\n",
              "      <td>2017</td>\n",
              "      <td>Gerald Green</td>\n",
              "      <td>SF</td>\n",
              "      <td>31</td>\n",
              "      <td>BOS</td>\n",
              "      <td>538</td>\n",
              "      <td>33</td>\n",
              "      <td>85</td>\n",
              "      <td>33</td>\n",
              "      <td>9</td>\n",
              "      <td>7</td>\n",
              "      <td>25</td>\n",
              "      <td>48</td>\n",
              "      <td>262</td>\n",
              "    </tr>\n",
              "    <tr>\n",
              "      <th>2</th>\n",
              "      <td>2017</td>\n",
              "      <td>Danny Green</td>\n",
              "      <td>SG</td>\n",
              "      <td>29</td>\n",
              "      <td>SAS</td>\n",
              "      <td>1807</td>\n",
              "      <td>27</td>\n",
              "      <td>224</td>\n",
              "      <td>124</td>\n",
              "      <td>71</td>\n",
              "      <td>58</td>\n",
              "      <td>76</td>\n",
              "      <td>120</td>\n",
              "      <td>497</td>\n",
              "    </tr>\n",
              "    <tr>\n",
              "      <th>3</th>\n",
              "      <td>2017</td>\n",
              "      <td>Jerian Grant</td>\n",
              "      <td>PG</td>\n",
              "      <td>24</td>\n",
              "      <td>CHI</td>\n",
              "      <td>1028</td>\n",
              "      <td>65</td>\n",
              "      <td>111</td>\n",
              "      <td>120</td>\n",
              "      <td>47</td>\n",
              "      <td>8</td>\n",
              "      <td>44</td>\n",
              "      <td>93</td>\n",
              "      <td>370</td>\n",
              "    </tr>\n",
              "    <tr>\n",
              "      <th>4</th>\n",
              "      <td>2017</td>\n",
              "      <td>Jerami Grant</td>\n",
              "      <td>SF</td>\n",
              "      <td>22</td>\n",
              "      <td>OKC</td>\n",
              "      <td>1490</td>\n",
              "      <td>86</td>\n",
              "      <td>199</td>\n",
              "      <td>46</td>\n",
              "      <td>33</td>\n",
              "      <td>75</td>\n",
              "      <td>41</td>\n",
              "      <td>144</td>\n",
              "      <td>421</td>\n",
              "    </tr>\n",
              "  </tbody>\n",
              "</table>\n",
              "</div>"
            ],
            "text/plain": [
              "   Year        Player Pos  Age   Tm    MP  ...  AST  STL  BLK  TOV   PF  PTS\n",
              "0  2017   Ivica Zubac   C   19  LAL   609  ...   30   14   33   30   66  284\n",
              "1  2017  Gerald Green  SF   31  BOS   538  ...   33    9    7   25   48  262\n",
              "2  2017   Danny Green  SG   29  SAS  1807  ...  124   71   58   76  120  497\n",
              "3  2017  Jerian Grant  PG   24  CHI  1028  ...  120   47    8   44   93  370\n",
              "4  2017  Jerami Grant  SF   22  OKC  1490  ...   46   33   75   41  144  421\n",
              "\n",
              "[5 rows x 14 columns]"
            ]
          },
          "metadata": {
            "tags": []
          },
          "execution_count": 11
        }
      ]
    },
    {
      "cell_type": "code",
      "metadata": {
        "id": "zsDyWkz528x1",
        "outputId": "f3535785-932f-4e40-ac2d-20548d5f217d",
        "colab": {
          "base_uri": "https://localhost:8080/",
          "height": 204
        }
      },
      "source": [
        "nba.tail()"
      ],
      "execution_count": 12,
      "outputs": [
        {
          "output_type": "execute_result",
          "data": {
            "text/html": [
              "<div>\n",
              "<style scoped>\n",
              "    .dataframe tbody tr th:only-of-type {\n",
              "        vertical-align: middle;\n",
              "    }\n",
              "\n",
              "    .dataframe tbody tr th {\n",
              "        vertical-align: top;\n",
              "    }\n",
              "\n",
              "    .dataframe thead th {\n",
              "        text-align: right;\n",
              "    }\n",
              "</style>\n",
              "<table border=\"1\" class=\"dataframe\">\n",
              "  <thead>\n",
              "    <tr style=\"text-align: right;\">\n",
              "      <th></th>\n",
              "      <th>Year</th>\n",
              "      <th>Player</th>\n",
              "      <th>Pos</th>\n",
              "      <th>Age</th>\n",
              "      <th>Tm</th>\n",
              "      <th>MP</th>\n",
              "      <th>FT</th>\n",
              "      <th>TRB</th>\n",
              "      <th>AST</th>\n",
              "      <th>STL</th>\n",
              "      <th>BLK</th>\n",
              "      <th>TOV</th>\n",
              "      <th>PF</th>\n",
              "      <th>PTS</th>\n",
              "    </tr>\n",
              "  </thead>\n",
              "  <tbody>\n",
              "    <tr>\n",
              "      <th>19640</th>\n",
              "      <td>1978</td>\n",
              "      <td>Eddie Owens</td>\n",
              "      <td>SF</td>\n",
              "      <td>24</td>\n",
              "      <td>BUF</td>\n",
              "      <td>63</td>\n",
              "      <td>3</td>\n",
              "      <td>10</td>\n",
              "      <td>5</td>\n",
              "      <td>1</td>\n",
              "      <td>0</td>\n",
              "      <td>3</td>\n",
              "      <td>9</td>\n",
              "      <td>21</td>\n",
              "    </tr>\n",
              "    <tr>\n",
              "      <th>19641</th>\n",
              "      <td>1978</td>\n",
              "      <td>Tom Owens</td>\n",
              "      <td>C</td>\n",
              "      <td>28</td>\n",
              "      <td>POR</td>\n",
              "      <td>1714</td>\n",
              "      <td>206</td>\n",
              "      <td>541</td>\n",
              "      <td>160</td>\n",
              "      <td>33</td>\n",
              "      <td>37</td>\n",
              "      <td>152</td>\n",
              "      <td>263</td>\n",
              "      <td>832</td>\n",
              "    </tr>\n",
              "    <tr>\n",
              "      <th>19642</th>\n",
              "      <td>1978</td>\n",
              "      <td>Joe Pace</td>\n",
              "      <td>C</td>\n",
              "      <td>24</td>\n",
              "      <td>WSB</td>\n",
              "      <td>438</td>\n",
              "      <td>57</td>\n",
              "      <td>134</td>\n",
              "      <td>23</td>\n",
              "      <td>12</td>\n",
              "      <td>21</td>\n",
              "      <td>44</td>\n",
              "      <td>86</td>\n",
              "      <td>191</td>\n",
              "    </tr>\n",
              "    <tr>\n",
              "      <th>19643</th>\n",
              "      <td>1978</td>\n",
              "      <td>Robert Parish*</td>\n",
              "      <td>C</td>\n",
              "      <td>24</td>\n",
              "      <td>GSW</td>\n",
              "      <td>1969</td>\n",
              "      <td>165</td>\n",
              "      <td>680</td>\n",
              "      <td>95</td>\n",
              "      <td>79</td>\n",
              "      <td>123</td>\n",
              "      <td>201</td>\n",
              "      <td>291</td>\n",
              "      <td>1025</td>\n",
              "    </tr>\n",
              "    <tr>\n",
              "      <th>19644</th>\n",
              "      <td>1978</td>\n",
              "      <td>Willie Norwood</td>\n",
              "      <td>SF</td>\n",
              "      <td>30</td>\n",
              "      <td>DET</td>\n",
              "      <td>260</td>\n",
              "      <td>20</td>\n",
              "      <td>54</td>\n",
              "      <td>14</td>\n",
              "      <td>13</td>\n",
              "      <td>3</td>\n",
              "      <td>17</td>\n",
              "      <td>45</td>\n",
              "      <td>88</td>\n",
              "    </tr>\n",
              "  </tbody>\n",
              "</table>\n",
              "</div>"
            ],
            "text/plain": [
              "       Year          Player Pos  Age   Tm    MP  ...  AST  STL  BLK  TOV   PF   PTS\n",
              "19640  1978     Eddie Owens  SF   24  BUF    63  ...    5    1    0    3    9    21\n",
              "19641  1978       Tom Owens   C   28  POR  1714  ...  160   33   37  152  263   832\n",
              "19642  1978        Joe Pace   C   24  WSB   438  ...   23   12   21   44   86   191\n",
              "19643  1978  Robert Parish*   C   24  GSW  1969  ...   95   79  123  201  291  1025\n",
              "19644  1978  Willie Norwood  SF   30  DET   260  ...   14   13    3   17   45    88\n",
              "\n",
              "[5 rows x 14 columns]"
            ]
          },
          "metadata": {
            "tags": []
          },
          "execution_count": 12
        }
      ]
    },
    {
      "cell_type": "code",
      "metadata": {
        "id": "3Crel5qQ3feQ",
        "outputId": "b293e34f-5a66-4f37-c9b0-a91eb7405939",
        "colab": {
          "base_uri": "https://localhost:8080/",
          "height": 374
        }
      },
      "source": [
        "nba.info()"
      ],
      "execution_count": 13,
      "outputs": [
        {
          "output_type": "stream",
          "text": [
            "<class 'pandas.core.frame.DataFrame'>\n",
            "RangeIndex: 19645 entries, 0 to 19644\n",
            "Data columns (total 14 columns):\n",
            " #   Column  Non-Null Count  Dtype \n",
            "---  ------  --------------  ----- \n",
            " 0   Year    19645 non-null  int64 \n",
            " 1   Player  19645 non-null  object\n",
            " 2   Pos     19645 non-null  object\n",
            " 3   Age     19645 non-null  int64 \n",
            " 4   Tm      19645 non-null  object\n",
            " 5   MP      19645 non-null  int64 \n",
            " 6   FT      19645 non-null  int64 \n",
            " 7   TRB     19645 non-null  int64 \n",
            " 8   AST     19645 non-null  int64 \n",
            " 9   STL     19645 non-null  int64 \n",
            " 10  BLK     19645 non-null  int64 \n",
            " 11  TOV     19645 non-null  int64 \n",
            " 12  PF      19645 non-null  int64 \n",
            " 13  PTS     19645 non-null  int64 \n",
            "dtypes: int64(11), object(3)\n",
            "memory usage: 2.1+ MB\n"
          ],
          "name": "stdout"
        }
      ]
    },
    {
      "cell_type": "markdown",
      "metadata": {
        "id": "KzdSEbjU4lhq"
      },
      "source": [
        "###### 1. Find the average age of the players for the year 2017."
      ]
    },
    {
      "cell_type": "code",
      "metadata": {
        "id": "mKV56N3m2_H-"
      },
      "source": [
        "# [YOUR SOLUTION]"
      ],
      "execution_count": 14,
      "outputs": []
    },
    {
      "cell_type": "markdown",
      "metadata": {
        "id": "1297AnJi442Y"
      },
      "source": [
        "###### 2. Plot the total number of `PTS` per year since 2000."
      ]
    },
    {
      "cell_type": "code",
      "metadata": {
        "id": "wPi4Bfq94M-D"
      },
      "source": [
        "# [YOUR SOLUTION]"
      ],
      "execution_count": 15,
      "outputs": []
    },
    {
      "cell_type": "markdown",
      "metadata": {
        "id": "0x26BZp390bp"
      },
      "source": [
        "###### 3. Plot the number of players per year since 2010. What is the year with the most players?"
      ]
    },
    {
      "cell_type": "code",
      "metadata": {
        "id": "Ez7_beR1530E"
      },
      "source": [
        "# [YOUR SOLUTION]"
      ],
      "execution_count": 16,
      "outputs": []
    }
  ]
}