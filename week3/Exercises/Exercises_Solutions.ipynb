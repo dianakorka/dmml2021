{
  "nbformat": 4,
  "nbformat_minor": 0,
  "metadata": {
    "colab": {
      "name": "Exercises_Solutions.ipynb",
      "provenance": [],
      "collapsed_sections": [],
      "authorship_tag": "ABX9TyMGQSXPDnwvhfsfH00XG7VF",
      "include_colab_link": true
    },
    "kernelspec": {
      "name": "python3",
      "display_name": "Python 3"
    }
  },
  "cells": [
    {
      "cell_type": "markdown",
      "metadata": {
        "id": "view-in-github",
        "colab_type": "text"
      },
      "source": [
        "<a href=\"https://colab.research.google.com/github/michalis0/DataMining_and_MachineLearning/blob/master/week3/Exercises/Exercises_Solutions.ipynb\" target=\"_parent\"><img src=\"https://colab.research.google.com/assets/colab-badge.svg\" alt=\"Open In Colab\"/></a>"
      ]
    },
    {
      "cell_type": "markdown",
      "metadata": {
        "id": "snDDm7Nwby6w"
      },
      "source": [
        "# Data Mining and Machine Learning - Week 3\n",
        "# Exercises - Solutions\n",
        "\n",
        "### Table of Contents\n",
        "#### Exercise 1: Advanced Pandas Operations\n",
        "#### Exercise 2: EDA and Visualization"
      ]
    },
    {
      "cell_type": "markdown",
      "metadata": {
        "id": "dfjRPxKIcE-n"
      },
      "source": [
        "## Exercise 1: Advanced Pandas Operations\n"
      ]
    },
    {
      "cell_type": "code",
      "metadata": {
        "id": "VFxE6lmZkyWW"
      },
      "source": [
        "# Import requiered packages\n",
        "import pandas as pd\n",
        "import matplotlib.pyplot as plt"
      ],
      "execution_count": 1,
      "outputs": []
    },
    {
      "cell_type": "markdown",
      "metadata": {
        "id": "yjMYrYEwdd6h"
      },
      "source": [
        "### A. Merge\n",
        "In this simple exercise, we illustrate the concepts of inner, outer, left and right joins."
      ]
    },
    {
      "cell_type": "code",
      "metadata": {
        "id": "r7V1YB9VcECQ",
        "outputId": "73587399-30d8-4505-919a-fbd126b0c40d",
        "colab": {
          "base_uri": "https://localhost:8080/",
          "height": 173
        }
      },
      "source": [
        "# Create a first DataFrame\n",
        "data_1 = {'ID':  ['12345678', '11223344', '87654321', '44332211'],\n",
        "        'First Name': ['George', 'Abraham', 'Harry S.', 'Richard'],\n",
        "         'Last Name': ['Washington', 'Lincoln', 'Truman', 'Nixon'],\n",
        "          'Party': ['Unaffiliated', 'Republican', 'Democratic', 'Republican'],\n",
        "        }\n",
        "\n",
        "df_1 = pd.DataFrame(data_1)\n",
        "\n",
        "df_1"
      ],
      "execution_count": 2,
      "outputs": [
        {
          "output_type": "execute_result",
          "data": {
            "text/html": [
              "<div>\n",
              "<style scoped>\n",
              "    .dataframe tbody tr th:only-of-type {\n",
              "        vertical-align: middle;\n",
              "    }\n",
              "\n",
              "    .dataframe tbody tr th {\n",
              "        vertical-align: top;\n",
              "    }\n",
              "\n",
              "    .dataframe thead th {\n",
              "        text-align: right;\n",
              "    }\n",
              "</style>\n",
              "<table border=\"1\" class=\"dataframe\">\n",
              "  <thead>\n",
              "    <tr style=\"text-align: right;\">\n",
              "      <th></th>\n",
              "      <th>ID</th>\n",
              "      <th>First Name</th>\n",
              "      <th>Last Name</th>\n",
              "      <th>Party</th>\n",
              "    </tr>\n",
              "  </thead>\n",
              "  <tbody>\n",
              "    <tr>\n",
              "      <th>0</th>\n",
              "      <td>12345678</td>\n",
              "      <td>George</td>\n",
              "      <td>Washington</td>\n",
              "      <td>Unaffiliated</td>\n",
              "    </tr>\n",
              "    <tr>\n",
              "      <th>1</th>\n",
              "      <td>11223344</td>\n",
              "      <td>Abraham</td>\n",
              "      <td>Lincoln</td>\n",
              "      <td>Republican</td>\n",
              "    </tr>\n",
              "    <tr>\n",
              "      <th>2</th>\n",
              "      <td>87654321</td>\n",
              "      <td>Harry S.</td>\n",
              "      <td>Truman</td>\n",
              "      <td>Democratic</td>\n",
              "    </tr>\n",
              "    <tr>\n",
              "      <th>3</th>\n",
              "      <td>44332211</td>\n",
              "      <td>Richard</td>\n",
              "      <td>Nixon</td>\n",
              "      <td>Republican</td>\n",
              "    </tr>\n",
              "  </tbody>\n",
              "</table>\n",
              "</div>"
            ],
            "text/plain": [
              "         ID First Name   Last Name         Party\n",
              "0  12345678     George  Washington  Unaffiliated\n",
              "1  11223344    Abraham     Lincoln    Republican\n",
              "2  87654321   Harry S.      Truman    Democratic\n",
              "3  44332211    Richard       Nixon    Republican"
            ]
          },
          "metadata": {
            "tags": []
          },
          "execution_count": 2
        }
      ]
    },
    {
      "cell_type": "code",
      "metadata": {
        "id": "fKdDNeZFgwCH",
        "outputId": "2b32d260-ffbf-4e86-ed72-97c203720bc4",
        "colab": {
          "base_uri": "https://localhost:8080/",
          "height": 266
        }
      },
      "source": [
        "# Create a second DataFrame\n",
        "data_2 = {'ID':  ['12345678', '11223344', '88888888', '44332211', '11111111', '22222222', '33333333'],\n",
        "        'Grade': [4, 2.5, 5.5, 6, 3.5, 4, 4]\n",
        "        }\n",
        "\n",
        "df_2 = pd.DataFrame(data_2)\n",
        "\n",
        "df_2"
      ],
      "execution_count": 3,
      "outputs": [
        {
          "output_type": "execute_result",
          "data": {
            "text/html": [
              "<div>\n",
              "<style scoped>\n",
              "    .dataframe tbody tr th:only-of-type {\n",
              "        vertical-align: middle;\n",
              "    }\n",
              "\n",
              "    .dataframe tbody tr th {\n",
              "        vertical-align: top;\n",
              "    }\n",
              "\n",
              "    .dataframe thead th {\n",
              "        text-align: right;\n",
              "    }\n",
              "</style>\n",
              "<table border=\"1\" class=\"dataframe\">\n",
              "  <thead>\n",
              "    <tr style=\"text-align: right;\">\n",
              "      <th></th>\n",
              "      <th>ID</th>\n",
              "      <th>Grade</th>\n",
              "    </tr>\n",
              "  </thead>\n",
              "  <tbody>\n",
              "    <tr>\n",
              "      <th>0</th>\n",
              "      <td>12345678</td>\n",
              "      <td>4.0</td>\n",
              "    </tr>\n",
              "    <tr>\n",
              "      <th>1</th>\n",
              "      <td>11223344</td>\n",
              "      <td>2.5</td>\n",
              "    </tr>\n",
              "    <tr>\n",
              "      <th>2</th>\n",
              "      <td>88888888</td>\n",
              "      <td>5.5</td>\n",
              "    </tr>\n",
              "    <tr>\n",
              "      <th>3</th>\n",
              "      <td>44332211</td>\n",
              "      <td>6.0</td>\n",
              "    </tr>\n",
              "    <tr>\n",
              "      <th>4</th>\n",
              "      <td>11111111</td>\n",
              "      <td>3.5</td>\n",
              "    </tr>\n",
              "    <tr>\n",
              "      <th>5</th>\n",
              "      <td>22222222</td>\n",
              "      <td>4.0</td>\n",
              "    </tr>\n",
              "    <tr>\n",
              "      <th>6</th>\n",
              "      <td>33333333</td>\n",
              "      <td>4.0</td>\n",
              "    </tr>\n",
              "  </tbody>\n",
              "</table>\n",
              "</div>"
            ],
            "text/plain": [
              "         ID  Grade\n",
              "0  12345678    4.0\n",
              "1  11223344    2.5\n",
              "2  88888888    5.5\n",
              "3  44332211    6.0\n",
              "4  11111111    3.5\n",
              "5  22222222    4.0\n",
              "6  33333333    4.0"
            ]
          },
          "metadata": {
            "tags": []
          },
          "execution_count": 3
        }
      ]
    },
    {
      "cell_type": "markdown",
      "metadata": {
        "id": "cTOMxi0shkvo"
      },
      "source": [
        "###### A.1 Merge the two DataFrames using an inner join. How many columns and rows has the resulting DataFrame?"
      ]
    },
    {
      "cell_type": "code",
      "metadata": {
        "id": "8Amt_DVshciH",
        "outputId": "1a9c3d5d-a4b4-4c63-dd64-ad4699888528",
        "colab": {
          "base_uri": "https://localhost:8080/",
          "height": 142
        }
      },
      "source": [
        "# Inner join\n",
        "df_merged = df_1.merge(df_2, how='inner', on='ID')\n",
        "\n",
        "df_merged # 3 rows and 5 columns"
      ],
      "execution_count": 4,
      "outputs": [
        {
          "output_type": "execute_result",
          "data": {
            "text/html": [
              "<div>\n",
              "<style scoped>\n",
              "    .dataframe tbody tr th:only-of-type {\n",
              "        vertical-align: middle;\n",
              "    }\n",
              "\n",
              "    .dataframe tbody tr th {\n",
              "        vertical-align: top;\n",
              "    }\n",
              "\n",
              "    .dataframe thead th {\n",
              "        text-align: right;\n",
              "    }\n",
              "</style>\n",
              "<table border=\"1\" class=\"dataframe\">\n",
              "  <thead>\n",
              "    <tr style=\"text-align: right;\">\n",
              "      <th></th>\n",
              "      <th>ID</th>\n",
              "      <th>First Name</th>\n",
              "      <th>Last Name</th>\n",
              "      <th>Party</th>\n",
              "      <th>Grade</th>\n",
              "    </tr>\n",
              "  </thead>\n",
              "  <tbody>\n",
              "    <tr>\n",
              "      <th>0</th>\n",
              "      <td>12345678</td>\n",
              "      <td>George</td>\n",
              "      <td>Washington</td>\n",
              "      <td>Unaffiliated</td>\n",
              "      <td>4.0</td>\n",
              "    </tr>\n",
              "    <tr>\n",
              "      <th>1</th>\n",
              "      <td>11223344</td>\n",
              "      <td>Abraham</td>\n",
              "      <td>Lincoln</td>\n",
              "      <td>Republican</td>\n",
              "      <td>2.5</td>\n",
              "    </tr>\n",
              "    <tr>\n",
              "      <th>2</th>\n",
              "      <td>44332211</td>\n",
              "      <td>Richard</td>\n",
              "      <td>Nixon</td>\n",
              "      <td>Republican</td>\n",
              "      <td>6.0</td>\n",
              "    </tr>\n",
              "  </tbody>\n",
              "</table>\n",
              "</div>"
            ],
            "text/plain": [
              "         ID First Name   Last Name         Party  Grade\n",
              "0  12345678     George  Washington  Unaffiliated    4.0\n",
              "1  11223344    Abraham     Lincoln    Republican    2.5\n",
              "2  44332211    Richard       Nixon    Republican    6.0"
            ]
          },
          "metadata": {
            "tags": []
          },
          "execution_count": 4
        }
      ]
    },
    {
      "cell_type": "markdown",
      "metadata": {
        "id": "2DMJfW4TiS3P"
      },
      "source": [
        "###### A.2 Merge the two DataFrames using an outer join. How many columns and rows has the resulting DataFrame?"
      ]
    },
    {
      "cell_type": "code",
      "metadata": {
        "id": "_3sLZTg2iIac",
        "outputId": "15e27cc1-9111-4226-ae15-0c7cb8df484b",
        "colab": {
          "base_uri": "https://localhost:8080/",
          "height": 297
        }
      },
      "source": [
        "# Outer join\n",
        "df_merged = df_1.merge(df_2, how='outer', on='ID')\n",
        "\n",
        "df_merged # 8 rows and 5 columns"
      ],
      "execution_count": 5,
      "outputs": [
        {
          "output_type": "execute_result",
          "data": {
            "text/html": [
              "<div>\n",
              "<style scoped>\n",
              "    .dataframe tbody tr th:only-of-type {\n",
              "        vertical-align: middle;\n",
              "    }\n",
              "\n",
              "    .dataframe tbody tr th {\n",
              "        vertical-align: top;\n",
              "    }\n",
              "\n",
              "    .dataframe thead th {\n",
              "        text-align: right;\n",
              "    }\n",
              "</style>\n",
              "<table border=\"1\" class=\"dataframe\">\n",
              "  <thead>\n",
              "    <tr style=\"text-align: right;\">\n",
              "      <th></th>\n",
              "      <th>ID</th>\n",
              "      <th>First Name</th>\n",
              "      <th>Last Name</th>\n",
              "      <th>Party</th>\n",
              "      <th>Grade</th>\n",
              "    </tr>\n",
              "  </thead>\n",
              "  <tbody>\n",
              "    <tr>\n",
              "      <th>0</th>\n",
              "      <td>12345678</td>\n",
              "      <td>George</td>\n",
              "      <td>Washington</td>\n",
              "      <td>Unaffiliated</td>\n",
              "      <td>4.0</td>\n",
              "    </tr>\n",
              "    <tr>\n",
              "      <th>1</th>\n",
              "      <td>11223344</td>\n",
              "      <td>Abraham</td>\n",
              "      <td>Lincoln</td>\n",
              "      <td>Republican</td>\n",
              "      <td>2.5</td>\n",
              "    </tr>\n",
              "    <tr>\n",
              "      <th>2</th>\n",
              "      <td>87654321</td>\n",
              "      <td>Harry S.</td>\n",
              "      <td>Truman</td>\n",
              "      <td>Democratic</td>\n",
              "      <td>NaN</td>\n",
              "    </tr>\n",
              "    <tr>\n",
              "      <th>3</th>\n",
              "      <td>44332211</td>\n",
              "      <td>Richard</td>\n",
              "      <td>Nixon</td>\n",
              "      <td>Republican</td>\n",
              "      <td>6.0</td>\n",
              "    </tr>\n",
              "    <tr>\n",
              "      <th>4</th>\n",
              "      <td>88888888</td>\n",
              "      <td>NaN</td>\n",
              "      <td>NaN</td>\n",
              "      <td>NaN</td>\n",
              "      <td>5.5</td>\n",
              "    </tr>\n",
              "    <tr>\n",
              "      <th>5</th>\n",
              "      <td>11111111</td>\n",
              "      <td>NaN</td>\n",
              "      <td>NaN</td>\n",
              "      <td>NaN</td>\n",
              "      <td>3.5</td>\n",
              "    </tr>\n",
              "    <tr>\n",
              "      <th>6</th>\n",
              "      <td>22222222</td>\n",
              "      <td>NaN</td>\n",
              "      <td>NaN</td>\n",
              "      <td>NaN</td>\n",
              "      <td>4.0</td>\n",
              "    </tr>\n",
              "    <tr>\n",
              "      <th>7</th>\n",
              "      <td>33333333</td>\n",
              "      <td>NaN</td>\n",
              "      <td>NaN</td>\n",
              "      <td>NaN</td>\n",
              "      <td>4.0</td>\n",
              "    </tr>\n",
              "  </tbody>\n",
              "</table>\n",
              "</div>"
            ],
            "text/plain": [
              "         ID First Name   Last Name         Party  Grade\n",
              "0  12345678     George  Washington  Unaffiliated    4.0\n",
              "1  11223344    Abraham     Lincoln    Republican    2.5\n",
              "2  87654321   Harry S.      Truman    Democratic    NaN\n",
              "3  44332211    Richard       Nixon    Republican    6.0\n",
              "4  88888888        NaN         NaN           NaN    5.5\n",
              "5  11111111        NaN         NaN           NaN    3.5\n",
              "6  22222222        NaN         NaN           NaN    4.0\n",
              "7  33333333        NaN         NaN           NaN    4.0"
            ]
          },
          "metadata": {
            "tags": []
          },
          "execution_count": 5
        }
      ]
    },
    {
      "cell_type": "markdown",
      "metadata": {
        "id": "CRd7AcLAidMH"
      },
      "source": [
        "###### A.3 Merge the two DataFrames using a left join, where `df_1` is on the left and `df_2` on the right. How many columns and rows has the resulting DataFrame?"
      ]
    },
    {
      "cell_type": "code",
      "metadata": {
        "id": "SVwgcEiSiZLk",
        "outputId": "a0677451-06f3-4e25-98d2-4824bb4ebc5a",
        "colab": {
          "base_uri": "https://localhost:8080/",
          "height": 173
        }
      },
      "source": [
        "# Left join\n",
        "df_merged = df_1.merge(df_2, how='left', on='ID')\n",
        "\n",
        "df_merged # 4 rows and 5 columns"
      ],
      "execution_count": 6,
      "outputs": [
        {
          "output_type": "execute_result",
          "data": {
            "text/html": [
              "<div>\n",
              "<style scoped>\n",
              "    .dataframe tbody tr th:only-of-type {\n",
              "        vertical-align: middle;\n",
              "    }\n",
              "\n",
              "    .dataframe tbody tr th {\n",
              "        vertical-align: top;\n",
              "    }\n",
              "\n",
              "    .dataframe thead th {\n",
              "        text-align: right;\n",
              "    }\n",
              "</style>\n",
              "<table border=\"1\" class=\"dataframe\">\n",
              "  <thead>\n",
              "    <tr style=\"text-align: right;\">\n",
              "      <th></th>\n",
              "      <th>ID</th>\n",
              "      <th>First Name</th>\n",
              "      <th>Last Name</th>\n",
              "      <th>Party</th>\n",
              "      <th>Grade</th>\n",
              "    </tr>\n",
              "  </thead>\n",
              "  <tbody>\n",
              "    <tr>\n",
              "      <th>0</th>\n",
              "      <td>12345678</td>\n",
              "      <td>George</td>\n",
              "      <td>Washington</td>\n",
              "      <td>Unaffiliated</td>\n",
              "      <td>4.0</td>\n",
              "    </tr>\n",
              "    <tr>\n",
              "      <th>1</th>\n",
              "      <td>11223344</td>\n",
              "      <td>Abraham</td>\n",
              "      <td>Lincoln</td>\n",
              "      <td>Republican</td>\n",
              "      <td>2.5</td>\n",
              "    </tr>\n",
              "    <tr>\n",
              "      <th>2</th>\n",
              "      <td>87654321</td>\n",
              "      <td>Harry S.</td>\n",
              "      <td>Truman</td>\n",
              "      <td>Democratic</td>\n",
              "      <td>NaN</td>\n",
              "    </tr>\n",
              "    <tr>\n",
              "      <th>3</th>\n",
              "      <td>44332211</td>\n",
              "      <td>Richard</td>\n",
              "      <td>Nixon</td>\n",
              "      <td>Republican</td>\n",
              "      <td>6.0</td>\n",
              "    </tr>\n",
              "  </tbody>\n",
              "</table>\n",
              "</div>"
            ],
            "text/plain": [
              "         ID First Name   Last Name         Party  Grade\n",
              "0  12345678     George  Washington  Unaffiliated    4.0\n",
              "1  11223344    Abraham     Lincoln    Republican    2.5\n",
              "2  87654321   Harry S.      Truman    Democratic    NaN\n",
              "3  44332211    Richard       Nixon    Republican    6.0"
            ]
          },
          "metadata": {
            "tags": []
          },
          "execution_count": 6
        }
      ]
    },
    {
      "cell_type": "markdown",
      "metadata": {
        "id": "XIfhyG3VjHKp"
      },
      "source": [
        "### B. Aggregation\n",
        "We use the car data available on the github repository."
      ]
    },
    {
      "cell_type": "code",
      "metadata": {
        "id": "4qzxJVKejMax",
        "outputId": "57dac530-8c60-441a-d891-05e689d1f9c3",
        "colab": {
          "base_uri": "https://localhost:8080/",
          "height": 204
        }
      },
      "source": [
        "# Import data\n",
        "cars = pd.read_csv(\"https://raw.githubusercontent.com/michalis0/DataMining_and_MachineLearning/master/week3/data/cars.csv\", sep=\",\")\n",
        "\n",
        "cars.head()"
      ],
      "execution_count": 7,
      "outputs": [
        {
          "output_type": "execute_result",
          "data": {
            "text/html": [
              "<div>\n",
              "<style scoped>\n",
              "    .dataframe tbody tr th:only-of-type {\n",
              "        vertical-align: middle;\n",
              "    }\n",
              "\n",
              "    .dataframe tbody tr th {\n",
              "        vertical-align: top;\n",
              "    }\n",
              "\n",
              "    .dataframe thead th {\n",
              "        text-align: right;\n",
              "    }\n",
              "</style>\n",
              "<table border=\"1\" class=\"dataframe\">\n",
              "  <thead>\n",
              "    <tr style=\"text-align: right;\">\n",
              "      <th></th>\n",
              "      <th>YEAR</th>\n",
              "      <th>Make</th>\n",
              "      <th>Model</th>\n",
              "      <th>Size</th>\n",
              "      <th>(kW)</th>\n",
              "      <th>Unnamed: 5</th>\n",
              "      <th>TYPE</th>\n",
              "      <th>CITY (kWh/100 km)</th>\n",
              "      <th>HWY (kWh/100 km)</th>\n",
              "      <th>COMB (kWh/100 km)</th>\n",
              "      <th>CITY (Le/100 km)</th>\n",
              "      <th>HWY (Le/100 km)</th>\n",
              "      <th>COMB (Le/100 km)</th>\n",
              "      <th>(g/km)</th>\n",
              "      <th>RATING</th>\n",
              "      <th>(km)</th>\n",
              "      <th>TIME (h)</th>\n",
              "    </tr>\n",
              "  </thead>\n",
              "  <tbody>\n",
              "    <tr>\n",
              "      <th>0</th>\n",
              "      <td>2012</td>\n",
              "      <td>MITSUBISHI</td>\n",
              "      <td>i-MiEV</td>\n",
              "      <td>SUBCOMPACT</td>\n",
              "      <td>49</td>\n",
              "      <td>A1</td>\n",
              "      <td>B</td>\n",
              "      <td>16.9</td>\n",
              "      <td>21.4</td>\n",
              "      <td>18.7</td>\n",
              "      <td>1.9</td>\n",
              "      <td>2.4</td>\n",
              "      <td>2.1</td>\n",
              "      <td>0</td>\n",
              "      <td>NaN</td>\n",
              "      <td>100</td>\n",
              "      <td>7</td>\n",
              "    </tr>\n",
              "    <tr>\n",
              "      <th>1</th>\n",
              "      <td>2012</td>\n",
              "      <td>NISSAN</td>\n",
              "      <td>LEAF</td>\n",
              "      <td>MID-SIZE</td>\n",
              "      <td>80</td>\n",
              "      <td>A1</td>\n",
              "      <td>B</td>\n",
              "      <td>19.3</td>\n",
              "      <td>23.0</td>\n",
              "      <td>21.1</td>\n",
              "      <td>2.2</td>\n",
              "      <td>2.6</td>\n",
              "      <td>2.4</td>\n",
              "      <td>0</td>\n",
              "      <td>NaN</td>\n",
              "      <td>117</td>\n",
              "      <td>7</td>\n",
              "    </tr>\n",
              "    <tr>\n",
              "      <th>2</th>\n",
              "      <td>2013</td>\n",
              "      <td>FORD</td>\n",
              "      <td>FOCUS ELECTRIC</td>\n",
              "      <td>COMPACT</td>\n",
              "      <td>107</td>\n",
              "      <td>A1</td>\n",
              "      <td>B</td>\n",
              "      <td>19.0</td>\n",
              "      <td>21.1</td>\n",
              "      <td>20.0</td>\n",
              "      <td>2.1</td>\n",
              "      <td>2.4</td>\n",
              "      <td>2.2</td>\n",
              "      <td>0</td>\n",
              "      <td>NaN</td>\n",
              "      <td>122</td>\n",
              "      <td>4</td>\n",
              "    </tr>\n",
              "    <tr>\n",
              "      <th>3</th>\n",
              "      <td>2013</td>\n",
              "      <td>MITSUBISHI</td>\n",
              "      <td>i-MiEV</td>\n",
              "      <td>SUBCOMPACT</td>\n",
              "      <td>49</td>\n",
              "      <td>A1</td>\n",
              "      <td>B</td>\n",
              "      <td>16.9</td>\n",
              "      <td>21.4</td>\n",
              "      <td>18.7</td>\n",
              "      <td>1.9</td>\n",
              "      <td>2.4</td>\n",
              "      <td>2.1</td>\n",
              "      <td>0</td>\n",
              "      <td>NaN</td>\n",
              "      <td>100</td>\n",
              "      <td>7</td>\n",
              "    </tr>\n",
              "    <tr>\n",
              "      <th>4</th>\n",
              "      <td>2013</td>\n",
              "      <td>NISSAN</td>\n",
              "      <td>LEAF</td>\n",
              "      <td>MID-SIZE</td>\n",
              "      <td>80</td>\n",
              "      <td>A1</td>\n",
              "      <td>B</td>\n",
              "      <td>19.3</td>\n",
              "      <td>23.0</td>\n",
              "      <td>21.1</td>\n",
              "      <td>2.2</td>\n",
              "      <td>2.6</td>\n",
              "      <td>2.4</td>\n",
              "      <td>0</td>\n",
              "      <td>NaN</td>\n",
              "      <td>117</td>\n",
              "      <td>7</td>\n",
              "    </tr>\n",
              "  </tbody>\n",
              "</table>\n",
              "</div>"
            ],
            "text/plain": [
              "   YEAR        Make           Model        Size  ...  (g/km) RATING (km)  TIME (h)\n",
              "0  2012  MITSUBISHI          i-MiEV  SUBCOMPACT  ...       0    NaN  100         7\n",
              "1  2012      NISSAN            LEAF    MID-SIZE  ...       0    NaN  117         7\n",
              "2  2013        FORD  FOCUS ELECTRIC     COMPACT  ...       0    NaN  122         4\n",
              "3  2013  MITSUBISHI          i-MiEV  SUBCOMPACT  ...       0    NaN  100         7\n",
              "4  2013      NISSAN            LEAF    MID-SIZE  ...       0    NaN  117         7\n",
              "\n",
              "[5 rows x 17 columns]"
            ]
          },
          "metadata": {
            "tags": []
          },
          "execution_count": 7
        }
      ]
    },
    {
      "cell_type": "code",
      "metadata": {
        "id": "YHKnNzmjs-IS",
        "outputId": "309fabba-1d30-4407-dd7e-cee3b6ab334e",
        "colab": {
          "base_uri": "https://localhost:8080/",
          "height": 425
        }
      },
      "source": [
        "cars.info()"
      ],
      "execution_count": 8,
      "outputs": [
        {
          "output_type": "stream",
          "text": [
            "<class 'pandas.core.frame.DataFrame'>\n",
            "RangeIndex: 53 entries, 0 to 52\n",
            "Data columns (total 17 columns):\n",
            " #   Column             Non-Null Count  Dtype  \n",
            "---  ------             --------------  -----  \n",
            " 0   YEAR               53 non-null     int64  \n",
            " 1   Make               53 non-null     object \n",
            " 2   Model              53 non-null     object \n",
            " 3   Size               53 non-null     object \n",
            " 4   (kW)               53 non-null     int64  \n",
            " 5   Unnamed: 5         53 non-null     object \n",
            " 6   TYPE               53 non-null     object \n",
            " 7   CITY (kWh/100 km)  53 non-null     float64\n",
            " 8   HWY (kWh/100 km)   53 non-null     float64\n",
            " 9   COMB (kWh/100 km)  53 non-null     float64\n",
            " 10  CITY (Le/100 km)   53 non-null     float64\n",
            " 11  HWY (Le/100 km)    53 non-null     float64\n",
            " 12  COMB (Le/100 km)   53 non-null     float64\n",
            " 13  (g/km)             53 non-null     int64  \n",
            " 14  RATING             19 non-null     float64\n",
            " 15  (km)               53 non-null     int64  \n",
            " 16  TIME (h)           53 non-null     int64  \n",
            "dtypes: float64(7), int64(5), object(5)\n",
            "memory usage: 7.2+ KB\n"
          ],
          "name": "stdout"
        }
      ]
    },
    {
      "cell_type": "markdown",
      "metadata": {
        "id": "KSTneG4AkGPj"
      },
      "source": [
        "###### B.1 Find the average `(kW)` per `Make`. Plot the result using a bar plot."
      ]
    },
    {
      "cell_type": "code",
      "metadata": {
        "id": "iBVgU3Yijqqq",
        "outputId": "e19caa9a-1c9a-4684-a28b-16da7fcba5a8",
        "colab": {
          "base_uri": "https://localhost:8080/",
          "height": 187
        }
      },
      "source": [
        "# Average (kW) per Make\n",
        "cars.groupby(\"Make\", as_index=True)[\"(kW)\"].mean()"
      ],
      "execution_count": 9,
      "outputs": [
        {
          "output_type": "execute_result",
          "data": {
            "text/plain": [
              "Make\n",
              "BMW           125.000000\n",
              "CHEVROLET     104.000000\n",
              "FORD          107.000000\n",
              "KIA            81.000000\n",
              "MITSUBISHI     49.000000\n",
              "NISSAN         80.000000\n",
              "SMART          35.000000\n",
              "TESLA         345.478261\n",
              "Name: (kW), dtype: float64"
            ]
          },
          "metadata": {
            "tags": []
          },
          "execution_count": 9
        }
      ]
    },
    {
      "cell_type": "code",
      "metadata": {
        "id": "UXHskir2tSjx",
        "outputId": "9fa7370c-43e0-44f0-834a-10ae358d9be0",
        "colab": {
          "base_uri": "https://localhost:8080/",
          "height": 346
        }
      },
      "source": [
        "# Plot\n",
        "cars.groupby(\"Make\", as_index=True)[\"(kW)\"].mean().plot(kind='bar')"
      ],
      "execution_count": 10,
      "outputs": [
        {
          "output_type": "execute_result",
          "data": {
            "text/plain": [
              "<matplotlib.axes._subplots.AxesSubplot at 0x7f1e48532da0>"
            ]
          },
          "metadata": {
            "tags": []
          },
          "execution_count": 10
        },
        {
          "output_type": "display_data",
          "data": {
            "image/png": "[encoded data removed]",
            "text/plain": [
              "<Figure size 432x288 with 1 Axes>"
            ]
          },
          "metadata": {
            "tags": [],
            "needs_background": "light"
          }
        }
      ]
    },
    {
      "cell_type": "markdown",
      "metadata": {
        "id": "8ZPWZII_ugnh"
      },
      "source": [
        "###### B.2 Select the two most powerful vehicules per year"
      ]
    },
    {
      "cell_type": "code",
      "metadata": {
        "id": "_43LURSAuEEF",
        "outputId": "4fa3f43b-e8a5-4040-efa7-05d9ea064de9",
        "colab": {
          "base_uri": "https://localhost:8080/",
          "height": 359
        }
      },
      "source": [
        "# Two most powerful per year. Note: if two cars have the same power, it takes the first one in the DataFrame.\n",
        "cars.sort_values([\"(kW)\"], ascending=False).groupby('YEAR').head(2).sort_values([\"YEAR\"])"
      ],
      "execution_count": 11,
      "outputs": [
        {
          "output_type": "execute_result",
          "data": {
            "text/html": [
              "<div>\n",
              "<style scoped>\n",
              "    .dataframe tbody tr th:only-of-type {\n",
              "        vertical-align: middle;\n",
              "    }\n",
              "\n",
              "    .dataframe tbody tr th {\n",
              "        vertical-align: top;\n",
              "    }\n",
              "\n",
              "    .dataframe thead th {\n",
              "        text-align: right;\n",
              "    }\n",
              "</style>\n",
              "<table border=\"1\" class=\"dataframe\">\n",
              "  <thead>\n",
              "    <tr style=\"text-align: right;\">\n",
              "      <th></th>\n",
              "      <th>YEAR</th>\n",
              "      <th>Make</th>\n",
              "      <th>Model</th>\n",
              "      <th>Size</th>\n",
              "      <th>(kW)</th>\n",
              "      <th>Unnamed: 5</th>\n",
              "      <th>TYPE</th>\n",
              "      <th>CITY (kWh/100 km)</th>\n",
              "      <th>HWY (kWh/100 km)</th>\n",
              "      <th>COMB (kWh/100 km)</th>\n",
              "      <th>CITY (Le/100 km)</th>\n",
              "      <th>HWY (Le/100 km)</th>\n",
              "      <th>COMB (Le/100 km)</th>\n",
              "      <th>(g/km)</th>\n",
              "      <th>RATING</th>\n",
              "      <th>(km)</th>\n",
              "      <th>TIME (h)</th>\n",
              "    </tr>\n",
              "  </thead>\n",
              "  <tbody>\n",
              "    <tr>\n",
              "      <th>1</th>\n",
              "      <td>2012</td>\n",
              "      <td>NISSAN</td>\n",
              "      <td>LEAF</td>\n",
              "      <td>MID-SIZE</td>\n",
              "      <td>80</td>\n",
              "      <td>A1</td>\n",
              "      <td>B</td>\n",
              "      <td>19.3</td>\n",
              "      <td>23.0</td>\n",
              "      <td>21.1</td>\n",
              "      <td>2.2</td>\n",
              "      <td>2.6</td>\n",
              "      <td>2.4</td>\n",
              "      <td>0</td>\n",
              "      <td>NaN</td>\n",
              "      <td>117</td>\n",
              "      <td>7</td>\n",
              "    </tr>\n",
              "    <tr>\n",
              "      <th>0</th>\n",
              "      <td>2012</td>\n",
              "      <td>MITSUBISHI</td>\n",
              "      <td>i-MiEV</td>\n",
              "      <td>SUBCOMPACT</td>\n",
              "      <td>49</td>\n",
              "      <td>A1</td>\n",
              "      <td>B</td>\n",
              "      <td>16.9</td>\n",
              "      <td>21.4</td>\n",
              "      <td>18.7</td>\n",
              "      <td>1.9</td>\n",
              "      <td>2.4</td>\n",
              "      <td>2.1</td>\n",
              "      <td>0</td>\n",
              "      <td>NaN</td>\n",
              "      <td>100</td>\n",
              "      <td>7</td>\n",
              "    </tr>\n",
              "    <tr>\n",
              "      <th>10</th>\n",
              "      <td>2013</td>\n",
              "      <td>TESLA</td>\n",
              "      <td>MODEL S PERFORMANCE</td>\n",
              "      <td>FULL-SIZE</td>\n",
              "      <td>310</td>\n",
              "      <td>A1</td>\n",
              "      <td>B</td>\n",
              "      <td>23.9</td>\n",
              "      <td>23.2</td>\n",
              "      <td>23.6</td>\n",
              "      <td>2.7</td>\n",
              "      <td>2.6</td>\n",
              "      <td>2.6</td>\n",
              "      <td>0</td>\n",
              "      <td>NaN</td>\n",
              "      <td>426</td>\n",
              "      <td>12</td>\n",
              "    </tr>\n",
              "    <tr>\n",
              "      <th>9</th>\n",
              "      <td>2013</td>\n",
              "      <td>TESLA</td>\n",
              "      <td>MODEL S (85 kWh battery)</td>\n",
              "      <td>FULL-SIZE</td>\n",
              "      <td>270</td>\n",
              "      <td>A1</td>\n",
              "      <td>B</td>\n",
              "      <td>23.8</td>\n",
              "      <td>23.2</td>\n",
              "      <td>23.6</td>\n",
              "      <td>2.7</td>\n",
              "      <td>2.6</td>\n",
              "      <td>2.6</td>\n",
              "      <td>0</td>\n",
              "      <td>NaN</td>\n",
              "      <td>426</td>\n",
              "      <td>12</td>\n",
              "    </tr>\n",
              "    <tr>\n",
              "      <th>19</th>\n",
              "      <td>2014</td>\n",
              "      <td>TESLA</td>\n",
              "      <td>MODEL S PERFORMANCE</td>\n",
              "      <td>FULL-SIZE</td>\n",
              "      <td>310</td>\n",
              "      <td>A1</td>\n",
              "      <td>B</td>\n",
              "      <td>23.9</td>\n",
              "      <td>23.2</td>\n",
              "      <td>23.6</td>\n",
              "      <td>2.7</td>\n",
              "      <td>2.6</td>\n",
              "      <td>2.6</td>\n",
              "      <td>0</td>\n",
              "      <td>NaN</td>\n",
              "      <td>426</td>\n",
              "      <td>12</td>\n",
              "    </tr>\n",
              "    <tr>\n",
              "      <th>18</th>\n",
              "      <td>2014</td>\n",
              "      <td>TESLA</td>\n",
              "      <td>MODEL S (85 kWh battery)</td>\n",
              "      <td>FULL-SIZE</td>\n",
              "      <td>270</td>\n",
              "      <td>A1</td>\n",
              "      <td>B</td>\n",
              "      <td>23.8</td>\n",
              "      <td>23.2</td>\n",
              "      <td>23.6</td>\n",
              "      <td>2.7</td>\n",
              "      <td>2.6</td>\n",
              "      <td>2.6</td>\n",
              "      <td>0</td>\n",
              "      <td>NaN</td>\n",
              "      <td>426</td>\n",
              "      <td>12</td>\n",
              "    </tr>\n",
              "    <tr>\n",
              "      <th>33</th>\n",
              "      <td>2015</td>\n",
              "      <td>TESLA</td>\n",
              "      <td>MODEL S P85D/P90D</td>\n",
              "      <td>FULL-SIZE</td>\n",
              "      <td>515</td>\n",
              "      <td>A1</td>\n",
              "      <td>B</td>\n",
              "      <td>23.4</td>\n",
              "      <td>21.5</td>\n",
              "      <td>22.5</td>\n",
              "      <td>2.6</td>\n",
              "      <td>2.4</td>\n",
              "      <td>2.5</td>\n",
              "      <td>0</td>\n",
              "      <td>NaN</td>\n",
              "      <td>407</td>\n",
              "      <td>12</td>\n",
              "    </tr>\n",
              "    <tr>\n",
              "      <th>28</th>\n",
              "      <td>2015</td>\n",
              "      <td>TESLA</td>\n",
              "      <td>MODEL S (60 kWh battery)</td>\n",
              "      <td>FULL-SIZE</td>\n",
              "      <td>283</td>\n",
              "      <td>A1</td>\n",
              "      <td>B</td>\n",
              "      <td>22.2</td>\n",
              "      <td>21.7</td>\n",
              "      <td>21.9</td>\n",
              "      <td>2.5</td>\n",
              "      <td>2.4</td>\n",
              "      <td>2.5</td>\n",
              "      <td>0</td>\n",
              "      <td>NaN</td>\n",
              "      <td>335</td>\n",
              "      <td>10</td>\n",
              "    </tr>\n",
              "    <tr>\n",
              "      <th>52</th>\n",
              "      <td>2016</td>\n",
              "      <td>TESLA</td>\n",
              "      <td>MODEL X P90D</td>\n",
              "      <td>SUV - STANDARD</td>\n",
              "      <td>568</td>\n",
              "      <td>A1</td>\n",
              "      <td>B</td>\n",
              "      <td>23.6</td>\n",
              "      <td>23.3</td>\n",
              "      <td>23.5</td>\n",
              "      <td>2.7</td>\n",
              "      <td>2.6</td>\n",
              "      <td>2.6</td>\n",
              "      <td>0</td>\n",
              "      <td>10.0</td>\n",
              "      <td>402</td>\n",
              "      <td>12</td>\n",
              "    </tr>\n",
              "    <tr>\n",
              "      <th>50</th>\n",
              "      <td>2016</td>\n",
              "      <td>TESLA</td>\n",
              "      <td>MODEL S P90D (Refresh)</td>\n",
              "      <td>FULL-SIZE</td>\n",
              "      <td>568</td>\n",
              "      <td>A1</td>\n",
              "      <td>B</td>\n",
              "      <td>22.9</td>\n",
              "      <td>21.0</td>\n",
              "      <td>22.1</td>\n",
              "      <td>2.6</td>\n",
              "      <td>2.4</td>\n",
              "      <td>2.5</td>\n",
              "      <td>0</td>\n",
              "      <td>10.0</td>\n",
              "      <td>435</td>\n",
              "      <td>12</td>\n",
              "    </tr>\n",
              "  </tbody>\n",
              "</table>\n",
              "</div>"
            ],
            "text/plain": [
              "    YEAR        Make                     Model  ... RATING  (km) TIME (h)\n",
              "1   2012      NISSAN                      LEAF  ...    NaN   117        7\n",
              "0   2012  MITSUBISHI                    i-MiEV  ...    NaN   100        7\n",
              "10  2013       TESLA       MODEL S PERFORMANCE  ...    NaN   426       12\n",
              "9   2013       TESLA  MODEL S (85 kWh battery)  ...    NaN   426       12\n",
              "19  2014       TESLA       MODEL S PERFORMANCE  ...    NaN   426       12\n",
              "18  2014       TESLA  MODEL S (85 kWh battery)  ...    NaN   426       12\n",
              "33  2015       TESLA         MODEL S P85D/P90D  ...    NaN   407       12\n",
              "28  2015       TESLA  MODEL S (60 kWh battery)  ...    NaN   335       10\n",
              "52  2016       TESLA              MODEL X P90D  ...   10.0   402       12\n",
              "50  2016       TESLA    MODEL S P90D (Refresh)  ...   10.0   435       12\n",
              "\n",
              "[10 rows x 17 columns]"
            ]
          },
          "metadata": {
            "tags": []
          },
          "execution_count": 11
        }
      ]
    },
    {
      "cell_type": "code",
      "metadata": {
        "id": "eSazPH0xwYJ1"
      },
      "source": [
        ""
      ],
      "execution_count": 11,
      "outputs": []
    },
    {
      "cell_type": "markdown",
      "metadata": {
        "id": "FPeX3Twn1DmF"
      },
      "source": [
        "## Exercise 2: EDA and Visualization\n",
        "For this exercise, we use NBA data available on the github repository."
      ]
    },
    {
      "cell_type": "code",
      "metadata": {
        "id": "LKsGSWw31GGf",
        "outputId": "52b3c962-2c93-46f1-cc61-0a3ec00ab481",
        "colab": {
          "base_uri": "https://localhost:8080/",
          "height": 204
        }
      },
      "source": [
        "# Import data\n",
        "nba = pd.read_csv(\"https://raw.githubusercontent.com/michalis0/DataMining_and_MachineLearning/master/week3/data/nba_stats.csv\", sep=\",\")\n",
        "\n",
        "nba.head()"
      ],
      "execution_count": 12,
      "outputs": [
        {
          "output_type": "execute_result",
          "data": {
            "text/html": [
              "<div>\n",
              "<style scoped>\n",
              "    .dataframe tbody tr th:only-of-type {\n",
              "        vertical-align: middle;\n",
              "    }\n",
              "\n",
              "    .dataframe tbody tr th {\n",
              "        vertical-align: top;\n",
              "    }\n",
              "\n",
              "    .dataframe thead th {\n",
              "        text-align: right;\n",
              "    }\n",
              "</style>\n",
              "<table border=\"1\" class=\"dataframe\">\n",
              "  <thead>\n",
              "    <tr style=\"text-align: right;\">\n",
              "      <th></th>\n",
              "      <th>Year</th>\n",
              "      <th>Player</th>\n",
              "      <th>Pos</th>\n",
              "      <th>Age</th>\n",
              "      <th>Tm</th>\n",
              "      <th>MP</th>\n",
              "      <th>FT</th>\n",
              "      <th>TRB</th>\n",
              "      <th>AST</th>\n",
              "      <th>STL</th>\n",
              "      <th>BLK</th>\n",
              "      <th>TOV</th>\n",
              "      <th>PF</th>\n",
              "      <th>PTS</th>\n",
              "    </tr>\n",
              "  </thead>\n",
              "  <tbody>\n",
              "    <tr>\n",
              "      <th>0</th>\n",
              "      <td>2017</td>\n",
              "      <td>Ivica Zubac</td>\n",
              "      <td>C</td>\n",
              "      <td>19</td>\n",
              "      <td>LAL</td>\n",
              "      <td>609</td>\n",
              "      <td>32</td>\n",
              "      <td>159</td>\n",
              "      <td>30</td>\n",
              "      <td>14</td>\n",
              "      <td>33</td>\n",
              "      <td>30</td>\n",
              "      <td>66</td>\n",
              "      <td>284</td>\n",
              "    </tr>\n",
              "    <tr>\n",
              "      <th>1</th>\n",
              "      <td>2017</td>\n",
              "      <td>Gerald Green</td>\n",
              "      <td>SF</td>\n",
              "      <td>31</td>\n",
              "      <td>BOS</td>\n",
              "      <td>538</td>\n",
              "      <td>33</td>\n",
              "      <td>85</td>\n",
              "      <td>33</td>\n",
              "      <td>9</td>\n",
              "      <td>7</td>\n",
              "      <td>25</td>\n",
              "      <td>48</td>\n",
              "      <td>262</td>\n",
              "    </tr>\n",
              "    <tr>\n",
              "      <th>2</th>\n",
              "      <td>2017</td>\n",
              "      <td>Danny Green</td>\n",
              "      <td>SG</td>\n",
              "      <td>29</td>\n",
              "      <td>SAS</td>\n",
              "      <td>1807</td>\n",
              "      <td>27</td>\n",
              "      <td>224</td>\n",
              "      <td>124</td>\n",
              "      <td>71</td>\n",
              "      <td>58</td>\n",
              "      <td>76</td>\n",
              "      <td>120</td>\n",
              "      <td>497</td>\n",
              "    </tr>\n",
              "    <tr>\n",
              "      <th>3</th>\n",
              "      <td>2017</td>\n",
              "      <td>Jerian Grant</td>\n",
              "      <td>PG</td>\n",
              "      <td>24</td>\n",
              "      <td>CHI</td>\n",
              "      <td>1028</td>\n",
              "      <td>65</td>\n",
              "      <td>111</td>\n",
              "      <td>120</td>\n",
              "      <td>47</td>\n",
              "      <td>8</td>\n",
              "      <td>44</td>\n",
              "      <td>93</td>\n",
              "      <td>370</td>\n",
              "    </tr>\n",
              "    <tr>\n",
              "      <th>4</th>\n",
              "      <td>2017</td>\n",
              "      <td>Jerami Grant</td>\n",
              "      <td>SF</td>\n",
              "      <td>22</td>\n",
              "      <td>OKC</td>\n",
              "      <td>1490</td>\n",
              "      <td>86</td>\n",
              "      <td>199</td>\n",
              "      <td>46</td>\n",
              "      <td>33</td>\n",
              "      <td>75</td>\n",
              "      <td>41</td>\n",
              "      <td>144</td>\n",
              "      <td>421</td>\n",
              "    </tr>\n",
              "  </tbody>\n",
              "</table>\n",
              "</div>"
            ],
            "text/plain": [
              "   Year        Player Pos  Age   Tm    MP  ...  AST  STL  BLK  TOV   PF  PTS\n",
              "0  2017   Ivica Zubac   C   19  LAL   609  ...   30   14   33   30   66  284\n",
              "1  2017  Gerald Green  SF   31  BOS   538  ...   33    9    7   25   48  262\n",
              "2  2017   Danny Green  SG   29  SAS  1807  ...  124   71   58   76  120  497\n",
              "3  2017  Jerian Grant  PG   24  CHI  1028  ...  120   47    8   44   93  370\n",
              "4  2017  Jerami Grant  SF   22  OKC  1490  ...   46   33   75   41  144  421\n",
              "\n",
              "[5 rows x 14 columns]"
            ]
          },
          "metadata": {
            "tags": []
          },
          "execution_count": 12
        }
      ]
    },
    {
      "cell_type": "code",
      "metadata": {
        "id": "zsDyWkz528x1",
        "outputId": "e84eda28-60bd-4dec-8691-68a9c1b097d3",
        "colab": {
          "base_uri": "https://localhost:8080/",
          "height": 204
        }
      },
      "source": [
        "nba.tail()"
      ],
      "execution_count": 13,
      "outputs": [
        {
          "output_type": "execute_result",
          "data": {
            "text/html": [
              "<div>\n",
              "<style scoped>\n",
              "    .dataframe tbody tr th:only-of-type {\n",
              "        vertical-align: middle;\n",
              "    }\n",
              "\n",
              "    .dataframe tbody tr th {\n",
              "        vertical-align: top;\n",
              "    }\n",
              "\n",
              "    .dataframe thead th {\n",
              "        text-align: right;\n",
              "    }\n",
              "</style>\n",
              "<table border=\"1\" class=\"dataframe\">\n",
              "  <thead>\n",
              "    <tr style=\"text-align: right;\">\n",
              "      <th></th>\n",
              "      <th>Year</th>\n",
              "      <th>Player</th>\n",
              "      <th>Pos</th>\n",
              "      <th>Age</th>\n",
              "      <th>Tm</th>\n",
              "      <th>MP</th>\n",
              "      <th>FT</th>\n",
              "      <th>TRB</th>\n",
              "      <th>AST</th>\n",
              "      <th>STL</th>\n",
              "      <th>BLK</th>\n",
              "      <th>TOV</th>\n",
              "      <th>PF</th>\n",
              "      <th>PTS</th>\n",
              "    </tr>\n",
              "  </thead>\n",
              "  <tbody>\n",
              "    <tr>\n",
              "      <th>19640</th>\n",
              "      <td>1978</td>\n",
              "      <td>Eddie Owens</td>\n",
              "      <td>SF</td>\n",
              "      <td>24</td>\n",
              "      <td>BUF</td>\n",
              "      <td>63</td>\n",
              "      <td>3</td>\n",
              "      <td>10</td>\n",
              "      <td>5</td>\n",
              "      <td>1</td>\n",
              "      <td>0</td>\n",
              "      <td>3</td>\n",
              "      <td>9</td>\n",
              "      <td>21</td>\n",
              "    </tr>\n",
              "    <tr>\n",
              "      <th>19641</th>\n",
              "      <td>1978</td>\n",
              "      <td>Tom Owens</td>\n",
              "      <td>C</td>\n",
              "      <td>28</td>\n",
              "      <td>POR</td>\n",
              "      <td>1714</td>\n",
              "      <td>206</td>\n",
              "      <td>541</td>\n",
              "      <td>160</td>\n",
              "      <td>33</td>\n",
              "      <td>37</td>\n",
              "      <td>152</td>\n",
              "      <td>263</td>\n",
              "      <td>832</td>\n",
              "    </tr>\n",
              "    <tr>\n",
              "      <th>19642</th>\n",
              "      <td>1978</td>\n",
              "      <td>Joe Pace</td>\n",
              "      <td>C</td>\n",
              "      <td>24</td>\n",
              "      <td>WSB</td>\n",
              "      <td>438</td>\n",
              "      <td>57</td>\n",
              "      <td>134</td>\n",
              "      <td>23</td>\n",
              "      <td>12</td>\n",
              "      <td>21</td>\n",
              "      <td>44</td>\n",
              "      <td>86</td>\n",
              "      <td>191</td>\n",
              "    </tr>\n",
              "    <tr>\n",
              "      <th>19643</th>\n",
              "      <td>1978</td>\n",
              "      <td>Robert Parish*</td>\n",
              "      <td>C</td>\n",
              "      <td>24</td>\n",
              "      <td>GSW</td>\n",
              "      <td>1969</td>\n",
              "      <td>165</td>\n",
              "      <td>680</td>\n",
              "      <td>95</td>\n",
              "      <td>79</td>\n",
              "      <td>123</td>\n",
              "      <td>201</td>\n",
              "      <td>291</td>\n",
              "      <td>1025</td>\n",
              "    </tr>\n",
              "    <tr>\n",
              "      <th>19644</th>\n",
              "      <td>1978</td>\n",
              "      <td>Willie Norwood</td>\n",
              "      <td>SF</td>\n",
              "      <td>30</td>\n",
              "      <td>DET</td>\n",
              "      <td>260</td>\n",
              "      <td>20</td>\n",
              "      <td>54</td>\n",
              "      <td>14</td>\n",
              "      <td>13</td>\n",
              "      <td>3</td>\n",
              "      <td>17</td>\n",
              "      <td>45</td>\n",
              "      <td>88</td>\n",
              "    </tr>\n",
              "  </tbody>\n",
              "</table>\n",
              "</div>"
            ],
            "text/plain": [
              "       Year          Player Pos  Age   Tm    MP  ...  AST  STL  BLK  TOV   PF   PTS\n",
              "19640  1978     Eddie Owens  SF   24  BUF    63  ...    5    1    0    3    9    21\n",
              "19641  1978       Tom Owens   C   28  POR  1714  ...  160   33   37  152  263   832\n",
              "19642  1978        Joe Pace   C   24  WSB   438  ...   23   12   21   44   86   191\n",
              "19643  1978  Robert Parish*   C   24  GSW  1969  ...   95   79  123  201  291  1025\n",
              "19644  1978  Willie Norwood  SF   30  DET   260  ...   14   13    3   17   45    88\n",
              "\n",
              "[5 rows x 14 columns]"
            ]
          },
          "metadata": {
            "tags": []
          },
          "execution_count": 13
        }
      ]
    },
    {
      "cell_type": "code",
      "metadata": {
        "id": "3Crel5qQ3feQ",
        "outputId": "3c9a4ee1-64b6-40a6-c8a9-71dccb9b0a64",
        "colab": {
          "base_uri": "https://localhost:8080/",
          "height": 374
        }
      },
      "source": [
        "nba.info()"
      ],
      "execution_count": 14,
      "outputs": [
        {
          "output_type": "stream",
          "text": [
            "<class 'pandas.core.frame.DataFrame'>\n",
            "RangeIndex: 19645 entries, 0 to 19644\n",
            "Data columns (total 14 columns):\n",
            " #   Column  Non-Null Count  Dtype \n",
            "---  ------  --------------  ----- \n",
            " 0   Year    19645 non-null  int64 \n",
            " 1   Player  19645 non-null  object\n",
            " 2   Pos     19645 non-null  object\n",
            " 3   Age     19645 non-null  int64 \n",
            " 4   Tm      19645 non-null  object\n",
            " 5   MP      19645 non-null  int64 \n",
            " 6   FT      19645 non-null  int64 \n",
            " 7   TRB     19645 non-null  int64 \n",
            " 8   AST     19645 non-null  int64 \n",
            " 9   STL     19645 non-null  int64 \n",
            " 10  BLK     19645 non-null  int64 \n",
            " 11  TOV     19645 non-null  int64 \n",
            " 12  PF      19645 non-null  int64 \n",
            " 13  PTS     19645 non-null  int64 \n",
            "dtypes: int64(11), object(3)\n",
            "memory usage: 2.1+ MB\n"
          ],
          "name": "stdout"
        }
      ]
    },
    {
      "cell_type": "markdown",
      "metadata": {
        "id": "KzdSEbjU4lhq"
      },
      "source": [
        "###### 1. Find the average age of the players for the year 2017."
      ]
    },
    {
      "cell_type": "code",
      "metadata": {
        "id": "mKV56N3m2_H-",
        "outputId": "c661c56e-243e-4e94-b7ed-b994703df67c",
        "colab": {
          "base_uri": "https://localhost:8080/",
          "height": 297
        }
      },
      "source": [
        "nba_2017 = nba.loc[nba[\"Year\"] == 2017]\n",
        "\n",
        "nba_2017.describe() # Average age of players is 26.406723"
      ],
      "execution_count": 15,
      "outputs": [
        {
          "output_type": "execute_result",
          "data": {
            "text/html": [
              "<div>\n",
              "<style scoped>\n",
              "    .dataframe tbody tr th:only-of-type {\n",
              "        vertical-align: middle;\n",
              "    }\n",
              "\n",
              "    .dataframe tbody tr th {\n",
              "        vertical-align: top;\n",
              "    }\n",
              "\n",
              "    .dataframe thead th {\n",
              "        text-align: right;\n",
              "    }\n",
              "</style>\n",
              "<table border=\"1\" class=\"dataframe\">\n",
              "  <thead>\n",
              "    <tr style=\"text-align: right;\">\n",
              "      <th></th>\n",
              "      <th>Year</th>\n",
              "      <th>Age</th>\n",
              "      <th>MP</th>\n",
              "      <th>FT</th>\n",
              "      <th>TRB</th>\n",
              "      <th>AST</th>\n",
              "      <th>STL</th>\n",
              "      <th>BLK</th>\n",
              "      <th>TOV</th>\n",
              "      <th>PF</th>\n",
              "      <th>PTS</th>\n",
              "    </tr>\n",
              "  </thead>\n",
              "  <tbody>\n",
              "    <tr>\n",
              "      <th>count</th>\n",
              "      <td>595.0</td>\n",
              "      <td>595.000000</td>\n",
              "      <td>595.000000</td>\n",
              "      <td>595.000000</td>\n",
              "      <td>595.000000</td>\n",
              "      <td>595.000000</td>\n",
              "      <td>595.000000</td>\n",
              "      <td>595.000000</td>\n",
              "      <td>595.000000</td>\n",
              "      <td>595.000000</td>\n",
              "      <td>595.000000</td>\n",
              "    </tr>\n",
              "    <tr>\n",
              "      <th>mean</th>\n",
              "      <td>2017.0</td>\n",
              "      <td>26.406723</td>\n",
              "      <td>1090.680672</td>\n",
              "      <td>79.868908</td>\n",
              "      <td>196.363025</td>\n",
              "      <td>101.053782</td>\n",
              "      <td>34.663866</td>\n",
              "      <td>21.505882</td>\n",
              "      <td>60.327731</td>\n",
              "      <td>90.226891</td>\n",
              "      <td>474.732773</td>\n",
              "    </tr>\n",
              "    <tr>\n",
              "      <th>std</th>\n",
              "      <td>0.0</td>\n",
              "      <td>4.264720</td>\n",
              "      <td>835.226618</td>\n",
              "      <td>103.832144</td>\n",
              "      <td>191.797731</td>\n",
              "      <td>126.674895</td>\n",
              "      <td>31.751104</td>\n",
              "      <td>27.915177</td>\n",
              "      <td>60.010620</td>\n",
              "      <td>66.454516</td>\n",
              "      <td>470.130454</td>\n",
              "    </tr>\n",
              "    <tr>\n",
              "      <th>min</th>\n",
              "      <td>2017.0</td>\n",
              "      <td>19.000000</td>\n",
              "      <td>1.000000</td>\n",
              "      <td>0.000000</td>\n",
              "      <td>0.000000</td>\n",
              "      <td>0.000000</td>\n",
              "      <td>0.000000</td>\n",
              "      <td>0.000000</td>\n",
              "      <td>0.000000</td>\n",
              "      <td>0.000000</td>\n",
              "      <td>0.000000</td>\n",
              "    </tr>\n",
              "    <tr>\n",
              "      <th>25%</th>\n",
              "      <td>2017.0</td>\n",
              "      <td>23.000000</td>\n",
              "      <td>321.000000</td>\n",
              "      <td>12.000000</td>\n",
              "      <td>45.000000</td>\n",
              "      <td>18.500000</td>\n",
              "      <td>8.000000</td>\n",
              "      <td>3.000000</td>\n",
              "      <td>14.000000</td>\n",
              "      <td>29.000000</td>\n",
              "      <td>103.000000</td>\n",
              "    </tr>\n",
              "    <tr>\n",
              "      <th>50%</th>\n",
              "      <td>2017.0</td>\n",
              "      <td>26.000000</td>\n",
              "      <td>1013.000000</td>\n",
              "      <td>45.000000</td>\n",
              "      <td>151.000000</td>\n",
              "      <td>58.000000</td>\n",
              "      <td>27.000000</td>\n",
              "      <td>11.000000</td>\n",
              "      <td>43.000000</td>\n",
              "      <td>84.000000</td>\n",
              "      <td>357.000000</td>\n",
              "    </tr>\n",
              "    <tr>\n",
              "      <th>75%</th>\n",
              "      <td>2017.0</td>\n",
              "      <td>29.000000</td>\n",
              "      <td>1757.500000</td>\n",
              "      <td>103.000000</td>\n",
              "      <td>280.500000</td>\n",
              "      <td>132.500000</td>\n",
              "      <td>52.000000</td>\n",
              "      <td>29.000000</td>\n",
              "      <td>88.500000</td>\n",
              "      <td>139.000000</td>\n",
              "      <td>685.000000</td>\n",
              "    </tr>\n",
              "    <tr>\n",
              "      <th>max</th>\n",
              "      <td>2017.0</td>\n",
              "      <td>40.000000</td>\n",
              "      <td>3048.000000</td>\n",
              "      <td>746.000000</td>\n",
              "      <td>1116.000000</td>\n",
              "      <td>906.000000</td>\n",
              "      <td>157.000000</td>\n",
              "      <td>214.000000</td>\n",
              "      <td>464.000000</td>\n",
              "      <td>278.000000</td>\n",
              "      <td>2558.000000</td>\n",
              "    </tr>\n",
              "  </tbody>\n",
              "</table>\n",
              "</div>"
            ],
            "text/plain": [
              "         Year         Age           MP  ...         TOV          PF          PTS\n",
              "count   595.0  595.000000   595.000000  ...  595.000000  595.000000   595.000000\n",
              "mean   2017.0   26.406723  1090.680672  ...   60.327731   90.226891   474.732773\n",
              "std       0.0    4.264720   835.226618  ...   60.010620   66.454516   470.130454\n",
              "min    2017.0   19.000000     1.000000  ...    0.000000    0.000000     0.000000\n",
              "25%    2017.0   23.000000   321.000000  ...   14.000000   29.000000   103.000000\n",
              "50%    2017.0   26.000000  1013.000000  ...   43.000000   84.000000   357.000000\n",
              "75%    2017.0   29.000000  1757.500000  ...   88.500000  139.000000   685.000000\n",
              "max    2017.0   40.000000  3048.000000  ...  464.000000  278.000000  2558.000000\n",
              "\n",
              "[8 rows x 11 columns]"
            ]
          },
          "metadata": {
            "tags": []
          },
          "execution_count": 15
        }
      ]
    },
    {
      "cell_type": "markdown",
      "metadata": {
        "id": "1297AnJi442Y"
      },
      "source": [
        "###### 2. Plot the total number of `PTS` per year since 2000."
      ]
    },
    {
      "cell_type": "code",
      "metadata": {
        "id": "wPi4Bfq94M-D",
        "outputId": "c7c1df31-afb7-4e0c-cdd5-a436ac78855b",
        "colab": {
          "base_uri": "https://localhost:8080/",
          "height": 282
        }
      },
      "source": [
        "nba.loc[nba[\"Year\"] >= 2000].groupby([\"Year\"])[\"PTS\"].sum().plot(kind=\"barh\")"
      ],
      "execution_count": 16,
      "outputs": [
        {
          "output_type": "execute_result",
          "data": {
            "text/plain": [
              "<matplotlib.axes._subplots.AxesSubplot at 0x7f1e46d21668>"
            ]
          },
          "metadata": {
            "tags": []
          },
          "execution_count": 16
        },
        {
          "output_type": "display_data",
          "data": {
            "image/png": "[encoded data removed]",
            "text/plain": [
              "<Figure size 432x288 with 1 Axes>"
            ]
          },
          "metadata": {
            "tags": [],
            "needs_background": "light"
          }
        }
      ]
    },
    {
      "cell_type": "markdown",
      "metadata": {
        "id": "0x26BZp390bp"
      },
      "source": [
        "###### 3. Plot the number of players per year since 2010. What is the year with the most players?"
      ]
    },
    {
      "cell_type": "code",
      "metadata": {
        "id": "Ez7_beR1530E",
        "outputId": "5b8b928b-c871-4a1d-aac4-b1303d8165fe",
        "colab": {
          "base_uri": "https://localhost:8080/",
          "height": 298
        }
      },
      "source": [
        "nba.loc[nba[\"Year\"] >= 2010][\"Year\"].value_counts(sort=True).plot(kind=\"bar\")\n",
        "# Year with most players between 2010 and 2017 is 2015"
      ],
      "execution_count": 17,
      "outputs": [
        {
          "output_type": "execute_result",
          "data": {
            "text/plain": [
              "<matplotlib.axes._subplots.AxesSubplot at 0x7f1e46cd0780>"
            ]
          },
          "metadata": {
            "tags": []
          },
          "execution_count": 17
        },
        {
          "output_type": "display_data",
          "data": {
            "image/png": "[encoded data removed]",
            "text/plain": [
              "<Figure size 432x288 with 1 Axes>"
            ]
          },
          "metadata": {
            "tags": [],
            "needs_background": "light"
          }
        }
      ]
    }
  ]
}